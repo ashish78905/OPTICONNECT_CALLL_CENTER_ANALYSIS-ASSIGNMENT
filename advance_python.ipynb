{
  "cells": [
    {
      "cell_type": "markdown",
      "metadata": {
        "id": "view-in-github",
        "colab_type": "text"
      },
      "source": [
        "<a href=\"https://colab.research.google.com/github/ashish78905/OPTICONNECT_CALLL_CENTER_ANALYSIS-ASSIGNMENT/blob/main/advance_python.ipynb\" target=\"_parent\"><img src=\"https://colab.research.google.com/assets/colab-badge.svg\" alt=\"Open In Colab\"/></a>"
      ]
    },
    {
      "cell_type": "markdown",
      "metadata": {
        "id": "qkloi1EnXl4_"
      },
      "source": [
        "# Fundamentals"
      ]
    },
    {
      "cell_type": "markdown",
      "source": [
        "MULTIPLE WAYS TO TAKE INPUT IN PYTHON"
      ],
      "metadata": {
        "id": "PldyQBK86fzr"
      }
    },
    {
      "cell_type": "markdown",
      "source": [
        "\n",
        "### **1️⃣ Single value**\n",
        "\n",
        "```python\n",
        "name = input(\"Enter name: \")       # string\n",
        "age = int(input(\"Enter age: \"))    # integer\n",
        "```\n",
        "\n",
        "\n"
      ],
      "metadata": {
        "id": "Kcr3TF-16nWF"
      }
    },
    {
      "cell_type": "code",
      "execution_count": null,
      "metadata": {
        "id": "cwzm_3bMYLKi"
      },
      "outputs": [],
      "source": [
        "# ==============================================================================\n",
        "# Python Fundamentals: Keywords, Identifiers, Variables, and Predefined Objects\n",
        "# ==============================================================================\n",
        "\n",
        "# --- 1. Keywords ---\n",
        "# Keywords are the reserved words in Python. They have special meanings and\n",
        "# we cannot use them as a variable name, function name, or any other identifier.\n",
        "\n",
        "# To see all keywords, we can use the 'keyword' module.\n",
        "import keyword\n",
        "\n",
        "print(\"--- Python Keywords ---\")\n",
        "print(keyword.kwlist)\n",
        "print(\"-\" * 25)"
      ]
    },
    {
      "cell_type": "code",
      "execution_count": null,
      "metadata": {
        "id": "uSL7WtspYOVj"
      },
      "outputs": [],
      "source": [
        "# Trying to use a keyword as a variable name will cause a SyntaxError.\n",
        "# The following line is commented out because it would crash the program.\n",
        "# for = \"This is not allowed\"\n"
      ]
    },
    {
      "cell_type": "code",
      "execution_count": null,
      "metadata": {
        "id": "kxgzG8fXYVa0"
      },
      "outputs": [],
      "source": [
        "# --- 2. Identifiers ---\n",
        "# An identifier is a name given to entities like variables, functions, classes, etc.\n",
        "\n",
        "print(\"\\n--- Identifiers ---\")\n",
        "# Rules for valid identifiers:\n",
        "# 1. Can be a combination of letters (a-z, A-Z), digits (0-9), or an underscore (_).\n",
        "# 2. Cannot start with a digit.\n",
        "# 3. Keywords cannot be used as identifiers.\n",
        "# 4. Case-sensitive (e.g., 'age', 'Age', and 'AGE' are three different identifiers).\n"
      ]
    },
    {
      "cell_type": "code",
      "execution_count": null,
      "metadata": {
        "id": "OHko5HVOYoTL"
      },
      "outputs": [],
      "source": [
        "# Valid identifiers\n",
        "age = 28\n",
        "user_name = \"Rohan\"\n",
        "user_age_1 = 25\n",
        "_internal_variable = \"This is also valid\"\n",
        "AGE = 30 # Different from 'age'\n",
        "\n",
        "print(f\"Valid identifier 'user_name': {user_name}\")\n",
        "print(f\"Valid identifier 'age': {age}\")\n",
        "print(f\"Valid identifier 'AGE': {AGE}\")\n",
        "\n",
        "# Invalid identifiers (commented out to prevent errors)\n",
        "# 1st_place = \"Starts with a digit\"\n",
        "# user-name = \"Contains a hyphen\"\n",
        "# class = \"Is a keyword\"\n"
      ]
    },
    {
      "cell_type": "code",
      "execution_count": null,
      "metadata": {
        "id": "e1sdlz9qYwOC"
      },
      "outputs": [],
      "source": [
        "# --- 3. Variables ---\n",
        "# A variable is like a container that stores a value. You can change its value.\n",
        "\n",
        "print(\"\\n--- Variables ---\")\n",
        "# Variable assignment\n",
        "project_name = \"Data Science Project\"\n",
        "year = 2024\n",
        "version = 1.0\n",
        "\n",
        "print(f\"Project: {project_name}, Year: {year}, Version: {version}\")\n",
        "\n",
        "# Variables in Python are dynamically typed, meaning you can change their type.\n",
        "version = \"v1.1\" # 'version' was a float, now it's a string.\n",
        "print(f\"Updated Version: {version}\")\n"
      ]
    },
    {
      "cell_type": "code",
      "execution_count": null,
      "metadata": {
        "id": "3zflyQxQYzIL"
      },
      "outputs": [],
      "source": [
        "# --- 4. Constants ---\n",
        "# Python doesn't have true constants like other languages.\n",
        "# By convention, programmers use all-caps names for variables that\n",
        "# should not be changed.\n",
        "\n",
        "print(\"\\n--- Constants (by convention) ---\")\n",
        "PI = 3.14159\n",
        "GRAVITY = 9.8\n",
        "\n",
        "print(f\"Value of PI (should not be changed): {PI}\")\n",
        "\n",
        "# Although we can change it, it's considered bad practice.\n",
        "# PI = 3.14 # Avoid doing this."
      ]
    },
    {
      "cell_type": "code",
      "execution_count": null,
      "metadata": {
        "id": "Aruy0BZoY8e0"
      },
      "outputs": [],
      "source": [
        "# --- 5. Predefined Objects (Built-in Data Types) ---\n",
        "# In Python, everything is an object. These are the most common built-in object types.\n",
        "\n",
        "print(\"\\n--- Predefined Objects and their Types ---\")\n",
        "\n",
        "# Integer\n",
        "num_students = 150\n",
        "print(f\"Value: {num_students}, Type: {type(num_students)}\")\n",
        "\n",
        "# Float\n",
        "avg_score = 88.5\n",
        "print(f\"Value: {avg_score}, Type: {type(avg_score)}\")\n",
        "\n",
        "# String\n",
        "student_name = \"Priya Sharma\"\n",
        "print(f\"Value: '{student_name}', Type: {type(student_name)}\")\n",
        "\n",
        "# Boolean\n",
        "is_passed = True\n",
        "print(f\"Value: {is_passed}, Type: {type(is_passed)}\")\n",
        "\n",
        "# List\n",
        "scores = [88, 92, 78, 95]\n",
        "print(f\"Value: {scores}, Type: {type(scores)}\")\n",
        "\n",
        "# Tuple\n",
        "coordinates = (22.5726, 88.3639)\n",
        "print(f\"Value: {coordinates}, Type: {type(coordinates)}\")\n",
        "\n",
        "# Dictionary\n",
        "student_info = {\"name\": \"Priya Sharma\", \"id\": 101}\n",
        "print(f\"Value: {student_info}, Type: {type(student_info)}\")\n",
        "\n",
        "# Set\n",
        "unique_subjects = {\"Math\", \"Science\", \"History\"}\n",
        "print(f\"Value: {unique_subjects}, Type: {type(unique_subjects)}\")\n",
        "\n",
        "# NoneType (represents the absence of a value)\n",
        "winner = None\n",
        "print(f\"Value: {winner}, Type: {type(winner)}\")\n"
      ]
    },
    {
      "cell_type": "markdown",
      "metadata": {
        "id": "rvx9zzkPZADR"
      },
      "source": [
        "# Mutabality and Immutabality"
      ]
    },
    {
      "cell_type": "code",
      "execution_count": null,
      "metadata": {
        "id": "8VvgDcoEZOyl"
      },
      "outputs": [],
      "source": [
        "# ==================================================================================\n",
        "# Mutability and Immutability in Python\n",
        "# ==================================================================================\n",
        "#\n",
        "# Mutability means that an object's state or value can be changed after it\n",
        "# has been created.\n",
        "#\n",
        "# Immutability means that an object's state or value CANNOT be changed\n",
        "# after it has been created.\n",
        "#\n",
        "# We can check the unique memory address of an object using the id() function.\n",
        "# If the id() changes, it means a new object has been created.\n",
        "# If the id() stays the same, it means the original object was modified.\n",
        "# ----------------------------------------------------------------------------------\n"
      ]
    },
    {
      "cell_type": "code",
      "execution_count": null,
      "metadata": {
        "id": "piuT42KFZTK2"
      },
      "outputs": [],
      "source": [
        "print(\"--- Part 1: Immutable Objects (Cannot be changed in place) ---\")\n",
        "print(\"Immutable types include: int, float, str, bool, tuple\\n\")\n",
        "\n",
        "# --- Example 1.1: Integer (Immutable) ---\n",
        "print(\"--- Integer Example ---\")\n",
        "x = 10\n",
        "print(f\"Initial value of x: {x}\")\n",
        "print(f\"Memory address (id) of x: {id(x)}\")\n",
        "\n",
        "# When we \"change\" x, Python actually creates a NEW integer object\n",
        "# and makes 'x' point to this new object.\n",
        "x = x + 1\n",
        "print(f\"\\nNew value of x: {x}\")\n",
        "print(f\"Memory address (id) of x is now DIFFERENT: {id(x)}\")\n",
        "print(\"-\" * 30)\n",
        "\n",
        "\n",
        "# --- Example 1.2: String (Immutable) ---\n",
        "print(\"\\n--- String Example ---\")\n",
        "my_string = \"Hello\"\n",
        "print(f\"Initial string: '{my_string}'\")\n",
        "print(f\"Memory address (id) of my_string: {id(my_string)}\")\n",
        "\n",
        "# String methods like .upper() DO NOT change the original string.\n",
        "# They return a NEW string.\n",
        "new_string = my_string.upper()\n",
        "print(f\"\\nValue of new_string: '{new_string}'\")\n",
        "print(f\"Memory address (id) of new_string is DIFFERENT: {id(new_string)}\")\n",
        "print(f\"The original my_string is UNCHANGED. Its id is the same: {id(my_string)}\")\n",
        "print(\"-\" * 30)\n",
        "\n",
        "\n",
        "# --- Example 1.3: Tuple (Immutable) ---\n",
        "print(\"\\n--- Tuple Example ---\")\n",
        "my_tuple = (1, 2, 3)\n",
        "print(f\"My tuple: {my_tuple}\")\n",
        "# Trying to change an item in a tuple will raise a TypeError because it's immutable.\n",
        "# The following line is commented out to prevent the program from crashing.\n",
        "# my_tuple[0] = 99 # This would raise: TypeError: 'tuple' object does not support item assignment\n"
      ]
    },
    {
      "cell_type": "code",
      "execution_count": null,
      "metadata": {
        "id": "f4znzTpiZzbQ"
      },
      "outputs": [],
      "source": [
        "print(\"\\n\\n--- Part 2: Mutable Objects (Can be changed in place) ---\")\n",
        "print(\"Mutable types include: list, dict, set\\n\")\n",
        "\n",
        "# --- Example 2.1: List (Mutable) ---\n",
        "print(\"--- List Example ---\")\n",
        "my_list = [10, 20, 30]\n",
        "print(f\"Initial list: {my_list}\")\n",
        "print(f\"Memory address (id) of my_list: {id(my_list)}\")\n",
        "\n",
        "# When we modify a list using its methods, the original object itself changes.\n",
        "# No new object is created.\n",
        "my_list.append(40)\n",
        "print(f\"\\nList after appending 40: {my_list}\")\n",
        "print(f\"Memory address (id) of my_list is the SAME: {id(my_list)}\")\n",
        "print(\"-\" * 30)\n",
        "\n",
        "\n",
        "# --- Example 2.2: Dictionary (Mutable) ---\n",
        "print(\"\\n--- Dictionary Example ---\")\n",
        "my_dict = {\"name\": \"Amit\", \"city\": \"Kolkata\"}\n",
        "print(f\"Initial dictionary: {my_dict}\")\n",
        "print(f\"Memory address (id) of my_dict: {id(my_dict)}\")\n",
        "\n",
        "# Adding a new key-value pair modifies the dictionary in place.\n",
        "my_dict[\"age\"] = 28\n",
        "print(f\"\\nDictionary after adding 'age': {my_dict}\")\n",
        "print(f\"Memory address (id) of my_dict is the SAME: {id(my_dict)}\")\n",
        "print(\"-\" * 30)\n",
        "\n",
        "\n",
        "# --- Example 2.3: Set (Mutable) ---\n",
        "print(\"\\n--- Set Example ---\")\n",
        "my_set = {100, 200, 300}\n",
        "print(f\"Initial set: {my_set}\")\n",
        "print(f\"Memory address (id) of my_set: {id(my_set)}\")\n",
        "\n",
        "# Adding an element to a set modifies it in place.\n",
        "my_set.add(400)\n",
        "print(f\"\\nSet after adding 400: {my_set}\")\n",
        "print(f\"Memory address (id) of my_set is the SAME: {id(my_set)}\")\n",
        "print(\"-\" * 30)\n",
        "\n",
        "\n",
        "# ==================================================================================\n",
        "# --- Practical Implication: Be careful when passing mutable objects to functions! ---\n",
        "# ==================================================================================\n",
        "print(\"\\n\\n--- Mutability with Functions ---\")\n",
        "\n",
        "def modify_list(some_list):\n",
        "    \"\"\"This function modifies the list it receives.\"\"\"\n",
        "    print(f\"Inside function - received list id: {id(some_list)}\")\n",
        "    some_list.append(\"MODIFIED\")\n",
        "    print(\"Inside function - list has been modified.\")\n",
        "\n",
        "# Create the original list\n",
        "data = [\"a\", \"b\", \"c\"]\n",
        "print(f\"Original data before function call: {data}\")\n",
        "print(f\"Original data id: {id(data)}\")\n",
        "\n",
        "# Call the function\n",
        "modify_list(data)\n",
        "\n",
        "# Check the original list again. It has been changed!\n",
        "# This is because the function received a reference to the SAME list object,\n",
        "# not a copy.\n",
        "print(f\"\\nOriginal data AFTER function call: {data} <--- It has changed!\")\n",
        "print(f\"Original data id is still the same: {id(data)}\")\n"
      ]
    },
    {
      "cell_type": "markdown",
      "metadata": {
        "id": "oG6HeMUhaCeW"
      },
      "source": [
        "# Operators"
      ]
    },
    {
      "cell_type": "code",
      "execution_count": null,
      "metadata": {
        "id": "vx7LYUo9aLxk"
      },
      "outputs": [],
      "source": [
        "# --- 1. Arithmetic Operators ---\n",
        "# Used for performing mathematical calculations.\n",
        "print(\"--- 1. Arithmetic Operators ---\")\n",
        "a = 15\n",
        "b = 4\n",
        "\n",
        "print(f\"{a} + {b} = {a + b}\")        # Addition\n",
        "print(f\"{a} - {b} = {a - b}\")        # Subtraction\n",
        "print(f\"{a} * {b} = {a * b}\")        # Multiplication\n",
        "print(f\"{a} / {b} = {a / b}\")        # Division (always results in a float)\n",
        "print(f\"{a} // {b} = {a // b}\")       # Floor Division (discards the decimal part)\n",
        "print(f\"{a} % {b} = {a % b}\")        # Modulus (returns the remainder)\n",
        "print(f\"{a} ** {b} = {a ** b}\")     # Exponentiation (a to the power of b)\n",
        "print(\"-\" * 30)"
      ]
    },
    {
      "cell_type": "code",
      "execution_count": null,
      "metadata": {
        "id": "caGmLARjaRLF"
      },
      "outputs": [],
      "source": [
        "# --- 2. Assignment Operators ---\n",
        "# Used for assigning values to variables.\n",
        "print(\"\\n--- 2. Assignment Operators ---\")\n",
        "x = 10\n",
        "print(f\"Initial x: {x}\")\n",
        "\n",
        "x += 5  # Equivalent to: x = x + 5\n",
        "print(f\"After x += 5: {x}\")\n",
        "\n",
        "x -= 3  # Equivalent to: x = x - 3\n",
        "print(f\"After x -= 3: {x}\")\n",
        "\n",
        "x *= 2  # Equivalent to: x = x * 2\n",
        "print(f\"After x *= 2: {x}\")\n",
        "\n",
        "x /= 4  # Equivalent to: x = x / 4\n",
        "print(f\"After x /= 4: {x}\")\n",
        "print(\"-\" * 30)\n"
      ]
    },
    {
      "cell_type": "code",
      "execution_count": null,
      "metadata": {
        "id": "j7xAbMWTaVqk"
      },
      "outputs": [],
      "source": [
        "# --- 3. Comparison (Relational) Operators ---\n",
        "# Used for comparing two values. The result is always a boolean (True or False).\n",
        "print(\"\\n--- 3. Comparison Operators ---\")\n",
        "p = 10\n",
        "q = 20\n",
        "\n",
        "print(f\"Is {p} == {q}? {p == q}\")      # Equal to\n",
        "print(f\"Is {p} != {q}? {p != q}\")      # Not equal to\n",
        "print(f\"Is {p} > {q}? {p > q}\")       # Greater than\n",
        "print(f\"Is {p} < {q}? {p < q}\")       # Less than\n",
        "print(f\"Is {p} >= 10? {p >= 10}\")   # Greater than or equal to\n",
        "print(f\"Is {p} <= 10? {p <= 10}\")   # Less than or equal to\n",
        "print(\"-\" * 30)"
      ]
    },
    {
      "cell_type": "code",
      "execution_count": null,
      "metadata": {
        "id": "FxV9djyRaZa9"
      },
      "outputs": [],
      "source": [
        "# --- 4. Logical Operators ---\n",
        "# Used to combine conditional statements.\n",
        "print(\"\\n--- 4. Logical Operators ---\")\n",
        "has_ticket = True\n",
        "has_id_card = False\n",
        "\n",
        "# and: Returns True if both statements are true\n",
        "print(f\"Can enter club (using 'and')? {has_ticket and has_id_card}\")\n",
        "\n",
        "# or: Returns True if one of the statements is true\n",
        "print(f\"Can enter club (using 'or')? {has_ticket or has_id_card}\")\n",
        "\n",
        "# not: Reverses the result, returns False if the result is true\n",
        "print(f\"Is not raining? {not False}\")\n",
        "print(\"-\" * 30)"
      ]
    },
    {
      "cell_type": "code",
      "execution_count": null,
      "metadata": {
        "id": "NJvI5wIeadwk"
      },
      "outputs": [],
      "source": [
        "# --- 5. Bitwise Operators ---\n",
        "# Used to perform operations on integers at the binary level.\n",
        "print(\"\\n--- 5. Bitwise Operators ---\")\n",
        "num1 = 10  # Binary: 1010\n",
        "num2 = 4   # Binary: 0100\n",
        "\n",
        "print(f\"num1 = {num1} (1010), num2 = {4} (0100)\")\n",
        "print(f\"num1 & num2 = {num1 & num2}\")    # Bitwise AND (Binary: 0000)\n",
        "print(f\"num1 | num2 = {num1 | num2}\")    # Bitwise OR (Binary: 1110)\n",
        "print(f\"num1 ^ num2 = {num1 ^ num2}\")    # Bitwise XOR (Binary: 1110)\n",
        "print(f\"~num1 = {~num1}\")                # Bitwise NOT (Inverts all bits)\n",
        "print(f\"num1 << 2 = {num1 << 2}\")      # Bitwise Left Shift (Binary: 101000)\n",
        "print(f\"num1 >> 2 = {num1 >> 2}\")      # Bitwise Right Shift (Binary: 0010)\n",
        "print(\"-\" * 30)\n"
      ]
    },
    {
      "cell_type": "code",
      "execution_count": null,
      "metadata": {
        "id": "cb-zzdAQaiJI"
      },
      "outputs": [],
      "source": [
        "# --- 6. Identity Operators ---\n",
        "# Used to compare the memory locations of two objects.\n",
        "print(\"\\n--- 6. Identity Operators (is vs ==) ---\")\n",
        "list_a = [1, 2, 3]\n",
        "list_b = [1, 2, 3]\n",
        "list_c = list_a\n",
        "\n",
        "# '==' checks if the values are equal.\n",
        "print(f\"list_a == list_b: {list_a == list_b}\") # True, because their content is the same.\n",
        "\n",
        "# 'is' checks if they are the exact same object in memory.\n",
        "print(f\"list_a is list_b: {list_a is list_b}\") # False, because they are two separate objects.\n",
        "print(f\"list_a is list_c: {list_a is list_c}\") # True, because list_c is just another name for list_a.\n",
        "print(\"-\" * 30)\n"
      ]
    },
    {
      "cell_type": "code",
      "execution_count": null,
      "metadata": {
        "id": "BWu3RRUFanQG"
      },
      "outputs": [],
      "source": [
        "# --- 7. Membership Operators ---\n",
        "# Used to test if a sequence is presented in an object.\n",
        "print(\"\\n--- 7. Membership Operators ---\")\n",
        "fruits = [\"apple\", \"banana\", \"cherry\"]\n",
        "my_name = \"Rohan\"\n",
        "\n",
        "print(f\"'banana' in fruits? {'banana' in fruits}\")\n",
        "print(f\"'mango' not in fruits? {'mango' not in fruits}\")\n",
        "print(f\"'o' in my_name? {'o' in my_name}\")\n",
        "print(\"-\" * 30)"
      ]
    },
    {
      "cell_type": "code",
      "execution_count": null,
      "metadata": {
        "id": "8NvPj4prauUr"
      },
      "outputs": [],
      "source": [
        "# --- 8. Ternary (Conditional) Operator ---\n",
        "# A one-line if-else statement.\n",
        "print(\"\\n--- 8. Ternary Operator ---\")\n",
        "age = 22\n",
        "# Syntax: value_if_true if condition else value_if_false\n",
        "status = \"Adult\" if age >= 18 else \"Minor\"\n",
        "print(f\"The person's status is: {status}\")\n",
        "print(\"-\" * 30)\n",
        "\n"
      ]
    },
    {
      "cell_type": "code",
      "execution_count": null,
      "metadata": {
        "id": "Itv1_UGKay-J"
      },
      "outputs": [],
      "source": [
        "# --- 9. Operator Precedence and Associativity ---\n",
        "# The order in which operations are performed. (Similar to BODMAS/PEMDAS)\n",
        "print(\"\\n--- 9. Operator Precedence ---\")\n",
        "# Multiplication has higher precedence than addition.\n",
        "result1 = 10 + 5 * 2  # Evaluates 5 * 2 first, then 10 + 10\n",
        "print(f\"10 + 5 * 2 = {result1}\")\n",
        "\n",
        "# Parentheses () can be used to override the default precedence.\n",
        "result2 = (10 + 5) * 2 # Evaluates 10 + 5 first, then 15 * 2\n",
        "print(f\"(10 + 5) * 2 = {result2}\")\n",
        "print(\"-\" * 30)"
      ]
    },
    {
      "cell_type": "code",
      "execution_count": null,
      "metadata": {
        "id": "zZzCO4hSa4lr"
      },
      "outputs": [],
      "source": [
        "# --- 10. Unary vs. Binary Operators ---\n",
        "# Based on the number of operands an operator takes.\n",
        "print(\"\\n--- 10. Unary vs. Binary Operators ---\")\n",
        "# Binary operator: Takes two operands. Most operators are binary.\n",
        "binary_result = 10 + 5\n",
        "print(f\"Binary '+': 10 + 5 = {binary_result}\")\n",
        "\n",
        "# Unary operator: Takes one operand.\n",
        "# The '-' here is a unary operator for negation.\n",
        "unary_result = -5\n",
        "print(f\"Unary '-': The value is {unary_result}\")\n"
      ]
    },
    {
      "cell_type": "markdown",
      "metadata": {
        "id": "3x81mbHla7Lq"
      },
      "source": [
        "# type casting"
      ]
    },
    {
      "cell_type": "code",
      "execution_count": null,
      "metadata": {
        "id": "3tXSV22DbMt2"
      },
      "outputs": [],
      "source": [
        "# ==============================================================================\n",
        "# Type Casting (also known as Type Conversion) in Python\n",
        "# ==============================================================================\n",
        "#\n",
        "# Type casting is the process of converting a variable from one data type to\n",
        "# another. There are two types:\n",
        "# 1. Explicit Casting: Done manually by the programmer using built-in functions.\n",
        "# 2. Implicit Casting: Done automatically by the Python interpreter.\n",
        "# ------------------------------------------------------------------------------\n"
      ]
    },
    {
      "cell_type": "code",
      "execution_count": null,
      "metadata": {
        "id": "nu00bE9gbRoN"
      },
      "outputs": [],
      "source": [
        "# --- Part 1: Explicit Type Casting (Manual Conversion) ---\n",
        "print(\"--- 1. Explicit Type Casting ---\")\n",
        "\n",
        "# --- 1a. Casting to Integer using int() ---\n",
        "print(\"\\n--- Casting to Integer (int) ---\")\n",
        "float_num = 99.9\n",
        "str_num = \"100\"\n",
        "\n",
        "print(f\"Original float: {float_num} ({type(float_num)})\")\n",
        "# When converting float to int, the decimal part is truncated (not rounded).\n",
        "int_from_float = int(float_num)\n",
        "print(f\"Casted to int: {int_from_float} ({type(int_from_float)})\")\n",
        "\n",
        "print(f\"\\nOriginal string: '{str_num}' ({type(str_num)})\")\n",
        "int_from_str = int(str_num)\n",
        "print(f\"Casted to int: {int_from_str} ({type(int_from_str)})\")\n",
        "\n",
        "# Note: You can only convert strings that contain whole numbers.\n",
        "# The following line would cause a ValueError.\n",
        "# invalid_str = \"100.5\"\n",
        "# error_int = int(invalid_str) # This would raise: ValueError\n",
        "\n"
      ]
    },
    {
      "cell_type": "code",
      "execution_count": null,
      "metadata": {
        "id": "F539gnLbbf0N"
      },
      "outputs": [],
      "source": [
        "# --- 1b. Casting to Float using float() ---\n",
        "print(\"\\n--- Casting to Float (float) ---\")\n",
        "int_val = 75\n",
        "str_val = \"250.5\"\n",
        "\n",
        "print(f\"Original int: {int_val} ({type(int_val)})\")\n",
        "float_from_int = float(int_val)\n",
        "print(f\"Casted to float: {float_from_int} ({type(float_from_int)})\")\n",
        "\n",
        "print(f\"\\nOriginal string: '{str_val}' ({type(str_val)})\")\n",
        "float_from_str = float(str_val)\n",
        "print(f\"Casted to float: {float_from_str} ({type(float_from_str)})\")\n",
        "\n"
      ]
    },
    {
      "cell_type": "code",
      "execution_count": null,
      "metadata": {
        "id": "9JR4HSivblxp"
      },
      "outputs": [],
      "source": [
        "# --- 1c. Casting to String using str() ---\n",
        "print(\"\\n--- Casting to String (str) ---\")\n",
        "age = 28\n",
        "price = 499.99\n",
        "my_list = [1, 2, 3]\n",
        "\n",
        "# You can convert almost any type to a string.\n",
        "str_from_int = str(age)\n",
        "str_from_float = str(price)\n",
        "str_from_list = str(my_list)\n",
        "\n",
        "print(f\"Original int: {age} -> Casted to str: '{str_from_int}' ({type(str_from_int)})\")\n",
        "print(f\"Original float: {price} -> Casted to str: '{str_from_float}' ({type(str_from_float)})\")\n",
        "print(f\"Original list: {my_list} -> Casted to str: '{str_from_list}' ({type(str_from_list)})\")\n",
        "\n"
      ]
    },
    {
      "cell_type": "code",
      "execution_count": null,
      "metadata": {
        "id": "k1sxLtFqbnLu"
      },
      "outputs": [],
      "source": [
        "# --- 1d. Casting between Collection Types ---\n",
        "print(\"\\n--- Casting between Collections (list, tuple, set) ---\")\n",
        "my_tuple = (1, 2, 3, 4)\n",
        "my_list_with_duplicates = [10, 20, 30, 10, 20]\n",
        "\n",
        "# Tuple to List\n",
        "list_from_tuple = list(my_tuple)\n",
        "print(f\"Original tuple: {my_tuple} -> Casted to list: {list_from_tuple}\")\n",
        "\n",
        "# List to Tuple\n",
        "tuple_from_list = tuple(my_list_with_duplicates)\n",
        "print(f\"Original list: {my_list_with_duplicates} -> Casted to tuple: {tuple_from_list}\")\n",
        "\n",
        "# List to Set (A common way to get unique items)\n",
        "# Note that sets are unordered.\n",
        "set_from_list = set(my_list_with_duplicates)\n",
        "print(f\"Original list: {my_list_with_duplicates} -> Casted to set (unique items): {set_from_list}\")\n",
        "\n",
        "# Set back to List\n",
        "list_from_set = list(set_from_list)\n",
        "print(f\"Original set: {set_from_list} -> Casted back to list: {list_from_set}\")\n",
        "print(\"-\" * 40)\n"
      ]
    },
    {
      "cell_type": "code",
      "execution_count": null,
      "metadata": {
        "id": "AGgrah6Gb0x4"
      },
      "outputs": [],
      "source": [
        "# --- Part 2: Implicit Type Casting (Automatic Conversion) ---\n",
        "print(\"\\n--- 2. Implicit Type Casting ---\")\n",
        "# Python automatically converts smaller data types to larger data types\n",
        "# to prevent data loss.\n",
        "\n",
        "# Example: Adding an integer to a float.\n",
        "int_a = 10\n",
        "float_b = 5.5\n",
        "\n",
        "print(f\"Type of int_a: {type(int_a)}\")\n",
        "print(f\"Type of float_b: {type(float_b)}\")\n",
        "\n",
        "# Python will internally convert 'int_a' to a float (10.0) before the addition.\n",
        "result = int_a + float_b\n",
        "\n",
        "print(f\"\\nResult of {int_a} + {float_b} is {result}\")\n",
        "print(f\"The type of the result is automatically promoted to float: {type(result)}\")\n",
        "\n",
        "# Another example: Boolean in numeric operations\n",
        "# True is treated as 1, False is treated as 0.\n",
        "bool_val = True\n",
        "int_c = 5\n",
        "result_bool = bool_val + int_c # This is like 1 + 5\n",
        "print(f\"\\nResult of {bool_val} + {int_c} is {result_bool} ({type(result_bool)})\")\n"
      ]
    },
    {
      "cell_type": "markdown",
      "metadata": {
        "id": "RF6vFW_lb2YG"
      },
      "source": [
        "# Conditionals"
      ]
    },
    {
      "cell_type": "code",
      "execution_count": null,
      "metadata": {
        "id": "ZYKEcRdDcH4y"
      },
      "outputs": [],
      "source": [
        "# ==============================================================================\n",
        "# Conditional Statements in Python (if, elif, else)\n",
        "# ==============================================================================\n",
        "#\n",
        "# Conditional statements allow a program to execute certain blocks of code\n",
        "# only if a specific condition is met.\n",
        "#\n",
        "# CRITICAL NOTE: Python uses indentation (whitespace at the beginning of a\n",
        "# line) to define the scope and blocks of code. This is not optional; it is\n",
        "# a fundamental part of the syntax.\n",
        "# ------------------------------------------------------------------------------\n"
      ]
    },
    {
      "cell_type": "code",
      "execution_count": null,
      "metadata": {
        "id": "gfZTQKs7cL8Y"
      },
      "outputs": [],
      "source": [
        "# --- 1. The `if` Statement (Single Condition) ---\n",
        "# Executes a block of code only if the condition is True.\n",
        "print(\"--- 1. `if` Statement ---\")\n",
        "temperature = 35\n",
        "\n",
        "# The code inside this block will only run if temperature is greater than 30.\n",
        "if temperature > 30:\n",
        "    print(\"It's a hot day! 🥵\")\n",
        "    print(\"Remember to stay hydrated.\")\n",
        "print(\"-\" * 30)\n"
      ]
    },
    {
      "cell_type": "code",
      "execution_count": null,
      "metadata": {
        "id": "sB7625WZcPld"
      },
      "outputs": [],
      "source": [
        "# --- 2. The `if-else` Statement (Two Possibilities) ---\n",
        "# Executes the `if` block if the condition is True, otherwise executes the `else` block.\n",
        "print(\"\\n--- 2. `if-else` Statement ---\")\n",
        "number = 49\n",
        "\n",
        "if number % 2 == 0:\n",
        "    print(f\"The number {number} is Even.\")\n",
        "else:\n",
        "    print(f\"The number {number} is Odd.\")\n",
        "print(\"-\" * 30)\n"
      ]
    },
    {
      "cell_type": "code",
      "execution_count": null,
      "metadata": {
        "id": "mIiXgDMecVrG"
      },
      "outputs": [],
      "source": [
        "# --- 3. The `if-elif-else` Ladder (Multiple Conditions) ---\n",
        "# Used when you have multiple, mutually exclusive conditions to check.\n",
        "# Python checks each condition in order. As soon as one is found to be True,\n",
        "# its block is executed, and the rest of the ladder is skipped.\n",
        "print(\"\\n--- 3. `if-elif-else` Ladder ---\")\n",
        "score = 85\n",
        "\n",
        "print(f\"The score is: {score}\")\n",
        "if score >= 90:\n",
        "    grade = \"A\"\n",
        "elif score >= 80:\n",
        "    grade = \"B\"  # This condition is True, so this block runs and the ladder stops.\n",
        "elif score >= 70:\n",
        "    grade = \"C\"\n",
        "elif score >= 60:\n",
        "    grade = \"D\"\n",
        "else:\n",
        "    grade = \"F\"\n",
        "\n",
        "print(f\"The calculated grade is: {grade}\")\n",
        "print(\"-\" * 30)"
      ]
    },
    {
      "cell_type": "code",
      "execution_count": null,
      "metadata": {
        "id": "LXQyDK20ceWc"
      },
      "outputs": [],
      "source": [
        "# --- 4. Nested `if` Statements (Condition within a Condition) ---\n",
        "# You can place an if statement inside another if statement.\n",
        "print(\"\\n--- 4. Nested `if` Statements ---\")\n",
        "age = 25\n",
        "has_good_credit = True\n",
        "\n",
        "print(f\"Checking loan eligibility for age {age}...\")\n",
        "if age >= 18:\n",
        "    print(\"Age requirement met. Checking credit score...\")\n",
        "    # This is the nested if statement\n",
        "    if has_good_credit:\n",
        "        print(\"Congratulations! Your loan is approved. ✅\")\n",
        "    else:\n",
        "        print(\"Sorry, your credit score does not meet the requirements. ❌\")\n",
        "else:\n",
        "    print(\"Sorry, you must be at least 18 years old to apply. ❌\")\n",
        "print(\"-\" * 30)\n"
      ]
    },
    {
      "cell_type": "code",
      "execution_count": null,
      "metadata": {
        "id": "y52E_3flcids"
      },
      "outputs": [],
      "source": [
        "# --- 5. Combining Conditions with Logical Operators (`and`, `or`, `not`) ---\n",
        "# This often helps avoid deeply nested if statements.\n",
        "print(\"\\n--- 5. Using Logical Operators ---\")\n",
        "day = \"Sunday\"\n",
        "is_raining = False\n",
        "\n",
        "# 'and': Both conditions must be True\n",
        "if day == \"Sunday\" and not is_raining:\n",
        "    print(\"It's a perfect day for a picnic! (using 'and' and 'not')\")\n",
        "\n",
        "# 'or': At least one condition must be True\n",
        "if day == \"Saturday\" or day == \"Sunday\":\n",
        "    print(\"It's the weekend! 🎉 (using 'or')\")\n",
        "print(\"-\" * 30)\n"
      ]
    },
    {
      "cell_type": "code",
      "execution_count": null,
      "metadata": {
        "id": "ltrFHfMiclw6"
      },
      "outputs": [],
      "source": [
        "\n",
        "# --- 6. The Ternary Operator (A one-line shortcut for if-else) ---\n",
        "# This is useful for assigning a value to a variable based on a simple condition.\n",
        "print(\"\\n--- 6. Ternary Operator ---\")\n",
        "is_logged_in = True\n",
        "\n",
        "# Syntax: value_if_true if condition else value_if_false\n",
        "message = \"Welcome back, User!\" if is_logged_in else \"Please log in.\"\n",
        "print(message)"
      ]
    },
    {
      "cell_type": "markdown",
      "metadata": {
        "id": "7TbeB1tQcqq4"
      },
      "source": [
        "# Loops"
      ]
    },
    {
      "cell_type": "code",
      "execution_count": null,
      "metadata": {
        "id": "7roLERq9culy"
      },
      "outputs": [],
      "source": [
        "# ==============================================================================\n",
        "# A Deep Dive into Loops in Python (for and while)\n",
        "# ==============================================================================\n",
        "#\n",
        "# Loops are used to execute a block of code repeatedly.\n",
        "#\n",
        "# ------------------------------------------------------------------------------\n",
        "\n",
        "\n"
      ]
    },
    {
      "cell_type": "code",
      "execution_count": null,
      "metadata": {
        "id": "58WRL37ec_nm"
      },
      "outputs": [],
      "source": [
        "print(\"--- 1. The `for` Loop ---\")\n",
        "\n",
        "# --- 1a. Iterating over a list ---\n",
        "print(\"\\n--- Iterating over a list ---\")\n",
        "fruits = [\"Apple\", \"Banana\", \"Cherry\"]\n",
        "for fruit in fruits:\n",
        "    print(f\"Current fruit: {fruit}\")"
      ]
    },
    {
      "cell_type": "code",
      "execution_count": null,
      "metadata": {
        "id": "Zyq2Dz8xdJG6"
      },
      "outputs": [],
      "source": [
        "# --- 1b. Iterating over a string ---\n",
        "print(\"\\n--- Iterating over a string ---\")\n",
        "for letter in \"Python\":\n",
        "    print(f\"Current letter: {letter}\")\n"
      ]
    },
    {
      "cell_type": "code",
      "execution_count": null,
      "metadata": {
        "id": "QxqjT4JadMQr"
      },
      "outputs": [],
      "source": [
        "# --- 1c. The `range()` function ---\n",
        "# The range() function is a powerful tool to generate a sequence of numbers\n",
        "# for looping a specific number of times.\n",
        "print(\"\\n--- Using the range() function ---\")\n",
        "# `range(stop)`: Generates numbers from 0 up to (but not including) stop.\n",
        "print(\"range(5):\")\n",
        "for i in range(5):\n",
        "    print(i) # Prints 0, 1, 2, 3, 4\n",
        "\n",
        "# `range(start, stop)`: Generates numbers from start up to stop.\n",
        "print(\"\\nrange(2, 6):\")\n",
        "for i in range(2, 6):\n",
        "    print(i) # Prints 2, 3, 4, 5\n",
        "\n",
        "# `range(start, stop, step)`: Generates numbers from start to stop, with a specific step.\n",
        "print(\"\\nrange(1, 10, 2):\")\n",
        "for i in range(1, 10, 2):\n",
        "    print(i) # Prints 1, 3, 5, 7, 9\n"
      ]
    },
    {
      "cell_type": "code",
      "execution_count": null,
      "metadata": {
        "id": "LINH8tEHdPzu"
      },
      "outputs": [],
      "source": [
        "for index, value in enumerate(iterable, start=0): ''' basic syntax of enumrate '''\n",
        "\n",
        "\n",
        "# --- 1d. The `enumerate()` function (Getting index and value) ---\n",
        "# Often, you need both the index and the value. enumerate() is the best way.\n",
        "fruits = ['apple', 'banana', 'cherry']\n",
        "\n",
        "for index, fruit in enumerate(fruits):\n",
        "    print(f\"Index: {index}, Fruit: {fruit}\")\n",
        "\n",
        "#[(0, 'apple'), (1, 'banana'), (2, 'cherry')]------ output\n",
        "\n"
      ]
    },
    {
      "cell_type": "code",
      "execution_count": null,
      "metadata": {
        "id": "7DvZ0gxbdZ_4"
      },
      "outputs": [],
      "source": [
        "for item1, item2, ..., itemN in zip(iterable1, iterable2, ..., iterableN): '''basic syntax of zip'''\n",
        "\n",
        "\n",
        "# --- 1e. The `zip()` function (Iterating over multiple lists) ---\n",
        "# zip() allows you to loop over two or more lists at the same time.\n",
        "\n",
        "students = [\"Amit\", \"Riya\", \"Pooja\"]\n",
        "scores = [88, 92, 78]\n",
        "for student, score in zip(students, scores):\n",
        "    print(f\"{student} scored {score} marks.\")\n",
        "\n",
        "#[(\"Amit\", 88), (\"Riya\", 92), (\"Pooja\", 78)] ------  *output*\n"
      ]
    },
    {
      "cell_type": "code",
      "execution_count": null,
      "metadata": {
        "id": "ZvtOalkBdc_x"
      },
      "outputs": [],
      "source": [
        "# nested for loop\n",
        "lis = [1,2,3,4]\n",
        "for i in lis:\n",
        "    print(lis)\n",
        "\n",
        "matrix = [\n",
        "    [1, 2, 3],\n",
        "    [4, 5, 6],\n",
        "    [7, 8, 9]\n",
        "]\n",
        "\n",
        "# Outer loop → Iterates through each ROW of the matrix (one sub-list at a time)\n",
        "for row in matrix:\n",
        "    # Inner loop → Iterates through each ITEM inside the current ROW\n",
        "    for item in row:\n",
        "        print(item, end=\" \")  # Prints items in the same row on one line separated by a space\n",
        "    print()  # Moves to the next line after finishing one full row\n"
      ]
    },
    {
      "cell_type": "code",
      "source": [],
      "metadata": {
        "id": "x3l5-qRS5sls",
        "outputId": "8973a885-2259-4050-d8a9-c8954a4e9210",
        "colab": {
          "base_uri": "https://localhost:8080/"
        }
      },
      "execution_count": null,
      "outputs": [
        {
          "output_type": "stream",
          "name": "stdout",
          "text": [
            "1 2 3 4 "
          ]
        }
      ]
    },
    {
      "cell_type": "markdown",
      "source": [
        "\n",
        "---\n",
        "\n",
        "### ✅ **General Syntax (core structure)**\n",
        "\n",
        "The *bare minimum* syntax of a `while` loop is:\n",
        "\n",
        "```python\n",
        "while condition:\n",
        "    # statements to execute repeatedly\n",
        "```\n",
        "\n",
        "Python itself doesn’t require an update statement.\n",
        "\n",
        "---\n",
        "\n",
        "### 🔑 When You **Need** an Update\n",
        "\n",
        "You **must** include an update when:\n",
        "\n",
        "* The condition depends on a variable that must **change** inside the loop,\n",
        "* Otherwise the condition will **never become False**, causing an **infinite loop**.\n",
        "\n",
        "Example:\n",
        "\n",
        "```python\n",
        "count = 1             # initialization\n",
        "while count <= 5:     # condition depends on count\n",
        "    print(count)\n",
        "    count += 1        # ✅ update is required, or loop never ends\n",
        "```\n",
        "\n",
        "---\n",
        "\n",
        "### 🔑 When You **Don’t** Need an Update\n",
        "\n",
        "You can skip updating if:\n",
        "\n",
        "* The condition will eventually become False **without manual changes**, or\n",
        "* Some other action (like user input, a function call, or a break) stops the loop.\n",
        "\n",
        "Examples:\n",
        "\n",
        "```python\n",
        "# Waiting for a specific user input (condition changes externally)\n",
        "while input(\"Type 'stop' to exit: \") != 'stop':\n",
        "    print(\"Still running...\")\n",
        "\n",
        "# Infinite loop with a break\n",
        "while True:\n",
        "    cmd = input(\"Enter q to quit: \")\n",
        "    if cmd == 'q':\n",
        "        break  # exit without a count update\n",
        "```\n",
        "\n",
        "---\n",
        "\n",
        "### ⚡ Key Takeaway\n",
        "\n",
        "* **Update is NOT part of the syntax**, but is often **logically required** when your loop condition depends on a variable that must change each iteration.\n",
        "* If the loop’s exit depends on **external events** (input, break, return, etc.), an update may not be needed.\n"
      ],
      "metadata": {
        "id": "RFHTkzAayrCM"
      }
    },
    {
      "cell_type": "code",
      "execution_count": null,
      "metadata": {
        "id": "5t6Xghmudmpw"
      },
      "outputs": [],
      "source": [
        "# --- Part 3: Loop Control Statements ---\n",
        "# These change a loop's execution from its normal sequence.\n",
        "print(\"\\n--- 3. Loop Control Statements ---\")\n",
        "\n",
        "# --- 3a. `break` ---\n",
        "# The `break` statement stops the loop entirely.\n",
        "print(\"\\n--- Using `break` ---\")\n",
        "# Find the first number divisible by 7\n",
        "for number in range(1, 20):\n",
        "    if number % 7 == 0:\n",
        "        print(f\"Found the number: {number}. Stopping the loop.\")\n",
        "        break # Exit the loop immediately\n",
        "    print(f\"Checking {number}...\")"
      ]
    },
    {
      "cell_type": "code",
      "execution_count": null,
      "metadata": {
        "id": "94bRc15UdvTE"
      },
      "outputs": [],
      "source": [
        "# --- 3b. `continue` ---\n",
        "# The `continue` statement skips the rest of the current iteration and\n",
        "# moves to the next one.\n",
        "print(\"\\n--- Using `continue` ---\")\n",
        "# Print only the even numbers from 1 to 10\n",
        "for number in range(1, 11):\n",
        "    if number % 2 != 0: # If the number is odd...\n",
        "        continue # ...skip this iteration and go to the next number\n",
        "    print(f\"Even number found: {number}\")\n",
        "print(\"-\" * 40)"
      ]
    },
    {
      "cell_type": "code",
      "execution_count": null,
      "metadata": {
        "id": "aS8ni8Cgd1ta"
      },
      "outputs": [],
      "source": [
        "# --- Part 4: The `else` Block in Loops ---\n",
        "# A loop's `else` block runs ONLY if the loop completes its full sequence\n",
        "# without being terminated by a `break` statement.\n",
        "print(\"\\n--- 4. The `else` Block in Loops ---\")\n",
        "\n",
        "# Case 1: Loop completes normally, so `else` runs.\n",
        "print(\"\\n--- `else` block (when loop completes) ---\")\n",
        "for i in range(3):\n",
        "    print(f\"Loop iteration {i}\")\n",
        "else:\n",
        "    print(\"The loop finished without a 'break'.\")\n",
        "\n",
        "# Case 2: Loop is broken, so `else` is skipped.\n",
        "print(\"\\n--- `else` block (when loop is broken) ---\")\n",
        "for i in range(10):\n",
        "    print(f\"Searching... current number is {i}\")\n",
        "    if i == 3:\n",
        "        print(\"Found the number! Breaking the loop.\")\n",
        "        break\n",
        "else:\n",
        "    print(\"This 'else' block will NOT be executed.\")"
      ]
    },
    {
      "cell_type": "markdown",
      "metadata": {
        "id": "orNTmtD5eBV6"
      },
      "source": [
        "# String"
      ]
    },
    {
      "cell_type": "markdown",
      "source": [
        "⭐ Important Characteristics of Strings\n",
        "\n",
        "Immutable → Strings cannot be modified in place (new string is created when updated).\n",
        "\n",
        "Ordered → Maintains insertion order; supports indexing & slicing.\n",
        "\n",
        "Indexing & Slicing → Supports positive/negative indexing and slicing ([start:stop:step]).\n",
        "\n",
        "Heterogeneous Storage ❌ → Only stores characters (not mixed datatypes like list).\n",
        "\n",
        "Dynamic Size → Size depends on content; can grow/shrink when reassigned.\n",
        "\n",
        "Duplicates Allowed → Characters can repeat (\"hello\" has two l).\n",
        "\n",
        "Iterable → Can be looped over using for loops, supports membership tests (in, not in)."
      ],
      "metadata": {
        "id": "vu9Is0GTZrdc"
      }
    },
    {
      "cell_type": "markdown",
      "source": [
        " Strings are a fundamental data structure in DSA, treated essentially as a **read-only array of characters**. This perspective is crucial for solving a wide range of complex problems.\n",
        "\n",
        "Here are the primary uses of strings in Data Structures and Algorithms, focusing on the concepts rather than specific methods.\n",
        "\n",
        "***\n",
        "\n",
        "### 1. As a Sequence for Pointer-Based Algorithms\n",
        "\n",
        "Many string algorithms treat the string as a sequence that can be traversed with pointers or indices. This is common in problems requiring in-place-like logic (though a new data structure like a list of characters is often used for the final result due to string immutability).\n",
        "\n",
        "* **Two-Pointer Technique:** Using two pointers (indices), often starting at the beginning and end, to move inwards.\n",
        "    * **Use Case:** Checking if a string is a **palindrome**. You compare `string[left]` with `string[right]` and move the pointers towards the center.\n",
        "    * **Use Case:** Reversing words in a sentence.\n",
        "\n",
        "* **Sliding Window Technique:** Using two pointers to define a \"window\" of a certain size or property that slides across the string.\n",
        "    * **Use Case:** Finding the longest substring with no repeating characters. The window expands and shrinks as you iterate through the string.\n",
        "    * **Use Case:** Finding all anagrams of a pattern within a larger string.\n",
        "\n",
        "### 2. Hashing and Data Integrity\n",
        "\n",
        "Strings are the basis for powerful hashing algorithms that convert a string of any length into a fixed-size integer (a hash value). This is a cornerstone of many efficient algorithms.\n",
        "\n",
        "* **Hash Keys:** In hash maps (dictionaries), strings are the most common type of key. The algorithm needs to compute a hash of the string to determine where to store the corresponding value for O(1) average-time lookups.\n",
        "* **Rabin-Karp Algorithm:** This string-searching algorithm uses \"rolling hash\" to find a pattern in a text. Instead of re-calculating the hash for every substring, it cleverly updates the hash in O(1) time as the window slides, making comparisons very fast.\n",
        "    * **Use Case:** Efficiently finding if a specific pattern exists in a large body of text.\n",
        "\n",
        "### 3. Dynamic Programming Foundation\n",
        "\n",
        "Strings are one of the most common data structures used in dynamic programming (DP) problems. The problem is typically broken down into subproblems based on the string's prefixes or substrings.\n",
        "\n",
        "* **Subproblem Definition:** The DP state is often defined by indices, like `dp[i][j]`, representing a solution for the substring from `i` to `j`.\n",
        "* **Use Cases:**\n",
        "    * **Longest Common Subsequence:** Finding the longest sequence of characters that appears in the same order in two different strings.\n",
        "    * **Edit Distance:** Finding the minimum number of edits (insert, delete, replace) to transform one string into another.\n",
        "    * **Longest Palindromic Substring:** Finding the longest substring that reads the same forwards and backwards.\n",
        "\n",
        "### 4. Specialized Data Structures: The Trie\n",
        "\n",
        "For problems involving large sets of strings, prefixes, and lookups, the **Trie (or Prefix Tree)** is a highly specialized and efficient tree-based data structure built specifically for strings.\n",
        "\n",
        "* **Structure:** Each node represents a character, and a path from the root to a node represents a prefix. A full word is marked by a special \"end-of-word\" flag on its final node.\n",
        "* **Use Cases:**\n",
        "    * **Autocomplete Systems:** Suggesting words as a user types.\n",
        "    * **Spell Checkers:** Quickly checking if a word exists in a dictionary.\n",
        "    * **IP Routing:** Finding the longest prefix match for an IP address.\n",
        "\n",
        "\n",
        "\n",
        "### 5. Representing States in Graphs\n",
        "\n",
        "In certain graph problems, strings can represent the nodes or the state of the system. The challenge is to find a path from a start state (string) to an end state (string).\n",
        "\n",
        "* **Use Case: Word Ladder:** You are given two words (e.g., \"HIT\" and \"COG\") and a dictionary. The problem is to find the shortest sequence of transformations from the start word to the end word, changing only one letter at a time, where each intermediate word is in the dictionary.\n",
        "    * **How it works:** Each word is a node in the graph, and an edge exists between two words if they differ by only one letter. The problem then becomes a Breadth-First Search (BFS) for the shortest path."
      ],
      "metadata": {
        "id": "T9nTbnTTZZa4"
      }
    },
    {
      "cell_type": "markdown",
      "source": [
        "⭐ Popular Methods\n",
        "-----\n",
        "\n",
        "### Case Conversion 🔡\n",
        "\n",
        "  * `lower()`: Converts the entire string to lowercase.\n",
        "    ```python\n",
        "    print(\"HELLO\".lower()) # 'hello'\n",
        "    ```\n",
        "  * `upper()`: Converts the entire string to uppercase.\n",
        "    ```python\n",
        "    print(\"hello\".upper()) # 'HELLO'\n",
        "    ```\n",
        "  * `capitalize()`: Makes the first character uppercase and the rest lowercase.\n",
        "    ```python\n",
        "    print(\"hello world\".capitalize()) # 'Hello world'\n",
        "    ```\n",
        "  * `title()`: Makes the first character of each word uppercase.\n",
        "    ```python\n",
        "    print(\"hello world\".title()) # 'Hello World'\n",
        "    ```\n",
        "\n",
        "-----\n",
        "\n",
        "### Searching & Finding 🔍\n",
        "\n",
        "  * `find(substring)`: Returns the starting index of the substring (or -1 if not found).\n",
        "    ```python\n",
        "    print(\"python\".find(\"th\")) # 2\n",
        "    ```\n",
        "  * `count(substring)`: Counts how many times a substring appears.\n",
        "    ```python\n",
        "    print(\"mississippi\".count(\"s\")) # 4\n",
        "    ```\n",
        "  * `startswith(prefix)`: Checks if the string starts with a specific prefix.\n",
        "    ```python\n",
        "    print(\"image.jpg\".startswith(\"image\")) # True\n",
        "    ```\n",
        "  * `endswith(suffix)`: Checks if the string ends with a specific suffix.\n",
        "    ```python\n",
        "    print(\"image.jpg\".endswith(\".jpg\")) # True\n",
        "    ```\n",
        "\n",
        "-----\n",
        "\n",
        "### Validation (is... methods) ✅\n",
        "\n",
        "These return `True` or `False`.\n",
        "\n",
        "  * `isalnum()`: Checks if all characters are letters or numbers.\n",
        "    ```python\n",
        "    print(\"Python3\".isalnum()) # True\n",
        "    ```\n",
        "  * `isalpha()`: Checks if all characters are letters.\n",
        "    ```python\n",
        "    print(\"Python\".isalpha()) # True\n",
        "    ```\n",
        "  * `isdigit()`: Checks if all characters are numbers.\n",
        "    ```python\n",
        "    print(\"123\".isdigit()) # True\n",
        "    ```\n",
        "\n",
        "-----\n",
        "\n",
        "### Modification & Stripping 🛠️\n",
        "\n",
        "  * `replace(old, new)`: Replaces all occurrences of `old` with `new`.\n",
        "    ```python\n",
        "    print(\"I like cats\".replace(\"cats\", \"dogs\")) # 'I like dogs'\n",
        "    ```\n",
        "  * `strip()`: Removes whitespace from the beginning and end.\n",
        "    ```python\n",
        "    print(\"   hello   \".strip()) # 'hello'\n",
        "    ```\n",
        "\n",
        "-----\n",
        "\n",
        "### Splitting & Joining 🔗\n",
        "\n",
        "  * `split(separator)`: Splits the string into a list of substrings.\n",
        "    ```python\n",
        "    print(\"apple,banana,cherry\".split(\",\")) # ['apple', 'banana', 'cherry']\n",
        "    ```\n",
        "  * `join(iterable)`: Joins a list of strings into a single string using the string as a separator.\n",
        "    ```python\n",
        "    words = [\"Python\", \"is\", \"fun\"]\n",
        "    print(\" \".join(words)) # 'Python is fun'\n",
        "    ```"
      ],
      "metadata": {
        "id": "Oq16TDLsZ3sM"
      }
    },
    {
      "cell_type": "markdown",
      "metadata": {
        "id": "_LGn4wxUertz"
      },
      "source": [
        "# List"
      ]
    },
    {
      "cell_type": "markdown",
      "metadata": {
        "id": "6MCZOM3n_nza"
      },
      "source": [
        "⭐ Important Characteristics of Lists\n",
        "\n",
        "Mutable → Lists can be modified (add, remove, update elements).\n",
        "\n",
        "Ordered → Maintains insertion order; elements can be accessed by index.\n",
        "\n",
        "Indexing & Slicing → Supports both positive/negative indexing and slicing ([start:stop:step]).\n",
        "\n",
        "Heterogeneous → Can store mixed data types (int, float, string, etc.).\n",
        "\n",
        "Dynamic Size → List size can grow or shrink at runtime.\n",
        "\n",
        "Duplicates Allowed → Lists can contain duplicate elements.\n",
        "\n",
        "Iterable → Lists can be looped over using for loops and support membership tests (in, not in)."
      ]
    },
    {
      "cell_type": "markdown",
      "source": [
        "\n",
        "---\n",
        "\n",
        "# **DSA Array/List Mastery Cheat Sheet**\n",
        "\n",
        "### **1️⃣ Access & Indexing**\n",
        "\n",
        "```python\n",
        "arr = [10,20,30,40]\n",
        "arr[0]   # first element → 10\n",
        "arr[-1]  # last element → 40\n",
        "```\n",
        "\n",
        "* `[i]` → single element\n",
        "* Negative index → end se access\n",
        "\n",
        "---\n",
        "\n",
        "### **2️⃣ Slicing**\n",
        "\n",
        "```python\n",
        "arr = [1,2,3,4,5]\n",
        "arr[1:4]   # [2,3,4] → start to end-1\n",
        "arr[:3]    # [1,2,3] → start to index 2\n",
        "arr[2:]    # [3,4,5] → index 2 to end\n",
        "arr[::2]   # [1,3,5] → step 2\n",
        "arr[::-1]  # [5,4,3,2,1] → reverse\n",
        "```\n",
        "\n",
        "---\n",
        "\n",
        "### **3️⃣ Looping Through List**\n",
        "\n",
        "* **By value:** read-only\n",
        "\n",
        "```python\n",
        "for num in arr:\n",
        "    print(num)\n",
        "\n",
        "\n",
        "\n",
        "---\n",
        "\n",
        "### **4️⃣ Modify List**\n",
        "\n",
        "```python\n",
        "arr[0] = 99                # single element\n",
        "arr[1:3] = [8,9]           # slice update\n",
        "del arr[1]                  # remove index 1\n",
        "```\n",
        "\n",
        "---\n",
        "\n",
        "### **9️⃣ Nested Lists (2D Arrays)**\n",
        "\n",
        "```python\n",
        "matrix = [[1,2,3],[4,5,6],[7,8,9]]\n",
        "matrix[1][2]      # 6 → row 1, column 2\n",
        "for row in matrix:\n",
        "    for val in row:\n",
        "        print(val)\n",
        "\n"
      ],
      "metadata": {
        "id": "eJdmPoR7k5NC"
      }
    },
    {
      "cell_type": "markdown",
      "metadata": {
        "id": "ox_vnDB3_4lB"
      },
      "source": [
        "\n",
        "\n",
        "# ⭐ Widely Used / Frequently Asked List Methods\n",
        "\n",
        "## 🔹 Adding Elements\n",
        "\n",
        "| Method             | Description                                         | Example                                         | Output         |\n",
        "| ------------------ | --------------------------------------------------- | ----------------------------------------------- | -------------- |\n",
        "| `append(x)`        | List ke end me ek element add karta hai             | `nums = [1,2,3]; nums.append(4); print(nums)`   | `[1, 2, 3, 4]` |\n",
        "| `extend(iterable)` | Multiple elements (list/tuple/string) add karta hai | `nums = [1,2]; nums.extend([3,4]); print(nums)` | `[1, 2, 3, 4]` |\n",
        "| `insert(i, x)`     | Index `i` par element insert karta hai              | `nums = [1,3]; nums.insert(1, 2); print(nums)`  | `[1, 2, 3]`    |\n",
        "\n",
        "---\n",
        "\n",
        "## 🔹 Removing Elements\n",
        "\n",
        "| Method      | Description                                            | Example                                         | Output      |\n",
        "| ----------- | ------------------------------------------------------ | ----------------------------------------------- | ----------- |\n",
        "| `remove(x)` | List se pehla occurrence hataata hai                   | `nums = [1,2,3,2]; nums.remove(2); print(nums)` | `[1, 3, 2]` |\n",
        "| `pop([i])`  | Index `i` par element remove karta hai (default: last) | `nums = [10,20,30]; nums.pop(); print(nums)`    | `[10, 20]`  |\n",
        "| `clear()`   | Pure list ko empty kar deta hai                        | `nums = [1,2,3]; nums.clear(); print(nums)`     | `[]`        |\n",
        "\n",
        "---\n",
        "\n",
        "## 🔹 Reordering & Sorting\n",
        "\n",
        "| Method      | Description                                        | Example                                       | Output      |\n",
        "| ----------- | -------------------------------------------------- | --------------------------------------------- | ----------- |\n",
        "| `sort()`    | List ko ascending order me sort karta hai          | `nums = [3,1,2]; nums.sort(); print(nums)`    | `[1, 2, 3]` |\n",
        "| `reverse()` | List ko ulta kar deta hai (order change karta hai) | `nums = [1,2,3]; nums.reverse(); print(nums)` | `[3, 2, 1]` |\n",
        "\n",
        "---\n",
        "\n",
        "## 🔹 Searching & Counting\n",
        "\n",
        "| Method     | Description                                             | Example                                      | Output |\n",
        "| ---------- | ------------------------------------------------------- | -------------------------------------------- | ------ |\n",
        "| `index(x)` | Element ka first index return karta hai                 | `nums = [5,10,15,10]; print(nums.index(10))` | `1`    |\n",
        "| `count(x)` | Element kitni baar aaya hai uska count return karta hai | `nums = [1,2,2,3,2]; print(nums.count(2))`   | `3`    |\n",
        "\n",
        "---\n",
        "\n",
        "## 🔹 Copying\n",
        "\n",
        "| Method   | Description                                                | Example                                                     | Output      |\n",
        "| -------- | ---------------------------------------------------------- | ----------------------------------------------------------- | ----------- |\n",
        "| `copy()` | List ki shallow copy banata hai (new list create hoti hai) | `nums = [1,2,3]; copy_nums = nums.copy(); print(copy_nums)` | `[1, 2, 3]` |\n",
        "b = arr               # Reference → both point to the SAME object\n",
        "c = arr.copy()        # Shallow Copy → top-level copy only\n",
        "d = copy.deepcopy(arr) # Deep Copy → fully independent copy\n",
        "\n",
        "\n",
        "---\n",
        "\n"
      ]
    },
    {
      "cell_type": "markdown",
      "metadata": {
        "id": "434fAKSxfiFO"
      },
      "source": [
        "# Tuple"
      ]
    },
    {
      "cell_type": "markdown",
      "metadata": {
        "id": "ZdGGS44jAOmi"
      },
      "source": [
        "⭐ Important Characteristics of Tuples\n",
        "\n",
        "1. **Immutable** → Cannot be modified after creation.\n",
        "2. **Ordered** → Maintains insertion order.\n",
        "3. **Indexing & Slicing** → Supports both positive/negative indexing and slicing.\n",
        "4. **Heterogeneous** → Can store mixed data types.\n",
        "5. **Duplicates Allowed** → Tuples can contain repeated elements.\n",
        "6. **Hashable** → Tuples can be used as dictionary keys or set elements (only if all elements are immutable).\n",
        "\n",
        "\n"
      ]
    },
    {
      "cell_type": "markdown",
      "metadata": {
        "id": "-QGv4YjIDJdm"
      },
      "source": [
        "| Tuple Method | Description                                                           |\n",
        "| ------------ | --------------------------------------------------------------------- |\n",
        "| `count(x)`   | Returns the number of times `x` appears in the tuple                  |\n",
        "| `index(x)`   | Returns the index of the first occurrence of `x` (error if not found) |\n"
      ]
    },
    {
      "cell_type": "markdown",
      "metadata": {
        "id": "91QbWRc_gpd4"
      },
      "source": [
        "# Set"
      ]
    },
    {
      "cell_type": "markdown",
      "metadata": {
        "id": "O1kSDzfkAnyK"
      },
      "source": [
        " ⭐ Important Characteristics of Sets\n",
        "\n",
        "1. **Unordered** → Elements have no fixed position (no indexing/slicing).\n",
        "\n",
        "2. **Mutable** → A set can be modified (add/remove elements).\n",
        "\n",
        "3. **Unique Elements Only** → Automatically removes duplicates.\n",
        "\n",
        "4. **Heterogeneous** → Can store mixed data types (int, float, string, tuple, etc.).\n",
        "\n",
        "5. **Unindexed** → Since sets are unordered, elements cannot be accessed by index.\n",
        "\n",
        "6. **Iterable** → Can be looped over with `for`.\n",
        "\n",
        "7. **Hashable Elements Only** → A set itself is mutable, but all its elements must be immutable (like int, str, tuple).\n",
        "\n",
        "\n"
      ]
    },
    {
      "cell_type": "markdown",
      "metadata": {
        "id": "SykBNxEKDttI"
      },
      "source": [
        "### ⭐ Most Important Set Methods\n",
        "\n",
        "#### 🔹 Adding & Updating\n",
        "\n",
        "1. **`add(x)` → Add a single element**\n",
        "\n",
        "```python\n",
        "s = {1, 2, 3}\n",
        "s.add(4)\n",
        "print(s)  # Output: {1, 2, 3, 4}\n",
        "```\n",
        "\n",
        "2. **`update(other)` → Add multiple elements**\n",
        "\n",
        "```python\n",
        "s = {1, 2, 3}\n",
        "s.update([4, 5, 6])\n",
        "print(s)  # Output: {1, 2, 3, 4, 5, 6}\n",
        "```\n",
        "\n",
        "---\n",
        "\n",
        "#### 🔹 Removing\n",
        "\n",
        "1. **`remove(x)` → Remove element (error if not found)**\n",
        "\n",
        "```python\n",
        "s = {1, 2, 3}\n",
        "s.remove(2)\n",
        "print(s)  # Output: {1, 3}\n",
        "# s.remove(5) would raise KeyError\n",
        "```\n",
        "\n",
        "2. **`discard(x)` → Remove element safely (no error if not found)**\n",
        "\n",
        "```python\n",
        "s = {1, 2, 3}\n",
        "s.discard(2)\n",
        "s.discard(5)  # No error even though 5 is not present\n",
        "print(s)  # Output: {1, 3}\n",
        "```\n",
        "\n",
        "3. **`pop()` → Remove & return an arbitrary element**\n",
        "\n",
        "```python\n",
        "s = {1, 2, 3}\n",
        "removed = s.pop()\n",
        "print(removed)  # Could be 1, 2, or 3\n",
        "print(s)        # Remaining elements\n",
        "```\n",
        "\n",
        "---\n",
        "\n",
        "#### 🔹 Set Operations\n",
        "\n",
        "1. **`union(other)` → All unique elements from both sets**\n",
        "\n",
        "```python\n",
        "a = {1, 2, 3}\n",
        "b = {3, 4, 5}\n",
        "print(a.union(b))  # Output: {1, 2, 3, 4, 5}\n",
        "```\n",
        "\n",
        "2. **`intersection(other)` → Common elements**\n",
        "\n",
        "```python\n",
        "a = {1, 2, 3}\n",
        "b = {2, 3, 4}\n",
        "print(a.intersection(b))  # Output: {2, 3}\n",
        "```\n",
        "\n",
        "3. **`difference(other)` → Elements in one set but not the other**\n",
        "\n",
        "```python\n",
        "a = {1, 2, 3}\n",
        "b = {2, 3, 4}\n",
        "print(a.difference(b))  # Output: {1}\n",
        "print(b.difference(a))  # Output: {4}\n",
        "```\n",
        "\n",
        "4. **`symmetric_difference(other)` → Elements in either set but not both**\n",
        "\n",
        "```python\n",
        "a = {1, 2, 3}\n",
        "b = {2, 3, 4}\n",
        "print(a.symmetric_difference(b))  # Output: {1, 4}\n",
        "```\n",
        "\n",
        "---\n",
        "\n",
        "#### 🔹 Relations & Comparisons\n",
        "\n",
        "1. **`issubset(other)` → Check if a set is subset of another**\n",
        "\n",
        "```python\n",
        "a = {1, 2}\n",
        "b = {1, 2, 3, 4}\n",
        "print(a.issubset(b))  # Output: True\n",
        "```\n",
        "\n",
        "2. **`issuperset(other)` → Check if a set is superset of another**\n",
        "\n",
        "```python\n",
        "a = {1, 2, 3, 4}\n",
        "b = {2, 3}\n",
        "print(a.issuperset(b))  # Output: True\n",
        "```\n"
      ]
    },
    {
      "cell_type": "markdown",
      "metadata": {
        "id": "82WkaunKhdEH"
      },
      "source": [
        "# Dictionary"
      ]
    },
    {
      "cell_type": "markdown",
      "metadata": {
        "id": "0qZq2YozBV4N"
      },
      "source": [
        "⭐ Important Characteristics of Dictionaries\n",
        "\n",
        "1. **Mutable** → Can add, update, or remove key–value pairs after creation.\n",
        "\n",
        "2. **Unordered (before Python 3.6)** / **Insertion Ordered (from Python 3.7+)** → Maintains the order in which keys are inserted (important to mention version difference).\n",
        "\n",
        "3. **Key–Value Pairs** → Stores data as `{key: value}`.\n",
        "\n",
        "4. **Unique Keys** → Keys must be unique (values can repeat).\n",
        "\n",
        "5. **Heterogeneous** → Keys and values can be of different data types.\n",
        "\n",
        "6. **Keys Must Be Immutable** → Only immutable data types (str, int, tuple, etc.) can be used as dictionary keys.\n",
        "\n",
        "7. **Dynamic Size** → Can grow or shrink dynamically at runtime.\n",
        "\n",
        "8. **Iterable** → Can iterate over keys, values, or items.\n",
        "\n",
        "---\n",
        "\n"
      ]
    },
    {
      "cell_type": "markdown",
      "source": [
        "#DIFFRENT WAYS TO CREATE DICTIONRAY\n",
        "\n",
        "---\n",
        "\n",
        "## **1️⃣ Curly Braces `{}`** – Most common\n",
        "\n",
        "```python\n",
        "dic = {\"name\": \"ashish\", \"age\": 32, \"city\": \"Delhi\"}\n",
        "print(dic)\n",
        "# Output: {'name': 'ashish', 'age': 32, 'city': 'Delhi'}\n",
        "```\n",
        "\n",
        "* Keys: unique\n",
        "* Key-value separated by `:`\n",
        "* Strings in quotes\n",
        "\n",
        "---\n",
        "\n",
        "## **2️⃣ `dict()` Constructor** – Using keyword arguments\n",
        "\n",
        "```python\n",
        "dic = dict(name=\"ashish\", age=32, city=\"Delhi\")\n",
        "print(dic)\n",
        "# Output: {'name': 'ashish', 'age': 32, 'city': 'Delhi'}\n",
        "```\n",
        "\n",
        "* Keys automatically strings\n",
        "* Keys must be valid identifiers\n",
        "\n",
        "---\n",
        "\n",
        "## **3️⃣ `dict()` with List of Tuples**\n",
        "\n",
        "```python\n",
        "dic = dict([(\"name\", \"ashish\"), (\"age\", 32)])\n",
        "print(dic)\n",
        "# Output: {'name': 'ashish', 'age': 32}\n",
        "```\n",
        "\n",
        "* Works with numbers as keys too: `dict([(1, \"one\"), (2, \"two\")])`\n",
        "\n",
        "---\n",
        "\n",
        "## **4️⃣ `fromkeys()`** – Same value for multiple keys\n",
        "\n",
        "```python\n",
        "dic = dict.fromkeys([\"a\", \"b\", \"c\"], 0)\n",
        "print(dic)\n",
        "# Output: {'a': 0, 'b': 0, 'c': 0}\n",
        "\n",
        "dic2 = dict.fromkeys([\"x\",\"y\",\"z\"])\n",
        "print(dic2)\n",
        "# Output: {'x': None, 'y': None, 'z': None}\n",
        "```\n",
        "\n",
        "* Default value is optional (`None` if not specified)\n",
        "\n",
        "---\n",
        "\n"
      ],
      "metadata": {
        "id": "mkVCR5O8U3n-"
      }
    },
    {
      "cell_type": "markdown",
      "source": [
        "\n",
        "---\n",
        "\n",
        "# **Python Dictionary: Complete Guide (Beginner → Advanced) Afater Creation Of Dictionray**\n",
        "\n",
        "A **dictionary** is a **collection of key-value pairs**.\n",
        "\n",
        "* **Key** → unique identifier\n",
        "* **Value** → data associated with the key\n",
        "* Syntax:\n",
        "\n",
        "```python\n",
        "dic = {\"key1\": value1, \"key2\": value2}\n",
        "```\n",
        "\n",
        "---\n",
        "\n",
        "## **2️⃣ Accessing Values**\n",
        "\n",
        "```python\n",
        "dic = {\"a\": 1, \"b\": 2}\n",
        "\n",
        "print(dic[\"a\"])           # 1 ✅\n",
        "print(dic.get(\"b\"))       # 2 ✅\n",
        "print(dic.get(\"c\", 0))   # 0 ✅ returns default if key missing\n",
        "```\n",
        "\n",
        "* `dic[key]` → gives value, **error if key not found**\n",
        "* `dic.get(key, default)` → safe, returns `default` if key missing\n",
        "\n",
        "---\n",
        "\n",
        "## **3️⃣ Adding / Updating Values**\n",
        "\n",
        "\n",
        "###  Using `update()` (add multiple or single keys)\n",
        "\n",
        "```python\n",
        "dic.update({\"c\": 3, \"d\": 4})   # add multiple keys\n",
        "dic.update({\"a\": 100})          # update existing key\n",
        "print(dic)                      # {'a': 100, 'b': 2, 'c': 3, 'd': 4}\n",
        "```\n",
        "\n",
        "* `.update()` can take:\n",
        "\n",
        "  * Another dictionary\n",
        "  * List of tuples: `[(\"key1\", val1), (\"key2\", val2)]`\n",
        "  * Keyword arguments: `dic.update(x=5, y=10)`\n",
        "\n",
        "---\n",
        "\n",
        "## **4️⃣ Traversing a Dictionary**\n",
        "\n",
        "### a) Keys only\n",
        "\n",
        "```python\n",
        "for key in dic:\n",
        "    print(key)\n",
        "```\n",
        "\n",
        "### b) Values only\n",
        "\n",
        "```python\n",
        "for value in dic.values():\n",
        "    print(value)\n",
        "```\n",
        "\n",
        "### c) Keys and values\n",
        "\n",
        "```python\n",
        "for key, value in dic.items():\n",
        "    print(key, value)\n",
        "```\n",
        "\n",
        "---\n",
        "\n",
        "## **6️⃣ Counting Elements (Frequency Counting)**\n",
        "\n",
        "Very important in DSA.\n",
        "\n",
        "```python\n",
        "arr = [1,2,3,1,2,1]\n",
        "\n",
        "counts = {}\n",
        "for num in arr:\n",
        "    counts[num] = counts.get(num, 0) + 1\n",
        "\n",
        "print(counts)  # {1: 3, 2: 2, 3: 1}\n",
        "```\n",
        "\n",
        "* `.get(num,0)` → returns current count, `0` if not present\n",
        "* `+1` → increment count\n",
        "\n",
        "\n",
        "\n",
        "## **8️⃣ Nested Dictionaries**\n",
        "\n",
        "```python\n",
        "students = {\n",
        "    \"Alice\": {\"age\": 20, \"marks\": 85},\n",
        "    \"Bob\": {\"age\": 22, \"marks\": 90}\n",
        "}\n",
        "\n",
        "print(students[\"Alice\"][\"marks\"])  # 85\n",
        "```\n",
        "\n",
        "* Very useful for complex DSA problems (storing multiple attributes per key)\n",
        "\n",
        "---\n",
        "\n"
      ],
      "metadata": {
        "id": "-GUe4I1DVYBa"
      }
    },
    {
      "cell_type": "markdown",
      "metadata": {
        "id": "IT7v_9IpBkmk"
      },
      "source": [
        "# POPULAR METHODS\n",
        "\n",
        "### ⭐ Widely Used / Frequently Asked Dictionary Methods\n",
        "\n",
        "### 🔹 Adding & Updating\n",
        "\n",
        "* `update([other])` → Update dictionary with another dict or iterable\n",
        "* `setdefault(key[, default])` → Insert key with default if not present (less common, but good to know)\n",
        "* `fromkeys(seq, value)` → Create dict with keys from sequence\n",
        "\n",
        "---\n",
        "\n",
        "### 🔹 Removing\n",
        "\n",
        "* `pop(key[, default])` → Remove key and return its value\n",
        "* `popitem()` → Remove and return last inserted `(key, value)`\n",
        "* `clear()` → Remove all items\n",
        "\n",
        "---\n",
        "\n",
        "### 🔹 Accessing & Getting\n",
        "\n",
        "* `get(key[, default])` → Get value safely (avoids KeyError)\n",
        "* `keys()` → View of dictionary keys\n",
        "* `values()` → View of dictionary values\n",
        "* `items()` → View of `(key, value)` pairs\n",
        "\n",
        "---\n",
        "\n",
        "### 🔹 Copying\n",
        "\n",
        "* `copy()` → Shallow copy of dictionary\n",
        "\n",
        "---\n",
        "\n",
        "## 🎯 Most Important for Data Science Interviews\n",
        "\n",
        "If you want to **prioritize**, focus on:\n",
        "\n",
        "1. `get()` – very common (safe lookups)\n",
        "2. `update()` – merging/updating dictionaries\n",
        "3. `keys()` – accessing keys\n",
        "4. `values()` – accessing values\n",
        "5. `items()` – iterating over key-value pairs\n",
        "6. `pop()` – removing items\n",
        "7. `clear()` – resetting dictionary\n",
        "\n"
      ]
    },
    {
      "cell_type": "markdown",
      "metadata": {
        "id": "qdb9EFVOiacT"
      },
      "source": [
        "# Function"
      ]
    },
    {
      "cell_type": "code",
      "execution_count": null,
      "metadata": {
        "id": "iroxKM6oidAx"
      },
      "outputs": [],
      "source": [
        "# ==============================================================================\n",
        "# The Ultimate Guide to Functions in Python\n",
        "# ==============================================================================\n",
        "#\n",
        "# A function is a reusable block of code that performs a specific action.\n",
        "# Functions help break our program into smaller, modular chunks, making it\n",
        "# more organized, readable, and reusable (DRY Principle: Don't Repeat Yourself).\n",
        "# ------------------------------------------------------------------------------\n"
      ]
    },
    {
      "cell_type": "code",
      "execution_count": null,
      "metadata": {
        "id": "aNVp4_YvinsF"
      },
      "outputs": [],
      "source": [
        "# --- 1. Basic Function Definition and Calling ---\n",
        "print(\"--- 1. Basic Function ---\")\n",
        "\n",
        "# Defining a function using the `def` keyword\n",
        "def greet():\n",
        "    \"\"\"\n",
        "    This is a docstring. It explains what the function does.\n",
        "    This function simply prints a greeting message.\n",
        "    \"\"\"\n",
        "    print(\"Hello! Welcome to the world of functions.\")\n",
        "\n",
        "# Calling the function to execute its code\n",
        "greet()\n",
        "print(\"-\" * 40)"
      ]
    },
    {
      "cell_type": "code",
      "execution_count": null,
      "metadata": {
        "id": "5ltzYfNijKip"
      },
      "outputs": [],
      "source": [
        "# --- 2. Parameters and Arguments ---\n",
        "# Parameters are the variables listed inside the parentheses in the function definition.\n",
        "# Arguments are the values that are sent to the function when it is called.\n",
        "print(\"\\n--- 2. Functions with Parameters ---\")\n",
        "\n",
        "def greet_user(name, city): # 'name' and 'city' are parameters\n",
        "    \"\"\"Greets a specific user and mentions their city.\"\"\"\n",
        "    print(f\"Hello, {name}! Welcome from {city}.\")\n",
        "\n",
        "# Calling the function with arguments\n",
        "greet_user(\"Amit\", \"Kolkata\") # \"Amit\" and \"Kolkata\" are arguments\n",
        "print(\"-\" * 40)\n"
      ]
    },
    {
      "cell_type": "code",
      "execution_count": null,
      "metadata": {
        "id": "yEQZ-VxSjNpv"
      },
      "outputs": [],
      "source": [
        "# --- 3. The `return` Statement ---\n",
        "# The `return` statement is used to send a value back from the function.\n",
        "print(\"\\n--- 3. The `return` Statement ---\")\n",
        "\n",
        "def add_numbers(a, b):\n",
        "    \"\"\"This function adds two numbers and returns the result.\"\"\"\n",
        "    result = a + b\n",
        "    return result\n",
        "\n",
        "sum_result = add_numbers(10, 5)\n",
        "print(f\"The result from the add_numbers function is: {sum_result}\")\n",
        "\n",
        "# A function with no `return` statement implicitly returns `None`.\n",
        "def no_return_function():\n",
        "    print(\"This function doesn't return anything.\")\n",
        "\n",
        "what_is_returned = no_return_function()\n",
        "print(f\"The no_return_function returned: {what_is_returned}\")\n",
        "print(\"-\" * 40)\n"
      ]
    },
    {
      "cell_type": "code",
      "execution_count": null,
      "metadata": {
        "id": "BNN9wasUjQ8W"
      },
      "outputs": [],
      "source": [
        "# --- 4. Types of Arguments ---\n",
        "print(\"\\n--- 4. Types of Arguments ---\")\n",
        "\n",
        "# --- 4a. Positional and Keyword Arguments ---\n",
        "# Positional: The order of arguments matters.\n",
        "# Keyword: You can specify arguments by their parameter name, so order doesn't matter.\n",
        "print(\"Using keyword arguments (order doesn't matter):\")\n",
        "greet_user(city=\"Mumbai\", name=\"Riya\")\n"
      ]
    },
    {
      "cell_type": "code",
      "execution_count": null,
      "metadata": {
        "id": "FRrv2hNmjVBX"
      },
      "outputs": [],
      "source": [
        "# --- 4b. Default Arguments ---\n",
        "# You can provide a default value for a parameter, making it optional.\n",
        "def create_profile(name, city=\"Unknown\"):\n",
        "    print(f\"Created profile for {name} from {city}.\")\n",
        "\n",
        "create_profile(\"Pooja\") # Uses the default value for city\n",
        "create_profile(\"Suresh\", city=\"Delhi\") # Overrides the default value\n",
        "print(\"-\" * 40)\n",
        "\n"
      ]
    },
    {
      "cell_type": "code",
      "execution_count": null,
      "metadata": {
        "id": "Sz0-Ksljju6b"
      },
      "outputs": [],
      "source": [
        "# --- 5. Flexible Arguments: `*args` and `**kwargs` ---\n",
        "print(\"\\n--- 5. Flexible Arguments ---\")\n",
        "\n",
        "# --- 5a. `*args` (for unlimited positional arguments) ---\n",
        "# `*args` packs all extra positional arguments into a TUPLE.\n",
        "def sum_all(*args):\n",
        "    \"\"\"Calculates the sum of all numbers passed to it.\"\"\"\n",
        "    total = 0\n",
        "    for num in args:\n",
        "        total += num\n",
        "    return total\n",
        "\n",
        "print(f\"Sum of (1, 2, 3): {sum_all(1, 2, 3)}\")\n",
        "print(f\"Sum of (10, 20, 30, 40): {sum_all(10, 20, 30, 40)}\")\n"
      ]
    },
    {
      "cell_type": "code",
      "execution_count": null,
      "metadata": {
        "id": "YoUeKiyij0E6"
      },
      "outputs": [],
      "source": [
        "# --- 5b. `**kwargs` (for unlimited keyword arguments) ---\n",
        "# `**kwargs` packs all extra keyword arguments into a DICTIONARY.\n",
        "def build_user_profile(name, **kwargs):\n",
        "    \"\"\"Builds a user profile dictionary.\"\"\"\n",
        "    profile = {'name': name}\n",
        "    profile.update(kwargs)\n",
        "    return profile\n",
        "\n",
        "user1 = build_user_profile(\"Rohan\", age=29, city=\"Kolkata\", profession=\"Data Scientist\")\n",
        "print(f\"\\nUser Profile 1: {user1}\")\n",
        "user2 = build_user_profile(\"Priya\", city=\"Bangalore\")\n",
        "print(f\"User Profile 2: {user2}\")\n",
        "print(\"-\" * 40)\n"
      ]
    },
    {
      "cell_type": "markdown",
      "source": [
        "# LAMBDA ,MAP ,REDUCE AND FILTER"
      ],
      "metadata": {
        "id": "SJfZODKSi67f"
      }
    },
    {
      "cell_type": "code",
      "source": [
        "# --- Lambda (anonymous function) ---\n",
        "square = lambda x: x*x\n",
        "print(square(5))                # 25\n",
        "print((lambda a,b: a+b)(2,3))   # 5\n",
        "\n",
        "# --- Map (apply function to iterable) ---\n",
        "nums = [1,2,3,4]\n",
        "print(list(map(lambda x: x*2, nums)))   # [2,4,6,8]\n",
        "\n",
        "# --- Filter (keep True values) ---\n",
        "print(list(filter(lambda x: x%2==0, nums)))   # [2,4]\n",
        "\n",
        "# --- Reduce (cumulative result) ---\n",
        "from functools import reduce\n",
        "print(reduce(lambda x,y: x+y, nums))   # 10\n",
        "print(reduce(lambda x,y: x*y, nums))   # 24\n",
        "\n",
        "# --- Practical one-liner ---\n",
        "products = [\n",
        "    {\"name\":\"Laptop\",\"price\":1200,\"category\":\"Electronics\"},\n",
        "    {\"name\":\"Headphones\",\"price\":150,\"category\":\"Electronics\"},\n",
        "    {\"name\":\"Monitor\",\"price\":650,\"category\":\"Electronics\"},\n",
        "]\n",
        "total = reduce(\n",
        "    lambda t,p: t+p,\n",
        "    map(lambda p:p['price'],\n",
        "        filter(lambda p:p['category']==\"Electronics\" and p['price']>100, products))\n",
        ")\n",
        "print(total)   # 2000\n"
      ],
      "metadata": {
        "id": "nYsIrAg1i_bA"
      },
      "execution_count": null,
      "outputs": []
    },
    {
      "cell_type": "markdown",
      "source": [
        "# ITERATOR AND GENERATOR"
      ],
      "metadata": {
        "id": "6rrIy-nYiGzN"
      }
    },
    {
      "cell_type": "code",
      "source": [
        "\n",
        "\n",
        "# --- 1. Iterators ---\n",
        "print(\"\\n--- Iterators ---\")\n",
        "\n",
        "# Manual iteration using iter() and next()\n",
        "nums = [10, 20, 30]\n",
        "it = iter(nums)\n",
        "print(next(it))   # 10\n",
        "print(next(it))   # 20\n",
        "print(next(it))   # 30\n",
        "\n",
        "\n",
        "\n",
        "\n"
      ],
      "metadata": {
        "id": "Cms4qUPciKN-"
      },
      "execution_count": null,
      "outputs": []
    },
    {
      "cell_type": "markdown",
      "source": [
        "\n",
        "---\n",
        "\n",
        "## 🔹 Why use Generators instead of just a `for` loop?\n",
        "\n",
        "### 1. **Memory Efficiency**\n",
        "\n",
        "* **List + loop** → builds and stores *all values in memory* at once.\n",
        "* **Generator** → produces *one value at a time* and forgets it after use.\n",
        "\n",
        "👉 Example:\n",
        "\n",
        "```python\n",
        "# List: creates all 1 million numbers at once (big memory)\n",
        "nums = [i for i in range(10**6)]\n",
        "print(len(nums))    # 1000000\n",
        "\n",
        "# Generator: creates numbers one by one (tiny memory)\n",
        "nums_gen = (i for i in range(10**6))\n",
        "print(next(nums_gen))  # 0\n",
        "print(next(nums_gen))  # 1\n",
        "```\n",
        "\n",
        "✅ The generator never loads all 1 million numbers into memory.\n",
        "\n",
        "---\n",
        "\n",
        "### 2. **Works with Infinite Sequences**\n",
        "\n",
        "You can’t store infinite values in a list, but a generator can keep producing forever.\n",
        "\n",
        "```python\n",
        "def natural_numbers():\n",
        "    i = 1\n",
        "    while True:\n",
        "        yield i\n",
        "        i += 1\n",
        "\n",
        "g = natural_numbers()\n",
        "print(next(g))  # 1\n",
        "print(next(g))  # 2\n",
        "print(next(g))  # 3\n",
        "# keeps going forever...\n",
        "```\n",
        "\n",
        "---\n",
        "\n",
        "### 3. **Lazy Evaluation (Faster startup)**\n",
        "\n",
        "* Lists → must prepare the *entire collection* before you use it.\n",
        "* Generators → start producing values *immediately*.\n",
        "\n",
        "```python\n",
        "# Normal list\n",
        "nums = [i*i for i in range(1000000)]  # takes time to build\n",
        "\n",
        "# Generator\n",
        "nums_gen = (i*i for i in range(1000000))  # instant, nothing calculated yet\n",
        "print(next(nums_gen))  # 0 (calculated only when needed)\n",
        "```\n",
        "\n",
        "---\n",
        "\n",
        "### 4. **Pipeline Style Processing**\n",
        "\n",
        "Generators can be chained together like a data pipeline.\n",
        "\n",
        "```python\n",
        "def even_numbers(n):\n",
        "    for i in range(n):\n",
        "        if i % 2 == 0:\n",
        "            yield i\n",
        "\n",
        "def square_numbers(nums):\n",
        "    for num in nums:\n",
        "        yield num * num\n",
        "\n",
        "# Chain generators\n",
        "evens = even_numbers(10)\n",
        "squares = square_numbers(evens)\n",
        "\n",
        "for val in squares:\n",
        "    print(val, end=\" \")   # Output: 0 4 16 36 64\n",
        "```\n",
        "\n",
        "---\n",
        "\n",
        "✅ **In short:**\n",
        "\n",
        "* Use **for loop + list** when data is small and you need random access.\n",
        "* Use **generator** when data is huge, infinite, or you want efficiency (memory + performance).\n",
        "\n",
        "---\n"
      ],
      "metadata": {
        "id": "QYpJt5Hyf3hy"
      }
    },
    {
      "cell_type": "markdown",
      "source": [
        "# Exception Handaling"
      ],
      "metadata": {
        "id": "PQiMk0BDdNBx"
      }
    },
    {
      "cell_type": "code",
      "source": [
        "# --- Exception Handling Basic Demo with Nested Try-Except ---\n",
        "\n",
        "def demo():\n",
        "    try:\n",
        "        x = int(\"10\")         # Works fine\n",
        "        y = int(\"abc\")        # Will raise ValueError\n",
        "\n",
        "        # Nested try block inside main try\n",
        "        try:\n",
        "            if x > 5:\n",
        "                raise TypeError(\"For demo: x should not be > 5\")  # Example of raise\n",
        "\n",
        "            z = x / 0         # Would raise ZeroDivisionError (not reached here)\n",
        "\n",
        "        except TypeError as e:\n",
        "            print(\"Nested Exception (TypeError):\", e)\n",
        "\n",
        "    except (ValueError, TypeError) as e:\n",
        "        print(\"Outer ValueError or TypeError occurred:\", e)\n",
        "\n",
        "    except ZeroDivisionError as e:\n",
        "        print(\"Outer ZeroDivisionError occurred:\", e)\n",
        "\n",
        "    except Exception as e:\n",
        "        print(\"Outer: Some other error occurred:\", e)\n",
        "\n",
        "    else:\n",
        "        print(\"No exception occurred ✔\")\n",
        "\n",
        "    finally:\n",
        "        print(\"Execution finished ✅\")\n",
        "\n",
        "\n",
        "# --- Run the demo ---\n",
        "demo()\n"
      ],
      "metadata": {
        "id": "YH-sWyyhZnKN"
      },
      "execution_count": null,
      "outputs": []
    },
    {
      "cell_type": "code",
      "source": [
        "# --- Custom Exception + Chaining Demo ---\n",
        "\n",
        "class NegativeNumberError(Exception): pass   # Custom Exception\n",
        "\n",
        "def check_number(n):\n",
        "    try:\n",
        "        try:\n",
        "            if n < 0:\n",
        "                raise NegativeNumberError(\"Negative number!\")\n",
        "            if not isinstance(n, int):\n",
        "                raise TypeError(\"Only integers allowed\")\n",
        "            print(\"Valid:\", n)\n",
        "\n",
        "        except NegativeNumberError as e:\n",
        "            raise ValueError(\"Chained from NegativeNumberError\") from e\n",
        "\n",
        "    except (ValueError, TypeError) as e:\n",
        "        print(\"Handled:\", e)\n",
        "    except Exception as e:\n",
        "        print(\"Other Error:\", e)\n",
        "    else:\n",
        "        print(\"No Exception ✔\")\n",
        "    finally:\n",
        "        print(\"Done ✅\\n\")\n",
        "\n",
        "# --- Test ---\n",
        "check_number(5)     # Valid\n",
        "check_number(-3)    # Custom -> Chained ValueError\n",
        "check_number(3.5)   # TypeError\n"
      ],
      "metadata": {
        "id": "1OubrO8mbJXL"
      },
      "execution_count": null,
      "outputs": []
    },
    {
      "cell_type": "markdown",
      "source": [
        "# Logging And Debugging"
      ],
      "metadata": {
        "id": "zTMuljtm0BQK"
      }
    },
    {
      "cell_type": "markdown",
      "source": [
        "### **Logging Levels**\n",
        "\n",
        "There are five standard levels of log messages, each indicating a different severity.\n",
        "\n",
        "  * `INFO`: Used to confirm that things are working as expected.\n",
        "  * `ERROR`: Indicates a more serious problem where the software was unable to perform a function.\n",
        "  * `WARNING`: Indicates a potential issue or an unexpected event that is not a critical error.\n",
        "  * `DEBUG`: Detailed, low-level information, typically only used when diagnosing problems.\n",
        "  * `CRITICAL`: A very serious error that might cause the program to terminate.\n",
        "-----\n",
        "\n",
        "### **Practical Example: Data Separation with Logging**\n",
        "\n",
        "Let's use logging to track the execution of a program. The task is to take a list containing mixed data types (integers, strings, and nested lists) and separate the integer and string values into two new lists.\n",
        "\n",
        "First, we'll set up our logger to save the program's progress to `program.log`.\n",
        "\n",
        "```python\n",
        "import logging\n",
        "logging.basicConfig(filename = \"program.log\" , level = logging.DEBUG ,format = '%(asctime)s %(levelname)s %(message)s'  )\n",
        "```\n",
        "\n",
        "Here is the list we will be working with.\n",
        "\n",
        "```python\n",
        "l = [1, \"hello\", [2, \"world\"], 3, [\"python\", 4]]\n",
        "```\n",
        "\n",
        "Now, we'll write the script to process the list. We will log our actions at each step: when we start iterating, when we process a sublist, and when we have the final result. This creates a detailed record of the program's execution flow, which is extremely helpful for debugging.\n",
        "\n",
        "```python\n",
        "l1_int = []\n",
        "l2_str = []\n",
        "\n",
        "for i in l:\n",
        "    logging.info(f\"processing each element {i}\")\n",
        "    \n",
        "    if type(i) == list:\n",
        "        for j in i:\n",
        "            logging.info(f\"processing sublist element: {j}\")\n",
        "            if type(j) == int:\n",
        "                l1_int.append(j)\n",
        "            else:\n",
        "                l2_str.append(j)\n",
        "    elif type(i) == int:\n",
        "        l1_int.append(i)\n",
        "    else:\n",
        "        l2_str.append(i)\n",
        "        \n",
        "logging.info(f\"The final result for integers is: {l1_int}\")\n",
        "logging.info(f\"The final result for strings is: {l2_str}\")\n",
        "logging.shutdown()\n",
        "```"
      ],
      "metadata": {
        "id": "j8X0wjXi0MyI"
      }
    },
    {
      "cell_type": "markdown",
      "source": [
        "# Multithreading"
      ],
      "metadata": {
        "id": "BGEQdNoTd4Lv"
      }
    },
    {
      "cell_type": "markdown",
      "source": [
        "### **High-Level Management with `concurrent.futures`**\n",
        "\n",
        "Manually creating, starting, and joining threads can be tedious. The `concurrent.futures` module provides a high-level interface for this using a `ThreadPoolExecutor`. The `executor.map()` function is particularly useful, as it applies a function to a list of arguments across multiple threads automatically.\n",
        "\n",
        "Here's the same file download example, rewritten to be much cleaner.\n",
        "\n",
        "```python\n",
        "import time\n",
        "import concurrent.futures\n",
        "import urllib.request\n",
        "start = time.perf_counter()\n",
        "\n",
        "url_list = [\n",
        "    'https://raw.githubusercontent.com/dscape/spell/master/test/resources/big.txt',\n",
        "    'https://raw.githubusercontent.com/first20hours/google-10000-english/master/google-10000-english-no-swears.txt',\n",
        "    'https://raw.githubusercontent.com/itsfoss/text-files/master/sherlock.txt' ,\n",
        "    'https://raw.githubusercontent.com/itsfoss/text-files/master/sample_log_file.txt',\n",
        "]\n",
        "\n",
        "data_list = ['data1.txt', 'data2.txt', 'data3.txt', 'data4.txt']\n",
        "    \n",
        "def file_download(url, filename):\n",
        "    urllib.request.urlretrieve(url, filename)\n",
        "\n",
        "with concurrent.futures.ThreadPoolExecutor() as executor:\n",
        "    executor.map(file_download, url_list, data_list)\n",
        "\n",
        "end = time.perf_counter()\n",
        "\n",
        "\n",
        "print(f\"The program finished in {round(end-start, 2)} seconds.\")\n",
        "```\n",
        "\n",
        "-----\n",
        "\n",
        "## **Part 4: Thread Synchronization and Race Conditions**\n",
        "\n",
        "### **The Problem: Shared Variables**\n",
        "\n",
        "A **race condition** occurs when multiple threads try to access and modify a shared variable at the same time. This can lead to unexpected and incorrect results. To prevent this, we need to use a **lock**. A lock ensures that only one thread can execute a critical section of code at any given time.\n"
      ],
      "metadata": {
        "id": "IuMiOXpK0lta"
      }
    },
    {
      "cell_type": "code",
      "source": [
        "import time, threading, concurrent.futures\n",
        "\n",
        "# Shared state + Lock\n",
        "shared_counter, counter_lock = 0, threading.Lock()\n",
        "\n",
        "def increment(x):\n",
        "    global shared_counter\n",
        "    with counter_lock:                  # prevent race condition\n",
        "        shared_counter += 1\n",
        "        print(f\"Thread {x}: counter = {shared_counter}\")\n",
        "        time.sleep(1)                   # simulate work\n",
        "\n",
        "# ------------------- 1️⃣ Using threading.Thread -------------------\n",
        "print(\"\\n--- Using threading.Thread ---\")\n",
        "start = time.perf_counter()\n",
        "\n",
        "threads = [threading.Thread(target=increment, args=(i,)) for i in range(1, 7)]\n",
        "[t.start() for t in threads]            # start all\n",
        "[t.join() for t in threads]             # wait all\n",
        "\n",
        "print(f\"Thread version: {round(time.perf_counter() - start, 2)}s\\n\")\n",
        "\n",
        "# ------------------- 2️⃣ Using ThreadPoolExecutor -------------------\n",
        "print(\"--- Using ThreadPoolExecutor ---\")\n",
        "shared_counter = 0                      # reset counter\n",
        "start = time.perf_counter()\n",
        "\n",
        "with concurrent.futures.ThreadPoolExecutor() as ex:\n",
        "    ex.map(increment, range(1, 7))\n",
        "\n",
        "print(f\"Executor version: {round(time.perf_counter() - start, 2)}s\\n\")\n"
      ],
      "metadata": {
        "id": "D7enYFRwUswe"
      },
      "execution_count": null,
      "outputs": []
    },
    {
      "cell_type": "markdown",
      "source": [
        "# Multiprocessing"
      ],
      "metadata": {
        "id": "HKtsfX2lehdc"
      }
    },
    {
      "cell_type": "code",
      "source": [
        "import time\n",
        "import multiprocessing\n",
        "\n",
        "# ------------------- 2️⃣ Basic Multiprocessing -------------------\n",
        "print(\"\\n--- Basic Multiprocessing ---\")\n",
        "start = time.perf_counter()\n",
        "\n",
        "def test_func():\n",
        "    print(\"do something\")\n",
        "    print(\"sleep 1 sec\")\n",
        "    time.sleep(1)\n",
        "    print(\"done sleeping\")\n",
        "\n",
        "# Single manual process\n",
        "p1 = multiprocessing.Process(target=test_func)\n",
        "p1.start()\n",
        "p1.join()\n",
        "\n",
        "print(f\"Basic Process finished in {round(time.perf_counter()-start,2)}s\\n\")\n",
        "\n",
        "# ------------------- 4️⃣ Shared Memory with Array -------------------\n",
        "print(\"--- Shared Memory with Array ---\")\n",
        "start = time.perf_counter()\n",
        "\n",
        "def square(index, arr):\n",
        "    arr[index] = arr[index] ** 2\n",
        "\n",
        "arr = multiprocessing.Array('i', [1,2,3,4,5])\n",
        "processes = [multiprocessing.Process(target=square, args=(i, arr)) for i in range(5)]\n",
        "[p.start() for p in processes]\n",
        "[p.join() for p in processes]\n",
        "\n",
        "print(\"Shared Array:\", list(arr))\n",
        "print(f\"Array Process finished in {round(time.perf_counter()-start,2)}s\\n\")\n",
        "\n",
        "# ------------------- 5️⃣ Multiprocessing Pool -------------------\n",
        "print(\"--- Multiprocessing Pool ---\")\n",
        "start = time.perf_counter()\n",
        "\n",
        "def square_val(n):\n",
        "    result = n*n\n",
        "    print(f\"Square of {n} is {result}\")\n",
        "    return result\n",
        "\n",
        "numbers = [2,3,4,5,6]\n",
        "with multiprocessing.Pool() as pool:\n",
        "    pool.map(square_val, numbers)\n",
        "\n",
        "print(f\"Pool finished in {round(time.perf_counter()-start,2)}s\\n\")\n"
      ],
      "metadata": {
        "id": "iWbcKyP8qTHo"
      },
      "execution_count": null,
      "outputs": []
    },
    {
      "cell_type": "markdown",
      "source": [
        "# BASIC OOPS"
      ],
      "metadata": {
        "id": "AS-j4fWPrnt3"
      }
    },
    {
      "cell_type": "markdown",
      "source": [
        "@**“A constructor initializes the object with values passed as arguments.”**"
      ],
      "metadata": {
        "id": "tuqYzDsSanWE"
      }
    },
    {
      "cell_type": "markdown",
      "source": [
        "@**self is a reference to the current object of the class.**\n",
        "\n",
        "**It allows you to access attributes and methods of that specific object.**"
      ],
      "metadata": {
        "id": "I6ok1oQma9EG"
      }
    },
    {
      "cell_type": "code",
      "source": [
        "class Car:\n",
        "    def __init__(self, brand, model):\n",
        "        self.brand = brand\n",
        "        self.model = model\n",
        "\n",
        "    def start(self):\n",
        "        print(f\"{self.brand} {self.model} started.\")\n",
        "\n",
        "    def stop(self):\n",
        "        print(f\"{self.brand} {self.model} stopped.\")\n",
        "\n",
        "\n",
        "# Example usage\n",
        "my_car = Car(\"Toyota\", \"Corolla\")\n",
        "\n",
        "my_car.start()\n",
        "my_car.stop()\n"
      ],
      "metadata": {
        "id": "u8t8CS63rrS1"
      },
      "execution_count": null,
      "outputs": []
    },
    {
      "cell_type": "markdown",
      "metadata": {
        "id": "W_MbL6Bok4c7"
      },
      "source": [
        "# Encapsulation"
      ]
    },
    {
      "cell_type": "markdown",
      "source": [
        "**“Encapsulation protects an object’s data by restricting direct access and allowing interaction only through controlled methods.”**"
      ],
      "metadata": {
        "id": "VXF8rG6rjEzW"
      }
    },
    {
      "cell_type": "markdown",
      "source": [
        "1. Acces modifier"
      ],
      "metadata": {
        "id": "7FN7SMzbx1R0"
      }
    },
    {
      "cell_type": "code",
      "source": [
        "class Car:\n",
        "    # Public attributes\n",
        "    def __init__(self, brand, model, engine_number):\n",
        "        self.brand = brand             # Public\n",
        "        self._model = model            # Protected\n",
        "        self.__engine_number = engine_number  # Private\n",
        "\n",
        "    # Public method\n",
        "    def start(self):\n",
        "        print(f\"{self.brand} {self._model} started.\")\n",
        "\n",
        "    # Public method\n",
        "    def stop(self):\n",
        "        print(f\"{self.brand} {self._model} stopped.\")\n",
        "\n",
        "    # Protected method\n",
        "    def _service(self):\n",
        "        print(f\"{self.brand} {self._model} is in service.\")\n",
        "\n",
        "    # Private method\n",
        "    def __secret_code(self):\n",
        "        print(f\"Engine number {self.__engine_number} accessed!\")\n",
        "\n",
        "    # Public method to access private method\n",
        "    def access_secret(self):\n",
        "        self.__secret_code()\n",
        "\n",
        "\n",
        "# Example usage\n",
        "my_car = Car(\"Toyota\", \"Corolla\", \"ENG12345\")\n",
        "\n",
        "# Public access\n",
        "my_car.start()\n",
        "my_car.stop()\n",
        "\n",
        "# Access protected attribute or method (possible but not recommended)\n",
        "print(my_car._model)\n",
        "my_car._service()\n",
        "\n",
        "# Access private attribute or method via public method\n",
        "print(my_car._Car__engine_number)  # name mangaling\n",
        "my_car.access_secret()\n"
      ],
      "metadata": {
        "id": "P1lbH7n-x8es",
        "outputId": "85d15042-a561-4e58-d57d-f9e5164dba3c",
        "colab": {
          "base_uri": "https://localhost:8080/"
        }
      },
      "execution_count": null,
      "outputs": [
        {
          "output_type": "stream",
          "name": "stdout",
          "text": [
            "Toyota Corolla started.\n",
            "Toyota Corolla stopped.\n",
            "Corolla\n",
            "Toyota Corolla is in service.\n",
            "Engine number ENG12345 accessed!\n"
          ]
        }
      ]
    },
    {
      "cell_type": "markdown",
      "source": [
        "2. Getter and setter method"
      ],
      "metadata": {
        "id": "UqsmpAtJ0idO"
      }
    },
    {
      "cell_type": "code",
      "source": [
        "class Car:\n",
        "    def __init__(self, brand, model):\n",
        "        self.__brand = brand    # Private attribute\n",
        "        self.__model = model    # Private attribute\n",
        "\n",
        "    # Getter for brand\n",
        "    def get_brand(self):\n",
        "        return self.__brand\n",
        "\n",
        "    # Setter for brand\n",
        "    def set_brand(self, brand):\n",
        "        self.__brand = brand\n",
        "\n",
        "    # Getter for model\n",
        "    def get_model(self):\n",
        "        return self.__model\n",
        "\n",
        "    # Setter for model\n",
        "    def set_model(self, model):\n",
        "        self.__model = model\n",
        "\n",
        "    def start(self):\n",
        "        print(f\"{self.__brand} {self.__model} started.\")\n",
        "\n",
        "    def stop(self):\n",
        "        print(f\"{self.__brand} {self.__model} stopped.\")\n",
        "\n",
        "\n",
        "# Example usage\n",
        "my_car = Car(\"Toyota\", \"Corolla\")\n",
        "\n",
        "# Using getter\n",
        "print(my_car.get_brand())  # Toyota\n",
        "print(my_car.get_model())  # Corolla\n",
        "\n",
        "# Using setter\n",
        "my_car.set_brand(\"Honda\")\n",
        "my_car.set_model(\"Civic\")\n",
        "\n",
        "my_car.start()  # Honda Civic started.\n",
        "my_car.stop()   # Honda Civic stopped.\n"
      ],
      "metadata": {
        "id": "9yFneBof0rLg"
      },
      "execution_count": null,
      "outputs": []
    },
    {
      "cell_type": "markdown",
      "source": [
        "4. PROPERTY DECORATOR"
      ],
      "metadata": {
        "id": "jytl-lFm1f1q"
      }
    },
    {
      "cell_type": "code",
      "source": [
        "class Car:\n",
        "    def __init__(self, brand, model):\n",
        "        self.__brand = brand   # Private attribute\n",
        "        self.__model = model   # Private attribute\n",
        "\n",
        "    # Getter for brand\n",
        "    @property\n",
        "    def brand(self):\n",
        "        return self.__brand\n",
        "\n",
        "    # Setter for brand\n",
        "    @brand.setter\n",
        "    def brand(self, brand):\n",
        "        self.__brand = brand\n",
        "\n",
        "    # Getter for model\n",
        "    @property\n",
        "    def model(self):\n",
        "        return self.__model\n",
        "\n",
        "    # Setter for model\n",
        "    @model.setter\n",
        "    def model(self, model):\n",
        "        self.__model = model\n",
        "\n",
        "    def start(self):\n",
        "        print(f\"{self.__brand} {self.__model} started.\")\n",
        "\n",
        "    def stop(self):\n",
        "        print(f\"{self.__brand} {self.__model} stopped.\")\n",
        "\n",
        "\n",
        "# Example usage\n",
        "my_car = Car(\"Toyota\", \"Corolla\")\n",
        "\n",
        "# Access via property (like normal attribute)\n",
        "print(my_car.brand)  # Toyota\n",
        "print(my_car.model)  # Corolla\n",
        "\n",
        "# Modify via property\n",
        "my_car.brand = \"Honda\"\n",
        "my_car.model = \"Civic\"\n",
        "\n",
        "my_car.start()  # Honda Civic started.\n",
        "my_car.stop()   # Honda Civic stopped.\n"
      ],
      "metadata": {
        "id": "ayEBzXnl1q6B"
      },
      "execution_count": null,
      "outputs": []
    },
    {
      "cell_type": "markdown",
      "metadata": {
        "id": "JR3wAT2VlsFh"
      },
      "source": [
        "# ABSTRACTION"
      ]
    },
    {
      "cell_type": "markdown",
      "source": [
        "**Abstraction is an OOP concept that hides the internal implementation details of a class or method and exposes only the essential features to the user, allowing the user to interact with the object without knowing the complexity behind it.**"
      ],
      "metadata": {
        "id": "QTu4-XWAgCX0"
      }
    },
    {
      "cell_type": "markdown",
      "source": [
        "1. ABSTRACT CLASS"
      ],
      "metadata": {
        "id": "7hjLx-Wn29h7"
      }
    },
    {
      "cell_type": "code",
      "source": [
        "from abc import ABC, abstractmethod\n",
        "\n",
        "class Car(ABC):\n",
        "    def __init__(self, brand, model):\n",
        "        self.brand = brand\n",
        "        self.model = model\n",
        "\n",
        "    def start(self):\n",
        "        print(f\"{self.brand} {self.model} started.\")\n",
        "\n",
        "    def stop(self):\n",
        "        print(f\"{self.brand} {self.model} stopped.\")\n",
        "\n",
        "\n"
      ],
      "metadata": {
        "id": "z1i0Kd_93ASJ"
      },
      "execution_count": null,
      "outputs": []
    },
    {
      "cell_type": "markdown",
      "source": [
        "2. ABSTRACT METHODS and it will act as interface beacuse it just have abstract method"
      ],
      "metadata": {
        "id": "EpyHfau13ky1"
      }
    },
    {
      "cell_type": "code",
      "source": [
        "from abc import ABC, abstractmethod\n",
        "\n",
        "class Car(ABC):\n",
        "    def __init__(self, brand, model):\n",
        "        self.brand = brand\n",
        "        self.model = model\n",
        "\n",
        "    @abstractmethod\n",
        "    def start(self):\n",
        "        pass  # Subclass must implement\n",
        "\n",
        "    @abstractmethod\n",
        "    def stop(self):\n",
        "        pass  # Subclass must implement\n",
        "\n",
        "\n"
      ],
      "metadata": {
        "id": "qXBSLcrN3n-6"
      },
      "execution_count": null,
      "outputs": []
    },
    {
      "cell_type": "markdown",
      "source": [
        "3. PARTIAL ABSTRACTION"
      ],
      "metadata": {
        "id": "Zo_7bPxI4JID"
      }
    },
    {
      "cell_type": "code",
      "source": [
        "from abc import ABC, abstractmethod\n",
        "\n",
        "class Car(ABC):\n",
        "    def __init__(self, brand, model):\n",
        "        self.brand = brand\n",
        "        self.model = model\n",
        "\n",
        "    # Partially abstract: start must be implemented by subclass\n",
        "    @abstractmethod\n",
        "    def start(self):\n",
        "        pass\n",
        "\n",
        "    # Fully implemented: stop is ready to use\n",
        "    def stop(self):\n",
        "        print(f\"{self.brand} {self.model} stopped.\")\n"
      ],
      "metadata": {
        "id": "tW50owhm4OUI"
      },
      "execution_count": null,
      "outputs": []
    },
    {
      "cell_type": "markdown",
      "metadata": {
        "id": "iBUJBA_-mezd"
      },
      "source": [
        "# INHERITANCE"
      ]
    },
    {
      "cell_type": "markdown",
      "source": [
        "**Inheritance is an OOP concept where a class (child) acquires the properties and methods of another class (parent) so that code can be reused and extended.**"
      ],
      "metadata": {
        "id": "UDFXciT0ckC7"
      }
    },
    {
      "cell_type": "markdown",
      "source": [
        "1. SINGLE INHERITANCE"
      ],
      "metadata": {
        "id": "sg7ASIXO6Pnk"
      }
    },
    {
      "cell_type": "code",
      "source": [
        "# Base class\n",
        "class Car:\n",
        "    def __init__(self, brand, model):\n",
        "        self.brand = brand\n",
        "        self.model = model\n",
        "\n",
        "    def start(self):\n",
        "        print(f\"{self.brand} {self.model} started.\")\n",
        "\n",
        "    def stop(self):\n",
        "        print(f\"{self.brand} {self.model} stopped.\")\n",
        "\n",
        "\n",
        "# Subclass inheriting from Car (Single Inheritance)\n",
        "class ElectricCar(Car):\n",
        "    def charge(self):\n",
        "        print(f\"{self.brand} {self.model} is charging.\")\n",
        "\n",
        "\n",
        "# Example usage\n",
        "my_car = Car(\"Toyota\", \"Corolla\")\n",
        "my_car.start()\n",
        "my_car.stop()\n",
        "\n",
        "my_electric_car = ElectricCar(\"Tesla\", \"Model 3\")\n",
        "my_electric_car.start()   # Inherited method\n",
        "my_electric_car.charge()  # Subclass-specific method\n",
        "my_electric_car.stop()    # Inherited method\n"
      ],
      "metadata": {
        "id": "CgiglVL96g1u"
      },
      "execution_count": null,
      "outputs": []
    },
    {
      "cell_type": "markdown",
      "source": [
        "2. MULTILEVEL INHERITANCE"
      ],
      "metadata": {
        "id": "zEeg_uoN6uUu"
      }
    },
    {
      "cell_type": "code",
      "source": [
        "# Base class\n",
        "class Car:\n",
        "    def __init__(self, brand, model):\n",
        "        self.brand = brand\n",
        "        self.model = model\n",
        "\n",
        "    def start(self):\n",
        "        print(f\"{self.brand} {self.model} started.\")\n",
        "\n",
        "    def stop(self):\n",
        "        print(f\"{self.brand} {self.model} stopped.\")\n",
        "\n",
        "\n",
        "# First-level subclass\n",
        "class ElectricCar(Car):\n",
        "    def charge(self):\n",
        "        print(f\"{self.brand} {self.model} is charging.\")\n",
        "\n",
        "\n",
        "# Second-level subclass\n",
        "class Tesla(ElectricCar):\n",
        "    def autopilot(self):\n",
        "        print(f\"{self.brand} {self.model} is on autopilot mode.\")\n",
        "\n",
        "\n",
        "# Example usage\n",
        "my_car = Car(\"Toyota\", \"Corolla\")\n",
        "my_car.start()\n",
        "my_car.stop()\n",
        "\n",
        "my_electric_car = ElectricCar(\"Nissan\", \"Leaf\")\n",
        "my_electric_car.start()   # Inherited from Car\n",
        "my_electric_car.charge()  # ElectricCar specific\n",
        "my_electric_car.stop()    # Inherited from Car\n",
        "\n",
        "my_tesla = Tesla(\"Tesla\", \"Model 3\")\n",
        "my_tesla.start()      # Inherited from Car\n",
        "my_tesla.charge()     # Inherited from ElectricCar\n",
        "my_tesla.autopilot()  # Tesla specific\n",
        "my_tesla.stop()       # Inherited from Car\n"
      ],
      "metadata": {
        "id": "i-Ol2HaN618C",
        "outputId": "dd9a0543-d849-439f-8e38-98de608414aa",
        "colab": {
          "base_uri": "https://localhost:8080/"
        }
      },
      "execution_count": null,
      "outputs": [
        {
          "output_type": "stream",
          "name": "stdout",
          "text": [
            "Toyota Corolla started.\n",
            "Toyota Corolla stopped.\n",
            "Nissan Leaf started.\n",
            "Nissan Leaf is charging.\n",
            "Nissan Leaf stopped.\n",
            "Tesla Model 3 started.\n",
            "Tesla Model 3 is charging.\n",
            "Tesla Model 3 is on autopilot mode.\n",
            "Tesla Model 3 stopped.\n"
          ]
        }
      ]
    },
    {
      "cell_type": "markdown",
      "source": [
        "3. HIERARCHICAL INHERITANCE"
      ],
      "metadata": {
        "id": "6rFBsG9B7E2b"
      }
    },
    {
      "cell_type": "code",
      "source": [
        "# Base class\n",
        "class Car:\n",
        "    def __init__(self, brand, model):\n",
        "        self.brand = brand\n",
        "        self.model = model\n",
        "\n",
        "    def start(self):\n",
        "        print(f\"{self.brand} {self.model} started.\")\n",
        "\n",
        "    def stop(self):\n",
        "        print(f\"{self.brand} {self.model} stopped.\")\n",
        "\n",
        "\n",
        "# Subclass 1\n",
        "class ElectricCar(Car):\n",
        "    def charge(self):\n",
        "        print(f\"{self.brand} {self.model} is charging.\")\n",
        "\n",
        "\n",
        "# Subclass 2\n",
        "class PetrolCar(Car):\n",
        "    def refuel(self):\n",
        "        print(f\"{self.brand} {self.model} is refueling with petrol.\")\n",
        "\n",
        "\n",
        "# Example usage\n",
        "my_electric_car = ElectricCar(\"Tesla\", \"Model 3\")\n",
        "my_electric_car.start()    # Inherited from Car\n",
        "my_electric_car.charge()   # ElectricCar specific\n",
        "my_electric_car.stop()     # Inherited from Car\n",
        "\n",
        "my_petrol_car = PetrolCar(\"Toyota\", \"Corolla\")\n",
        "my_petrol_car.start()      # Inherited from Car\n",
        "my_petrol_car.refuel()     # PetrolCar specific\n",
        "my_petrol_car.stop()       # Inherited from Car\n"
      ],
      "metadata": {
        "id": "rAzYO-vZ7OM-"
      },
      "execution_count": null,
      "outputs": []
    },
    {
      "cell_type": "markdown",
      "source": [
        "4. MULTIPLE INHERITANCE"
      ],
      "metadata": {
        "id": "CM5ofcfT7nid"
      }
    },
    {
      "cell_type": "code",
      "source": [
        "# Parent class 1\n",
        "class Car:\n",
        "    def __init__(self, brand, model):\n",
        "        self.brand = brand\n",
        "        self.model = model\n",
        "\n",
        "    def start(self):\n",
        "        print(f\"{self.brand} {self.model} started.\")\n",
        "\n",
        "    def stop(self):\n",
        "        print(f\"{self.brand} {self.model} stopped.\")\n",
        "\n",
        "\n",
        "# Parent class 2\n",
        "class GPS:\n",
        "    def navigation(self, destination):\n",
        "        print(f\"Navigating to {destination}...\")\n",
        "\n",
        "\n",
        "# Child class inheriting from both Car and GPS\n",
        "class SmartCar(Car, GPS):\n",
        "    def self_drive(self):\n",
        "        print(f\"{self.brand} {self.model} is driving autonomously.\")\n",
        "\n",
        "\n",
        "# Example usage\n",
        "my_smart_car = SmartCar(\"Tesla\", \"Model 3\")\n",
        "my_smart_car.start()          # Inherited from Car\n",
        "my_smart_car.navigation(\"Home\")  # Inherited from GPS\n",
        "my_smart_car.self_drive()     # SmartCar specific\n",
        "my_smart_car.stop()           # Inherited from Car\n"
      ],
      "metadata": {
        "id": "RfVe2FD57vJ5"
      },
      "execution_count": null,
      "outputs": []
    },
    {
      "cell_type": "markdown",
      "source": [
        "5. HYBRID INHERITANCE"
      ],
      "metadata": {
        "id": "VTLeahqG7_lQ"
      }
    },
    {
      "cell_type": "code",
      "source": [
        "# Base class\n",
        "class Car:\n",
        "    def __init__(self, brand, model):\n",
        "        self.brand = brand\n",
        "        self.model = model\n",
        "\n",
        "    def start(self):\n",
        "        print(f\"{self.brand} {self.model} started.\")\n",
        "\n",
        "    def stop(self):\n",
        "        print(f\"{self.brand} {self.model} stopped.\")\n",
        "\n",
        "\n",
        "# First-level subclass (multilevel)\n",
        "class ElectricCar(Car):\n",
        "    def charge(self):\n",
        "        print(f\"{self.brand} {self.model} is charging.\")\n",
        "\n",
        "\n",
        "# Another parent class (for multiple inheritance)\n",
        "class GPS:\n",
        "    def navigation(self, destination):\n",
        "        print(f\"Navigating to {destination}...\")\n",
        "\n",
        "\n",
        "# Child class inheriting from ElectricCar and GPS (hybrid)\n",
        "class SmartElectricCar(ElectricCar, GPS):\n",
        "    def self_drive(self):\n",
        "        print(f\"{self.brand} {self.model} is driving autonomously.\")\n",
        "\n",
        "\n",
        "# Example usage\n",
        "my_smart_car = SmartElectricCar(\"Tesla\", \"Model 3\")\n",
        "my_smart_car.start()            # Inherited from Car\n",
        "my_smart_car.charge()           # Inherited from ElectricCar\n",
        "my_smart_car.navigation(\"Home\") # Inherited from GPS\n",
        "my_smart_car.self_drive()       # SmartElectricCar specific\n",
        "my_smart_car.stop()             # Inherited from Car\n"
      ],
      "metadata": {
        "id": "FgjBzmXB8FD5"
      },
      "execution_count": null,
      "outputs": []
    },
    {
      "cell_type": "markdown",
      "source": [
        "6. CONTRUCTOR BEHAVIOUR ON INHERITANCE"
      ],
      "metadata": {
        "id": "x8oS11zO8RAZ"
      }
    },
    {
      "cell_type": "code",
      "source": [
        "# Base class\n",
        "class Car:\n",
        "    def __init__(self, brand, model):\n",
        "        self.brand = brand\n",
        "        self.model = model\n",
        "        print(f\"Car constructor called for {self.brand} {self.model}\")\n",
        "\n",
        "    def start(self):\n",
        "        print(f\"{self.brand} {self.model} started.\")\n",
        "\n",
        "    def stop(self):\n",
        "        print(f\"{self.brand} {self.model} stopped.\")\n",
        "\n",
        "\n",
        "# Subclass with its own constructor\n",
        "class ElectricCar(Car):\n",
        "    def __init__(self, brand, model, battery_capacity):\n",
        "        super().__init__(brand, model)  # Call parent constructor\n",
        "        self.battery_capacity = battery_capacity\n",
        "        print(f\"ElectricCar constructor called with {self.battery_capacity} kWh battery\")\n",
        "\n",
        "    def charge(self):\n",
        "        print(f\"{self.brand} {self.model} is charging ({self.battery_capacity} kWh)\")\n",
        "\n",
        "\n",
        "# Example usage\n",
        "my_car = Car(\"Toyota\", \"Corolla\")\n",
        "my_car.start()\n",
        "my_car.stop()\n",
        "\n",
        "my_electric_car = ElectricCar(\"Tesla\", \"Model 3\", 75)\n",
        "my_electric_car.start()   # Inherited method\n",
        "my_electric_car.charge()  # Subclass method\n",
        "my_electric_car.stop()    # Inherited method\n"
      ],
      "metadata": {
        "id": "Y8TGJ3tp8ZZD"
      },
      "execution_count": null,
      "outputs": []
    },
    {
      "cell_type": "markdown",
      "source": [
        "7. SUPER KEYWORD"
      ],
      "metadata": {
        "id": "ihisFKg98vab"
      }
    },
    {
      "cell_type": "markdown",
      "source": [
        "**Use super() when you want to extend or reuse parent behavior, not when the child should be completely independent.**"
      ],
      "metadata": {
        "id": "4rfr_bmxdqiY"
      }
    },
    {
      "cell_type": "code",
      "source": [
        "# Base class\n",
        "class Car:\n",
        "    def __init__(self, brand, model):\n",
        "        self.brand = brand\n",
        "        self.model = model\n",
        "        print(f\"Car constructor called for {self.brand} {self.model}\")\n",
        "\n",
        "    def start(self):\n",
        "        print(f\"{self.brand} {self.model} started.\")\n",
        "\n",
        "    def stop(self):\n",
        "        print(f\"{self.brand} {self.model} stopped.\")\n",
        "\n",
        "\n",
        "# Child class demonstrating super()\n",
        "class ElectricCar(Car):\n",
        "    def __init__(self, brand, model, battery_capacity):\n",
        "        # 1. Call parent constructor\n",
        "        super().__init__(brand, model)\n",
        "        self.battery_capacity = battery_capacity\n",
        "        print(f\"ElectricCar constructor called with {self.battery_capacity} kWh battery\")\n",
        "\n",
        "    # 2. Override parent method and call parent method using super()\n",
        "    def start(self):\n",
        "        super().start()  # Call parent start()\n",
        "        print(f\"{self.brand} {self.model} is ready to drive silently (ElectricCar start)\")\n",
        "\n",
        "    # 3. Add new method that uses parent stop via super()\n",
        "    def emergency_stop(self):\n",
        "        print(\"Emergency stop initiated!\")\n",
        "        super().stop()  # Call parent stop()\n",
        "\n",
        "\n",
        "# Example usage\n",
        "my_car = Car(\"Toyota\", \"Corolla\")\n",
        "my_car.start()\n",
        "my_car.stop()\n",
        "\n",
        "my_electric_car = ElectricCar(\"Tesla\", \"Model 3\", 75)\n",
        "my_electric_car.start()          # Calls overridden start() and parent start() via super()\n",
        "my_electric_car.emergency_stop() # Calls parent stop() via super()\n"
      ],
      "metadata": {
        "id": "3684PVhD82JU"
      },
      "execution_count": null,
      "outputs": []
    },
    {
      "cell_type": "markdown",
      "source": [
        "**⚠️ When not to use super():**\n",
        "\n",
        "**If the parent method is not needed in the child.**\n",
        "\n",
        "**If you are not overriding the method and want the child to have its own independent behavior.**"
      ],
      "metadata": {
        "id": "xxyp61SQd1uA"
      }
    },
    {
      "cell_type": "markdown",
      "source": [
        "8. MRO(METHOD RESOLUTION ORDER )"
      ],
      "metadata": {
        "id": "0ek3-PJ79hHj"
      }
    },
    {
      "cell_type": "code",
      "source": [
        "# Base class\n",
        "class Car:\n",
        "    def start(self):\n",
        "        print(\"Car started.\")\n",
        "\n",
        "    def stop(self):\n",
        "        print(\"Car stopped.\")\n",
        "\n",
        "\n",
        "# Another base class\n",
        "class GPS:\n",
        "    def start(self):\n",
        "        print(\"GPS system activated.\")\n",
        "\n",
        "    def navigate(self):\n",
        "        print(\"Navigation started.\")\n",
        "\n",
        "\n",
        "# Child class with multiple inheritance\n",
        "class SmartCar(Car, GPS):\n",
        "    def start(self):\n",
        "        print(\"SmartCar is powering up.\")\n",
        "        super().start()  # Calls the first method in MRO\n",
        "\n",
        "    def self_drive(self):\n",
        "        print(\"SmartCar is driving autonomously.\")\n",
        "\n",
        "\n",
        "# Example usage\n",
        "my_smart_car = SmartCar()\n",
        "my_smart_car.start()      # MRO determines which start() to call via super()\n",
        "my_smart_car.self_drive()\n",
        "my_smart_car.stop()       # Inherited from Car\n",
        "my_smart_car.navigate()   # Inherited from GPS\n",
        "\n",
        "# Check MRO\n",
        "print(SmartCar.mro())     # Shows the method resolution order\n"
      ],
      "metadata": {
        "id": "p8tNrh7q-cH3"
      },
      "execution_count": null,
      "outputs": []
    },
    {
      "cell_type": "markdown",
      "source": [
        "\n",
        "---\n",
        "\n",
        "## 🧩 **PYTHON INHERITANCE CHEATSHEET — CONCEPT ONLY**\n",
        "\n",
        "---\n",
        "\n",
        "### 🔹 1️⃣ **Single Inheritance**\n",
        "\n",
        "* **One child → one parent**.\n",
        "* The simplest form of inheritance.\n",
        "* Child inherits properties and methods of a single parent class.\n",
        "\n",
        "🧠 *Used when:* One class logically extends another (e.g., `Car → Vehicle`).\n",
        "\n",
        "---\n",
        "\n",
        "### 🔹 2️⃣ **Multiple Inheritance**\n",
        "\n",
        "* **One child → multiple parents.**\n",
        "* Child class can use features from all parent classes.\n",
        "* If two parents have **same method name**, Python decides **which one to use** via **MRO** (Method Resolution Order).\n",
        "\n",
        "🧠 *Used when:* You want to combine behaviors from different classes (e.g., `FlyingCar → Vehicle, Flyable`).\n",
        "\n",
        "---\n",
        "\n",
        "### 🔹 3️⃣ **Multilevel Inheritance**\n",
        "\n",
        "* Involves a **chain** of inheritance.\n",
        "* Each derived class becomes a parent for the next one.\n",
        "\n",
        "🧠 *Used when:* You want stepwise specialization.\n",
        "`GrandChild → Child → Parent`\n",
        "\n",
        "---\n",
        "\n",
        "### 🔹 4️⃣ **Hierarchical Inheritance**\n",
        "\n",
        "* **Multiple child classes inherit from a single parent.**\n",
        "* Each child gets same base behavior but can extend or modify it.\n",
        "\n",
        "🧠 *Used when:* Several related classes share a common base.\n",
        "`Car`, `Bike`, `Bus` all inherit from `Vehicle`.\n",
        "\n",
        "---\n",
        "\n",
        "### 🔹 5️⃣ **Hybrid Inheritance**\n",
        "\n",
        "* **Combination** of multiple inheritance types.\n",
        "* Example: A class might inherit from two parents that themselves have a common base.\n",
        "* Can create **diamond problem** (same method coming from multiple ancestors).\n",
        "\n",
        "🧠 *Used when:* You need complex combinations of shared and specialized behavior.\n",
        "\n",
        "---\n",
        "\n",
        "## ⚙️ **MRO (Method Resolution Order)**\n",
        "\n",
        "### 🔸 What is MRO?\n",
        "\n",
        "* It’s **the order in which Python searches classes** when executing a method or accessing an attribute in inheritance.\n",
        "* Determines **which parent’s method runs first** in case of conflict.\n",
        "* Python uses **C3 Linearization Algorithm** to compute MRO.\n",
        "\n",
        "### 🔸 How to see MRO:\n",
        "\n",
        "```python\n",
        "ClassName.__mro__\n",
        "# or\n",
        "ClassName.mro()\n",
        "```\n",
        "\n",
        "### 🔸 When MRO matters:\n",
        "\n",
        "* In **Multiple** or **Hybrid inheritance**, where **more than one parent** defines the same method name.\n",
        "* MRO ensures **consistent and predictable** method lookup order.\n",
        "\n",
        "🧠 *Simple rule:*\n",
        "\n",
        "> “Python checks the current class first, then parents (left to right), then grandparents — following the MRO order.”\n",
        "\n",
        "---\n",
        "\n",
        "## 🧭 **Summary Table**\n",
        "\n",
        "| Type             | Description                         | Structure      | MRO Needed? |\n",
        "| ---------------- | ----------------------------------- | -------------- | ----------- |\n",
        "| **Single**       | One child inherits one parent       | Straight line  | ❌           |\n",
        "| **Multiple**     | One child inherits multiple parents | Merging arrows | ✅           |\n",
        "| **Multilevel**   | Chain of inheritance                | Vertical chain | ❌           |\n",
        "| **Hierarchical** | One parent → many children          | Tree shape     | ❌           |\n",
        "| **Hybrid**       | Combination of types                | Complex web    | ✅           |\n",
        "\n",
        "---\n"
      ],
      "metadata": {
        "id": "9Cn5-l03VtpX"
      }
    },
    {
      "cell_type": "markdown",
      "metadata": {
        "id": "aBIzHaEhnKho"
      },
      "source": [
        "# POLYMORPHISM"
      ]
    },
    {
      "cell_type": "markdown",
      "source": [
        "**Polymorphism is the ability of a function or method to behave differently based on the object that calls it.**"
      ],
      "metadata": {
        "id": "BXRtdZIts8IU"
      }
    },
    {
      "cell_type": "markdown",
      "source": [
        "1.COMPILE TIME POLYMORPHISM (METHOD OVERLOADING)....NOT SUPPOSRTED ACTUALLY"
      ],
      "metadata": {
        "id": "qFpMqYQYAARJ"
      }
    },
    {
      "cell_type": "code",
      "execution_count": null,
      "metadata": {
        "id": "GNWARUaYnXCa"
      },
      "outputs": [],
      "source": [
        "class Car:\n",
        "    def __init__(self, brand, model):\n",
        "        self.brand = brand\n",
        "        self.model = model\n",
        "\n",
        "    # Simulating compile-time polymorphism with *args\n",
        "    def start(self, *modes):\n",
        "        if not modes:\n",
        "            print(f\"{self.brand} {self.model} started normally.\")\n",
        "        else:\n",
        "            print(f\"{self.brand} {self.model} started with mode(s): {', '.join(modes)}\")\n",
        "\n",
        "    def stop(self):\n",
        "        print(f\"{self.brand} {self.model} stopped.\")\n",
        "\n",
        "\n",
        "# Example usage\n",
        "my_car = Car(\"Toyota\", \"Corolla\")\n",
        "\n",
        "my_car.start()                   # No arguments\n",
        "my_car.start(\"Eco Mode\")          # One argument\n",
        "my_car.start(\"Sport Mode\", \"AC\")  # Multiple arguments\n",
        "my_car.stop()\n"
      ]
    },
    {
      "cell_type": "markdown",
      "source": [
        "2. RUNTIME POLYMORPHISM (METHOD OVERRIDING)"
      ],
      "metadata": {
        "id": "7MOjaD17Atsq"
      }
    },
    {
      "cell_type": "code",
      "source": [
        "class Car:\n",
        "    def __init__(self, brand, model):\n",
        "        self.brand = brand\n",
        "        self.model = model\n",
        "\n",
        "    def start(self):\n",
        "        print(f\"{self.brand} {self.model} started.\")\n",
        "\n",
        "    def stop(self):\n",
        "        print(f\"{self.brand} {self.model} stopped.\")\n",
        "\n",
        "\n",
        "# Child class overriding methods\n",
        "class ElectricCar(Car):\n",
        "    def start(self):  # Overriding start\n",
        "        print(f\"{self.brand} {self.model} started silently (Electric Power).\")\n",
        "\n",
        "    def stop(self):  # Overriding stop\n",
        "        print(f\"{self.brand} {self.model} stopped. Battery saving mode ON.\")\n",
        "\n",
        "\n",
        "# Example usage\n",
        "car1 = Car(\"Toyota\", \"Corolla\")\n",
        "car2 = ElectricCar(\"Tesla\", \"Model 3\")\n",
        "\n",
        "car1.start()   # Calls Car's version\n",
        "car1.stop()\n",
        "\n",
        "car2.start()   # Calls ElectricCar's version (runtime polymorphism)\n",
        "car2.stop()\n"
      ],
      "metadata": {
        "id": "-e_o51QrA9y1"
      },
      "execution_count": null,
      "outputs": []
    },
    {
      "cell_type": "markdown",
      "source": [
        "4. POLYMORPHISM WITH INHERITANCE"
      ],
      "metadata": {
        "id": "ldwDQFZrBsQz"
      }
    },
    {
      "cell_type": "code",
      "source": [
        "# Base class\n",
        "class Car:\n",
        "    def __init__(self, brand, model):\n",
        "        self.brand = brand\n",
        "        self.model = model\n",
        "\n",
        "    def start(self):\n",
        "        print(f\"{self.brand} {self.model} started.\")\n",
        "\n",
        "    def stop(self):\n",
        "        print(f\"{self.brand} {self.model} stopped.\")\n",
        "\n",
        "\n",
        "# Subclass overriding start() method (polymorphism)\n",
        "class ElectricCar(Car):\n",
        "    def start(self):\n",
        "        print(f\"{self.brand} {self.model} is starting silently (ElectricCar start).\")\n",
        "\n",
        "    def charge(self):\n",
        "        print(f\"{self.brand} {self.model} is charging.\")\n",
        "\n",
        "\n",
        "# Example usage\n",
        "my_car = Car(\"Toyota\", \"Corolla\")\n",
        "my_car.start()  # Base class behavior\n",
        "my_car.stop()\n",
        "\n",
        "my_electric_car = ElectricCar(\"Tesla\", \"Model 3\")\n",
        "my_electric_car.start()   # Overridden behavior (polymorphism)\n",
        "my_electric_car.charge()\n",
        "my_electric_car.stop()    # Inherited from base class\n"
      ],
      "metadata": {
        "id": "gaAtpX0VB4X7"
      },
      "execution_count": null,
      "outputs": []
    },
    {
      "cell_type": "markdown",
      "source": [
        "6. DUCK TYPING"
      ],
      "metadata": {
        "id": "9qFLo4BxCfZw"
      }
    },
    {
      "cell_type": "markdown",
      "source": [
        "**Duck typing means Python cares about what an object can do, not what type it is.**\n",
        "\n",
        "Or in one line for interviews:\n",
        "\n",
        "**If an object behaves like the expected type (has the required methods or attributes), it’s treated as that type — “If it walks like a duck and quacks like a duck, it’s a duck.”**"
      ],
      "metadata": {
        "id": "9J0hD15TtwbP"
      }
    },
    {
      "cell_type": "code",
      "source": [
        "class Car:\n",
        "    def __init__(self, brand, model):\n",
        "        self.brand = brand\n",
        "        self.model = model\n",
        "\n",
        "    def start(self):\n",
        "        print(f\"{self.brand} {self.model} started.\")\n",
        "\n",
        "    def stop(self):\n",
        "        print(f\"{self.brand} {self.model} stopped.\")\n",
        "\n",
        "\n",
        "# Another class with same methods but NOT related to Car\n",
        "class Bike:\n",
        "    def __init__(self, brand, model):\n",
        "        self.brand = brand\n",
        "        self.model = model\n",
        "\n",
        "    def start(self):\n",
        "        print(f\"{self.brand} {self.model} bike started.\")\n",
        "\n",
        "    def stop(self):\n",
        "        print(f\"{self.brand} {self.model} bike stopped.\")\n",
        "\n",
        "\n",
        "# Function that uses duck typing\n",
        "def start_and_stop(vehicle):\n",
        "    vehicle.start()\n",
        "    vehicle.stop()\n",
        "\n",
        "\n",
        "# Example usage\n",
        "my_car = Car(\"Toyota\", \"Corolla\")\n",
        "my_bike = Bike(\"Yamaha\", \"R15\")\n",
        "\n",
        "# Works for both because both have start() and stop()\n",
        "start_and_stop(my_car)\n",
        "start_and_stop(my_bike)\n"
      ],
      "metadata": {
        "id": "nNGFiwlNCkRY"
      },
      "execution_count": null,
      "outputs": []
    },
    {
      "cell_type": "markdown",
      "source": [
        "# CLASS AND STATIC METHOD"
      ],
      "metadata": {
        "id": "tw1pxNS6ehCu"
      }
    },
    {
      "cell_type": "markdown",
      "source": [
        "1. CLASS METHOD"
      ],
      "metadata": {
        "id": "nh1JLx36EUnP"
      }
    },
    {
      "cell_type": "code",
      "source": [
        "class Car:\n",
        "    def __init__(self, brand, model):\n",
        "        self.brand = brand\n",
        "        self.model = model\n",
        "\n",
        "    def start(self):\n",
        "        print(f\"{self.brand} {self.model} started.\")\n",
        "\n",
        "    def stop(self):\n",
        "        print(f\"{self.brand} {self.model} stopped.\")\n",
        "\n",
        "    # Class method to create a Car from a string like \"Toyota-Corolla\"\n",
        "    @classmethod\n",
        "    def from_string(cls, car_str):\n",
        "        brand, model = car_str.split(\"-\")\n",
        "        return cls(brand, model)\n",
        "\n",
        "\n",
        "# Example usage\n",
        "my_car = Car(\"Toyota\", \"Corolla\")\n",
        "my_car.start()\n",
        "my_car.stop()\n",
        "\n",
        "# Using the class method to create a new Car object\n",
        "car2 = Car.from_string(\"Honda-Civic\")\n",
        "car2.start()\n",
        "car2.stop()\n"
      ],
      "metadata": {
        "id": "BiaHTv2FelK7"
      },
      "execution_count": null,
      "outputs": []
    },
    {
      "cell_type": "markdown",
      "source": [
        "2. STATIC METHOD"
      ],
      "metadata": {
        "id": "qFCkbYxMEYMY"
      }
    },
    {
      "cell_type": "code",
      "source": [
        "class Car:\n",
        "    def __init__(self, brand, model):\n",
        "        self.brand = brand\n",
        "        self.model = model\n",
        "\n",
        "    def start(self):\n",
        "        print(f\"{self.brand} {self.model} started.\")\n",
        "\n",
        "    def stop(self):\n",
        "        print(f\"{self.brand} {self.model} stopped.\")\n",
        "\n",
        "    # Static method: utility function related to cars\n",
        "    @staticmethod\n",
        "    def general_info():\n",
        "        print(\"Cars have engines, wheels, and can be started and stopped.\")\n",
        "\n",
        "\n",
        "# Example usage\n",
        "my_car = Car(\"Toyota\", \"Corolla\")\n",
        "my_car.start()\n",
        "my_car.stop()\n",
        "\n",
        "# Using static method\n",
        "Car.general_info()   # Called on class\n",
        "my_car.general_info() # Can also be called on object (but no self/cls inside)\n"
      ],
      "metadata": {
        "id": "h8e76SzMEaWV"
      },
      "execution_count": null,
      "outputs": []
    },
    {
      "cell_type": "markdown",
      "source": [
        "# DUNDER METHOD"
      ],
      "metadata": {
        "id": "dBo_wH8AfiZY"
      }
    },
    {
      "cell_type": "code",
      "source": [
        "# ✨ Dunder Methods Examples\n",
        "\n",
        "# --- 1. Object Creation & Representation ---\n",
        "class Player:\n",
        "    def __init__(self, name, level, hp):\n",
        "        self.name = name\n",
        "        self.level = level\n",
        "        self.hp = hp\n",
        "\n",
        "    def __str__(self):   # User-friendly\n",
        "        return f\"Player: {self.name} (Lvl {self.level})\"\n",
        "\n",
        "    def __repr__(self):  # Developer-friendly\n",
        "        return f\"Player(name='{self.name}', level={self.level}, hp={self.hp})\"\n",
        "\n",
        "\n",
        "# --- 2. Comparison Dunders ---\n",
        "class PlayerCompare(Player):\n",
        "    def __eq__(self, other):   # ==\n",
        "        return isinstance(other, PlayerCompare) and self.level == other.level\n",
        "\n",
        "    def __lt__(self, other):   # <\n",
        "        return isinstance(other, PlayerCompare) and self.level < other.level\n",
        "\n",
        "    def __gt__(self, other):   # >\n",
        "        return isinstance(other, PlayerCompare) and self.level > other.level\n",
        "\n",
        "\n",
        "# --- 3. Arithmetic Dunder ---\n",
        "class PlayerAdd(Player):\n",
        "    def __add__(self, other):  # +\n",
        "        if not isinstance(other, PlayerAdd):\n",
        "            return NotImplemented\n",
        "        return PlayerAdd(\n",
        "            name=f\"{self.name}_{other.name}\",\n",
        "            level=self.level + other.level,\n",
        "            hp=self.hp + other.hp\n",
        "        )\n",
        "\n",
        "\n",
        "# --- 4. Container Dunders ---\n",
        "class Guild:\n",
        "    def __init__(self, name):\n",
        "        self.name = name\n",
        "        self.members = []\n",
        "\n",
        "    def add_member(self, player):\n",
        "        self.members.append(player)\n",
        "\n",
        "    def __len__(self):          # len()\n",
        "        return len(self.members)\n",
        "\n",
        "    def __getitem__(self, index):  # []\n",
        "        return self.members[index]\n",
        "\n",
        "\n",
        "# --- Short Usage ---\n",
        "p1 = Player(\"Knight_Ash\", 50, 1200)\n",
        "print(p1)                       # __str__\n",
        "print(repr(p1))                 # __repr__\n",
        "\n",
        "a = PlayerCompare(\"A\", 40, 1000)\n",
        "b = PlayerCompare(\"B\", 50, 800)\n",
        "print(a < b, a == b, a > b)     # comparison dunders\n",
        "\n",
        "x = PlayerAdd(\"X\", 20, 500)\n",
        "y = PlayerAdd(\"Y\", 25, 600)\n",
        "print(x + y)                    # arithmetic dunder\n",
        "\n",
        "g = Guild(\"The Elites\")\n",
        "g.add_member(p1)\n",
        "g.add_member(b)\n",
        "print(len(g))                   # container dunder\n",
        "print(g[0].name)                # indexing\n"
      ],
      "metadata": {
        "id": "jUjxIXNOfltI"
      },
      "execution_count": null,
      "outputs": []
    },
    {
      "cell_type": "markdown",
      "source": [
        "# DECORATOR AND PROPERTY DECORATOR"
      ],
      "metadata": {
        "id": "ZyJQXkbFgF3M"
      }
    },
    {
      "cell_type": "code",
      "source": [
        "# 🎁 Decorators & @property Decorator\n",
        "\n",
        "# --- 1. A Simple Decorator ---\n",
        "def log_function_call(func):\n",
        "    def wrapper(*args, **kwargs):\n",
        "        print(f\"Calling {func.__name__}...\")\n",
        "        result = func(*args, **kwargs)\n",
        "        print(f\"Finished {func.__name__}\")\n",
        "        return result\n",
        "    return wrapper\n",
        "\n",
        "@log_function_call\n",
        "def add(a, b):\n",
        "    return a + b\n",
        "\n",
        "print(add(5, 3))    # Decorator adds logging automatically\n",
        "\n",
        "\n",
        "# --- 2. The @property Decorator ---\n",
        "class Student:\n",
        "    def __init__(self, name, score):\n",
        "        self.name = name\n",
        "        self.score = score   # Setter runs here\n",
        "\n",
        "    @property\n",
        "    def score(self):        # Getter\n",
        "        return self._score\n",
        "\n",
        "    @score.setter\n",
        "    def score(self, value): # Setter\n",
        "        if not 0 <= value <= 100:\n",
        "            raise ValueError(\"Score must be between 0 and 100\")\n",
        "        self._score = value\n",
        "\n",
        "\n",
        "# --- Usage ---\n",
        "s = Student(\"Riya\", 90)\n",
        "print(s.score)        # Calls getter\n",
        "s.score = 95          # Calls setter\n",
        "print(s.score)\n",
        "\n",
        "try:\n",
        "    s.score = 120     # Invalid -> raises ValueError\n",
        "except ValueError as e:\n",
        "    print(e)\n"
      ],
      "metadata": {
        "id": "RpxgWet7gLlT"
      },
      "execution_count": null,
      "outputs": []
    },
    {
      "cell_type": "markdown",
      "metadata": {
        "id": "lh3PIqXEljVI"
      },
      "source": [
        "# NUMPY"
      ]
    },
    {
      "cell_type": "markdown",
      "source": [
        " **create an ndarray (N-dimensional array)** using **NumPy** 👇\n",
        "\n",
        "---\n",
        "\n",
        "### 🧩 **General Syntax:**\n",
        "\n",
        "```python\n",
        "import numpy as np\n",
        "\n",
        "array_name = np.array(object)\n",
        "```\n",
        "\n",
        "📘 **`object`** → can be a list, tuple, or nested list (for multi-dimensional arrays)\n",
        "\n",
        "---\n",
        "\n",
        "### ✅ **Examples:**\n",
        "\n",
        "#### 1️⃣ **Create a 1D array**\n",
        "\n",
        "```python\n",
        "import numpy as np\n",
        "\n",
        "arr1 = np.array([1, 2, 3, 4, 5])\n",
        "print(arr1)\n",
        "print(type(arr1))   # <class 'numpy.ndarray'>\n",
        "```\n",
        "\n",
        "---\n",
        "\n",
        "#### 2️⃣ **Create a 2D array**\n",
        "\n",
        "```python\n",
        "import numpy as np\n",
        "\n",
        "arr2 = np.array([[1, 2, 3],\n",
        "                 [4, 5, 6]])\n",
        "print(arr2)\n",
        "```\n",
        "\n",
        "---\n",
        "\n",
        "#### 3️⃣ **Create a 3D array**\n",
        "\n",
        "```python\n",
        "import numpy as np\n",
        "\n",
        "arr3 = np.array([[[1, 2], [3, 4]],\n",
        "                 [[5, 6], [7, 8]]])\n",
        "print(arr3)\n",
        "```\n",
        "\n",
        "---\n",
        "\n",
        "#### 4️⃣ **Create array with predefined values**\n",
        "\n",
        "| Function                        | Description                        | Example               |\n",
        "| ------------------------------- | ---------------------------------- | --------------------- |\n",
        "| `np.zeros(shape)`               | Array of all zeros                 | `np.zeros((2,3))`     |\n",
        "| `np.ones(shape)`                | Array of all ones                  | `np.ones((3,3))`      |\n",
        "| `np.arange(start, stop, step)`  | Array with evenly spaced values    | `np.arange(1,10,2)`   |\n",
        "| `np.linspace(start, stop, num)` | Evenly spaced values between range | `np.linspace(0,1,5)`  |\n",
        "| `np.eye(n)`                     | Identity matrix                    | `np.eye(4)`           |\n",
        "| `np.random.rand(shape)`         | Random values between 0–1          | `np.random.rand(2,3)` |\n",
        "\n",
        "---\n",
        "\n"
      ],
      "metadata": {
        "id": "U_ExLubebUs5"
      }
    },
    {
      "cell_type": "markdown",
      "metadata": {
        "id": "Gs2KZ3__lm1p"
      },
      "source": [
        " These are the methods that will be applied on the array of Numpy i.e ndarray ,beacuse numpy just works with the ndarray\n",
        "\n",
        "***\n",
        "\n",
        "### Array Creation\n",
        "\n",
        "These functions are used to create new NumPy arrays.\n",
        "\n",
        "* `np.array()`: Creates an array from a Python list or tuple[cite: 10, 11].\n",
        "* `np.zeros()`: Creates an array of a given shape filled with zeros[cite: 12].\n",
        "* `np.ones()`: Creates an array of a given shape filled with ones[cite: 13, 14].\n",
        "* `np.empty()`: Creates an uninitialized array of a given shape[cite: 15].\n",
        "* `np.eye()`: Creates a 2D identity matrix[cite: 16].\n",
        "* `np.arange()`: Creates an array with evenly spaced values within a given interval[cite: 19].\n",
        "* `np.linspace()`: Creates an array with a specified number of evenly spaced values over a specified interval[cite: 21].\n",
        "* `np.matrix()`: Creates a specialized 2D matrix object[cite: 23].\n",
        "\n",
        "***\n",
        "\n",
        "### Reshaping and Dimension Manipulation\n",
        "\n",
        "These functions and methods change the shape and dimensions of an array.\n",
        "\n",
        "* `array.reshape()`: Changes the shape of an array without changing its data[cite: 39].\n",
        "* `array.flatten()`: Returns a 1D copy of the array[cite: 45].\n",
        "* `array.ravel()`: Returns a flattened view of the array when possible[cite: 46].\n",
        "* `np.expand_dims()`: Adds a new axis to an array[cite: 48].\n",
        "* `np.squeeze()`: Removes axes of length one from an array[cite: 55].\n",
        "* `array.sort()`: Sorts an array in-place[cite: 60].\n",
        "\n",
        "***\n",
        "\n",
        "### Mathematical and Arithmetic Operations\n",
        "\n",
        "These functions perform mathematical calculations.\n",
        "\n",
        "* `np.dot()`: Performs matrix multiplication or calculates the dot product[cite: 97].\n",
        "* **Element-wise Trigonometric**: `np.sin()`, `np.cos()`, `np.tan()`[cite: 105].\n",
        "* **Element-wise Exponential and Logarithmic**: `np.exp()`, `np.log()`, `np.log10()`[cite: 106].\n",
        "* **Element-wise Power and Roots**: `np.power()`, `np.sqrt()`[cite: 108, 109].\n",
        "* **Other Element-wise**: `np.mod()` [cite: 110, 123], `np.remainder()` [cite: 110], `np.abs()`[cite: 111].\n",
        "* **Operator Equivalents**: `np.add()` [cite: 121], `np.subtract()` [cite: 121], `np.multiply()` [cite: 123], `np.divide()`[cite: 123].\n",
        "\n",
        "***\n",
        "\n",
        "### Aggregate Functions\n",
        "\n",
        "These functions compute a summary statistic from an array's elements.\n",
        "\n",
        "* `np.mean()`: Calculates the mean[cite: 113].\n",
        "* `np.std()`: Calculates the standard deviation[cite: 114].\n",
        "* `np.var()`: Calculates the variance[cite: 114].\n",
        "* `np.sum()`: Calculates the sum of elements[cite: 115].\n",
        "* `np.prod()`: Calculates the product of elements[cite: 115].\n",
        "* `np.min()`: Finds the minimum value[cite: 116].\n",
        "* `np.max()`: Finds the maximum value[cite: 116].\n",
        "\n",
        "***\n",
        "\n",
        "### Random Number Generation\n",
        "\n",
        "These functions are part of the `np.random` module and create arrays with random numbers.\n",
        "\n",
        "* `np.random.random_sample()`: Returns random floats in the interval [0.0, 1.0)[cite: 126].\n",
        "* `np.random.rand()`: Creates an array of a given shape with random samples from a uniform distribution over [0, 1)[cite: 129].\n",
        "* `np.random.randn()`: Returns samples from the standard normal distribution[cite: 132].\n",
        "* `np.random.randint()`: Returns an array of random integers from a specified range[cite: 134].\n",
        "\n",
        "***\n",
        "\n",
        "### Array Manipulation\n",
        "\n",
        "These functions are used for repeating, tiling, and shifting array elements.\n",
        "\n",
        "* `np.repeat()`: Repeats elements of an array[cite: 139].\n",
        "* `np.tile()`: Constructs an array by repeating a given array a number of times[cite: 148].\n",
        "* `np.roll()`: Rotates (shifts) the elements in an array[cite: 150].\n",
        "\n",
        "***\n",
        "\n",
        "### Vectorized String Operations\n",
        "\n",
        "These functions are from the `np.char` module and perform element-wise string operations.\n",
        "\n",
        "* `np.char.upper()`: Converts all strings in an array to uppercase[cite: 164].\n",
        "* `np.char.capitalize()`: Capitalizes the first letter of each string in an array[cite: 166].\n",
        "* `np.char.lower()`: Converts all strings in an array to lowercase[cite: 167].\n",
        "* `np.char.add()`: Performs element-wise string concatenation[cite: 167]."
      ]
    },
    {
      "cell_type": "markdown",
      "metadata": {
        "id": "nc6MnoR7mOhu"
      },
      "source": [
        "# PANDAS"
      ]
    },
    {
      "cell_type": "markdown",
      "source": [
        "\n",
        "\n",
        "---\n",
        "\n",
        "## 🧩 **1️⃣ Creating a Series in pandas**\n",
        "\n",
        "A **Series** is a **one-dimensional labeled array** — it can hold any data type (int, float, string, etc.).\n",
        "\n",
        "---\n",
        "\n",
        "### ✅ **General Syntax:**\n",
        "\n",
        "```python\n",
        "import pandas as pd\n",
        "\n",
        "series_name = pd.Series(data, index=index)\n",
        "```\n",
        "\n",
        "| Parameter | Description                                             |\n",
        "| --------- | ------------------------------------------------------- |\n",
        "| `data`    | Can be a list, NumPy array, dictionary, or scalar value |\n",
        "| `index`   | Labels for each element (optional)                      |\n",
        "\n",
        "---\n",
        "\n",
        "### 🧠 **Examples:**\n",
        "\n",
        "#### ➤ From a Python List\n",
        "\n",
        "```python\n",
        "import pandas as pd\n",
        "\n",
        "s1 = pd.Series([10, 20, 30, 40])\n",
        "print(s1)\n",
        "```\n",
        "\n",
        "#### ➤ From a NumPy Array\n",
        "\n",
        "```python\n",
        "import numpy as np\n",
        "import pandas as pd\n",
        "\n",
        "arr = np.array([5, 10, 15, 20])\n",
        "s2 = pd.Series(arr)\n",
        "print(s2)\n",
        "```\n",
        "\n",
        "#### ➤ From a Dictionary\n",
        "\n",
        "```python\n",
        "import pandas as pd\n",
        "\n",
        "s3 = pd.Series({'a': 100, 'b': 200, 'c': 300})\n",
        "print(s3)\n",
        "```\n",
        "\n",
        "#### ➤ With Custom Index\n",
        "\n",
        "```python\n",
        "import pandas as pd\n",
        "\n",
        "s4 = pd.Series([1, 2, 3, 4], index=['A', 'B', 'C', 'D'])\n",
        "print(s4)\n",
        "```\n",
        "\n",
        "---\n",
        "\n",
        "## 🧩 **2️⃣ Creating a DataFrame in pandas**\n",
        "\n",
        "A **DataFrame** is a **2-dimensional labeled data structure** — like a table with rows and columns.\n",
        "\n",
        "---\n",
        "\n",
        "### ✅ **General Syntax:**\n",
        "\n",
        "```python\n",
        "import pandas as pd\n",
        "\n",
        "df = pd.DataFrame(data, index=index, columns=columns)\n",
        "```\n",
        "\n",
        "| Parameter | Description                                                 |\n",
        "| --------- | ----------------------------------------------------------- |\n",
        "| `data`    | Can be a dict, list of lists, list of dicts, or NumPy array |\n",
        "| `index`   | Row labels (optional)                                       |\n",
        "| `columns` | Column labels (optional)                                    |\n",
        "\n",
        "---\n",
        "\n",
        "### 🧠 **Examples:**\n",
        "\n",
        "#### ➤ From a Dictionary of Lists\n",
        "\n",
        "```python\n",
        "import pandas as pd\n",
        "\n",
        "data = {\n",
        "    'Name': ['Alice', 'Bob', 'Charlie'],\n",
        "    'Age': [25, 30, 35],\n",
        "    'City': ['Delhi', 'Mumbai', 'Pune']\n",
        "}\n",
        "\n",
        "df1 = pd.DataFrame(data)\n",
        "print(df1)\n",
        "```\n",
        "\n",
        "#### ➤ From a List of Lists\n",
        "\n",
        "```python\n",
        "import pandas as pd\n",
        "\n",
        "data = [[1, 'Apple'], [2, 'Banana'], [3, 'Cherry']]\n",
        "df2 = pd.DataFrame(data, columns=['ID', 'Fruit'])\n",
        "print(df2)\n",
        "```\n",
        "\n",
        "#### ➤ From a Dictionary of Series\n",
        "\n",
        "```python\n",
        "import pandas as pd\n",
        "\n",
        "data = {\n",
        "    'Math': pd.Series([85, 90, 88], index=['Tom', 'Jerry', 'Mickey']),\n",
        "    'Science': pd.Series([80, 78, 92], index=['Tom', 'Jerry', 'Mickey'])\n",
        "}\n",
        "\n",
        "df3 = pd.DataFrame(data)\n",
        "print(df3)\n",
        "```\n",
        "\n",
        "#### ➤ From a NumPy Array\n",
        "\n",
        "```python\n",
        "import numpy as np\n",
        "import pandas as pd\n",
        "\n",
        "arr = np.array([[10, 20, 30], [40, 50, 60]])\n",
        "df4 = pd.DataFrame(arr, columns=['A', 'B', 'C'])\n",
        "print(df4)\n",
        "```\n",
        "\n",
        "---\n",
        "\n",
        "### 📋 **Quick Summary Table**\n",
        "\n",
        "| Type      | Function         | Dimension | Example                       |\n",
        "| --------- | ---------------- | --------- | ----------------------------- |\n",
        "| Series    | `pd.Series()`    | 1D        | `pd.Series([1,2,3])`          |\n",
        "| DataFrame | `pd.DataFrame()` | 2D        | `pd.DataFrame([[1,2],[3,4]])` |\n",
        "\n",
        "---\n"
      ],
      "metadata": {
        "id": "jBnROYYaa0aP"
      }
    },
    {
      "cell_type": "markdown",
      "metadata": {
        "id": "RKqWAP2NmQr1"
      },
      "source": [
        " These are the methods that will be applied on the array of Numpy i.e ndarray ,beacuse numpy just works with the ndarray\n",
        "\n",
        "### **Basics and Setup**\n",
        "\n",
        "* `type()`: Checks the type of an object, like a DataFrame or Series[cite: 12, 159].\n",
        "* `pd.set_option()`: Sets display options for pandas, such as the maximum number of rows or columns to show[cite: 17, 18, 20].\n",
        "* `requests.get()`: Sends an HTTP GET request to a URL to fetch data from a web API[cite: 49].\n",
        "* `data.json()`: Converts a JSON response from a web request into a Python dictionary or list[cite: 49].\n",
        "* `len()`: A standard Python function used to get the count of items, such as the number of rows that meet a certain condition[cite: 79, 84, 87, 95, 98, 104].\n",
        "* `list()`: A standard Python function used to convert an object (like a pandas Series or DataFrame columns) into a Python list[cite: 109, 118].\n",
        "* `np.random.choice()`: Selects a random sample from a given 1-D array[cite: 426].\n",
        "\n",
        "***\n",
        "\n",
        "### **Reading and Writing Data**\n",
        "\n",
        "* `pd.read_csv()`: Reads data from a CSV file or URL into a DataFrame[cite: 25, 27, 33, 34, 38].\n",
        "* `pd.read_excel()`: Reads data from an Excel file into a DataFrame[cite: 35].\n",
        "* `pd.read_html()`: Reads all HTML tables from a webpage into a list of DataFrames[cite: 39].\n",
        "* `pd.read_json()`: Reads data from a JSON file or string into a DataFrame[cite: 41].\n",
        "* `df.to_csv()`: Saves a DataFrame to a CSV file[cite: 44, 156].\n",
        "\n",
        "***\n",
        "\n",
        "### **Creating Data Structures**\n",
        "\n",
        "* `pd.DataFrame()`: Creates a new DataFrame from various inputs like dictionaries, lists, or Series[cite: 52, 183, 186, 254, 265, 291, 316, 358, 366, 411].\n",
        "* `pd.Series()`: Creates a new Series (a single column) from a list or array, optionally with a custom index[cite: 158, 166, 167, 174].\n",
        "* `pd.Categorical()`: Converts a column into a categorical data type, which is useful for memory optimization and analysis[cite: 132].\n",
        "\n",
        "***\n",
        "\n",
        "### **Inspecting and Summarizing Data**\n",
        "\n",
        "* `df.head()`: Displays the first few rows of a DataFrame (default is 5)[cite: 113, 147].\n",
        "* `df.tail()`: Displays the last few rows of a DataFrame (default is 5)[cite: 114, 148].\n",
        "* `df.sample()`: Returns a random sample of rows from a DataFrame[cite: 115, 154].\n",
        "* `df.info()`: Provides a concise summary of a DataFrame, including data types and non-null values[cite: 119, 146, 216].\n",
        "* `df.describe()`: Generates descriptive statistics for the numerical or object columns in a DataFrame[cite: 215, 396, 399, 401, 404, 408].\n",
        "* `df['col'].unique()`: Returns an array of the unique values in a Series/column[cite: 133].\n",
        "* `df['col'].nunique()`: Returns the number of unique values in a Series/column[cite: 134].\n",
        "* `df['col'].value_counts()`: Returns a Series containing counts of unique values[cite: 102, 106, 135].\n",
        "* `df.isnull()`: Detects missing values, returning a boolean DataFrame[cite: 223].\n",
        "* `df.isnull().sum()`: Counts the number of missing values in each column[cite: 223].\n",
        "\n",
        "***\n",
        "\n",
        "### **Selecting and Filtering Data**\n",
        "\n",
        "* `df.loc[]`: Accesses a group of rows and columns by **label(s)** or a boolean array[cite: 67, 68, 207].\n",
        "* `df.iloc[]`: Accesses a group of rows and columns by **integer position(s)**[cite: 66, 69].\n",
        "\n",
        "***\n",
        "\n",
        "### **Data Cleaning and Manipulation**\n",
        "\n",
        "* `df.drop()`: Removes specified rows or columns from a DataFrame[cite: 198, 199].\n",
        "* `df.dropna()`: Removes rows or columns with missing values (NaN)[cite: 225, 227, 231, 420].\n",
        "* `df.fillna()`: Fills missing (NaN) values with a specified value[cite: 233, 235].\n",
        "* `df.set_index()`: Sets a column as the DataFrame index[cite: 205].\n",
        "* `df.reset_index()`: Resets the DataFrame index to the default integer index[cite: 155, 201, 209, 353].\n",
        "* `df['col'].astype()`: Casts a pandas object to a specified data type, like `int` or `object`[cite: 424].\n",
        "\n",
        "***\n",
        "\n",
        "### **Merging and Concatenating**\n",
        "\n",
        "* `pd.concat()`: Concatenates (stacks) pandas objects along a particular axis (vertically or horizontally)[cite: 244, 246].\n",
        "* `pd.merge()`: Merges DataFrame or named Series objects with a database-style join operation[cite: 274, 275, 277, 280, 282, 284, 288].\n",
        "* `df.join()`: Joins columns of another DataFrame, primarily based on the index[cite: 335, 340, 343, 345, 348].\n",
        "\n",
        "***\n",
        "\n",
        "### **Applying Functions and String Methods**\n",
        "\n",
        "* `df['col'].apply()`: Applies a function along an axis of the DataFrame[cite: 361, 364].\n",
        "* `.str.lower()`: Converts all characters in a string Series to lowercase[cite: 368].\n",
        "* `.str.upper()`: Converts all characters in a string Series to uppercase[cite: 370].\n",
        "* `.startswith()`: Tests if the start of each string element matches a pattern[cite: 372].\n",
        "* `x.split()`: Splits a string into a list of words, used within a lambda function[cite: 364].\n",
        "\n",
        "***\n",
        "\n",
        "### **Statistical and Mathematical Operations**\n",
        "\n",
        "* `df['col'].mean()`: Calculates the mean (average) of a Series[cite: 81, 375, 380].\n",
        "* `df['col'].median()`: Calculates the median of a Series[cite: 381].\n",
        "* `df['col'].mode()`: Finds the mode(s) of a Series[cite: 382].\n",
        "* `df['col'].min()`: Finds the minimum value in a Series[cite: 383].\n",
        "* `df['col'].max()`: Finds the maximum value in a Series[cite: 388].\n",
        "* `df['col'].sum()`: Calculates the sum of values in a Series[cite: 390].\n",
        "* `df['col'].std()`: Calculates the standard deviation of a Series[cite: 392].\n",
        "* `df['col'].var()`: Calculates the variance of a Series[cite: 394].\n",
        "* `df['col'].cumsum()`: Calculates the cumulative sum of a Series[cite: 431].\n",
        "\n",
        "***\n",
        "\n",
        "### **Grouping and Window Functions**\n",
        "\n",
        "* `df.groupby()`: Groups a DataFrame using a mapper or by a Series of columns[cite: 427].\n",
        "* `df.rolling()`: Provides rolling window calculations[cite: 413, 414, 415, 416, 418, 420].\n",
        "    * `.rolling().mean()`: Computes the rolling mean[cite: 413, 414, 420].\n",
        "    * `.rolling().sum()`: Computes the rolling sum[cite: 415, 427].\n",
        "    * `.rolling().min()`: Computes the rolling minimum[cite: 416].\n",
        "    * `.rolling().max()`: Computes the rolling maximum[cite: 418]."
      ]
    },
    {
      "cell_type": "markdown",
      "metadata": {
        "id": "ukrejkV_mfvf"
      },
      "source": [
        "# SEABORN\n"
      ]
    },
    {
      "cell_type": "code",
      "source": [
        "Here’s the general form (or common structure) to create any plot in Seaborn 👇\n",
        "\n",
        "🧩 General Syntax of Seaborn Plot:\n",
        "sns.function_name(x='column_name',\n",
        "                  y='column_name',\n",
        "                  data=dataframe,\n",
        "                  hue='category_column',\n",
        "                  style='style_column',\n",
        "                  size='size_column',\n",
        "                  palette='color_palette',\n",
        "                  kind='plot_type')\n",
        "plt.show()\n",
        "\n",
        "⚙️ Explanation of Parameters:\n",
        "Parameter\tMeaning\n",
        "function_name\tThe Seaborn plot function you want to use (e.g. scatterplot, barplot, boxplot, etc.)\n",
        "\n",
        "#x\tColumn name for the X-axis\n",
        "\n",
        "#y\tColumn name for the Y-axis\n",
        "\n",
        "#data\tThe dataset (usually a pandas DataFrame)\n",
        "\n",
        "#hue\tAdds color separation based on a categorical variable\n",
        "\n",
        "#style\tChanges the marker style (for scatter/line plots)\n",
        "\n",
        "#size\tChanges marker size (for scatter plots)\n",
        "\n",
        "#palette\tChanges color theme (e.g. \"deep\", \"pastel\", \"dark\", etc.)\n",
        "\n",
        "#kind\tUsed in multi-plot functions like catplot() to specify the type of plot ('bar', 'violin', etc.)\n",
        "\n",
        "✅ Example:\n",
        "import seaborn as sns\n",
        "import matplotlib.pyplot as plt\n",
        "\n",
        "# Load example dataset\n",
        "data = sns.load_dataset(\"tips\")\n",
        "\n",
        "# Create a plot\n",
        "sns.scatterplot(x=\"total_bill\", y=\"tip\", data=data, hue=\"sex\", style=\"time\", palette=\"cool\")\n",
        "plt.show()"
      ],
      "metadata": {
        "id": "HyaH1vkaYAU-"
      },
      "execution_count": null,
      "outputs": []
    },
    {
      "cell_type": "markdown",
      "source": [
        "No, not every plot in Seaborn requires you to specify both `x` and `y` parameters. The need for `x` and `y` depends entirely on the **type of plot** you're creating and the **format of your data**.\n",
        "\n",
        "Here's a breakdown of the different scenarios. 📊\n",
        "\n",
        "-----\n",
        "\n",
        "### \\#\\# Plots Using a Single Variable (`x` or `y`)\n",
        "\n",
        "These plots are called **univariate** plots because they visualize the distribution of a single variable. For these, you only need to provide either the `x` or the `y` parameter, but not both.\n",
        "\n",
        "Common examples include:\n",
        "\n",
        "  * `histplot` (histogram)\n",
        "  * `kdeplot` (kernel density estimate)\n",
        "  * `ecdfplot` (empirical cumulative distribution function)\n",
        "  * `boxplot` (when plotting a single distribution)\n",
        "\n",
        "**Example:**\n",
        "Here, we only specify `x` to see the distribution of the 'flipper\\_length\\_mm' column.\n",
        "\n",
        "```python\n",
        "import seaborn as sns\n",
        "import matplotlib.pyplot as plt\n",
        "\n",
        "# Load an example dataset\n",
        "penguins = sns.load_dataset(\"penguins\")\n",
        "\n",
        "# Create a histogram using only the 'x' parameter\n",
        "sns.histplot(data=penguins, x=\"flipper_length_mm\")\n",
        "plt.show()\n",
        "```\n",
        "\n",
        "-----\n",
        "\n",
        "### \\#\\# Plots Using Two Variables (`x` and `y`)\n",
        "\n",
        "These are **bivariate** plots, designed to show the relationship between two different variables. This is the most common scenario where you **must provide both `x` and `y`**.\n",
        "\n",
        "Common examples include:\n",
        "\n",
        "  * `scatterplot`\n",
        "  * `lineplot`\n",
        "  * `barplot`\n",
        "  * `violinplot`\n",
        "\n",
        "**Example:**\n",
        "Here, we use `x` and `y` to see the relationship between bill length and bill depth.\n",
        "\n",
        "```python\n",
        "import seaborn as sns\n",
        "import matplotlib.pyplot as plt\n",
        "\n",
        "penguins = sns.load_dataset(\"penguins\")\n",
        "\n",
        "# Create a scatterplot using both 'x' and 'y'\n",
        "sns.scatterplot(data=penguins, x=\"bill_length_mm\", y=\"bill_depth_mm\")\n",
        "plt.show()\n",
        "```\n",
        "\n",
        "-----\n",
        "\n",
        "### \\#\\# Plots Using Neither `x` nor `y`\n",
        "\n",
        "Some plots are designed to work with **wide-form data** (like a matrix or a whole DataFrame) where the columns and rows themselves have meaning. For these plots, you often pass the entire dataset to the `data` parameter and don't specify `x` or `y` at all.\n",
        "\n",
        "Common examples include:\n",
        "\n",
        "  * `heatmap`\n",
        "  * `clustermap`\n",
        "  * `pairplot`\n",
        "\n",
        "**Example:**\n",
        "A `pairplot` automatically creates scatterplots for every numerical column pair in the DataFrame without needing `x` and `y` to be defined manually.\n",
        "\n",
        "```python\n",
        "import seaborn as sns\n",
        "import matplotlib.pyplot as plt\n",
        "\n",
        "penguins = sns.load_dataset(\"penguins\")\n",
        "\n",
        "# Create a pairplot from the entire DataFrame\n",
        "# No x or y is needed!\n",
        "sns.pairplot(penguins)\n",
        "plt.show()\n",
        "```\n"
      ],
      "metadata": {
        "id": "oFY1yiRYZG6x"
      }
    },
    {
      "cell_type": "markdown",
      "metadata": {
        "id": "wyVfKhHGncus"
      },
      "source": [
        "Of course. Here is a comprehensive guide to every plot mentioned in the provided Seaborn file, including the steps to create them and all the associated knowledge, tips, and tricks.\n",
        "\n",
        "### **Relational Plots (Scatter and Line)**\n",
        "\n",
        "These plots are used to understand the relationship between two variables. The main function for this is `sns.relplot()`, which is a figure-level function that can create grids of subplots (facets).\n",
        "\n",
        "---\n",
        "\n",
        "#### **Scatter Plots** 🎲\n",
        "\n",
        "Scatter plots are used to visualize the relationship between two **numeric variables**[cite: 617]. Each point on the plot represents an individual observation[cite: 619].\n",
        "\n",
        "**How to Create a Scatter Plot**\n",
        "* The primary function is `sns.relplot(x=\"col1\", y=\"col2\", data=dataframe)`[cite: 618].\n",
        "* By default, `sns.relplot()` creates a scatter plot, as its default setting is `kind=\"scatter\"`[cite: 618, 621].\n",
        "* For plotting on a specific Matplotlib axes, you can use the axes-level function `sns.scatterplot()`[cite: 626].\n",
        "\n",
        "**Knowledge, Tips, and Tricks**\n",
        "* **Add Dimensions with Semantics**: You can encode additional categorical variables using visual properties:\n",
        "    * `hue`: This parameter colors the points based on a category, making it easy to distinguish groups[cite: 631].\n",
        "    * `style`: This parameter changes the marker shape for each category, which is useful for accessibility (e.g., grayscale printing)[cite: 633, 635].\n",
        "* **Faceting (Creating Subplots)**: A powerful feature of `relplot` is creating a grid of plots separated by a category[cite: 637].\n",
        "    * Use `col=\"category_name\"` to create separate plots in columns for each category level[cite: 640].\n",
        "    * You can also use `row` to create rows of plots or use both `col` and `row` for a full grid[cite: 643].\n",
        "    * If you have many categories in a column, `col_wrap=n` will wrap the plots into multiple rows after `n` columns, keeping the layout clean[cite: 644].\n",
        "\n",
        "---\n",
        "\n",
        "#### **Line Plots** 📈\n",
        "\n",
        "Line plots are ideal for showing trends over a **continuous variable**, most commonly time[cite: 646].\n",
        "\n",
        "**How to Create a Line Plot**\n",
        "* Use `sns.relplot()` with the setting `kind=\"line\"`[cite: 647].\n",
        "* The corresponding axes-level function is `sns.lineplot()`[cite: 647].\n",
        "\n",
        "**Knowledge, Tips, and Tricks**\n",
        "* **Automatic Aggregation**: When multiple observations exist for the same x-value, Seaborn automatically aggregates them. By default, it plots the **mean** and a shaded **95% confidence interval** (CI) band[cite: 648, 661].\n",
        "* **Confidence Interval Control**: You can change or disable the CI band with the `ci` parameter:\n",
        "    * `ci=\"sd\"` shows the standard deviation instead[cite: 663].\n",
        "    * `ci=None` or `ci=0` completely hides the band[cite: 663].\n",
        "* **Estimator Control**: The aggregation function can be changed from the default mean using the `estimator` parameter (e.g., `estimator=np.median`)[cite: 664]. Using `estimator=None` will plot all observations without any aggregation[cite: 664].\n",
        "* **Multiple Lines**: Just like with scatter plots, you can use `hue` and `style` to draw separate lines for different categories on the same plot[cite: 671]. A legend is created automatically[cite: 684].\n",
        "* **Markers and Dashes**: You can add markers to your lines with `markers=True` and control line dashing with `dashes=False` (which makes all lines solid, allowing `style` to control markers instead of line patterns)[cite: 678].\n",
        "\n",
        "***\n",
        "\n",
        "### **Categorical Plots**\n",
        "\n",
        "These plots are designed to visualize a numeric variable across one or more categorical variables, showing distributions or aggregate values[cite: 687, 688]. The main figure-level function is `sns.catplot()`, where you can specify the plot type using the `kind` parameter.\n",
        "\n",
        "---\n",
        "\n",
        "#### **Categorical Scatter Plots**\n",
        "\n",
        "These plots show individual data points for each category.\n",
        "\n",
        "* **Strip Plot (`kind=\"strip\"`)**: This is the default categorical plot[cite: 699]. It displays individual data points as a scatter plot, with a small amount of random \"jitter\" added so points don't overlap perfectly[cite: 689, 700]. You can add `hue` for a second categorical grouping[cite: 703].\n",
        "* **Swarm Plot (`kind=\"swarm\"`)**: This plot is similar to a strip plot but uses an intelligent algorithm to place points so they are tightly packed but **never overlap**[cite: 705]. This gives a clearer view of the distribution[cite: 710].\n",
        "    * **Tip**: Swarm plots are best for smaller datasets, as they can become crowded and take a long time to render with many points[cite: 711, 712].\n",
        "\n",
        "---\n",
        "\n",
        "#### **Categorical Distribution Plots**\n",
        "\n",
        "These plots provide a summary of the distribution of data for each category.\n",
        "\n",
        "* **Box Plot (`kind=\"box\"`)**: A classic plot that summarizes a distribution by showing the **median**, the **interquartile range** (IQR, the box), and **outliers**[cite: 691, 714]. It's great for quickly comparing the central tendency and spread of different groups[cite: 719].\n",
        "    * **Tip**: Use `hue` to create adjacent boxes for sub-categories[cite: 720]. For long category names, use `orient=\"h\"` and swap your x and y variables for a horizontal plot[cite: 722]. You can also use the standalone `sns.boxplot()` function[cite: 724].\n",
        "* **Violin Plot (`kind=\"violin\"`)**: This plot combines a box plot with a **Kernel Density Estimate (KDE)**, creating a \"violin\" shape that shows the full distribution of the data[cite: 692, 727]. It gives a richer view of the data's shape than a box plot alone[cite: 732].\n",
        "    * **Tip**: When using `hue`, you can add `split=True` to create a \"split violin\" where each half represents one of the hue categories, allowing for a direct comparison[cite: 734].\n",
        "* **Boxen Plot (`kind=\"boxen\"`)**: An enhanced version of the box plot designed for **larger datasets**[cite: 693, 738]. It shows more quantiles beyond the standard quartiles, providing a more detailed look at the distribution's shape, especially in the tails[cite: 739, 742].\n",
        "\n",
        "---\n",
        "\n",
        "#### **Categorical Estimate Plots**\n",
        "\n",
        "These plots show an aggregate summary statistic for each category.\n",
        "\n",
        "* **Bar Plot (`kind=\"bar\"`)**: This plot shows an aggregate value for each category, which by default is the **mean**, indicated by the bar's height[cite: 694, 745]. The small black line on top of the bar represents the **95% confidence interval** of the mean[cite: 750]. The standalone function is `sns.barplot()`[cite: 747].\n",
        "    * **Tip**: Use the `estimator` parameter to change the aggregation function (e.g., `estimator=np.median`)[cite: 753].\n",
        "* **Count Plot (`kind=\"count\"`)**: This is a special type of bar plot that simply shows the **number of observations** in each category[cite: 696, 758]. It is useful for understanding the frequency distribution of categorical data[cite: 764]. The standalone function is `sns.countplot()`[cite: 759].\n",
        "    * **Tip**: You can use `hue` to get stacked or grouped counts by a second categorical variable[cite: 766].\n",
        "\n",
        "***\n",
        "\n",
        "### **Multi-Variable Plots and Grids**\n",
        "\n",
        "These higher-level functions create composite plots to analyze relationships between multiple variables at once[cite: 768].\n",
        "\n",
        "---\n",
        "\n",
        "#### **Joint Plot**\n",
        "\n",
        "A joint plot (`sns.jointplot()`) shows both the bivariate (relationship between two variables) and univariate (individual distribution of each variable) data at the same time[cite: 770]. The central plot shows the relationship, while plots on the top and right margins show the distributions[cite: 770].\n",
        "\n",
        "**Knowledge, Tips, and Tricks**\n",
        "* The `kind` parameter changes the central plot:\n",
        "    * **Default (`scatter`)**: A standard scatter plot with histograms on the margins[cite: 772].\n",
        "    * `kind=\"reg\"`: Adds a **regression line** and confidence interval to the scatter plot, great for seeing linear trends[cite: 776].\n",
        "    * `kind=\"hex\"`: A **hexbin plot** that is excellent for dense datasets where a normal scatter plot would suffer from overplotting. Darker hexagons indicate more data points[cite: 777, 782].\n",
        "    * `kind=\"kde\"`: A **2D Kernel Density Estimate** that shows the joint distribution with contour lines, indicating where data points are most concentrated[cite: 779].\n",
        "\n",
        "---\n",
        "\n",
        "#### **Pair Plot**\n",
        "\n",
        "A pair plot (`sns.pairplot()`) is a fantastic tool for exploratory data analysis that creates a **matrix of plots**, showing every pairwise relationship between the numeric variables in a dataset[cite: 788, 807].\n",
        "\n",
        "**Knowledge, Tips, and Tricks**\n",
        "* **Structure**: The off-diagonal plots are scatter plots showing the relationship between two variables, while the diagonal plots show the univariate distribution (histogram or KDE) of each individual variable[cite: 789, 793].\n",
        "* **Hue**: The `hue` argument is extremely powerful here, as it will color the points in every single subplot by a chosen categorical variable, allowing you to see how relationships differ across groups[cite: 794].\n",
        "* **Customization**:\n",
        "    * You can change the diagonal plot type with `diag_kind=\"kde\"`[cite: 801].\n",
        "    * If you don't want to plot all numeric columns, select specific ones with the `vars` parameter[cite: 803].\n",
        "    * Control the color scheme with the `palette` argument[cite: 803].\n",
        "    * **Warning**: Pair plots can become very large and slow if your dataset has many numeric variables[cite: 808].\n",
        "\n",
        "---\n",
        "\n",
        "#### **Regression Plot (Linear Model Plot)**\n",
        "\n",
        "A linear model plot (`sns.lmplot()`) is designed to explicitly visualize a **linear relationship** between two variables by fitting and plotting an ordinary least-squares regression line along with the scatter plot data[cite: 810, 811].\n",
        "\n",
        "**Knowledge, Tips, and Tricks**\n",
        "* **Output**: The plot includes the scatter of individual data points, a best-fit regression line, and a shaded 95% confidence interval for that line[cite: 815].\n",
        "* **Hue and Faceting**: Like other figure-level functions, you can use `hue` to fit and draw separate regression lines for different categories in the same plot[cite: 820]. You can also use `col` and `row` to create a grid of plots for different categories[cite: 823].\n",
        "* **Sizing**: Since `lmplot` is a figure-level function, you control its size with the `height` and `aspect` (width-to-height ratio) parameters [cite: 824-826].\n",
        "\n",
        "***\n",
        "\n",
        "### **Heatmaps**\n",
        "\n",
        "A heatmap (`sns.heatmap()`) is used to visualize **matrix-like data**, where individual values are represented by colors[cite: 830]. A very common use case is plotting a **correlation matrix**[cite: 830].\n",
        "\n",
        "**How to Create a Heatmap**\n",
        "1.  **Compute the Matrix**: First, you typically need to compute a matrix, such as the correlation matrix of a DataFrame (e.g., `corr = tips.corr()`)[cite: 832, 833].\n",
        "2.  **Plot the Matrix**: Pass the computed matrix to `sns.heatmap(corr)`[cite: 835].\n",
        "\n",
        "**Knowledge, Tips, and Tricks**\n",
        "* `annot=True`: This is a key parameter that writes the numerical value of each cell directly onto the heatmap, making it much easier to read[cite: 836].\n",
        "* `cmap`: This sets the color map. A diverging palette like `\"coolwarm\"` is excellent for correlation matrices, where positive and negative values have distinct colors[cite: 836].\n",
        "* `vmin`, `vmax`, `center`: These parameters can be used to fix the data range for the color map and center it on a specific value (like 0 for correlations)[cite: 845].\n",
        "\n",
        "***\n",
        "\n",
        "### **General Customizations**\n",
        "\n",
        "Since Seaborn is built on Matplotlib, you have extensive control over the final appearance of your plots[cite: 849].\n",
        "\n",
        "* **Themes and Styles**: Set the overall aesthetic for all your plots at the beginning of your script.\n",
        "    * Use `sns.set_style()` to control the background. Styles include `\"white\"`, `\"dark\"`, `\"whitegrid\"`, `\"darkgrid\"`, and `\"ticks\"`[cite: 857]. For example, `sns.set_style(\"whitegrid\")` adds a grid to the background of all subsequent plots[cite: 858].\n",
        "* **Color Palettes**: Use the `palette` argument in most plotting functions to control the color scheme (e.g., `palette=\"coolwarm\"`, `palette=\"Set2\"`)[cite: 851].\n",
        "* **Labels, Titles, and Sizing**:\n",
        "    * Use standard Matplotlib functions like `plt.title()`, `plt.xlabel()`, and `plt.ylabel()` after creating your plot to add annotations[cite: 859, 860].\n",
        "    * For axes-level plots, use `plt.figure(figsize=(width, height))` before plotting to set the size[cite: 863]. For figure-level functions, use the `height` and `aspect` parameters[cite: 862].\n",
        "* **Saving Plots**: To save your final visualization to a file, use Matplotlib's `plt.savefig(\"filename.png\")` function before you call `plt.show()`[cite: 867]."
      ]
    },
    {
      "cell_type": "markdown",
      "metadata": {
        "id": "NttWqlvJn3M8"
      },
      "source": [
        "# Unique Plot Types"
      ]
    },
    {
      "cell_type": "markdown",
      "metadata": {
        "id": "6aGRa6LLnekV"
      },
      "source": [
        "* **Line Plot**: Shows trends by connecting data points.\n",
        "* **Scatter Plot**: Displays the relationship between two numeric variables as individual points.\n",
        "* **Bar Plot**: Compares values across different categories using vertical or horizontal bars.\n",
        "* **Histogram**: Visualizes the distribution of a single numeric variable by grouping data into bins.\n",
        "* **Pie Chart**: Shows the proportion of categories as slices of a whole.\n",
        "* **Area Plot**: A line plot where the area underneath is filled in, often stacked to show contributions to a total.\n",
        "* **3D Scatter Plot**: Visualizes the relationship between three numeric variables.\n",
        "* **Strip Plot**: A categorical scatter plot with jitter to show the distribution of points.\n",
        "* **Swarm Plot**: A categorical scatter plot where points are adjusted to not overlap.\n",
        "* **Box Plot**: A statistical summary showing the median, quartiles, and outliers for different categories.\n",
        "* **Violin Plot**: Combines a box plot with a density plot to show the full distribution shape.\n",
        "* **Boxen Plot**: An enhanced box plot for large datasets that shows more quantiles.\n",
        "* **Count Plot**: A special bar plot that shows the number of observations in each category.\n",
        "* **Joint Plot**: A composite plot showing both the relationship between two variables and their individual distributions.\n",
        "* **Pair Plot**: A matrix of plots showing every pairwise relationship in a dataset.\n",
        "* **Regression Plot**: A scatter plot with a fitted linear regression line and confidence interval.\n",
        "* **Heatmap**: A visualization of matrix data where values are represented by colors."
      ]
    }
  ],
  "metadata": {
    "colab": {
      "provenance": [],
      "include_colab_link": true
    },
    "kernelspec": {
      "display_name": "Python 3",
      "name": "python3"
    },
    "language_info": {
      "name": "python"
    }
  },
  "nbformat": 4,
  "nbformat_minor": 0
}