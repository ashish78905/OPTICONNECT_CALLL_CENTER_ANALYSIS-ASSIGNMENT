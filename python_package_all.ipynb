{
  "nbformat": 4,
  "nbformat_minor": 0,
  "metadata": {
    "colab": {
      "provenance": [],
      "include_colab_link": true
    },
    "kernelspec": {
      "name": "python3",
      "display_name": "Python 3"
    },
    "language_info": {
      "name": "python"
    }
  },
  "cells": [
    {
      "cell_type": "markdown",
      "metadata": {
        "id": "view-in-github",
        "colab_type": "text"
      },
      "source": [
        "<a href=\"https://colab.research.google.com/github/ashish78905/OPTICONNECT_CALLL_CENTER_ANALYSIS-ASSIGNMENT/blob/main/python_package_all.ipynb\" target=\"_parent\"><img src=\"https://colab.research.google.com/assets/colab-badge.svg\" alt=\"Open In Colab\"/></a>"
      ]
    },
    {
      "cell_type": "markdown",
      "source": [
        "# Fundamentals"
      ],
      "metadata": {
        "id": "qkloi1EnXl4_"
      }
    },
    {
      "cell_type": "code",
      "source": [
        "# ==============================================================================\n",
        "# Python Fundamentals: Keywords, Identifiers, Variables, and Predefined Objects\n",
        "# ==============================================================================\n",
        "\n",
        "# --- 1. Keywords ---\n",
        "# Keywords are the reserved words in Python. They have special meanings and\n",
        "# we cannot use them as a variable name, function name, or any other identifier.\n",
        "\n",
        "# To see all keywords, we can use the 'keyword' module.\n",
        "import keyword\n",
        "\n",
        "print(\"--- Python Keywords ---\")\n",
        "print(keyword.kwlist)\n",
        "print(\"-\" * 25)"
      ],
      "metadata": {
        "id": "cwzm_3bMYLKi"
      },
      "execution_count": null,
      "outputs": []
    },
    {
      "cell_type": "code",
      "source": [
        "# Trying to use a keyword as a variable name will cause a SyntaxError.\n",
        "# The following line is commented out because it would crash the program.\n",
        "# for = \"This is not allowed\"\n"
      ],
      "metadata": {
        "id": "uSL7WtspYOVj"
      },
      "execution_count": null,
      "outputs": []
    },
    {
      "cell_type": "code",
      "source": [
        "# --- 2. Identifiers ---\n",
        "# An identifier is a name given to entities like variables, functions, classes, etc.\n",
        "\n",
        "print(\"\\n--- Identifiers ---\")\n",
        "# Rules for valid identifiers:\n",
        "# 1. Can be a combination of letters (a-z, A-Z), digits (0-9), or an underscore (_).\n",
        "# 2. Cannot start with a digit.\n",
        "# 3. Keywords cannot be used as identifiers.\n",
        "# 4. Case-sensitive (e.g., 'age', 'Age', and 'AGE' are three different identifiers).\n"
      ],
      "metadata": {
        "id": "kxgzG8fXYVa0"
      },
      "execution_count": null,
      "outputs": []
    },
    {
      "cell_type": "code",
      "source": [
        "# Valid identifiers\n",
        "age = 28\n",
        "user_name = \"Rohan\"\n",
        "user_age_1 = 25\n",
        "_internal_variable = \"This is also valid\"\n",
        "AGE = 30 # Different from 'age'\n",
        "\n",
        "print(f\"Valid identifier 'user_name': {user_name}\")\n",
        "print(f\"Valid identifier 'age': {age}\")\n",
        "print(f\"Valid identifier 'AGE': {AGE}\")\n",
        "\n",
        "# Invalid identifiers (commented out to prevent errors)\n",
        "# 1st_place = \"Starts with a digit\"\n",
        "# user-name = \"Contains a hyphen\"\n",
        "# class = \"Is a keyword\"\n"
      ],
      "metadata": {
        "id": "OHko5HVOYoTL"
      },
      "execution_count": null,
      "outputs": []
    },
    {
      "cell_type": "code",
      "source": [
        "# --- 3. Variables ---\n",
        "# A variable is like a container that stores a value. You can change its value.\n",
        "\n",
        "print(\"\\n--- Variables ---\")\n",
        "# Variable assignment\n",
        "project_name = \"Data Science Project\"\n",
        "year = 2024\n",
        "version = 1.0\n",
        "\n",
        "print(f\"Project: {project_name}, Year: {year}, Version: {version}\")\n",
        "\n",
        "# Variables in Python are dynamically typed, meaning you can change their type.\n",
        "version = \"v1.1\" # 'version' was a float, now it's a string.\n",
        "print(f\"Updated Version: {version}\")\n"
      ],
      "metadata": {
        "id": "e1sdlz9qYwOC"
      },
      "execution_count": null,
      "outputs": []
    },
    {
      "cell_type": "code",
      "source": [
        "# --- 4. Constants ---\n",
        "# Python doesn't have true constants like other languages.\n",
        "# By convention, programmers use all-caps names for variables that\n",
        "# should not be changed.\n",
        "\n",
        "print(\"\\n--- Constants (by convention) ---\")\n",
        "PI = 3.14159\n",
        "GRAVITY = 9.8\n",
        "\n",
        "print(f\"Value of PI (should not be changed): {PI}\")\n",
        "\n",
        "# Although we can change it, it's considered bad practice.\n",
        "# PI = 3.14 # Avoid doing this."
      ],
      "metadata": {
        "id": "3zflyQxQYzIL"
      },
      "execution_count": null,
      "outputs": []
    },
    {
      "cell_type": "code",
      "source": [
        "# --- 5. Predefined Objects (Built-in Data Types) ---\n",
        "# In Python, everything is an object. These are the most common built-in object types.\n",
        "\n",
        "print(\"\\n--- Predefined Objects and their Types ---\")\n",
        "\n",
        "# Integer\n",
        "num_students = 150\n",
        "print(f\"Value: {num_students}, Type: {type(num_students)}\")\n",
        "\n",
        "# Float\n",
        "avg_score = 88.5\n",
        "print(f\"Value: {avg_score}, Type: {type(avg_score)}\")\n",
        "\n",
        "# String\n",
        "student_name = \"Priya Sharma\"\n",
        "print(f\"Value: '{student_name}', Type: {type(student_name)}\")\n",
        "\n",
        "# Boolean\n",
        "is_passed = True\n",
        "print(f\"Value: {is_passed}, Type: {type(is_passed)}\")\n",
        "\n",
        "# List\n",
        "scores = [88, 92, 78, 95]\n",
        "print(f\"Value: {scores}, Type: {type(scores)}\")\n",
        "\n",
        "# Tuple\n",
        "coordinates = (22.5726, 88.3639)\n",
        "print(f\"Value: {coordinates}, Type: {type(coordinates)}\")\n",
        "\n",
        "# Dictionary\n",
        "student_info = {\"name\": \"Priya Sharma\", \"id\": 101}\n",
        "print(f\"Value: {student_info}, Type: {type(student_info)}\")\n",
        "\n",
        "# Set\n",
        "unique_subjects = {\"Math\", \"Science\", \"History\"}\n",
        "print(f\"Value: {unique_subjects}, Type: {type(unique_subjects)}\")\n",
        "\n",
        "# NoneType (represents the absence of a value)\n",
        "winner = None\n",
        "print(f\"Value: {winner}, Type: {type(winner)}\")\n"
      ],
      "metadata": {
        "id": "Aruy0BZoY8e0"
      },
      "execution_count": null,
      "outputs": []
    },
    {
      "cell_type": "markdown",
      "source": [
        "# Mutabality and Immutabality"
      ],
      "metadata": {
        "id": "rvx9zzkPZADR"
      }
    },
    {
      "cell_type": "code",
      "source": [
        "# ==================================================================================\n",
        "# Mutability and Immutability in Python\n",
        "# ==================================================================================\n",
        "#\n",
        "# Mutability means that an object's state or value can be changed after it\n",
        "# has been created.\n",
        "#\n",
        "# Immutability means that an object's state or value CANNOT be changed\n",
        "# after it has been created.\n",
        "#\n",
        "# We can check the unique memory address of an object using the id() function.\n",
        "# If the id() changes, it means a new object has been created.\n",
        "# If the id() stays the same, it means the original object was modified.\n",
        "# ----------------------------------------------------------------------------------\n"
      ],
      "metadata": {
        "id": "8VvgDcoEZOyl"
      },
      "execution_count": null,
      "outputs": []
    },
    {
      "cell_type": "code",
      "source": [
        "print(\"--- Part 1: Immutable Objects (Cannot be changed in place) ---\")\n",
        "print(\"Immutable types include: int, float, str, bool, tuple\\n\")\n",
        "\n",
        "# --- Example 1.1: Integer (Immutable) ---\n",
        "print(\"--- Integer Example ---\")\n",
        "x = 10\n",
        "print(f\"Initial value of x: {x}\")\n",
        "print(f\"Memory address (id) of x: {id(x)}\")\n",
        "\n",
        "# When we \"change\" x, Python actually creates a NEW integer object\n",
        "# and makes 'x' point to this new object.\n",
        "x = x + 1\n",
        "print(f\"\\nNew value of x: {x}\")\n",
        "print(f\"Memory address (id) of x is now DIFFERENT: {id(x)}\")\n",
        "print(\"-\" * 30)\n",
        "\n",
        "\n",
        "# --- Example 1.2: String (Immutable) ---\n",
        "print(\"\\n--- String Example ---\")\n",
        "my_string = \"Hello\"\n",
        "print(f\"Initial string: '{my_string}'\")\n",
        "print(f\"Memory address (id) of my_string: {id(my_string)}\")\n",
        "\n",
        "# String methods like .upper() DO NOT change the original string.\n",
        "# They return a NEW string.\n",
        "new_string = my_string.upper()\n",
        "print(f\"\\nValue of new_string: '{new_string}'\")\n",
        "print(f\"Memory address (id) of new_string is DIFFERENT: {id(new_string)}\")\n",
        "print(f\"The original my_string is UNCHANGED. Its id is the same: {id(my_string)}\")\n",
        "print(\"-\" * 30)\n",
        "\n",
        "\n",
        "# --- Example 1.3: Tuple (Immutable) ---\n",
        "print(\"\\n--- Tuple Example ---\")\n",
        "my_tuple = (1, 2, 3)\n",
        "print(f\"My tuple: {my_tuple}\")\n",
        "# Trying to change an item in a tuple will raise a TypeError because it's immutable.\n",
        "# The following line is commented out to prevent the program from crashing.\n",
        "# my_tuple[0] = 99 # This would raise: TypeError: 'tuple' object does not support item assignment\n"
      ],
      "metadata": {
        "id": "piuT42KFZTK2"
      },
      "execution_count": null,
      "outputs": []
    },
    {
      "cell_type": "code",
      "source": [
        "print(\"\\n\\n--- Part 2: Mutable Objects (Can be changed in place) ---\")\n",
        "print(\"Mutable types include: list, dict, set\\n\")\n",
        "\n",
        "# --- Example 2.1: List (Mutable) ---\n",
        "print(\"--- List Example ---\")\n",
        "my_list = [10, 20, 30]\n",
        "print(f\"Initial list: {my_list}\")\n",
        "print(f\"Memory address (id) of my_list: {id(my_list)}\")\n",
        "\n",
        "# When we modify a list using its methods, the original object itself changes.\n",
        "# No new object is created.\n",
        "my_list.append(40)\n",
        "print(f\"\\nList after appending 40: {my_list}\")\n",
        "print(f\"Memory address (id) of my_list is the SAME: {id(my_list)}\")\n",
        "print(\"-\" * 30)\n",
        "\n",
        "\n",
        "# --- Example 2.2: Dictionary (Mutable) ---\n",
        "print(\"\\n--- Dictionary Example ---\")\n",
        "my_dict = {\"name\": \"Amit\", \"city\": \"Kolkata\"}\n",
        "print(f\"Initial dictionary: {my_dict}\")\n",
        "print(f\"Memory address (id) of my_dict: {id(my_dict)}\")\n",
        "\n",
        "# Adding a new key-value pair modifies the dictionary in place.\n",
        "my_dict[\"age\"] = 28\n",
        "print(f\"\\nDictionary after adding 'age': {my_dict}\")\n",
        "print(f\"Memory address (id) of my_dict is the SAME: {id(my_dict)}\")\n",
        "print(\"-\" * 30)\n",
        "\n",
        "\n",
        "# --- Example 2.3: Set (Mutable) ---\n",
        "print(\"\\n--- Set Example ---\")\n",
        "my_set = {100, 200, 300}\n",
        "print(f\"Initial set: {my_set}\")\n",
        "print(f\"Memory address (id) of my_set: {id(my_set)}\")\n",
        "\n",
        "# Adding an element to a set modifies it in place.\n",
        "my_set.add(400)\n",
        "print(f\"\\nSet after adding 400: {my_set}\")\n",
        "print(f\"Memory address (id) of my_set is the SAME: {id(my_set)}\")\n",
        "print(\"-\" * 30)\n",
        "\n",
        "\n",
        "# ==================================================================================\n",
        "# --- Practical Implication: Be careful when passing mutable objects to functions! ---\n",
        "# ==================================================================================\n",
        "print(\"\\n\\n--- Mutability with Functions ---\")\n",
        "\n",
        "def modify_list(some_list):\n",
        "    \"\"\"This function modifies the list it receives.\"\"\"\n",
        "    print(f\"Inside function - received list id: {id(some_list)}\")\n",
        "    some_list.append(\"MODIFIED\")\n",
        "    print(\"Inside function - list has been modified.\")\n",
        "\n",
        "# Create the original list\n",
        "data = [\"a\", \"b\", \"c\"]\n",
        "print(f\"Original data before function call: {data}\")\n",
        "print(f\"Original data id: {id(data)}\")\n",
        "\n",
        "# Call the function\n",
        "modify_list(data)\n",
        "\n",
        "# Check the original list again. It has been changed!\n",
        "# This is because the function received a reference to the SAME list object,\n",
        "# not a copy.\n",
        "print(f\"\\nOriginal data AFTER function call: {data} <--- It has changed!\")\n",
        "print(f\"Original data id is still the same: {id(data)}\")\n"
      ],
      "metadata": {
        "id": "f4znzTpiZzbQ"
      },
      "execution_count": null,
      "outputs": []
    },
    {
      "cell_type": "markdown",
      "source": [
        "# Operators"
      ],
      "metadata": {
        "id": "oG6HeMUhaCeW"
      }
    },
    {
      "cell_type": "code",
      "source": [
        "# --- 1. Arithmetic Operators ---\n",
        "# Used for performing mathematical calculations.\n",
        "print(\"--- 1. Arithmetic Operators ---\")\n",
        "a = 15\n",
        "b = 4\n",
        "\n",
        "print(f\"{a} + {b} = {a + b}\")        # Addition\n",
        "print(f\"{a} - {b} = {a - b}\")        # Subtraction\n",
        "print(f\"{a} * {b} = {a * b}\")        # Multiplication\n",
        "print(f\"{a} / {b} = {a / b}\")        # Division (always results in a float)\n",
        "print(f\"{a} // {b} = {a // b}\")       # Floor Division (discards the decimal part)\n",
        "print(f\"{a} % {b} = {a % b}\")        # Modulus (returns the remainder)\n",
        "print(f\"{a} ** {b} = {a ** b}\")     # Exponentiation (a to the power of b)\n",
        "print(\"-\" * 30)"
      ],
      "metadata": {
        "id": "vx7LYUo9aLxk"
      },
      "execution_count": null,
      "outputs": []
    },
    {
      "cell_type": "code",
      "source": [
        "# --- 2. Assignment Operators ---\n",
        "# Used for assigning values to variables.\n",
        "print(\"\\n--- 2. Assignment Operators ---\")\n",
        "x = 10\n",
        "print(f\"Initial x: {x}\")\n",
        "\n",
        "x += 5  # Equivalent to: x = x + 5\n",
        "print(f\"After x += 5: {x}\")\n",
        "\n",
        "x -= 3  # Equivalent to: x = x - 3\n",
        "print(f\"After x -= 3: {x}\")\n",
        "\n",
        "x *= 2  # Equivalent to: x = x * 2\n",
        "print(f\"After x *= 2: {x}\")\n",
        "\n",
        "x /= 4  # Equivalent to: x = x / 4\n",
        "print(f\"After x /= 4: {x}\")\n",
        "print(\"-\" * 30)\n"
      ],
      "metadata": {
        "id": "caGmLARjaRLF"
      },
      "execution_count": null,
      "outputs": []
    },
    {
      "cell_type": "code",
      "source": [
        "# --- 3. Comparison (Relational) Operators ---\n",
        "# Used for comparing two values. The result is always a boolean (True or False).\n",
        "print(\"\\n--- 3. Comparison Operators ---\")\n",
        "p = 10\n",
        "q = 20\n",
        "\n",
        "print(f\"Is {p} == {q}? {p == q}\")      # Equal to\n",
        "print(f\"Is {p} != {q}? {p != q}\")      # Not equal to\n",
        "print(f\"Is {p} > {q}? {p > q}\")       # Greater than\n",
        "print(f\"Is {p} < {q}? {p < q}\")       # Less than\n",
        "print(f\"Is {p} >= 10? {p >= 10}\")   # Greater than or equal to\n",
        "print(f\"Is {p} <= 10? {p <= 10}\")   # Less than or equal to\n",
        "print(\"-\" * 30)"
      ],
      "metadata": {
        "id": "j7xAbMWTaVqk"
      },
      "execution_count": null,
      "outputs": []
    },
    {
      "cell_type": "code",
      "source": [
        "# --- 4. Logical Operators ---\n",
        "# Used to combine conditional statements.\n",
        "print(\"\\n--- 4. Logical Operators ---\")\n",
        "has_ticket = True\n",
        "has_id_card = False\n",
        "\n",
        "# and: Returns True if both statements are true\n",
        "print(f\"Can enter club (using 'and')? {has_ticket and has_id_card}\")\n",
        "\n",
        "# or: Returns True if one of the statements is true\n",
        "print(f\"Can enter club (using 'or')? {has_ticket or has_id_card}\")\n",
        "\n",
        "# not: Reverses the result, returns False if the result is true\n",
        "print(f\"Is not raining? {not False}\")\n",
        "print(\"-\" * 30)"
      ],
      "metadata": {
        "id": "FxV9djyRaZa9"
      },
      "execution_count": null,
      "outputs": []
    },
    {
      "cell_type": "code",
      "source": [
        "# --- 5. Bitwise Operators ---\n",
        "# Used to perform operations on integers at the binary level.\n",
        "print(\"\\n--- 5. Bitwise Operators ---\")\n",
        "num1 = 10  # Binary: 1010\n",
        "num2 = 4   # Binary: 0100\n",
        "\n",
        "print(f\"num1 = {num1} (1010), num2 = {4} (0100)\")\n",
        "print(f\"num1 & num2 = {num1 & num2}\")    # Bitwise AND (Binary: 0000)\n",
        "print(f\"num1 | num2 = {num1 | num2}\")    # Bitwise OR (Binary: 1110)\n",
        "print(f\"num1 ^ num2 = {num1 ^ num2}\")    # Bitwise XOR (Binary: 1110)\n",
        "print(f\"~num1 = {~num1}\")                # Bitwise NOT (Inverts all bits)\n",
        "print(f\"num1 << 2 = {num1 << 2}\")      # Bitwise Left Shift (Binary: 101000)\n",
        "print(f\"num1 >> 2 = {num1 >> 2}\")      # Bitwise Right Shift (Binary: 0010)\n",
        "print(\"-\" * 30)\n"
      ],
      "metadata": {
        "id": "NJvI5wIeadwk"
      },
      "execution_count": null,
      "outputs": []
    },
    {
      "cell_type": "code",
      "source": [
        "# --- 6. Identity Operators ---\n",
        "# Used to compare the memory locations of two objects.\n",
        "print(\"\\n--- 6. Identity Operators (is vs ==) ---\")\n",
        "list_a = [1, 2, 3]\n",
        "list_b = [1, 2, 3]\n",
        "list_c = list_a\n",
        "\n",
        "# '==' checks if the values are equal.\n",
        "print(f\"list_a == list_b: {list_a == list_b}\") # True, because their content is the same.\n",
        "\n",
        "# 'is' checks if they are the exact same object in memory.\n",
        "print(f\"list_a is list_b: {list_a is list_b}\") # False, because they are two separate objects.\n",
        "print(f\"list_a is list_c: {list_a is list_c}\") # True, because list_c is just another name for list_a.\n",
        "print(\"-\" * 30)\n"
      ],
      "metadata": {
        "id": "cb-zzdAQaiJI"
      },
      "execution_count": null,
      "outputs": []
    },
    {
      "cell_type": "code",
      "source": [
        "# --- 7. Membership Operators ---\n",
        "# Used to test if a sequence is presented in an object.\n",
        "print(\"\\n--- 7. Membership Operators ---\")\n",
        "fruits = [\"apple\", \"banana\", \"cherry\"]\n",
        "my_name = \"Rohan\"\n",
        "\n",
        "print(f\"'banana' in fruits? {'banana' in fruits}\")\n",
        "print(f\"'mango' not in fruits? {'mango' not in fruits}\")\n",
        "print(f\"'o' in my_name? {'o' in my_name}\")\n",
        "print(\"-\" * 30)"
      ],
      "metadata": {
        "id": "BWu3RRUFanQG"
      },
      "execution_count": null,
      "outputs": []
    },
    {
      "cell_type": "code",
      "source": [
        "# --- 8. Ternary (Conditional) Operator ---\n",
        "# A one-line if-else statement.\n",
        "print(\"\\n--- 8. Ternary Operator ---\")\n",
        "age = 22\n",
        "# Syntax: value_if_true if condition else value_if_false\n",
        "status = \"Adult\" if age >= 18 else \"Minor\"\n",
        "print(f\"The person's status is: {status}\")\n",
        "print(\"-\" * 30)\n",
        "\n"
      ],
      "metadata": {
        "id": "8NvPj4prauUr"
      },
      "execution_count": null,
      "outputs": []
    },
    {
      "cell_type": "code",
      "source": [
        "# --- 9. Operator Precedence and Associativity ---\n",
        "# The order in which operations are performed. (Similar to BODMAS/PEMDAS)\n",
        "print(\"\\n--- 9. Operator Precedence ---\")\n",
        "# Multiplication has higher precedence than addition.\n",
        "result1 = 10 + 5 * 2  # Evaluates 5 * 2 first, then 10 + 10\n",
        "print(f\"10 + 5 * 2 = {result1}\")\n",
        "\n",
        "# Parentheses () can be used to override the default precedence.\n",
        "result2 = (10 + 5) * 2 # Evaluates 10 + 5 first, then 15 * 2\n",
        "print(f\"(10 + 5) * 2 = {result2}\")\n",
        "print(\"-\" * 30)"
      ],
      "metadata": {
        "id": "Itv1_UGKay-J"
      },
      "execution_count": null,
      "outputs": []
    },
    {
      "cell_type": "code",
      "source": [
        "# --- 10. Unary vs. Binary Operators ---\n",
        "# Based on the number of operands an operator takes.\n",
        "print(\"\\n--- 10. Unary vs. Binary Operators ---\")\n",
        "# Binary operator: Takes two operands. Most operators are binary.\n",
        "binary_result = 10 + 5\n",
        "print(f\"Binary '+': 10 + 5 = {binary_result}\")\n",
        "\n",
        "# Unary operator: Takes one operand.\n",
        "# The '-' here is a unary operator for negation.\n",
        "unary_result = -5\n",
        "print(f\"Unary '-': The value is {unary_result}\")\n"
      ],
      "metadata": {
        "id": "zZzCO4hSa4lr"
      },
      "execution_count": null,
      "outputs": []
    },
    {
      "cell_type": "markdown",
      "source": [
        "# type casting"
      ],
      "metadata": {
        "id": "3x81mbHla7Lq"
      }
    },
    {
      "cell_type": "code",
      "source": [
        "# ==============================================================================\n",
        "# Type Casting (also known as Type Conversion) in Python\n",
        "# ==============================================================================\n",
        "#\n",
        "# Type casting is the process of converting a variable from one data type to\n",
        "# another. There are two types:\n",
        "# 1. Explicit Casting: Done manually by the programmer using built-in functions.\n",
        "# 2. Implicit Casting: Done automatically by the Python interpreter.\n",
        "# ------------------------------------------------------------------------------\n"
      ],
      "metadata": {
        "id": "3tXSV22DbMt2"
      },
      "execution_count": null,
      "outputs": []
    },
    {
      "cell_type": "code",
      "source": [
        "# --- Part 1: Explicit Type Casting (Manual Conversion) ---\n",
        "print(\"--- 1. Explicit Type Casting ---\")\n",
        "\n",
        "# --- 1a. Casting to Integer using int() ---\n",
        "print(\"\\n--- Casting to Integer (int) ---\")\n",
        "float_num = 99.9\n",
        "str_num = \"100\"\n",
        "\n",
        "print(f\"Original float: {float_num} ({type(float_num)})\")\n",
        "# When converting float to int, the decimal part is truncated (not rounded).\n",
        "int_from_float = int(float_num)\n",
        "print(f\"Casted to int: {int_from_float} ({type(int_from_float)})\")\n",
        "\n",
        "print(f\"\\nOriginal string: '{str_num}' ({type(str_num)})\")\n",
        "int_from_str = int(str_num)\n",
        "print(f\"Casted to int: {int_from_str} ({type(int_from_str)})\")\n",
        "\n",
        "# Note: You can only convert strings that contain whole numbers.\n",
        "# The following line would cause a ValueError.\n",
        "# invalid_str = \"100.5\"\n",
        "# error_int = int(invalid_str) # This would raise: ValueError\n",
        "\n"
      ],
      "metadata": {
        "id": "nu00bE9gbRoN"
      },
      "execution_count": null,
      "outputs": []
    },
    {
      "cell_type": "code",
      "source": [
        "# --- 1b. Casting to Float using float() ---\n",
        "print(\"\\n--- Casting to Float (float) ---\")\n",
        "int_val = 75\n",
        "str_val = \"250.5\"\n",
        "\n",
        "print(f\"Original int: {int_val} ({type(int_val)})\")\n",
        "float_from_int = float(int_val)\n",
        "print(f\"Casted to float: {float_from_int} ({type(float_from_int)})\")\n",
        "\n",
        "print(f\"\\nOriginal string: '{str_val}' ({type(str_val)})\")\n",
        "float_from_str = float(str_val)\n",
        "print(f\"Casted to float: {float_from_str} ({type(float_from_str)})\")\n",
        "\n"
      ],
      "metadata": {
        "id": "F539gnLbbf0N"
      },
      "execution_count": null,
      "outputs": []
    },
    {
      "cell_type": "code",
      "source": [
        "# --- 1c. Casting to String using str() ---\n",
        "print(\"\\n--- Casting to String (str) ---\")\n",
        "age = 28\n",
        "price = 499.99\n",
        "my_list = [1, 2, 3]\n",
        "\n",
        "# You can convert almost any type to a string.\n",
        "str_from_int = str(age)\n",
        "str_from_float = str(price)\n",
        "str_from_list = str(my_list)\n",
        "\n",
        "print(f\"Original int: {age} -> Casted to str: '{str_from_int}' ({type(str_from_int)})\")\n",
        "print(f\"Original float: {price} -> Casted to str: '{str_from_float}' ({type(str_from_float)})\")\n",
        "print(f\"Original list: {my_list} -> Casted to str: '{str_from_list}' ({type(str_from_list)})\")\n",
        "\n"
      ],
      "metadata": {
        "id": "9JR4HSivblxp"
      },
      "execution_count": null,
      "outputs": []
    },
    {
      "cell_type": "code",
      "source": [
        "# --- 1d. Casting between Collection Types ---\n",
        "print(\"\\n--- Casting between Collections (list, tuple, set) ---\")\n",
        "my_tuple = (1, 2, 3, 4)\n",
        "my_list_with_duplicates = [10, 20, 30, 10, 20]\n",
        "\n",
        "# Tuple to List\n",
        "list_from_tuple = list(my_tuple)\n",
        "print(f\"Original tuple: {my_tuple} -> Casted to list: {list_from_tuple}\")\n",
        "\n",
        "# List to Tuple\n",
        "tuple_from_list = tuple(my_list_with_duplicates)\n",
        "print(f\"Original list: {my_list_with_duplicates} -> Casted to tuple: {tuple_from_list}\")\n",
        "\n",
        "# List to Set (A common way to get unique items)\n",
        "# Note that sets are unordered.\n",
        "set_from_list = set(my_list_with_duplicates)\n",
        "print(f\"Original list: {my_list_with_duplicates} -> Casted to set (unique items): {set_from_list}\")\n",
        "\n",
        "# Set back to List\n",
        "list_from_set = list(set_from_list)\n",
        "print(f\"Original set: {set_from_list} -> Casted back to list: {list_from_set}\")\n",
        "print(\"-\" * 40)\n"
      ],
      "metadata": {
        "id": "k1sxLtFqbnLu"
      },
      "execution_count": null,
      "outputs": []
    },
    {
      "cell_type": "code",
      "source": [
        "# --- Part 2: Implicit Type Casting (Automatic Conversion) ---\n",
        "print(\"\\n--- 2. Implicit Type Casting ---\")\n",
        "# Python automatically converts smaller data types to larger data types\n",
        "# to prevent data loss.\n",
        "\n",
        "# Example: Adding an integer to a float.\n",
        "int_a = 10\n",
        "float_b = 5.5\n",
        "\n",
        "print(f\"Type of int_a: {type(int_a)}\")\n",
        "print(f\"Type of float_b: {type(float_b)}\")\n",
        "\n",
        "# Python will internally convert 'int_a' to a float (10.0) before the addition.\n",
        "result = int_a + float_b\n",
        "\n",
        "print(f\"\\nResult of {int_a} + {float_b} is {result}\")\n",
        "print(f\"The type of the result is automatically promoted to float: {type(result)}\")\n",
        "\n",
        "# Another example: Boolean in numeric operations\n",
        "# True is treated as 1, False is treated as 0.\n",
        "bool_val = True\n",
        "int_c = 5\n",
        "result_bool = bool_val + int_c # This is like 1 + 5\n",
        "print(f\"\\nResult of {bool_val} + {int_c} is {result_bool} ({type(result_bool)})\")\n"
      ],
      "metadata": {
        "id": "AGgrah6Gb0x4"
      },
      "execution_count": null,
      "outputs": []
    },
    {
      "cell_type": "markdown",
      "source": [
        "# Conditionals"
      ],
      "metadata": {
        "id": "RF6vFW_lb2YG"
      }
    },
    {
      "cell_type": "code",
      "source": [
        "# ==============================================================================\n",
        "# Conditional Statements in Python (if, elif, else)\n",
        "# ==============================================================================\n",
        "#\n",
        "# Conditional statements allow a program to execute certain blocks of code\n",
        "# only if a specific condition is met.\n",
        "#\n",
        "# CRITICAL NOTE: Python uses indentation (whitespace at the beginning of a\n",
        "# line) to define the scope and blocks of code. This is not optional; it is\n",
        "# a fundamental part of the syntax.\n",
        "# ------------------------------------------------------------------------------\n"
      ],
      "metadata": {
        "id": "ZYKEcRdDcH4y"
      },
      "execution_count": null,
      "outputs": []
    },
    {
      "cell_type": "code",
      "source": [
        "# --- 1. The `if` Statement (Single Condition) ---\n",
        "# Executes a block of code only if the condition is True.\n",
        "print(\"--- 1. `if` Statement ---\")\n",
        "temperature = 35\n",
        "\n",
        "# The code inside this block will only run if temperature is greater than 30.\n",
        "if temperature > 30:\n",
        "    print(\"It's a hot day! 🥵\")\n",
        "    print(\"Remember to stay hydrated.\")\n",
        "print(\"-\" * 30)\n"
      ],
      "metadata": {
        "id": "gfZTQKs7cL8Y"
      },
      "execution_count": null,
      "outputs": []
    },
    {
      "cell_type": "code",
      "source": [
        "# --- 2. The `if-else` Statement (Two Possibilities) ---\n",
        "# Executes the `if` block if the condition is True, otherwise executes the `else` block.\n",
        "print(\"\\n--- 2. `if-else` Statement ---\")\n",
        "number = 49\n",
        "\n",
        "if number % 2 == 0:\n",
        "    print(f\"The number {number} is Even.\")\n",
        "else:\n",
        "    print(f\"The number {number} is Odd.\")\n",
        "print(\"-\" * 30)\n"
      ],
      "metadata": {
        "id": "sB7625WZcPld"
      },
      "execution_count": null,
      "outputs": []
    },
    {
      "cell_type": "code",
      "source": [
        "# --- 3. The `if-elif-else` Ladder (Multiple Conditions) ---\n",
        "# Used when you have multiple, mutually exclusive conditions to check.\n",
        "# Python checks each condition in order. As soon as one is found to be True,\n",
        "# its block is executed, and the rest of the ladder is skipped.\n",
        "print(\"\\n--- 3. `if-elif-else` Ladder ---\")\n",
        "score = 85\n",
        "\n",
        "print(f\"The score is: {score}\")\n",
        "if score >= 90:\n",
        "    grade = \"A\"\n",
        "elif score >= 80:\n",
        "    grade = \"B\"  # This condition is True, so this block runs and the ladder stops.\n",
        "elif score >= 70:\n",
        "    grade = \"C\"\n",
        "elif score >= 60:\n",
        "    grade = \"D\"\n",
        "else:\n",
        "    grade = \"F\"\n",
        "\n",
        "print(f\"The calculated grade is: {grade}\")\n",
        "print(\"-\" * 30)"
      ],
      "metadata": {
        "id": "mIiXgDMecVrG"
      },
      "execution_count": null,
      "outputs": []
    },
    {
      "cell_type": "code",
      "source": [
        "# --- 4. Nested `if` Statements (Condition within a Condition) ---\n",
        "# You can place an if statement inside another if statement.\n",
        "print(\"\\n--- 4. Nested `if` Statements ---\")\n",
        "age = 25\n",
        "has_good_credit = True\n",
        "\n",
        "print(f\"Checking loan eligibility for age {age}...\")\n",
        "if age >= 18:\n",
        "    print(\"Age requirement met. Checking credit score...\")\n",
        "    # This is the nested if statement\n",
        "    if has_good_credit:\n",
        "        print(\"Congratulations! Your loan is approved. ✅\")\n",
        "    else:\n",
        "        print(\"Sorry, your credit score does not meet the requirements. ❌\")\n",
        "else:\n",
        "    print(\"Sorry, you must be at least 18 years old to apply. ❌\")\n",
        "print(\"-\" * 30)\n"
      ],
      "metadata": {
        "id": "LXQyDK20ceWc"
      },
      "execution_count": null,
      "outputs": []
    },
    {
      "cell_type": "code",
      "source": [
        "# --- 5. Combining Conditions with Logical Operators (`and`, `or`, `not`) ---\n",
        "# This often helps avoid deeply nested if statements.\n",
        "print(\"\\n--- 5. Using Logical Operators ---\")\n",
        "day = \"Sunday\"\n",
        "is_raining = False\n",
        "\n",
        "# 'and': Both conditions must be True\n",
        "if day == \"Sunday\" and not is_raining:\n",
        "    print(\"It's a perfect day for a picnic! (using 'and' and 'not')\")\n",
        "\n",
        "# 'or': At least one condition must be True\n",
        "if day == \"Saturday\" or day == \"Sunday\":\n",
        "    print(\"It's the weekend! 🎉 (using 'or')\")\n",
        "print(\"-\" * 30)\n"
      ],
      "metadata": {
        "id": "y52E_3flcids"
      },
      "execution_count": null,
      "outputs": []
    },
    {
      "cell_type": "code",
      "source": [
        "\n",
        "# --- 6. The Ternary Operator (A one-line shortcut for if-else) ---\n",
        "# This is useful for assigning a value to a variable based on a simple condition.\n",
        "print(\"\\n--- 6. Ternary Operator ---\")\n",
        "is_logged_in = True\n",
        "\n",
        "# Syntax: value_if_true if condition else value_if_false\n",
        "message = \"Welcome back, User!\" if is_logged_in else \"Please log in.\"\n",
        "print(message)"
      ],
      "metadata": {
        "id": "ltrFHfMiclw6"
      },
      "execution_count": null,
      "outputs": []
    },
    {
      "cell_type": "markdown",
      "source": [
        "# Loops"
      ],
      "metadata": {
        "id": "7TbeB1tQcqq4"
      }
    },
    {
      "cell_type": "code",
      "source": [
        "# ==============================================================================\n",
        "# A Deep Dive into Loops in Python (for and while)\n",
        "# ==============================================================================\n",
        "#\n",
        "# Loops are used to execute a block of code repeatedly.\n",
        "#\n",
        "# ------------------------------------------------------------------------------\n",
        "\n",
        "\n"
      ],
      "metadata": {
        "id": "7roLERq9culy"
      },
      "execution_count": null,
      "outputs": []
    },
    {
      "cell_type": "code",
      "source": [
        "print(\"--- 1. The `for` Loop ---\")\n",
        "\n",
        "# --- 1a. Iterating over a list ---\n",
        "print(\"\\n--- Iterating over a list ---\")\n",
        "fruits = [\"Apple\", \"Banana\", \"Cherry\"]\n",
        "for fruit in fruits:\n",
        "    print(f\"Current fruit: {fruit}\")"
      ],
      "metadata": {
        "id": "58WRL37ec_nm"
      },
      "execution_count": null,
      "outputs": []
    },
    {
      "cell_type": "code",
      "source": [
        "# --- 1b. Iterating over a string ---\n",
        "print(\"\\n--- Iterating over a string ---\")\n",
        "for letter in \"Python\":\n",
        "    print(f\"Current letter: {letter}\")\n"
      ],
      "metadata": {
        "id": "Zyq2Dz8xdJG6"
      },
      "execution_count": null,
      "outputs": []
    },
    {
      "cell_type": "code",
      "source": [
        "# --- 1c. The `range()` function ---\n",
        "# The range() function is a powerful tool to generate a sequence of numbers\n",
        "# for looping a specific number of times.\n",
        "print(\"\\n--- Using the range() function ---\")\n",
        "# `range(stop)`: Generates numbers from 0 up to (but not including) stop.\n",
        "print(\"range(5):\")\n",
        "for i in range(5):\n",
        "    print(i) # Prints 0, 1, 2, 3, 4\n",
        "\n",
        "# `range(start, stop)`: Generates numbers from start up to stop.\n",
        "print(\"\\nrange(2, 6):\")\n",
        "for i in range(2, 6):\n",
        "    print(i) # Prints 2, 3, 4, 5\n",
        "\n",
        "# `range(start, stop, step)`: Generates numbers from start to stop, with a specific step.\n",
        "print(\"\\nrange(1, 10, 2):\")\n",
        "for i in range(1, 10, 2):\n",
        "    print(i) # Prints 1, 3, 5, 7, 9\n"
      ],
      "metadata": {
        "id": "QxqjT4JadMQr"
      },
      "execution_count": null,
      "outputs": []
    },
    {
      "cell_type": "code",
      "source": [
        "# --- 1d. The `enumerate()` function (Getting index and value) ---\n",
        "# Often, you need both the index and the value. enumerate() is the best way.\n",
        "print(\"\\n--- Using enumerate() ---\")\n",
        "for index, fruit in enumerate(fruits):\n",
        "    print(f\"Index: {index}, Fruit: {fruit}\")"
      ],
      "metadata": {
        "id": "LINH8tEHdPzu"
      },
      "execution_count": null,
      "outputs": []
    },
    {
      "cell_type": "code",
      "source": [
        "# --- 1e. The `zip()` function (Iterating over multiple lists) ---\n",
        "# zip() allows you to loop over two or more lists at the same time.\n",
        "print(\"\\n--- Using zip() ---\")\n",
        "students = [\"Amit\", \"Riya\", \"Pooja\"]\n",
        "scores = [88, 92, 78]\n",
        "for student, score in zip(students, scores):\n",
        "    print(f\"{student} scored {score} marks.\")"
      ],
      "metadata": {
        "id": "7DvZ0gxbdZ_4"
      },
      "execution_count": null,
      "outputs": []
    },
    {
      "cell_type": "code",
      "source": [
        "# --- 1f. Nested `for` loops ---\n",
        "# A loop inside another loop. Useful for working with 2D lists (matrices).\n",
        "print(\"\\n--- Nested for loops ---\")\n",
        "matrix = [\n",
        "    [1, 2, 3],\n",
        "    [4, 5, 6],\n",
        "    [7, 8, 9]\n",
        "]\n",
        "for row in matrix:\n",
        "    for item in row:\n",
        "        print(item, end=\" \") # 'end=\" \"' prints on the same line with a space\n",
        "    print() # Moves to the next line after each row\n",
        "print(\"-\" * 40)\n"
      ],
      "metadata": {
        "id": "ZvtOalkBdc_x"
      },
      "execution_count": null,
      "outputs": []
    },
    {
      "cell_type": "code",
      "source": [
        "# --- Part 2: The `while` Loop ---\n",
        "# A `while` loop executes a block of code as long as a condition is True.\n",
        "# It requires three parts: initialization, condition, and update.\n",
        "print(\"\\n--- 2. The `while` Loop ---\")\n",
        "count = 5  # 1. Initialization\n",
        "while count > 0:  # 2. Condition\n",
        "    print(f\"Countdown: {count}\")\n",
        "    count -= 1  # 3. Update (CRITICAL to avoid infinite loops)\n",
        "\n",
        "# An infinite loop (commented out) would look like this:\n",
        "# while True:\n",
        "#     print(\"This will run forever!\")\n",
        "print(\"-\" * 40)"
      ],
      "metadata": {
        "id": "J3BDi_4AdgyW"
      },
      "execution_count": null,
      "outputs": []
    },
    {
      "cell_type": "code",
      "source": [
        "# --- Part 3: Loop Control Statements ---\n",
        "# These change a loop's execution from its normal sequence.\n",
        "print(\"\\n--- 3. Loop Control Statements ---\")\n",
        "\n",
        "# --- 3a. `break` ---\n",
        "# The `break` statement stops the loop entirely.\n",
        "print(\"\\n--- Using `break` ---\")\n",
        "# Find the first number divisible by 7\n",
        "for number in range(1, 20):\n",
        "    if number % 7 == 0:\n",
        "        print(f\"Found the number: {number}. Stopping the loop.\")\n",
        "        break # Exit the loop immediately\n",
        "    print(f\"Checking {number}...\")"
      ],
      "metadata": {
        "id": "5t6Xghmudmpw"
      },
      "execution_count": null,
      "outputs": []
    },
    {
      "cell_type": "code",
      "source": [
        "# --- 3b. `continue` ---\n",
        "# The `continue` statement skips the rest of the current iteration and\n",
        "# moves to the next one.\n",
        "print(\"\\n--- Using `continue` ---\")\n",
        "# Print only the even numbers from 1 to 10\n",
        "for number in range(1, 11):\n",
        "    if number % 2 != 0: # If the number is odd...\n",
        "        continue # ...skip this iteration and go to the next number\n",
        "    print(f\"Even number found: {number}\")\n",
        "print(\"-\" * 40)"
      ],
      "metadata": {
        "id": "94bRc15UdvTE"
      },
      "execution_count": null,
      "outputs": []
    },
    {
      "cell_type": "code",
      "source": [
        "# --- Part 4: The `else` Block in Loops ---\n",
        "# A loop's `else` block runs ONLY if the loop completes its full sequence\n",
        "# without being terminated by a `break` statement.\n",
        "print(\"\\n--- 4. The `else` Block in Loops ---\")\n",
        "\n",
        "# Case 1: Loop completes normally, so `else` runs.\n",
        "print(\"\\n--- `else` block (when loop completes) ---\")\n",
        "for i in range(3):\n",
        "    print(f\"Loop iteration {i}\")\n",
        "else:\n",
        "    print(\"The loop finished without a 'break'.\")\n",
        "\n",
        "# Case 2: Loop is broken, so `else` is skipped.\n",
        "print(\"\\n--- `else` block (when loop is broken) ---\")\n",
        "for i in range(10):\n",
        "    print(f\"Searching... current number is {i}\")\n",
        "    if i == 3:\n",
        "        print(\"Found the number! Breaking the loop.\")\n",
        "        break\n",
        "else:\n",
        "    print(\"This 'else' block will NOT be executed.\")"
      ],
      "metadata": {
        "id": "aS8ni8Cgd1ta"
      },
      "execution_count": null,
      "outputs": []
    },
    {
      "cell_type": "markdown",
      "source": [
        "# String"
      ],
      "metadata": {
        "id": "orNTmtD5eBV6"
      }
    },
    {
      "cell_type": "code",
      "source": [
        "# ==============================================================================\n",
        "# Mastering Strings in Python\n",
        "# ==============================================================================\n",
        "#\n",
        "# A string is a sequence of characters. It is an immutable data type, meaning\n",
        "# once created, it cannot be changed. String methods always return a new\n",
        "# string and do not modify the original.\n",
        "# -----------------------------------"
      ],
      "metadata": {
        "id": "sQnMe1pReEWu"
      },
      "execution_count": null,
      "outputs": []
    },
    {
      "cell_type": "code",
      "source": [
        "# --- 1. The Core Concept: Immutability ---\n",
        "print(\"--- 1. Immutability ---\")\n",
        "original_string = \"  Hello Python!  \"\n",
        "print(f\"Original String: '{original_string}'\")\n",
        "print(f\"ID of Original String: {id(original_string)}\")\n",
        "\n",
        "# Methods return a NEW string.\n",
        "cleaned_string = original_string.strip()\n",
        "print(f\"\\nCleaned String: '{cleaned_string}'\")\n",
        "print(f\"ID of Cleaned String (DIFFERENT): {id(cleaned_string)}\")\n",
        "print(f\"Original string is UNCHANGED: '{original_string}'\")\n",
        "print(\"-\" * 40)"
      ],
      "metadata": {
        "id": "g2pVaxrfeHwA"
      },
      "execution_count": null,
      "outputs": []
    },
    {
      "cell_type": "code",
      "source": [
        "# --- 2. Indexing and Slicing (Accessing Parts of a String) ---\n",
        "print(\"\\n--- 2. Indexing and Slicing ---\")\n",
        "text = \"Data Science\"\n",
        "#      01234567891011  (Positive Indexing)\n",
        "#     -12-11...      -1 (Negative Indexing)\n",
        "\n",
        "print(f\"The string is: '{text}'\")\n",
        "# Indexing (getting a single character)\n",
        "print(f\"Character at index 0: {text[0]}\")\n",
        "print(f\"Last character (using negative index): {text[-1]}\")\n",
        "\n",
        "# Slicing (getting a substring)\n",
        "# [start:stop] - 'stop' index is not included\n",
        "print(f\"Slice from index 0 to 4 [0:4]: '{text[0:4]}'\")\n",
        "print(f\"Slice from index 5 to the end [5:]: '{text[5:]}'\")\n",
        "print(f\"Slice from start to index 4 [:4]: '{text[:4]}'\")\n",
        "\n",
        "# Slicing with a step\n",
        "# [start:stop:step]\n",
        "print(f\"The whole string with a step of 2 [::2]: '{text[::2]}'\")\n",
        "print(f\"Reverse the string with slicing [::-1]: '{text[::-1]}'\")\n",
        "print(\"-\" * 40)\n"
      ],
      "metadata": {
        "id": "j-yiql9HeMAU"
      },
      "execution_count": null,
      "outputs": []
    },
    {
      "cell_type": "code",
      "source": [
        "# --- 3. Cleaning and Case Conversion ---\n",
        "print(\"\\n--- 3. Cleaning and Case Conversion ---\")\n",
        "messy_data = \"   Kolkata, West Bengal   \"\n",
        "print(f\"Messy Data: '{messy_data}'\")\n",
        "print(f\"'.strip()' (removes leading/trailing whitespace): '{messy_data.strip()}'\")\n",
        "print(f\"'.lower()' (all lowercase): '{messy_data.lower()}'\")\n",
        "print(f\"'.upper()' (all uppercase): '{messy_data.upper()}'\")\n",
        "print(f\"'.capitalize()' (first letter capital): '{messy_data.strip().capitalize()}'\")\n",
        "print(f\"'.title()' (first letter of each word capital): '{messy_data.strip().title()}'\")\n",
        "print(\"-\" * 40)\n"
      ],
      "metadata": {
        "id": "XVRJEr2GeSQ5"
      },
      "execution_count": null,
      "outputs": []
    },
    {
      "cell_type": "code",
      "source": [
        "# --- 4. Splitting and Joining ---\n",
        "print(\"\\n--- 4. Splitting and Joining ---\")\n",
        "# .split() - Converts a string into a list of strings.\n",
        "sentence = \"Data science is the future\"\n",
        "words = sentence.split(' ') # Split by space\n",
        "print(f\"Original sentence: '{sentence}'\")\n",
        "print(f\"Split into words: {words}\")\n",
        "\n",
        "csv_line = \"Amit,28,Kolkata\"\n",
        "details = csv_line.split(',') # Split by comma\n",
        "print(f\"\\nCSV line: '{csv_line}'\")\n",
        "print(f\"Split into details: {details}\")\n",
        "\n",
        "# .join() - Joins elements of a list into a single string.\n",
        "word_list = [\"Python\", \"is\", \"powerful\"]\n",
        "joined_sentence = \" \".join(word_list) # Join with a space\n",
        "print(f\"\\nOriginal list: {word_list}\")\n",
        "print(f\"Joined with a space: '{joined_sentence}'\")\n",
        "print(\"-\" * 40)\n"
      ],
      "metadata": {
        "id": "5s3e1ZyVeVnJ"
      },
      "execution_count": null,
      "outputs": []
    },
    {
      "cell_type": "code",
      "source": [
        "# --- 5. Finding and Replacing ---\n",
        "print(\"\\n--- 5. Finding and Replacing ---\")\n",
        "story = \"I love Python because Python is easy. I use Python daily.\"\n",
        "print(f\"Story: '{story}'\")\n",
        "\n",
        "# .count() - Counts occurrences of a substring.\n",
        "print(f\"Count of 'Python': {story.count('Python')}\")\n",
        "\n",
        "# .find() - Finds the first occurrence of a substring, returns its starting index.\n",
        "# Returns -1 if not found.\n",
        "print(f\"First occurrence of 'Python' is at index: {story.find('Python')}\")\n",
        "print(f\"Finding 'Java' (not present): {story.find('Java')}\")\n",
        "\n",
        "# .replace() - Replaces all occurrences of a substring with a new one.\n",
        "new_story = story.replace(\"Python\", \"Data Science\")\n",
        "print(f\"After replacing 'Python' with 'Data Science': '{new_story}'\")\n",
        "print(\"-\" * 40)\n"
      ],
      "metadata": {
        "id": "Csyl_1zJeZH1"
      },
      "execution_count": null,
      "outputs": []
    },
    {
      "cell_type": "code",
      "source": [
        "# --- 6. Checking and Validation (Boolean Methods) ---\n",
        "# These methods return True or False.\n",
        "print(\"\\n--- 6. Checking and Validation ---\")\n",
        "file_name = \"report_2024.csv\"\n",
        "number_str = \"12345\"\n",
        "alpha_str = \"Python\"\n",
        "alphanum_str = \"Agent47\"\n",
        "\n",
        "print(f\"Does '{file_name}' start with 'report'? {file_name.startswith('report')}\")\n",
        "print(f\"Does '{file_name}' end with '.csv'? {file_name.endswith('.csv')}\")\n",
        "print(f\"Is '{number_str}' all digits? {number_str.isdigit()}\")\n",
        "print(f\"Is '{alpha_str}' all alphabetic? {alpha_str.isalpha()}\")\n",
        "print(f\"Is '{alphanum_str}' alphanumeric? {alphanum_str.isalnum()}\")\n",
        "print(\"-\" * 40)\n"
      ],
      "metadata": {
        "id": "1DR0SIDXemCH"
      },
      "execution_count": null,
      "outputs": []
    },
    {
      "cell_type": "code",
      "source": [
        "\n",
        "# --- 7. Formatting Strings ---\n",
        "print(\"\\n--- 7. Formatting Strings ---\")\n",
        "# f-string is the modern, recommended way.\n",
        "name = \"Riya\"\n",
        "age = 25\n",
        "city = \"Kolkata\"\n",
        "\n",
        "# f-string (Formatted String Literal)\n",
        "f_string_message = f\"My name is {name}. I am {age} years old and I live in {city}.\"\n",
        "print(f\"Using f-string: {f_string_message}\")\n",
        "\n",
        "# You can also do expressions inside f-strings\n",
        "print(f\"In 5 years, {name} will be {age + 5} years old.\")\n"
      ],
      "metadata": {
        "id": "F-H2P-qsenSY"
      },
      "execution_count": null,
      "outputs": []
    },
    {
      "cell_type": "markdown",
      "source": [
        "# List"
      ],
      "metadata": {
        "id": "_LGn4wxUertz"
      }
    },
    {
      "cell_type": "code",
      "source": [
        "# ==============================================================================\n",
        "# Working with Lists in Python\n",
        "# ==============================================================================\n",
        "#\n",
        "# A list is an ordered and mutable collection of items. It can contain items\n",
        "# of different data types and allows duplicate values.\n",
        "# ------------------------------------------------------------------------------\n"
      ],
      "metadata": {
        "id": "F2Sa6YxPewUp"
      },
      "execution_count": null,
      "outputs": []
    },
    {
      "cell_type": "code",
      "source": [
        "# --- 1. Creating a List and its Properties ---\n",
        "print(\"--- 1. List Properties ---\")\n",
        "# A list can hold different data types and duplicates.\n",
        "my_list = [\"Apple\", 100, True, \"Apple\"]\n",
        "print(f\"Original list: {my_list}\")\n",
        "print(f\"Type of my_list: {type(my_list)}\")\n",
        "print(\"-\" * 40)\n"
      ],
      "metadata": {
        "id": "OVcFYzm9e6J3"
      },
      "execution_count": null,
      "outputs": []
    },
    {
      "cell_type": "code",
      "source": [
        "\n",
        "# --- 2. Accessing Elements (Indexing and Slicing) ---\n",
        "print(\"\\n--- 2. Accessing Elements ---\")\n",
        "fruits = [\"Apple\", \"Banana\", \"Cherry\", \"Mango\", \"Guava\"]\n",
        "# Index:    0        1         2         3        4\n",
        "\n",
        "print(f\"The list of fruits is: {fruits}\")\n",
        "# Indexing (getting a single item)\n",
        "print(f\"First fruit (at index 0): {fruits[0]}\")\n",
        "print(f\"Last fruit (at index -1): {fruits[-1]}\")\n",
        "\n",
        "# Slicing (getting a sub-list)\n",
        "# [start:stop] - 'stop' index is not included\n",
        "print(f\"Slice from index 1 to 3 [1:4]: {fruits[1:4]}\")\n",
        "print(\"-\" * 40)\n"
      ],
      "metadata": {
        "id": "dUY4FVv4e-cV"
      },
      "execution_count": null,
      "outputs": []
    },
    {
      "cell_type": "code",
      "source": [
        "# --- 3. Modifying a List (Mutability) ---\n",
        "# Lists are mutable, so you can change their content.\n",
        "print(\"\\n--- 3. Modifying a List ---\")\n",
        "print(f\"Original list: {fruits}\")\n",
        "fruits[1] = \"Blackberry\" # Change the item at index 1\n",
        "print(f\"After changing index 1: {fruits}\")\n",
        "print(\"-\" * 40)\n"
      ],
      "metadata": {
        "id": "IkdpM_DQe_4M"
      },
      "execution_count": null,
      "outputs": []
    },
    {
      "cell_type": "code",
      "source": [
        "# --- 4. Adding Items to a List ---\n",
        "print(\"\\n--- 4. Adding Items ---\")\n",
        "# .append() - Adds an item to the END of the list.\n",
        "fruits.append(\"Orange\")\n",
        "print(f\"After .append('Orange'): {fruits}\")\n",
        "\n",
        "# .insert() - Adds an item at a specified index.\n",
        "fruits.insert(2, \"Strawberry\")\n",
        "print(f\"After .insert(2, 'Strawberry'): {fruits}\")\n",
        "\n",
        "# .extend() - Appends all items from another list.\n",
        "more_fruits = [\"Papaya\", \"Kiwi\"]\n",
        "fruits.extend(more_fruits)\n",
        "print(f\"After .extend(['Papaya', 'Kiwi']): {fruits}\")\n",
        "print(\"-\" * 40)"
      ],
      "metadata": {
        "id": "p7ebGCnkfMbB"
      },
      "execution_count": null,
      "outputs": []
    },
    {
      "cell_type": "code",
      "source": [
        "# --- 5. Removing Items from a List ---\n",
        "print(\"\\n--- 5. Removing Items ---\")\n",
        "print(f\"Current list: {fruits}\")\n",
        "\n",
        "# .pop() - Removes the item at a specified index and returns it.\n",
        "# If no index is specified, it removes the last item.\n",
        "removed_fruit = fruits.pop(3)\n",
        "print(f\"Removed '{removed_fruit}' using .pop(3). New list: {fruits}\")\n",
        "\n",
        "# .remove() - Removes the FIRST item with the specified value.\n",
        "fruits.remove(\"Apple\")\n",
        "print(f\"After .remove('Apple'): {fruits}\")\n",
        "\n",
        "# `del` keyword - Can remove an item at a specific index.\n",
        "del fruits[0]\n",
        "print(f\"After `del fruits[0]`: {fruits}\")\n",
        "\n",
        "# .clear() - Removes all items from the list.\n",
        "fruits.clear()\n",
        "print(f\"After .clear(): {fruits}\")\n",
        "print(\"-\" * 40)"
      ],
      "metadata": {
        "id": "3XqR7QkffRnw"
      },
      "execution_count": null,
      "outputs": []
    },
    {
      "cell_type": "code",
      "source": [
        "# --- 6. Organizing and Searching ---\n",
        "print(\"\\n--- 6. Organizing and Searching ---\")\n",
        "numbers = [4, 1, 7, 3, 1, 9, 2]\n",
        "print(f\"Original numbers list: {numbers}\")\n",
        "\n",
        "# .sort() - Sorts the list IN-PLACE (modifies the original list).\n",
        "numbers.sort()\n",
        "print(f\"After .sort(): {numbers}\")\n",
        "numbers.sort(reverse=True) # Sort in descending order\n",
        "print(f\"After .sort(reverse=True): {numbers}\")\n",
        "\n",
        "# sorted() - Returns a NEW sorted list, leaving the original unchanged.\n",
        "unsorted_list = [5, 2, 8, 1]\n",
        "new_sorted_list = sorted(unsorted_list)\n",
        "print(f\"\\nUsing sorted():\")\n",
        "print(f\"Original list is unchanged: {unsorted_list}\")\n",
        "print(f\"New sorted list: {new_sorted_list}\")\n",
        "\n",
        "# .reverse() - Reverses the order of the list IN-PLACE.\n",
        "unsorted_list.reverse()\n",
        "print(f\"\\nOriginal list after .reverse(): {unsorted_list}\")\n",
        "\n",
        "# .index() - Returns the index of the first occurrence of a value.\n",
        "print(f\"Index of value 8 is: {unsorted_list.index(8)}\")\n",
        "\n",
        "# .count() - Counts how many times a value appears.\n",
        "print(f\"The value 1 appears {unsorted_list.count(1)} time(s).\")\n",
        "print(\"-\" * 40)"
      ],
      "metadata": {
        "id": "qiRJFmuTfaPg"
      },
      "execution_count": null,
      "outputs": []
    },
    {
      "cell_type": "code",
      "source": [
        "# --- 7. Copying a List ---\n",
        "print(\"\\n--- 7. Copying a List ---\")\n",
        "# IMPORTANT: `new_list = old_list` does NOT create a copy.\n",
        "# It just creates another name pointing to the same list.\n",
        "\n",
        "original = [1, 2, 3]\n",
        "# Bad copy (just another reference)\n",
        "bad_copy = original\n",
        "bad_copy.append(99)\n",
        "print(f\"Original after modifying bad_copy: {original} <--- Changed!\")\n",
        "\n",
        "# Good copy methods\n",
        "original = [1, 2, 3] # Resetting original\n",
        "# Method 1: .copy()\n",
        "good_copy_1 = original.copy()\n",
        "good_copy_1.append(100)\n",
        "print(f\"\\nOriginal after modifying good_copy_1: {original} <--- Unchanged\")\n",
        "print(f\"Good copy 1: {good_copy_1}\")\n",
        "\n",
        "# Method 2: Slicing [:]\n",
        "good_copy_2 = original[:]\n",
        "good_copy_2.append(200)\n",
        "print(f\"\\nOriginal after modifying good_copy_2: {original} <--- Unchanged\")\n",
        "print(f\"Good copy 2: {good_copy_2}\")\n"
      ],
      "metadata": {
        "id": "08jZKnAOfgQb"
      },
      "execution_count": null,
      "outputs": []
    },
    {
      "cell_type": "markdown",
      "source": [
        "# Tuple"
      ],
      "metadata": {
        "id": "434fAKSxfiFO"
      }
    },
    {
      "cell_type": "code",
      "source": [
        "# ==============================================================================\n",
        "# Understanding Tuples in Python\n",
        "# ==============================================================================\n",
        "#\n",
        "# A tuple is an ordered and IMMUTABLE collection of items. It is like a\n",
        "# \"read-only\" list. Once a tuple is created, you cannot change, add, or\n",
        "# remove items.\n",
        "# ------------"
      ],
      "metadata": {
        "id": "WE7j4jQrfzY2"
      },
      "execution_count": null,
      "outputs": []
    },
    {
      "cell_type": "code",
      "source": [
        "# --- 1. Creating a Tuple and its Properties ---\n",
        "print(\"--- 1. Tuple Properties ---\")\n",
        "# Tuples are created using parentheses ().\n",
        "# They can hold different data types and allow duplicates.\n",
        "my_tuple = (\"Apple\", 100, True, \"Apple\")\n",
        "print(f\"Original tuple: {my_tuple}\")\n",
        "print(f\"Type of my_tuple: {type(my_tuple)}\")\n",
        "\n",
        "# Special case: Creating a tuple with a single item requires a trailing comma.\n",
        "single_item_tuple = (\"Hello\",)\n",
        "not_a_tuple = (\"Hello\")\n",
        "print(f\"\\nThis is a tuple: {single_item_tuple}, type: {type(single_item_tuple)}\")\n",
        "print(f\"This is NOT a tuple: {not_a_tuple}, type: {type(not_a_tuple)}\")\n",
        "print(\"-\" * 40)\n"
      ],
      "metadata": {
        "id": "Dr_cAHpPf3my"
      },
      "execution_count": null,
      "outputs": []
    },
    {
      "cell_type": "code",
      "source": [
        "# --- 2. The Core Concept: Immutability ---\n",
        "print(\"\\n--- 2. Immutability in Action ---\")\n",
        "coordinates = (19.0760, 72.8777) # e.g., Mumbai's coordinates\n",
        "print(f\"Coordinates tuple: {coordinates}\")\n",
        "\n",
        "# Trying to change an item in a tuple will raise a TypeError.\n",
        "# This is the key difference from a list.\n",
        "# The following line is commented out because it would crash the program.\n",
        "# coordinates[0] = 22.5726 # This would raise: TypeError: 'tuple' object does not support item assignment\n",
        "print(\"Attempting to change a tuple item will cause a TypeError.\")\n",
        "print(\"-\" * 40)\n"
      ],
      "metadata": {
        "id": "p4Fn1QcYf93u"
      },
      "execution_count": null,
      "outputs": []
    },
    {
      "cell_type": "code",
      "source": [
        "\n",
        "# --- 3. Accessing Elements (Indexing and Slicing) ---\n",
        "# This works exactly like lists.\n",
        "print(\"\\n--- 3. Accessing Elements ---\")\n",
        "fruits = (\"Apple\", \"Banana\", \"Cherry\", \"Mango\", \"Guava\")\n",
        "# Index:    0        1         2         3        4\n",
        "\n",
        "print(f\"The tuple of fruits is: {fruits}\")\n",
        "# Indexing\n",
        "print(f\"First fruit (at index 0): {fruits[0]}\")\n",
        "# Slicing\n",
        "print(f\"Slice from index 1 to 3 [1:4]: {fruits[1:4]}\")\n",
        "print(\"-\" * 40)\n",
        "\n"
      ],
      "metadata": {
        "id": "0Jw1HhpOf-78"
      },
      "execution_count": null,
      "outputs": []
    },
    {
      "cell_type": "code",
      "source": [
        "# --- 4. Tuple Methods (Only Two!) ---\n",
        "# Because tuples are immutable, they have very few methods.\n",
        "print(\"\\n--- 4. Tuple Methods ---\")\n",
        "grades = ('A', 'B', 'C', 'A', 'B', 'A')\n",
        "print(f\"Grades tuple: {grades}\")\n",
        "\n",
        "# .count() - Counts how many times a value appears.\n",
        "print(f\"The grade 'A' appears {grades.count('A')} times.\")\n",
        "\n",
        "# .index() - Returns the index of the first occurrence of a value.\n",
        "print(f\"The first occurrence of 'B' is at index: {grades.index('B')}\")\n",
        "print(\"-\" * 40)\n"
      ],
      "metadata": {
        "id": "pScdCy75gDuX"
      },
      "execution_count": null,
      "outputs": []
    },
    {
      "cell_type": "code",
      "source": [
        "\n",
        "# --- 6. Looping through a Tuple ---\n",
        "# This works just like looping through a list.\n",
        "print(\"\\n--- 6. Looping through a Tuple ---\")\n",
        "for fruit in fruits:\n",
        "    print(f\"Processing: {fruit}\")\n"
      ],
      "metadata": {
        "id": "Yhb7NvqEgNRP"
      },
      "execution_count": null,
      "outputs": []
    },
    {
      "cell_type": "markdown",
      "source": [
        "# Set"
      ],
      "metadata": {
        "id": "91QbWRc_gpd4"
      }
    },
    {
      "cell_type": "code",
      "source": [
        "# ==============================================================================\n",
        "# Working with Sets in Python\n",
        "# ==============================================================================\n",
        "#\n",
        "# A set is an UNORDERED collection of UNIQUE items. Its main uses are for\n",
        "# membership testing, removing duplicate entries, and mathematical operations\n",
        "# like union, intersection, etc.\n",
        "# ------------------------------------------------------------------------------\n"
      ],
      "metadata": {
        "id": "nDcwPxA-g62T"
      },
      "execution_count": null,
      "outputs": []
    },
    {
      "cell_type": "code",
      "source": [
        "# --- 1. Creating a Set and its Properties ---\n",
        "print(\"--- 1. Set Properties ---\")\n",
        "# Sets are created with curly braces {} or the set() constructor.\n",
        "# Duplicates are automatically removed.\n",
        "my_set = {\"Apple\", \"Banana\", \"Cherry\", \"Apple\"} # \"Apple\" will only appear once.\n",
        "print(f\"Original set: {my_set}\")\n",
        "print(f\"Type of my_set: {type(my_set)}\")\n",
        "\n",
        "# Creating a set from a list to remove duplicates\n",
        "my_list_with_duplicates = [10, 20, 30, 10, 20]\n",
        "unique_numbers_set = set(my_list_with_duplicates)\n",
        "print(f\"\\nList with duplicates: {my_list_with_duplicates}\")\n",
        "print(f\"Set from list (duplicates removed): {unique_numbers_set}\")\n",
        "\n",
        "# IMPORTANT: To create an empty set, you MUST use set().\n",
        "# {} creates an empty dictionary.\n",
        "empty_set = set()\n",
        "empty_dict = {}\n",
        "print(f\"\\nThis is an empty set: {empty_set}, type: {type(empty_set)}\")\n",
        "print(f\"This is an empty dictionary: {empty_dict}, type: {type(empty_dict)}\")\n",
        "print(\"-\" * 40)\n",
        "\n"
      ],
      "metadata": {
        "id": "NVgcBjNJg8ZA"
      },
      "execution_count": null,
      "outputs": []
    },
    {
      "cell_type": "code",
      "source": [
        "# --- 2. Adding and Removing Items ---\n",
        "# Sets are mutable, so you can add and remove items.\n",
        "print(\"\\n--- 2. Adding and Removing Items ---\")\n",
        "tech_skills = {\"Python\", \"SQL\", \"Tableau\"}\n",
        "print(f\"Initial skills set: {tech_skills}\")\n",
        "\n",
        "# .add() - Adds a single element.\n",
        "tech_skills.add(\"R\")\n",
        "print(f\"After .add('R'): {tech_skills}\")\n",
        "\n",
        "# .update() - Adds multiple elements from an iterable (like a list or another set).\n",
        "tech_skills.update([\"Spark\", \"AWS\"])\n",
        "print(f\"After .update(['Spark', 'AWS']): {tech_skills}\")\n",
        "\n",
        "# .remove() - Removes an element. Raises a KeyError if the element is not found.\n",
        "tech_skills.remove(\"Tableau\")\n",
        "print(f\"After .remove('Tableau'): {tech_skills}\")\n",
        "# The following line would cause a KeyError:\n",
        "# tech_skills.remove(\"Java\")\n",
        "\n",
        "# .discard() - Removes an element. Does NOT raise an error if the element is not found.\n",
        "tech_skills.discard(\"Java\") # No error, even though \"Java\" is not in the set.\n",
        "print(f\"After .discard('Java'): {tech_skills} (No change, no error)\")\n",
        "\n",
        "# .pop() - Removes and returns an ARBITRARY element from the set (since sets are unordered).\n",
        "removed_skill = tech_skills.pop()\n",
        "print(f\"Removed '{removed_skill}' using .pop(). New set: {tech_skills}\")\n",
        "\n",
        "# .clear() - Removes all elements from the set.\n",
        "tech_skills.clear()\n",
        "print(f\"After .clear(): {tech_skills}\")\n",
        "print(\"-\" * 40)\n"
      ],
      "metadata": {
        "id": "pdssArv_g_KL"
      },
      "execution_count": null,
      "outputs": []
    },
    {
      "cell_type": "code",
      "source": [
        "\n",
        "# --- 3. Mathematical Set Operations ---\n",
        "# This is where sets are most powerful.\n",
        "print(\"\\n--- 3. Mathematical Set Operations ---\")\n",
        "team_A_skills = {\"Python\", \"SQL\", \"Pandas\", \"Scikit-learn\"}\n",
        "team_B_skills = {\"Python\", \"SQL\", \"Tableau\", \"PowerBI\"}\n",
        "print(f\"Team A's skills: {team_A_skills}\")\n",
        "print(f\"Team B's skills: {team_B_skills}\")\n",
        "\n",
        "# .union() or | : All unique skills from both teams.\n",
        "all_skills = team_A_skills.union(team_B_skills)\n",
        "# all_skills = team_A_skills | team_B_skills # This does the same thing\n",
        "print(f\"\\nUnion (all skills): {all_skills}\")\n",
        "\n",
        "# .intersection() or & : Skills that are common to both teams.\n",
        "common_skills = team_A_skills.intersection(team_B_skills)\n",
        "# common_skills = team_A_skills & team_B_skills\n",
        "print(f\"Intersection (common skills): {common_skills}\")\n",
        "\n",
        "# .difference() or - : Skills that are in Team A but NOT in Team B.\n",
        "only_A_skills = team_A_skills.difference(team_B_skills)\n",
        "# only_A_skills = team_A_skills - team_B_skills\n",
        "print(f\"Difference (skills only in Team A): {only_A_skills}\")\n",
        "\n",
        "# .symmetric_difference() or ^ : Skills that are in either team, but NOT in both.\n",
        "unique_to_each_team = team_A_skills.symmetric_difference(team_B_skills)\n",
        "# unique_to_each_team = team_A_skills ^ team_B_skills\n",
        "print(f\"Symmetric Difference (non-common skills): {unique_to_each_team}\")\n",
        "print(\"-\" * 40)"
      ],
      "metadata": {
        "id": "gc-Q2y1-hUnM"
      },
      "execution_count": null,
      "outputs": []
    },
    {
      "cell_type": "code",
      "source": [
        "# --- 4. Use Cases in Data Science ---\n",
        "print(\"\\n--- 4. Common Use Cases ---\")\n",
        "\n",
        "# --- 4a. Removing Duplicates (Most common use) ---\n",
        "customer_ids = [101, 102, 103, 101, 104, 102, 105]\n",
        "unique_customer_ids = list(set(customer_ids)) # Convert to set, then back to list\n",
        "print(f\"\\nOriginal customer IDs: {customer_ids}\")\n",
        "print(f\"Unique customer IDs: {unique_customer_ids}\")\n",
        "\n",
        "# --- 4b. Fast Membership Testing ---\n",
        "# Checking if an item is in a set is much faster than checking in a list,\n",
        "# especially for large amounts of data.\n",
        "required_columns = {\"user_id\", \"product_id\", \"timestamp\", \"price\"}\n",
        "my_column = \"price\"\n",
        "\n",
        "# This check is extremely fast.\n",
        "if my_column in required_columns:\n",
        "    print(f\"\\n'{my_column}' is a required column.\")\n"
      ],
      "metadata": {
        "id": "1c3XT4gqhaI2"
      },
      "execution_count": null,
      "outputs": []
    },
    {
      "cell_type": "markdown",
      "source": [
        "# Dictionary"
      ],
      "metadata": {
        "id": "82WkaunKhdEH"
      }
    },
    {
      "cell_type": "code",
      "source": [
        "# ==============================================================================\n",
        "# Working with Dictionaries in Python\n",
        "# ==============================================================================\n",
        "#\n",
        "# A dictionary is an unordered (in Python < 3.7) or ordered (Python 3.7+)\n",
        "# collection of key-value pairs. It's mutable and is one of the most\n",
        "# powerful and commonly used data structures in Python.\n",
        "# ------------------------------------"
      ],
      "metadata": {
        "id": "-xlDfnaphg0L"
      },
      "execution_count": null,
      "outputs": []
    },
    {
      "cell_type": "code",
      "source": [
        "# --- 1. Creating a Dictionary and its Properties ---\n",
        "print(\"--- 1. Dictionary Properties ---\")\n",
        "# Dictionaries are created with curly braces {} containing key:value pairs.\n",
        "# Keys must be unique and immutable (e.g., string, number, tuple).\n",
        "# Values can be of any data type and can be duplicated.\n",
        "student_profile = {\n",
        "    \"name\": \"Amit Kumar\",\n",
        "    \"age\": 28,\n",
        "    \"city\": \"Kolkata\",\n",
        "    \"is_student\": True,\n",
        "    \"courses\": [\"Data Science\", \"Machine Learning\"]\n",
        "}\n",
        "print(f\"Original dictionary: {student_profile}\")\n",
        "print(f\"Type of student_profile: {type(student_profile)}\")\n",
        "print(\"-\" * 40)"
      ],
      "metadata": {
        "id": "SeGLThjvh_cd"
      },
      "execution_count": null,
      "outputs": []
    },
    {
      "cell_type": "code",
      "source": [
        "# --- 2. Accessing, Adding, and Modifying Data ---\n",
        "print(\"\\n--- 2. Accessing and Modifying Data ---\")\n",
        "print(f\"Student's name: {student_profile['name']}\")\n",
        "\n",
        "# The safer way: .get()\n",
        "# .get() returns None (or a default value) if the key doesn't exist,\n",
        "# instead of raising a KeyError.\n",
        "print(f\"Student's age: {student_profile.get('age')}\")\n",
        "print(f\"Student's marks (key doesn't exist): {student_profile.get('marks')}\")\n",
        "print(f\"Student's marks (with default value): {student_profile.get('marks', 'Not Available')}\")\n",
        "\n",
        "# Modifying an existing value\n",
        "student_profile[\"city\"] = \"New Town, Kolkata\"\n",
        "print(f\"\\nModified city: {student_profile['city']}\")\n",
        "\n",
        "# Adding a new key-value pair\n",
        "student_profile[\"email\"] = \"amit.kumar@example.com\"\n",
        "print(f\"After adding email: {student_profile}\")\n",
        "print(\"-\" * 40)\n"
      ],
      "metadata": {
        "id": "y5f8qqbNiCvg"
      },
      "execution_count": null,
      "outputs": []
    },
    {
      "cell_type": "code",
      "source": [
        "# --- 3. Removing Items ---\n",
        "print(\"\\n--- 3. Removing Items ---\")\n",
        "# .pop() - Removes the item with the specified key and returns its value.\n",
        "removed_value = student_profile.pop(\"is_student\")\n",
        "print(f\"Removed '{removed_value}' using .pop('is_student').\")\n",
        "print(f\"Dictionary now: {student_profile}\")\n",
        "\n",
        "# `del` keyword - Deletes the item with the specified key.\n",
        "del student_profile[\"age\"]\n",
        "print(f\"\\nAfter `del student_profile['age']`:\")\n",
        "print(f\"Dictionary now: {student_profile}\")\n",
        "print(\"-\" * 40)\n",
        "\n"
      ],
      "metadata": {
        "id": "2-vAbGdviGl3"
      },
      "execution_count": null,
      "outputs": []
    },
    {
      "cell_type": "code",
      "source": [
        "# --- 4. Looping over Dictionaries ---\n",
        "print(\"\\n--- 4. Looping Techniques ---\")\n",
        "# .keys() - To loop through only the keys.\n",
        "print(\"\\nLooping through keys:\")\n",
        "for key in student_profile.keys():\n",
        "    print(key)\n",
        "\n",
        "# .values() - To loop through only the values.\n",
        "print(\"\\nLooping through values:\")\n",
        "for value in student_profile.values():\n",
        "    print(value)\n",
        "\n",
        "# .items() - The most common way, to loop through both keys and values.\n",
        "print(\"\\nLooping through items (key-value pairs):\")\n",
        "for key, value in student_profile.items():\n",
        "    print(f\"Key: {key}, Value: {value}\")\n",
        "print(\"-\" * 40)\n"
      ],
      "metadata": {
        "id": "L2wFDD-KiK5e"
      },
      "execution_count": null,
      "outputs": []
    },
    {
      "cell_type": "code",
      "source": [
        "# --- 5. Nested Dictionaries ---\n",
        "# A dictionary can contain other dictionaries. This is very common with JSON data.\n",
        "print(\"\\n--- 5. Nested Dictionaries ---\")\n",
        "employees = {\n",
        "    101: {\"name\": \"Riya\", \"dept\": \"HR\", \"salary\": 60000},\n",
        "    102: {\"name\": \"Suresh\", \"dept\": \"Engineering\", \"salary\": 80000}\n",
        "}\n",
        "\n",
        "# Accessing nested data\n",
        "print(f\"Employee 102's name: {employees[102]['name']}\")\n",
        "print(f\"Employee 102's salary: {employees[102]['salary']}\")\n",
        "print(\"-\" * 40)"
      ],
      "metadata": {
        "id": "z7AhYZvUiOb6"
      },
      "execution_count": null,
      "outputs": []
    },
    {
      "cell_type": "code",
      "source": [
        "# --- 6. Use Cases in Data Science ---\n",
        "print(\"\\n--- 6. Common Use Cases ---\")\n",
        "\n",
        "# --- 6a. Frequency Counting ---\n",
        "# Counting how many times each item appears in a list.\n",
        "words = [\"apple\", \"ball\", \"apple\", \"cat\", \"ball\", \"apple\"]\n",
        "word_counts = {}\n",
        "for word in words:\n",
        "    word_counts[word] = word_counts.get(word, 0) + 1\n",
        "print(f\"\\nFrequency of words: {word_counts}\")\n"
      ],
      "metadata": {
        "id": "YaoHE-oSiVQm"
      },
      "execution_count": null,
      "outputs": []
    },
    {
      "cell_type": "code",
      "source": [
        "# --- 6b. Creating a Pandas DataFrame (Most important use case) ---\n",
        "# Dictionaries are the primary way to create DataFrames in the Pandas library.\n",
        "import pandas as pd\n",
        "\n",
        "data_for_df = {\n",
        "    \"Name\": [\"Amit\", \"Riya\", \"Pooja\"],\n",
        "    \"Age\": [28, 25, 30],\n",
        "    \"City\": [\"Kolkata\", \"Mumbai\", \"Delhi\"]\n",
        "}\n",
        "\n",
        "# Create the DataFrame\n",
        "df = pd.DataFrame(data_for_df)\n",
        "print(\"\\nPandas DataFrame created from a dictionary:\")\n",
        "print(df)"
      ],
      "metadata": {
        "id": "z_IFh7eoiXMJ"
      },
      "execution_count": null,
      "outputs": []
    },
    {
      "cell_type": "markdown",
      "source": [
        "# Function"
      ],
      "metadata": {
        "id": "qdb9EFVOiacT"
      }
    },
    {
      "cell_type": "code",
      "source": [
        "# ==============================================================================\n",
        "# The Ultimate Guide to Functions in Python\n",
        "# ==============================================================================\n",
        "#\n",
        "# A function is a reusable block of code that performs a specific action.\n",
        "# Functions help break our program into smaller, modular chunks, making it\n",
        "# more organized, readable, and reusable (DRY Principle: Don't Repeat Yourself).\n",
        "# ------------------------------------------------------------------------------\n"
      ],
      "metadata": {
        "id": "iroxKM6oidAx"
      },
      "execution_count": null,
      "outputs": []
    },
    {
      "cell_type": "code",
      "source": [
        "# --- 1. Basic Function Definition and Calling ---\n",
        "print(\"--- 1. Basic Function ---\")\n",
        "\n",
        "# Defining a function using the `def` keyword\n",
        "def greet():\n",
        "    \"\"\"\n",
        "    This is a docstring. It explains what the function does.\n",
        "    This function simply prints a greeting message.\n",
        "    \"\"\"\n",
        "    print(\"Hello! Welcome to the world of functions.\")\n",
        "\n",
        "# Calling the function to execute its code\n",
        "greet()\n",
        "print(\"-\" * 40)"
      ],
      "metadata": {
        "id": "aNVp4_YvinsF"
      },
      "execution_count": null,
      "outputs": []
    },
    {
      "cell_type": "code",
      "source": [
        "# --- 2. Parameters and Arguments ---\n",
        "# Parameters are the variables listed inside the parentheses in the function definition.\n",
        "# Arguments are the values that are sent to the function when it is called.\n",
        "print(\"\\n--- 2. Functions with Parameters ---\")\n",
        "\n",
        "def greet_user(name, city): # 'name' and 'city' are parameters\n",
        "    \"\"\"Greets a specific user and mentions their city.\"\"\"\n",
        "    print(f\"Hello, {name}! Welcome from {city}.\")\n",
        "\n",
        "# Calling the function with arguments\n",
        "greet_user(\"Amit\", \"Kolkata\") # \"Amit\" and \"Kolkata\" are arguments\n",
        "print(\"-\" * 40)\n"
      ],
      "metadata": {
        "id": "5ltzYfNijKip"
      },
      "execution_count": null,
      "outputs": []
    },
    {
      "cell_type": "code",
      "source": [
        "# --- 3. The `return` Statement ---\n",
        "# The `return` statement is used to send a value back from the function.\n",
        "print(\"\\n--- 3. The `return` Statement ---\")\n",
        "\n",
        "def add_numbers(a, b):\n",
        "    \"\"\"This function adds two numbers and returns the result.\"\"\"\n",
        "    result = a + b\n",
        "    return result\n",
        "\n",
        "sum_result = add_numbers(10, 5)\n",
        "print(f\"The result from the add_numbers function is: {sum_result}\")\n",
        "\n",
        "# A function with no `return` statement implicitly returns `None`.\n",
        "def no_return_function():\n",
        "    print(\"This function doesn't return anything.\")\n",
        "\n",
        "what_is_returned = no_return_function()\n",
        "print(f\"The no_return_function returned: {what_is_returned}\")\n",
        "print(\"-\" * 40)\n"
      ],
      "metadata": {
        "id": "yEQZ-VxSjNpv"
      },
      "execution_count": null,
      "outputs": []
    },
    {
      "cell_type": "code",
      "source": [
        "# --- 4. Types of Arguments ---\n",
        "print(\"\\n--- 4. Types of Arguments ---\")\n",
        "\n",
        "# --- 4a. Positional and Keyword Arguments ---\n",
        "# Positional: The order of arguments matters.\n",
        "# Keyword: You can specify arguments by their parameter name, so order doesn't matter.\n",
        "print(\"Using keyword arguments (order doesn't matter):\")\n",
        "greet_user(city=\"Mumbai\", name=\"Riya\")\n"
      ],
      "metadata": {
        "id": "BNN9wasUjQ8W"
      },
      "execution_count": null,
      "outputs": []
    },
    {
      "cell_type": "code",
      "source": [
        "# --- 4b. Default Arguments ---\n",
        "# You can provide a default value for a parameter, making it optional.\n",
        "def create_profile(name, city=\"Unknown\"):\n",
        "    print(f\"Created profile for {name} from {city}.\")\n",
        "\n",
        "create_profile(\"Pooja\") # Uses the default value for city\n",
        "create_profile(\"Suresh\", city=\"Delhi\") # Overrides the default value\n",
        "print(\"-\" * 40)\n",
        "\n"
      ],
      "metadata": {
        "id": "FRrv2hNmjVBX"
      },
      "execution_count": null,
      "outputs": []
    },
    {
      "cell_type": "code",
      "source": [
        "# --- 5. Flexible Arguments: `*args` and `**kwargs` ---\n",
        "print(\"\\n--- 5. Flexible Arguments ---\")\n",
        "\n",
        "# --- 5a. `*args` (for unlimited positional arguments) ---\n",
        "# `*args` packs all extra positional arguments into a TUPLE.\n",
        "def sum_all(*args):\n",
        "    \"\"\"Calculates the sum of all numbers passed to it.\"\"\"\n",
        "    total = 0\n",
        "    for num in args:\n",
        "        total += num\n",
        "    return total\n",
        "\n",
        "print(f\"Sum of (1, 2, 3): {sum_all(1, 2, 3)}\")\n",
        "print(f\"Sum of (10, 20, 30, 40): {sum_all(10, 20, 30, 40)}\")\n"
      ],
      "metadata": {
        "id": "Sz0-Ksljju6b"
      },
      "execution_count": null,
      "outputs": []
    },
    {
      "cell_type": "code",
      "source": [
        "# --- 5b. `**kwargs` (for unlimited keyword arguments) ---\n",
        "# `**kwargs` packs all extra keyword arguments into a DICTIONARY.\n",
        "def build_user_profile(name, **kwargs):\n",
        "    \"\"\"Builds a user profile dictionary.\"\"\"\n",
        "    profile = {'name': name}\n",
        "    profile.update(kwargs)\n",
        "    return profile\n",
        "\n",
        "user1 = build_user_profile(\"Rohan\", age=29, city=\"Kolkata\", profession=\"Data Scientist\")\n",
        "print(f\"\\nUser Profile 1: {user1}\")\n",
        "user2 = build_user_profile(\"Priya\", city=\"Bangalore\")\n",
        "print(f\"User Profile 2: {user2}\")\n",
        "print(\"-\" * 40)\n"
      ],
      "metadata": {
        "id": "YoUeKiyij0E6"
      },
      "execution_count": null,
      "outputs": []
    },
    {
      "cell_type": "code",
      "source": [
        "# --- 6a. Lambda Functions ---\n",
        "# A small, anonymous function defined with the `lambda` keyword.\n",
        "# Syntax: lambda arguments: expression\n",
        "square = lambda x: x * x\n",
        "print(f\"Using a lambda function to square 5: {square(5)}\")\n",
        "\n",
        "# --- 6b. `map()` ---\n",
        "# Applies a function to every item of an iterable.\n",
        "squared_numbers = list(map(lambda x: x * x, numbers))\n",
        "print(f\"\\nOriginal numbers: {numbers}\")\n",
        "print(f\"Squared numbers (using map): {squared_numbers}\")\n",
        "\n",
        "# --- 6c. `filter()` ---\n",
        "# Filters an iterable, keeping only the items for which the function returns True.\n",
        "even_numbers = list(filter(lambda x: x % 2 == 0, numbers))\n",
        "print(f\"Even numbers (using filter): {even_numbers}\")\n",
        "print(\"-\" * 40)"
      ],
      "metadata": {
        "id": "n6OJH1a6j1T5"
      },
      "execution_count": null,
      "outputs": []
    },
    {
      "cell_type": "code",
      "source": [
        "\n",
        "# --- 7. A Complete Data Science Example ---\n",
        "print(\"\\n--- 7. A Complete Function Example ---\")\n",
        "def analyze_scores(scores, method=\"mean\", **metadata):\n",
        "    \"\"\"\n",
        "    A function that cleans scores, calculates a metric, and returns metadata.\n",
        "    \"\"\"\n",
        "    # Clean data: keep only non-negative scores\n",
        "    cleaned_scores = [s for s in scores if s >= 0]\n",
        "    if not cleaned_scores:\n",
        "        return \"No valid scores.\"\n",
        "\n",
        "    # Calculate result based on method\n",
        "    if method == \"mean\":\n",
        "        result_value = sum(cleaned_scores) / len(cleaned_scores)\n",
        "    elif method == \"max\":\n",
        "        result_value = max(cleaned_scores)\n",
        "    else:\n",
        "        result_value = \"Invalid method\"\n",
        "\n",
        "    # Prepare final report\n",
        "    report = {\n",
        "        'calculation_method': method,\n",
        "        'calculated_value': result_value,\n",
        "        'valid_scores_count': len(cleaned_scores)\n",
        "    }\n",
        "    report.update(metadata) # Add any extra info\n",
        "    return report\n",
        "\n",
        "scores_list = [88, 92, -10, 75, 99, -5]\n",
        "analysis_report = analyze_scores(scores_list, method=\"mean\", dataset_name=\"Final Exam\", year=2024)\n",
        "print(analysis_report)"
      ],
      "metadata": {
        "id": "jtjcM3G-j5Ls"
      },
      "execution_count": null,
      "outputs": []
    },
    {
      "cell_type": "markdown",
      "source": [
        "#  Basic of oops"
      ],
      "metadata": {
        "id": "3pK4vtXcj_Dy"
      }
    },
    {
      "cell_type": "code",
      "source": [
        "# ==============================================================================\n",
        "# Introduction to OOP Basics in Python\n",
        "# ==============================================================================\n",
        "#\n",
        "# This script covers the fundamental concepts of Object-Oriented Programming:\n",
        "# 1. Classes: The blueprint for creating objects.\n",
        "# 2. Objects (Instances): The actual entities created from a class.\n",
        "# 3. The __init__() method: The constructor that runs when an object is created.\n",
        "# 4. The `self` keyword: A reference to the current instance of the class.\n",
        "# 5. Attributes (Class and Instance): Variables that store data.\n",
        "# 6. Methods: Functions defined inside a class that describe its behaviors.\n",
        "# 7. Parameterized Constructors: Using __init__ with parameters to create unique objects.\n",
        "# ------------------------------------------------------------------------------\n"
      ],
      "metadata": {
        "id": "BR82N0fWkhO1"
      },
      "execution_count": null,
      "outputs": []
    },
    {
      "cell_type": "code",
      "source": [
        "# --- 1. Defining a Class (The Blueprint) ---\n",
        "# A class is a blueprint for creating objects. Here, we define a blueprint for a 'Car'.\n",
        "class Car:\n",
        "    # --- 5a. Class Attribute ---\n",
        "    # This attribute is shared by ALL instances (objects) of the class.\n",
        "    # Every car we create will have 4 wheels.\n",
        "    num_wheels = 4\n",
        "\n",
        "    # --- 3, 4, 6, 7. The Constructor with Parameters ---\n",
        "    # The __init__() method is a special method called a constructor.\n",
        "    # It runs automatically whenever a new object is created.\n",
        "    # `self` refers to the specific instance of the class being created.\n",
        "    # `brand`, `model`, and `color` are parameters for creating a unique car.\n",
        "    def __init__(self, brand, model, color):\n",
        "        print(f\"A new {brand} {model} is being assembled on the production line...\")\n",
        "\n",
        "        # --- 5b. Instance Attributes ---\n",
        "        # These attributes are unique to each instance (object).\n",
        "        # We use `self` to attach these attributes to the specific object being created.\n",
        "        self.brand = brand\n",
        "        self.model = model\n",
        "        self.color = color\n",
        "        self.is_engine_on = False # Every new car starts with its engine off.\n",
        "\n",
        "    # --- 6. Methods ---\n",
        "    # Methods are functions that belong to the class. They define the object's behavior.\n",
        "    # Note that `self` is always the first parameter.\n",
        "    def start_engine(self):\n",
        "        \"\"\"This method changes the state of the car's engine.\"\"\"\n",
        "        if self.is_engine_on:\n",
        "            print(f\"The {self.brand} {self.model}'s engine is already running.\")\n",
        "        else:\n",
        "            self.is_engine_on = True\n",
        "            print(f\"The {self.brand} {self.model}'s engine has started. Vroom!\")\n",
        "\n",
        "    def stop_engine(self):\n",
        "        \"\"\"This method stops the engine.\"\"\"\n",
        "        if not self.is_engine_on:\n",
        "            print(f\"The {self.brand} {self.model}'s engine is already off.\")\n",
        "        else:\n",
        "            self.is_engine_on = False\n",
        "            print(f\"The {self.brand} {self.model}'s engine has been turned off.\")\n",
        "\n",
        "    def display_details(self):\n",
        "        \"\"\"This method displays all the details of the car.\"\"\"\n",
        "        print(\"\\n--- Car Details ---\")\n",
        "        print(f\"  Brand: {self.brand}\")\n",
        "        print(f\"  Model: {self.model}\")\n",
        "        print(f\"  Color: {self.color}\")\n",
        "        print(f\"  Wheels: {self.num_wheels}\") # Accessing the class attribute\n",
        "        engine_status = \"ON\" if self.is_engine_on else \"OFF\"\n",
        "        print(f\"  Engine Status: {engine_status}\")\n",
        "        print(\"-------------------\")\n"
      ],
      "metadata": {
        "id": "oP4hjz_zkk8B"
      },
      "execution_count": null,
      "outputs": []
    },
    {
      "cell_type": "code",
      "source": [
        "# ==============================================================================\n",
        "# --- 2. Creating Objects (Instances) from the Class ---\n",
        "# ==============================================================================\n",
        "# Now we use our 'Car' blueprint to create actual, unique car objects.\n",
        "# Each time we call Car(), the __init__() method runs for that specific object.\n",
        "\n",
        "print(\"--- Creating our first car ---\")\n",
        "car1 = Car(\"Maruti\", \"Swift\", \"White\")\n",
        "\n",
        "print(\"\\n--- Creating our second car ---\")\n",
        "car2 = Car(\"Hyundai\", \"Creta\", \"Black\")\n",
        "\n"
      ],
      "metadata": {
        "id": "jSV7c5M0kxGT"
      },
      "execution_count": null,
      "outputs": []
    },
    {
      "cell_type": "code",
      "source": [
        "# ==============================================================================\n",
        "# --- Using the Objects ---\n",
        "# ==============================================================================\n",
        "# Now we can interact with each object independently.\n",
        "\n",
        "print(\"\\n--- Interacting with car1 (Swift) ---\")\n",
        "car1.display_details()\n",
        "car1.start_engine()\n",
        "car1.start_engine() # Try to start it again\n",
        "car1.display_details()\n",
        "\n",
        "print(\"\\n--- Interacting with car2 (Creta) ---\")\n",
        "car2.display_details() # Note its engine is still OFF\n",
        "car2.stop_engine()   # Try to stop it\n",
        "car2.start_engine()\n",
        "car2.display_details()"
      ],
      "metadata": {
        "id": "Llf3PeWJk1dz"
      },
      "execution_count": null,
      "outputs": []
    },
    {
      "cell_type": "markdown",
      "source": [
        "# Encapsulation"
      ],
      "metadata": {
        "id": "W_MbL6Bok4c7"
      }
    },
    {
      "cell_type": "code",
      "source": [
        "# ==============================================================================\n",
        "# OOP Pillar: Encapsulation in Python\n",
        "# ==============================================================================\n",
        "#\n",
        "# Encapsulation is the bundling of data (attributes) and the methods that\n",
        "# operate on that data into a single unit (a class).\n",
        "#\n",
        "# It has two main goals:\n",
        "# 1. Bundling: Keeping related data and methods together.\n",
        "# 2. Protection (Data Hiding): Restricting direct access to an object's\n",
        "#    internal data to prevent it from being set to an invalid or inconsistent\n",
        "#    state.\n",
        "#\n",
        "# We will explore three levels:\n",
        "#   1. No Encapsulation (The Problem)\n",
        "#   2. Traditional Encapsulation (The Standard Solution)\n",
        "#   3. Pythonic Encapsulation with Properties (The Elegant Solution)\n",
        "# ------------------------------------------------------------------------------\n"
      ],
      "metadata": {
        "id": "AOOhwG8ok7Y_"
      },
      "execution_count": null,
      "outputs": []
    },
    {
      "cell_type": "code",
      "source": [
        "# --- 1. The Problem: A Class WITHOUT Encapsulation ---\n",
        "print(\"--- 1. A Bank Account without Encapsulation (Unsafe) ---\")\n",
        "class UnsafeBankAccount:\n",
        "    def __init__(self, owner, balance):\n",
        "        self.owner = owner\n",
        "        # This attribute is public and can be directly modified from outside.\n",
        "        self.balance = balance\n",
        "\n",
        "my_unsafe_account = UnsafeBankAccount(\"Rohan\", 5000)\n",
        "print(f\"Initial balance: {my_unsafe_account.balance}\")\n",
        "\n",
        "# DANGER: We can directly set the balance to an invalid state.\n",
        "my_unsafe_account.balance = -99999\n",
        "print(f\"Balance after direct, unsafe modification: {my_unsafe_account.balance}\")\n",
        "# The object's data is now corrupted.\n",
        "print(\"-\" * 50)\n",
        "\n"
      ],
      "metadata": {
        "id": "7rTWoWltlQfF"
      },
      "execution_count": null,
      "outputs": []
    },
    {
      "cell_type": "code",
      "source": [
        "# --- 2. Traditional Encapsulation with Getters and Setters ---\n",
        "print(\"\\n--- 2. Traditional Encapsulation (Safe, but Verbose) ---\")\n",
        "class TraditionalBankAccount:\n",
        "    def __init__(self, owner, initial_balance):\n",
        "        self.owner = owner\n",
        "        # Using __ (double underscore) makes the attribute \"private\".\n",
        "        # Python performs \"name mangling\" (_ClassName__balance) to hide it.\n",
        "        self.__balance = 0\n",
        "        if initial_balance >= 0:\n",
        "            self.__balance = initial_balance\n",
        "\n",
        "    # \"Getter\" method: Provides controlled read access.\n",
        "    def get_balance(self):\n",
        "        return self.__balance\n",
        "\n",
        "    # \"Setter\" methods: Provide controlled write access with validation.\n",
        "    def deposit(self, amount):\n",
        "        if amount > 0:\n",
        "            self.__balance += amount\n",
        "            print(f\"Success! Rs. {amount} deposited.\")\n",
        "        else:\n",
        "            print(\"Invalid deposit amount.\")\n",
        "\n",
        "    def withdraw(self, amount):\n",
        "        if 0 < amount <= self.__balance:\n",
        "            self.__balance -= amount\n",
        "            print(f\"Success! Rs. {amount} withdrawn.\")\n",
        "        else:\n",
        "            print(\"Invalid amount or insufficient funds.\")\n",
        "\n",
        "# Using the traditional class\n",
        "traditional_account = TraditionalBankAccount(\"Priya\", 10000)\n",
        "print(f\"Initial balance via getter: {traditional_account.get_balance()}\")\n",
        "traditional_account.deposit(5000)\n",
        "traditional_account.withdraw(2000)\n",
        "print(f\"Final balance via getter: {traditional_account.get_balance()}\")\n",
        "# The syntax is a bit verbose (e.g., .get_balance()).\n",
        "print(\"-\" * 50)\n",
        "\n"
      ],
      "metadata": {
        "id": "v1zlqllElTrs"
      },
      "execution_count": null,
      "outputs": []
    },
    {
      "cell_type": "code",
      "source": [
        "# --- 3. The Pythonic Way: Encapsulation with @property Decorators ---\n",
        "print(\"\\n--- 3. Pythonic Encapsulation with @property (Elegant & Clean) ---\")\n",
        "class PythonicBankAccount:\n",
        "    def __init__(self, owner, initial_balance):\n",
        "        self.owner = owner\n",
        "        # By convention, we use a _single_underscore for \"protected\" attributes\n",
        "        # that will be managed by properties.\n",
        "        self._balance = 0\n",
        "        # We can use our own setter logic during initialization.\n",
        "        self.balance = initial_balance\n",
        "\n",
        "    # This is the \"getter\" property.\n",
        "    # It allows us to access `account.balance` as if it were a public attribute.\n",
        "    @property\n",
        "    def balance(self):\n",
        "        \"\"\"The balance property. This is the getter.\"\"\"\n",
        "        print(\"(Getter called)\")\n",
        "        return self._balance\n",
        "\n",
        "    # This is the \"setter\" property for 'balance'.\n",
        "    # It's called automatically when we try to assign a value, e.g., `account.balance = 5000`.\n",
        "    @balance.setter\n",
        "    def balance(self, value):\n",
        "        \"\"\"The setter for balance. It includes validation logic.\"\"\"\n",
        "        print(f\"(Setter called with value {value})\")\n",
        "        if not isinstance(value, (int, float)):\n",
        "            raise TypeError(\"Balance must be a number.\")\n",
        "        if value < 0:\n",
        "            raise ValueError(\"Balance cannot be negative.\")\n",
        "        self._balance = value\n"
      ],
      "metadata": {
        "id": "0lTeSC0jlja4"
      },
      "execution_count": null,
      "outputs": []
    },
    {
      "cell_type": "code",
      "source": [
        "# ==============================================================================\n",
        "# --- Using the Pythonic, Encapsulated Class ---\n",
        "# ==============================================================================\n",
        "print(\"\\n--- Interacting with the Pythonic Account ---\")\n",
        "pythonic_account = PythonicBankAccount(\"Suresh\", 5000)\n",
        "\n",
        "# Accessing the balance looks like accessing a simple attribute,\n",
        "# but it's actually running the getter method.\n",
        "print(f\"\\nInitial balance: {pythonic_account.balance}\")\n",
        "\n",
        "# Assigning a new value looks simple, but it's running the setter method\n",
        "# with all its validation logic.\n",
        "pythonic_account.balance = 8000\n",
        "print(f\"New balance: {pythonic_account.balance}\")\n",
        "\n",
        "# Now, let's try to set an invalid value. The setter will raise an error.\n",
        "try:\n",
        "    print(\"\\nAttempting to set a negative balance...\")\n",
        "    pythonic_account.balance = -500\n",
        "except ValueError as e:\n",
        "    print(f\"Caught an error as expected: {e}\")\n",
        "\n",
        "print(f\"\\nFinal balance remains safe: {pythonic_account.balance}\")\n"
      ],
      "metadata": {
        "id": "cfo_q0Hulqae"
      },
      "execution_count": null,
      "outputs": []
    },
    {
      "cell_type": "markdown",
      "source": [
        "# Inheritance"
      ],
      "metadata": {
        "id": "JR3wAT2VlsFh"
      }
    },
    {
      "cell_type": "code",
      "source": [
        "# ==============================================================================\n",
        "# OOP Pillar: Inheritance in Python\n",
        "# ==============================================================================\n",
        "#\n",
        "# Inheritance allows a new class (Child Class) to inherit attributes and\n",
        "# methods from an existing class (Parent Class). This promotes code reusability\n",
        "# and creates a logical hierarchy.\n",
        "#\n",
        "# Key Concepts Covered:\n",
        "# 1. The Problem: Code Repetition.\n",
        "# 2. The Solution: Parent and Child classes.\n",
        "# 3. `super()`: To call the parent's constructor.\n",
        "# 4. Method Overriding: Redefining a parent's method in the child.\n",
        "# 5. Extending Functionality: Adding new methods and attributes in the child.\n",
        "# 6. Types of Inheritance (Single, Multilevel).\n",
        "# 7. Polymorphism with inherited objects.\n",
        "# --------------------------------------"
      ],
      "metadata": {
        "id": "kAktI11Slww8"
      },
      "execution_count": null,
      "outputs": []
    },
    {
      "cell_type": "code",
      "source": [
        "# --- 1. The Problem: Code Repetition without Inheritance ---\n",
        "print(\"--- 1. The Problem: Repetitive Code ---\")\n",
        "# Imagine having to write separate classes for every employee type.\n",
        "# Notice the repeated __init__ and display_profile code.\n",
        "class ManualManager:\n",
        "    def __init__(self, name, emp_id):\n",
        "        self.name = name\n",
        "        self.emp_id = emp_id\n",
        "    def display_profile(self):\n",
        "        print(f\"Manager: {self.name}, ID: {self.emp_id}\")\n",
        "\n",
        "class ManualDeveloper:\n",
        "    def __init__(self, name, emp_id):\n",
        "        self.name = name\n",
        "        self.emp_id = emp_id\n",
        "    def display_profile(self):\n",
        "        print(f\"Developer: {self.name}, ID: {self.emp_id}\")\n",
        "\n",
        "print(\"Without inheritance, code is duplicated and hard to maintain.\")\n",
        "print(\"-\" * 50)"
      ],
      "metadata": {
        "id": "Foju3J59l5T1"
      },
      "execution_count": null,
      "outputs": []
    },
    {
      "cell_type": "code",
      "source": [
        "# --- 2. The Solution: Using Inheritance ---\n",
        "print(\"\\n--- 2. The Solution: A Parent 'Employee' Class ---\")\n",
        "\n",
        "# This is the Parent Class (also called Base or Superclass).\n",
        "# It contains all the common attributes and methods.\n",
        "class Employee:\n",
        "    def __init__(self, name, emp_id, salary):\n",
        "        self.name = name\n",
        "        self.emp_id = emp_id\n",
        "        self.salary = salary\n",
        "        print(f\"(Employee '{self.name}' created)\")\n",
        "\n",
        "    def display_profile(self):\n",
        "        print(f\"  ID: {self.emp_id}, Name: {self.name}, Salary: {self.salary}\")\n",
        "\n",
        "    def give_raise(self, percentage):\n",
        "        self.salary = int(self.salary * (1 + percentage / 100))\n",
        "        print(f\"  Raise given to {self.name}. New salary: {self.salary}\")\n"
      ],
      "metadata": {
        "id": "Stv9zCn7l8ki"
      },
      "execution_count": null,
      "outputs": []
    },
    {
      "cell_type": "code",
      "source": [
        "# --- 3. Single Inheritance: Creating Child Classes ---\n",
        "print(\"\\n--- 3. Creating Child Classes ---\")\n",
        "\n",
        "# This is a Child Class (also called Derived or Subclass).\n",
        "# It inherits ALL attributes and methods from the Employee class.\n",
        "class Developer(Employee):\n",
        "    def __init__(self, name, emp_id, salary, programming_lang):\n",
        "        # Use super() to call the Parent's __init__ method.\n",
        "        # This avoids rewriting self.name, self.emp_id, etc.\n",
        "        super().__init__(name, emp_id, salary)\n",
        "        # Add a new attribute specific to the Developer class.\n",
        "        self.language = programming_lang\n",
        "\n",
        "    # Add a new method specific to the Developer class.\n",
        "    def write_code(self):\n",
        "        print(f\"  {self.name} is writing code in {self.language}.\")\n",
        "\n",
        "class Manager(Employee):\n",
        "    def __init__(self, name, emp_id, salary, team_size):\n",
        "        super().__init__(name, emp_id, salary)\n",
        "        self.team_size = team_size\n"
      ],
      "metadata": {
        "id": "RagPkrZfmHMs"
      },
      "execution_count": null,
      "outputs": []
    },
    {
      "cell_type": "code",
      "source": [
        " # --- 4. Method Overriding ---\n",
        "    # We redefine the display_profile method to add more details for a Manager.\n",
        "    # This version will be used for Manager objects instead of the parent's version.\n",
        "    def display_profile(self):\n",
        "        print(f\"  MANAGER -> ID: {self.emp_id}, Name: {self.name}, Team Size: {self.team_size}\")\n"
      ],
      "metadata": {
        "id": "Q_DHGrHvmN-A"
      },
      "execution_count": null,
      "outputs": []
    },
    {
      "cell_type": "code",
      "source": [
        "# ==============================================================================\n",
        "# --- Using the Inherited Classes ---\n",
        "# ==============================================================================\n",
        "print(\"\\n--- Interacting with Child Class Objects ---\")\n",
        "dev1 = Developer(\"Rohan\", 101, 80000, \"Python\")\n",
        "mgr1 = Manager(\"Priya\", 1, 120000, 15)\n",
        "\n",
        "# The Developer object can use methods from both Parent and Child.\n",
        "print(\"\\nDeveloper's Profile:\")\n",
        "dev1.display_profile() # Inherited from Employee\n",
        "dev1.give_raise(10)    # Inherited from Employee\n",
        "dev1.write_code()      # Its own method\n",
        "\n",
        "# The Manager object uses its own overridden method.\n",
        "print(\"\\nManager's Profile:\")\n",
        "mgr1.display_profile() # Overridden version is called\n",
        "mgr1.give_raise(15)    # Inherited from Employee\n",
        "print(\"-\" * 50)\n"
      ],
      "metadata": {
        "id": "O-j9vFaSmS8R"
      },
      "execution_count": null,
      "outputs": []
    },
    {
      "cell_type": "code",
      "source": [
        "# ==============================================================================\n",
        "# --- Advanced Topics ---\n",
        "# ==============================================================================\n",
        "print(\"\\n--- 5. Multilevel Inheritance (Grandparent -> Parent -> Child) ---\")\n",
        "# A class can inherit from another child class.\n",
        "class SeniorDeveloper(Developer):\n",
        "    def __init__(self, name, emp_id, salary, programming_lang, years_exp):\n",
        "        super().__init__(name, emp_id, salary, programming_lang)\n",
        "        self.experience = years_exp\n",
        "\n",
        "    def mentor_junior(self):\n",
        "        print(f\"  {self.name} with {self.experience} years of experience is mentoring.\")\n",
        "\n",
        "sr_dev = SeniorDeveloper(\"Suresh\", 102, 100000, \"Python\", 8)\n",
        "print(\"\\nSenior Developer's Profile:\")\n",
        "sr_dev.display_profile() # Inherited from Employee\n",
        "sr_dev.write_code()      # Inherited from Developer\n",
        "sr_dev.mentor_junior()   # Its own method\n",
        "print(\"-\" * 50)"
      ],
      "metadata": {
        "id": "nDp8uk65mUXQ"
      },
      "execution_count": null,
      "outputs": []
    },
    {
      "cell_type": "code",
      "source": [
        "# --- 6. Polymorphism with Inheritance ---\n",
        "# We can treat objects of different child classes in the same way if they\n",
        "# share a common parent method.\n",
        "print(\"\\n--- 6. Polymorphism in Action ---\")\n",
        "company_staff = [dev1, mgr1, sr_dev]\n",
        "\n",
        "print(\"Displaying profiles for all staff:\")\n",
        "for staff_member in company_staff:\n",
        "    # We can call .display_profile() on every object.\n",
        "    # It will automatically call the correct version (overridden for Manager).\n",
        "    staff_member.display_profile()"
      ],
      "metadata": {
        "id": "Cm1fsRYqmX4u"
      },
      "execution_count": null,
      "outputs": []
    },
    {
      "cell_type": "markdown",
      "source": [
        "# Polymorphism"
      ],
      "metadata": {
        "id": "iBUJBA_-mezd"
      }
    },
    {
      "cell_type": "code",
      "source": [
        "# ==============================================================================\n",
        "# OOP Pillar: Polymorphism in Python\n",
        "# ==============================================================================\n",
        "#\n",
        "# Polymorphism, from Greek words meaning \"many forms,\" is the ability of\n",
        "# different objects to respond to the same method call in their own unique way.\n",
        "#\n",
        "# It allows us to write flexible and extensible code by decoupling it from\n",
        "# specific class types.\n",
        "#\n",
        "# Key Concepts Covered:\n",
        "# 1. The Problem: Rigid code with many `if-elif-else` checks.\n",
        "# 2. Polymorphism with Inheritance (The most common form).\n",
        "# 3. Polymorphism with Duck Typing (A Python-specific feature).\n",
        "# 4. Polymorphism with built-in functions.\n",
        "# ------------------------------------------------------------------------------\n"
      ],
      "metadata": {
        "id": "M9r0hphJms31"
      },
      "execution_count": null,
      "outputs": []
    },
    {
      "cell_type": "code",
      "source": [
        "# --- 1. The Setup: A Common \"Contract\" using Abstraction ---\n",
        "# We'll create a \"contract\" that says any data exporter must have an .export() method.\n",
        "# This sets the stage for polymorphism.\n",
        "from abc import ABC, abstractmethod\n",
        "\n",
        "class AbstractDataExporter(ABC):\n",
        "    @abstractmethod\n",
        "    def export(self, data, filename):\n",
        "        \"\"\"A contract for exporting data to a file.\"\"\"\n",
        "        pass\n"
      ],
      "metadata": {
        "id": "J8vwsbIOmuF-"
      },
      "execution_count": null,
      "outputs": []
    },
    {
      "cell_type": "code",
      "source": [
        "# --- 2. Polymorphism with Inheritance ---\n",
        "# Different classes (workers) implement the same method from the contract\n",
        "# in their own specific ways.\n",
        "print(\"--- 2. Polymorphism with Inheritance ---\")\n",
        "import json\n",
        "import csv\n",
        "\n",
        "class JSONExporter(AbstractDataExporter):\n",
        "    \"\"\"Exports data to a JSON file.\"\"\"\n",
        "    def export(self, data, filename):\n",
        "        with open(f\"{filename}.json\", 'w') as f:\n",
        "            json.dump(data, f, indent=4)\n",
        "        print(f\"Data successfully exported to {filename}.json\")\n",
        "\n",
        "class CSVExporter(AbstractDataExporter):\n",
        "    \"\"\"Exports data to a CSV file.\"\"\"\n",
        "    def export(self, data, filename):\n",
        "        with open(f\"{filename}.csv\", 'w', newline='') as f:\n",
        "            if not data:\n",
        "                return # Handle empty data\n",
        "            writer = csv.DictWriter(f, fieldnames=data[0].keys())\n",
        "            writer.writeheader()\n",
        "            writer.writerows(data)\n",
        "        print(f\"Data successfully exported to {filename}.csv\")\n",
        "\n",
        "# The main application logic that benefits from polymorphism.\n",
        "def export_data_for_report(exporter_object, report_data, report_name):\n",
        "    \"\"\"\n",
        "    This function can work with ANY exporter object that follows the contract,\n",
        "    without needing to know its specific type.\n",
        "    \"\"\"\n",
        "    print(f\"\\nUsing {type(exporter_object).__name__} to export '{report_name}'...\")\n",
        "    exporter_object.export(report_data, report_name)\n",
        "\n",
        "# --- Using the polymorphic function ---\n",
        "employee_data = [\n",
        "    {'id': 101, 'name': 'Amit Kumar', 'department': 'Engineering'},\n",
        "    {'id': 102, 'name': 'Riya Sharma', 'department': 'Marketing'}\n",
        "]\n",
        "\n",
        "# Create the different \"worker\" objects\n",
        "json_worker = JSONExporter()\n",
        "csv_worker = CSVExporter()\n",
        "\n",
        "# Call the same function with different types of objects.\n",
        "# The function's behavior changes based on the object it receives.\n",
        "export_data_for_report(json_worker, employee_data, \"employee_report\")\n",
        "export_data_for_report(csv_worker, employee_data, \"employee_report\")\n",
        "print(\"-\" * 50)\n"
      ],
      "metadata": {
        "id": "68ttVta_mw_G"
      },
      "execution_count": null,
      "outputs": []
    },
    {
      "cell_type": "code",
      "source": [
        "# ==============================================================================\n",
        "# --- 3. Extra Topic: Polymorphism with Duck Typing ---\n",
        "# ==============================================================================\n",
        "#\n",
        "# \"If it walks like a duck and quacks like a duck, then it must be a duck.\"\n",
        "#\n",
        "# Python doesn't care about the object's class type. It only cares if the\n",
        "# object has the method we are trying to call. This is a more informal\n",
        "# but very powerful type of polymorphism.\n",
        "print(\"\\n--- 3. Polymorphism with Duck Typing ---\")\n",
        "\n",
        "class Dog:\n",
        "    def speak(self):\n",
        "        return \"Woof!\"\n",
        "\n",
        "class Cat:\n",
        "    def speak(self):\n",
        "        return \"Meow!\"\n",
        "\n",
        "class Human:\n",
        "    def speak(self):\n",
        "        return \"Hello!\"\n",
        "\n",
        "# This function doesn't care about the class (Dog, Cat, Human).\n",
        "# It only cares that the object passed to it has a .speak() method.\n",
        "def make_it_speak(any_creature):\n",
        "    print(f\"{type(any_creature).__name__} says: {any_creature.speak()}\")\n",
        "\n",
        "# Create objects of different, unrelated classes\n",
        "dog = Dog()\n",
        "cat = Cat()\n",
        "human = Human()\n",
        "\n",
        "make_it_speak(dog)\n",
        "make_it_speak(cat)\n",
        "make_it_speak(human)\n",
        "print(\"-\" * 50)\n"
      ],
      "metadata": {
        "id": "BBBrw93Wm2lQ"
      },
      "execution_count": null,
      "outputs": []
    },
    {
      "cell_type": "code",
      "source": [
        "# ==============================================================================\n",
        "# --- 3. Extra Topic: Polymorphism with Duck Typing ---\n",
        "# ==============================================================================\n",
        "#\n",
        "# \"If it walks like a duck and quacks like a duck, then it must be a duck.\"\n",
        "#\n",
        "# Python doesn't care about the object's class type. It only cares if the\n",
        "# object has the method we are trying to call. This is a more informal\n",
        "# but very powerful type of polymorphism.\n",
        "print(\"\\n--- 3. Polymorphism with Duck Typing ---\")\n",
        "\n",
        "class Dog:\n",
        "    def speak(self):\n",
        "        return \"Woof!\"\n",
        "\n",
        "class Cat:\n",
        "    def speak(self):\n",
        "        return \"Meow!\"\n",
        "\n",
        "class Human:\n",
        "    def speak(self):\n",
        "        return \"Hello!\"\n",
        "\n",
        "# This function doesn't care about the class (Dog, Cat, Human).\n",
        "# It only cares that the object passed to it has a .speak() method.\n",
        "def make_it_speak(any_creature):\n",
        "    print(f\"{type(any_creature).__name__} says: {any_creature.speak()}\")\n",
        "\n",
        "# Create objects of different, unrelated classes\n",
        "dog = Dog()\n",
        "cat = Cat()\n",
        "human = Human()\n",
        "\n",
        "make_it_speak(dog)\n",
        "make_it_speak(cat)\n",
        "make_it_speak(human)\n",
        "print(\"-\" * 50)"
      ],
      "metadata": {
        "id": "b_lqr2p6nIQg"
      },
      "execution_count": null,
      "outputs": []
    },
    {
      "cell_type": "markdown",
      "source": [
        "# Abstraction"
      ],
      "metadata": {
        "id": "aBIzHaEhnKho"
      }
    },
    {
      "cell_type": "code",
      "source": [
        "# ==============================================================================\n",
        "# OOP Pillar: Abstraction in Python\n",
        "# ==============================================================================\n",
        "#\n",
        "# Abstraction means hiding the complex implementation details and showing only\n",
        "# the essential features (the interface) to the user.\n",
        "#\n",
        "# It enforces a \"contract\" or a \"rulebook\" that subclasses must follow,\n",
        "# ensuring a consistent structure across the system.\n",
        "#\n",
        "# We achieve this in Python using the `abc` (Abstract Base Classes) module.\n",
        "#\n",
        "# Key Concepts Covered:\n",
        "# 1. Abstract Base Class (ABC): The contract or blueprint.\n",
        "# 2. Abstract Methods: The compulsory rules within the contract.\n",
        "# 3. Concrete Classes: The \"workers\" that follow the contract.\n",
        "# 4. TypeError Enforcement: What happens when a rule is broken.\n",
        "# 5. Partial Abstraction: An abstract class with both rules and ready-made logic.\n",
        "# ------------------------------------------------------------------------------\n"
      ],
      "metadata": {
        "id": "HqAKIwHMnNCK"
      },
      "execution_count": null,
      "outputs": []
    },
    {
      "cell_type": "code",
      "source": [
        "# --- 1. The Abstract Class (The \"Contract\" or \"Rulebook\") ---\n",
        "# This class defines a set of rules for any report generator.\n",
        "# You cannot create an object directly from this class.\n",
        "class AbstractReportGenerator(ABC):\n",
        "\n",
        "    # --- 5. Partial Abstraction: A Concrete Method ---\n",
        "    # This is a ready-made \"template\" method that all child classes will inherit.\n",
        "    # It provides a fixed structure for generating a report.\n",
        "    def generate_and_save(self, data, filename):\n",
        "        \"\"\"A template method that defines the report generation steps.\"\"\"\n",
        "        print(f\"\\n--- Generating report using {type(self).__name__} ---\")\n",
        "        header = self.generate_header()\n",
        "        body = self.generate_body(data)\n",
        "        footer = self.generate_footer()\n",
        "\n",
        "        full_report = f\"{header}\\n{body}\\n{footer}\"\n",
        "\n",
        "        with open(filename, 'w') as f:\n",
        "            f.write(full_report)\n",
        "        print(f\"Report successfully saved to {filename}\")"
      ],
      "metadata": {
        "id": "GNWARUaYnXCa"
      },
      "execution_count": null,
      "outputs": []
    },
    {
      "cell_type": "code",
      "source": [
        "# --- 2. Abstract Methods (The Compulsory Rules) ---\n",
        "    # These methods have no implementation here. They MUST be implemented\n",
        "    # by any class that inherits from AbstractReportGenerator.\n",
        "    @abstractmethod\n",
        "    def generate_header(self):\n",
        "        \"\"\"Rule: Must implement a way to generate a header.\"\"\"\n",
        "        pass\n",
        "\n",
        "    @abstractmethod\n",
        "    def generate_body(self, data):\n",
        "        \"\"\"Rule: Must implement a way to generate the main content.\"\"\"\n",
        "        pass\n",
        "\n",
        "    @abstractmethod\n",
        "    def generate_footer(self):\n",
        "        \"\"\"Rule: Must implement a way to generate a footer.\"\"\"\n",
        "        pass\n",
        "\n"
      ],
      "metadata": {
        "id": "OLV9T1_0ncl7"
      },
      "execution_count": null,
      "outputs": []
    },
    {
      "cell_type": "code",
      "source": [
        "# --- 3. Concrete Classes (The \"Workers\" that Follow the Contract) ---\n",
        "# These classes inherit from the abstract class and provide their own\n",
        "# specific implementation for the abstract methods.\n",
        "\n",
        "class PDFReport(AbstractReportGenerator):\n",
        "    \"\"\"A concrete implementation for generating a PDF-style report.\"\"\"\n",
        "    def generate_header(self):\n",
        "        return \"--- PDF Report Header (v1.0) ---\"\n",
        "\n",
        "    def generate_body(self, data):\n",
        "        body_content = \"PDF Content:\\n\"\n",
        "        for key, value in data.items():\n",
        "            body_content += f\"- {key}: {value}\\n\"\n",
        "        return body_content\n",
        "\n",
        "    def generate_footer(self):\n",
        "        return \"--- End of PDF Report ---\"\n",
        "\n",
        "\n",
        "class HTMLReport(AbstractReportGenerator):\n",
        "    \"\"\"A concrete implementation for generating an HTML report.\"\"\"\n",
        "    def generate_header(self):\n",
        "        return \"<h1>Company Annual Report</h1>\"\n",
        "\n",
        "    def generate_body(self, data):\n",
        "        body_content = \"<ul>\\n\"\n",
        "        for key, value in data.items():\n",
        "            body_content += f\"  <li><b>{key}:</b> {value}</li>\\n\"\n",
        "        body_content += \"</ul>\"\n",
        "        return body_content\n",
        "\n",
        "    def generate_footer(self):\n",
        "        return \"<p><i>Copyright 2024. All rights reserved.</i></p>\"\n"
      ],
      "metadata": {
        "id": "8GtKiOKInh74"
      },
      "execution_count": null,
      "outputs": []
    },
    {
      "cell_type": "code",
      "source": [
        "\n",
        "# --- 4. TypeError Enforcement (Breaking the Contract) ---\n",
        "# The following class is commented out because it would raise a TypeError.\n",
        "# It inherits from the abstract class but \"forgets\" to implement all the\n",
        "# abstract methods, thus breaking the contract.\n",
        "#\n",
        "# class FaultyReport(AbstractReportGenerator):\n",
        "#     def generate_header(self):\n",
        "#         return \"This is a faulty header.\"\n",
        "#\n",
        "# # Trying to create an object from this would fail:\n",
        "# # faulty = FaultyReport() -> TypeError: Can't instantiate abstract class...\n",
        "\n"
      ],
      "metadata": {
        "id": "2obJGnsFnp7r"
      },
      "execution_count": null,
      "outputs": []
    },
    {
      "cell_type": "code",
      "source": [
        "# ==============================================================================\n",
        "# --- Using the System ---\n",
        "# The main program can now use any report generator without knowing its details,\n",
        "# thanks to the consistent interface provided by abstraction.\n",
        "# ==============================================================================\n",
        "report_data = {\n",
        "    \"Total Sales\": \"1,000,000 USD\",\n",
        "    \"Active Users\": 50000,\n",
        "    \"Growth\": \"15%\"\n",
        "}\n",
        "\n",
        "# Create objects of our concrete \"worker\" classes.\n",
        "pdf_generator = PDFReport()\n",
        "html_generator = HTMLReport()\n",
        "\n",
        "# Use the template method from the parent abstract class.\n",
        "# This single method call will trigger the specific implementations\n",
        "# from the PDFReport and HTMLReport classes.\n",
        "pdf_generator.generate_and_save(report_data, \"report.pdf.txt\")\n",
        "html_generator.generate_and_save(report_data, \"report.html\")\n"
      ],
      "metadata": {
        "id": "e2yFMZd_nrNW"
      },
      "execution_count": null,
      "outputs": []
    },
    {
      "cell_type": "markdown",
      "source": [
        "# NUMPY"
      ],
      "metadata": {
        "id": "lh3PIqXEljVI"
      }
    },
    {
      "cell_type": "markdown",
      "source": [
        "Of course! Based on the provided PDF, here are all the NumPy functions and methods mentioned.\n",
        "\n",
        "***\n",
        "\n",
        "### Array Creation\n",
        "\n",
        "These functions are used to create new NumPy arrays.\n",
        "\n",
        "* [cite_start]`np.array()`: Creates an array from a Python list or tuple[cite: 10, 11].\n",
        "* [cite_start]`np.zeros()`: Creates an array of a given shape filled with zeros[cite: 12].\n",
        "* [cite_start]`np.ones()`: Creates an array of a given shape filled with ones[cite: 13, 14].\n",
        "* [cite_start]`np.empty()`: Creates an uninitialized array of a given shape[cite: 15].\n",
        "* [cite_start]`np.eye()`: Creates a 2D identity matrix[cite: 16].\n",
        "* [cite_start]`np.arange()`: Creates an array with evenly spaced values within a given interval[cite: 19].\n",
        "* [cite_start]`np.linspace()`: Creates an array with a specified number of evenly spaced values over a specified interval[cite: 21].\n",
        "* [cite_start]`np.matrix()`: Creates a specialized 2D matrix object[cite: 23].\n",
        "\n",
        "***\n",
        "\n",
        "### Reshaping and Dimension Manipulation\n",
        "\n",
        "These functions and methods change the shape and dimensions of an array.\n",
        "\n",
        "* [cite_start]`array.reshape()`: Changes the shape of an array without changing its data[cite: 39].\n",
        "* [cite_start]`array.flatten()`: Returns a 1D copy of the array[cite: 45].\n",
        "* [cite_start]`array.ravel()`: Returns a flattened view of the array when possible[cite: 46].\n",
        "* [cite_start]`np.expand_dims()`: Adds a new axis to an array[cite: 48].\n",
        "* [cite_start]`np.squeeze()`: Removes axes of length one from an array[cite: 55].\n",
        "* [cite_start]`array.sort()`: Sorts an array in-place[cite: 60].\n",
        "\n",
        "***\n",
        "\n",
        "### Mathematical and Arithmetic Operations\n",
        "\n",
        "These functions perform mathematical calculations.\n",
        "\n",
        "* [cite_start]`np.dot()`: Performs matrix multiplication or calculates the dot product[cite: 97].\n",
        "* [cite_start]**Element-wise Trigonometric**: `np.sin()`, `np.cos()`, `np.tan()`[cite: 105].\n",
        "* [cite_start]**Element-wise Exponential and Logarithmic**: `np.exp()`, `np.log()`, `np.log10()`[cite: 106].\n",
        "* [cite_start]**Element-wise Power and Roots**: `np.power()`, `np.sqrt()`[cite: 108, 109].\n",
        "* [cite_start]**Other Element-wise**: `np.mod()` [cite: 110, 123][cite_start], `np.remainder()` [cite: 110][cite_start], `np.abs()`[cite: 111].\n",
        "* [cite_start]**Operator Equivalents**: `np.add()` [cite: 121][cite_start], `np.subtract()` [cite: 121][cite_start], `np.multiply()` [cite: 123][cite_start], `np.divide()`[cite: 123].\n",
        "\n",
        "***\n",
        "\n",
        "### Aggregate Functions\n",
        "\n",
        "These functions compute a summary statistic from an array's elements.\n",
        "\n",
        "* [cite_start]`np.mean()`: Calculates the mean[cite: 113].\n",
        "* [cite_start]`np.std()`: Calculates the standard deviation[cite: 114].\n",
        "* [cite_start]`np.var()`: Calculates the variance[cite: 114].\n",
        "* [cite_start]`np.sum()`: Calculates the sum of elements[cite: 115].\n",
        "* [cite_start]`np.prod()`: Calculates the product of elements[cite: 115].\n",
        "* [cite_start]`np.min()`: Finds the minimum value[cite: 116].\n",
        "* [cite_start]`np.max()`: Finds the maximum value[cite: 116].\n",
        "\n",
        "***\n",
        "\n",
        "### Random Number Generation\n",
        "\n",
        "These functions are part of the `np.random` module and create arrays with random numbers.\n",
        "\n",
        "* [cite_start]`np.random.random_sample()`: Returns random floats in the interval [0.0, 1.0)[cite: 126].\n",
        "* [cite_start]`np.random.rand()`: Creates an array of a given shape with random samples from a uniform distribution over [0, 1)[cite: 129].\n",
        "* [cite_start]`np.random.randn()`: Returns samples from the standard normal distribution[cite: 132].\n",
        "* [cite_start]`np.random.randint()`: Returns an array of random integers from a specified range[cite: 134].\n",
        "\n",
        "***\n",
        "\n",
        "### Array Manipulation\n",
        "\n",
        "These functions are used for repeating, tiling, and shifting array elements.\n",
        "\n",
        "* [cite_start]`np.repeat()`: Repeats elements of an array[cite: 139].\n",
        "* [cite_start]`np.tile()`: Constructs an array by repeating a given array a number of times[cite: 148].\n",
        "* [cite_start]`np.roll()`: Rotates (shifts) the elements in an array[cite: 150].\n",
        "\n",
        "***\n",
        "\n",
        "### Vectorized String Operations\n",
        "\n",
        "These functions are from the `np.char` module and perform element-wise string operations.\n",
        "\n",
        "* [cite_start]`np.char.upper()`: Converts all strings in an array to uppercase[cite: 164].\n",
        "* [cite_start]`np.char.capitalize()`: Capitalizes the first letter of each string in an array[cite: 166].\n",
        "* [cite_start]`np.char.lower()`: Converts all strings in an array to lowercase[cite: 167].\n",
        "* [cite_start]`np.char.add()`: Performs element-wise string concatenation[cite: 167]."
      ],
      "metadata": {
        "id": "Gs2KZ3__lm1p"
      }
    },
    {
      "cell_type": "markdown",
      "source": [
        "# PANDAS"
      ],
      "metadata": {
        "id": "nc6MnoR7mOhu"
      }
    },
    {
      "cell_type": "markdown",
      "source": [
        "Of course. Here is a comprehensive list of every function and method used in the provided PDF file, categorized for clarity.\n",
        "\n",
        "### **Basics and Setup**\n",
        "\n",
        "* [cite_start]`type()`: Checks the type of an object, like a DataFrame or Series[cite: 12, 159].\n",
        "* [cite_start]`pd.set_option()`: Sets display options for pandas, such as the maximum number of rows or columns to show[cite: 17, 18, 20].\n",
        "* [cite_start]`requests.get()`: Sends an HTTP GET request to a URL to fetch data from a web API[cite: 49].\n",
        "* [cite_start]`data.json()`: Converts a JSON response from a web request into a Python dictionary or list[cite: 49].\n",
        "* [cite_start]`len()`: A standard Python function used to get the count of items, such as the number of rows that meet a certain condition[cite: 79, 84, 87, 95, 98, 104].\n",
        "* [cite_start]`list()`: A standard Python function used to convert an object (like a pandas Series or DataFrame columns) into a Python list[cite: 109, 118].\n",
        "* [cite_start]`np.random.choice()`: Selects a random sample from a given 1-D array[cite: 426].\n",
        "\n",
        "***\n",
        "\n",
        "### **Reading and Writing Data**\n",
        "\n",
        "* [cite_start]`pd.read_csv()`: Reads data from a CSV file or URL into a DataFrame[cite: 25, 27, 33, 34, 38].\n",
        "* [cite_start]`pd.read_excel()`: Reads data from an Excel file into a DataFrame[cite: 35].\n",
        "* [cite_start]`pd.read_html()`: Reads all HTML tables from a webpage into a list of DataFrames[cite: 39].\n",
        "* [cite_start]`pd.read_json()`: Reads data from a JSON file or string into a DataFrame[cite: 41].\n",
        "* [cite_start]`df.to_csv()`: Saves a DataFrame to a CSV file[cite: 44, 156].\n",
        "\n",
        "***\n",
        "\n",
        "### **Creating Data Structures**\n",
        "\n",
        "* [cite_start]`pd.DataFrame()`: Creates a new DataFrame from various inputs like dictionaries, lists, or Series[cite: 52, 183, 186, 254, 265, 291, 316, 358, 366, 411].\n",
        "* [cite_start]`pd.Series()`: Creates a new Series (a single column) from a list or array, optionally with a custom index[cite: 158, 166, 167, 174].\n",
        "* [cite_start]`pd.Categorical()`: Converts a column into a categorical data type, which is useful for memory optimization and analysis[cite: 132].\n",
        "\n",
        "***\n",
        "\n",
        "### **Inspecting and Summarizing Data**\n",
        "\n",
        "* [cite_start]`df.head()`: Displays the first few rows of a DataFrame (default is 5)[cite: 113, 147].\n",
        "* [cite_start]`df.tail()`: Displays the last few rows of a DataFrame (default is 5)[cite: 114, 148].\n",
        "* [cite_start]`df.sample()`: Returns a random sample of rows from a DataFrame[cite: 115, 154].\n",
        "* [cite_start]`df.info()`: Provides a concise summary of a DataFrame, including data types and non-null values[cite: 119, 146, 216].\n",
        "* [cite_start]`df.describe()`: Generates descriptive statistics for the numerical or object columns in a DataFrame[cite: 215, 396, 399, 401, 404, 408].\n",
        "* [cite_start]`df['col'].unique()`: Returns an array of the unique values in a Series/column[cite: 133].\n",
        "* [cite_start]`df['col'].nunique()`: Returns the number of unique values in a Series/column[cite: 134].\n",
        "* [cite_start]`df['col'].value_counts()`: Returns a Series containing counts of unique values[cite: 102, 106, 135].\n",
        "* [cite_start]`df.isnull()`: Detects missing values, returning a boolean DataFrame[cite: 223].\n",
        "* [cite_start]`df.isnull().sum()`: Counts the number of missing values in each column[cite: 223].\n",
        "\n",
        "***\n",
        "\n",
        "### **Selecting and Filtering Data**\n",
        "\n",
        "* [cite_start]`df.loc[]`: Accesses a group of rows and columns by **label(s)** or a boolean array[cite: 67, 68, 207].\n",
        "* [cite_start]`df.iloc[]`: Accesses a group of rows and columns by **integer position(s)**[cite: 66, 69].\n",
        "\n",
        "***\n",
        "\n",
        "### **Data Cleaning and Manipulation**\n",
        "\n",
        "* [cite_start]`df.drop()`: Removes specified rows or columns from a DataFrame[cite: 198, 199].\n",
        "* [cite_start]`df.dropna()`: Removes rows or columns with missing values (NaN)[cite: 225, 227, 231, 420].\n",
        "* [cite_start]`df.fillna()`: Fills missing (NaN) values with a specified value[cite: 233, 235].\n",
        "* [cite_start]`df.set_index()`: Sets a column as the DataFrame index[cite: 205].\n",
        "* [cite_start]`df.reset_index()`: Resets the DataFrame index to the default integer index[cite: 155, 201, 209, 353].\n",
        "* [cite_start]`df['col'].astype()`: Casts a pandas object to a specified data type, like `int` or `object`[cite: 424].\n",
        "\n",
        "***\n",
        "\n",
        "### **Merging and Concatenating**\n",
        "\n",
        "* [cite_start]`pd.concat()`: Concatenates (stacks) pandas objects along a particular axis (vertically or horizontally)[cite: 244, 246].\n",
        "* [cite_start]`pd.merge()`: Merges DataFrame or named Series objects with a database-style join operation[cite: 274, 275, 277, 280, 282, 284, 288].\n",
        "* [cite_start]`df.join()`: Joins columns of another DataFrame, primarily based on the index[cite: 335, 340, 343, 345, 348].\n",
        "\n",
        "***\n",
        "\n",
        "### **Applying Functions and String Methods**\n",
        "\n",
        "* [cite_start]`df['col'].apply()`: Applies a function along an axis of the DataFrame[cite: 361, 364].\n",
        "* [cite_start]`.str.lower()`: Converts all characters in a string Series to lowercase[cite: 368].\n",
        "* [cite_start]`.str.upper()`: Converts all characters in a string Series to uppercase[cite: 370].\n",
        "* [cite_start]`.startswith()`: Tests if the start of each string element matches a pattern[cite: 372].\n",
        "* [cite_start]`x.split()`: Splits a string into a list of words, used within a lambda function[cite: 364].\n",
        "\n",
        "***\n",
        "\n",
        "### **Statistical and Mathematical Operations**\n",
        "\n",
        "* [cite_start]`df['col'].mean()`: Calculates the mean (average) of a Series[cite: 81, 375, 380].\n",
        "* [cite_start]`df['col'].median()`: Calculates the median of a Series[cite: 381].\n",
        "* [cite_start]`df['col'].mode()`: Finds the mode(s) of a Series[cite: 382].\n",
        "* [cite_start]`df['col'].min()`: Finds the minimum value in a Series[cite: 383].\n",
        "* [cite_start]`df['col'].max()`: Finds the maximum value in a Series[cite: 388].\n",
        "* [cite_start]`df['col'].sum()`: Calculates the sum of values in a Series[cite: 390].\n",
        "* [cite_start]`df['col'].std()`: Calculates the standard deviation of a Series[cite: 392].\n",
        "* [cite_start]`df['col'].var()`: Calculates the variance of a Series[cite: 394].\n",
        "* [cite_start]`df['col'].cumsum()`: Calculates the cumulative sum of a Series[cite: 431].\n",
        "\n",
        "***\n",
        "\n",
        "### **Grouping and Window Functions**\n",
        "\n",
        "* [cite_start]`df.groupby()`: Groups a DataFrame using a mapper or by a Series of columns[cite: 427].\n",
        "* [cite_start]`df.rolling()`: Provides rolling window calculations[cite: 413, 414, 415, 416, 418, 420].\n",
        "    * [cite_start]`.rolling().mean()`: Computes the rolling mean[cite: 413, 414, 420].\n",
        "    * [cite_start]`.rolling().sum()`: Computes the rolling sum[cite: 415, 427].\n",
        "    * [cite_start]`.rolling().min()`: Computes the rolling minimum[cite: 416].\n",
        "    * [cite_start]`.rolling().max()`: Computes the rolling maximum[cite: 418]."
      ],
      "metadata": {
        "id": "RKqWAP2NmQr1"
      }
    },
    {
      "cell_type": "markdown",
      "source": [
        "# SEABORN\n"
      ],
      "metadata": {
        "id": "ukrejkV_mfvf"
      }
    },
    {
      "cell_type": "markdown",
      "source": [
        "Of course. Here is a comprehensive guide to every plot mentioned in the provided Seaborn file, including the steps to create them and all the associated knowledge, tips, and tricks.\n",
        "\n",
        "### **Relational Plots (Scatter and Line)**\n",
        "\n",
        "These plots are used to understand the relationship between two variables. The main function for this is `sns.relplot()`, which is a figure-level function that can create grids of subplots (facets).\n",
        "\n",
        "---\n",
        "\n",
        "#### **Scatter Plots** 🎲\n",
        "\n",
        "[cite_start]Scatter plots are used to visualize the relationship between two **numeric variables**[cite: 617]. [cite_start]Each point on the plot represents an individual observation[cite: 619].\n",
        "\n",
        "**How to Create a Scatter Plot**\n",
        "* [cite_start]The primary function is `sns.relplot(x=\"col1\", y=\"col2\", data=dataframe)`[cite: 618].\n",
        "* [cite_start]By default, `sns.relplot()` creates a scatter plot, as its default setting is `kind=\"scatter\"`[cite: 618, 621].\n",
        "* [cite_start]For plotting on a specific Matplotlib axes, you can use the axes-level function `sns.scatterplot()`[cite: 626].\n",
        "\n",
        "**Knowledge, Tips, and Tricks**\n",
        "* **Add Dimensions with Semantics**: You can encode additional categorical variables using visual properties:\n",
        "    * [cite_start]`hue`: This parameter colors the points based on a category, making it easy to distinguish groups[cite: 631].\n",
        "    * [cite_start]`style`: This parameter changes the marker shape for each category, which is useful for accessibility (e.g., grayscale printing)[cite: 633, 635].\n",
        "* [cite_start]**Faceting (Creating Subplots)**: A powerful feature of `relplot` is creating a grid of plots separated by a category[cite: 637].\n",
        "    * [cite_start]Use `col=\"category_name\"` to create separate plots in columns for each category level[cite: 640].\n",
        "    * [cite_start]You can also use `row` to create rows of plots or use both `col` and `row` for a full grid[cite: 643].\n",
        "    * [cite_start]If you have many categories in a column, `col_wrap=n` will wrap the plots into multiple rows after `n` columns, keeping the layout clean[cite: 644].\n",
        "\n",
        "---\n",
        "\n",
        "#### **Line Plots** 📈\n",
        "\n",
        "[cite_start]Line plots are ideal for showing trends over a **continuous variable**, most commonly time[cite: 646].\n",
        "\n",
        "**How to Create a Line Plot**\n",
        "* [cite_start]Use `sns.relplot()` with the setting `kind=\"line\"`[cite: 647].\n",
        "* [cite_start]The corresponding axes-level function is `sns.lineplot()`[cite: 647].\n",
        "\n",
        "**Knowledge, Tips, and Tricks**\n",
        "* **Automatic Aggregation**: When multiple observations exist for the same x-value, Seaborn automatically aggregates them. [cite_start]By default, it plots the **mean** and a shaded **95% confidence interval** (CI) band[cite: 648, 661].\n",
        "* **Confidence Interval Control**: You can change or disable the CI band with the `ci` parameter:\n",
        "    * [cite_start]`ci=\"sd\"` shows the standard deviation instead[cite: 663].\n",
        "    * [cite_start]`ci=None` or `ci=0` completely hides the band[cite: 663].\n",
        "* [cite_start]**Estimator Control**: The aggregation function can be changed from the default mean using the `estimator` parameter (e.g., `estimator=np.median`)[cite: 664]. [cite_start]Using `estimator=None` will plot all observations without any aggregation[cite: 664].\n",
        "* [cite_start]**Multiple Lines**: Just like with scatter plots, you can use `hue` and `style` to draw separate lines for different categories on the same plot[cite: 671]. [cite_start]A legend is created automatically[cite: 684].\n",
        "* [cite_start]**Markers and Dashes**: You can add markers to your lines with `markers=True` and control line dashing with `dashes=False` (which makes all lines solid, allowing `style` to control markers instead of line patterns)[cite: 678].\n",
        "\n",
        "***\n",
        "\n",
        "### **Categorical Plots**\n",
        "\n",
        "[cite_start]These plots are designed to visualize a numeric variable across one or more categorical variables, showing distributions or aggregate values[cite: 687, 688]. The main figure-level function is `sns.catplot()`, where you can specify the plot type using the `kind` parameter.\n",
        "\n",
        "---\n",
        "\n",
        "#### **Categorical Scatter Plots**\n",
        "\n",
        "These plots show individual data points for each category.\n",
        "\n",
        "* [cite_start]**Strip Plot (`kind=\"strip\"`)**: This is the default categorical plot[cite: 699]. [cite_start]It displays individual data points as a scatter plot, with a small amount of random \"jitter\" added so points don't overlap perfectly[cite: 689, 700]. [cite_start]You can add `hue` for a second categorical grouping[cite: 703].\n",
        "* [cite_start]**Swarm Plot (`kind=\"swarm\"`)**: This plot is similar to a strip plot but uses an intelligent algorithm to place points so they are tightly packed but **never overlap**[cite: 705]. [cite_start]This gives a clearer view of the distribution[cite: 710].\n",
        "    * [cite_start]**Tip**: Swarm plots are best for smaller datasets, as they can become crowded and take a long time to render with many points[cite: 711, 712].\n",
        "\n",
        "---\n",
        "\n",
        "#### **Categorical Distribution Plots**\n",
        "\n",
        "These plots provide a summary of the distribution of data for each category.\n",
        "\n",
        "* [cite_start]**Box Plot (`kind=\"box\"`)**: A classic plot that summarizes a distribution by showing the **median**, the **interquartile range** (IQR, the box), and **outliers**[cite: 691, 714]. [cite_start]It's great for quickly comparing the central tendency and spread of different groups[cite: 719].\n",
        "    * [cite_start]**Tip**: Use `hue` to create adjacent boxes for sub-categories[cite: 720]. [cite_start]For long category names, use `orient=\"h\"` and swap your x and y variables for a horizontal plot[cite: 722]. [cite_start]You can also use the standalone `sns.boxplot()` function[cite: 724].\n",
        "* [cite_start]**Violin Plot (`kind=\"violin\"`)**: This plot combines a box plot with a **Kernel Density Estimate (KDE)**, creating a \"violin\" shape that shows the full distribution of the data[cite: 692, 727]. [cite_start]It gives a richer view of the data's shape than a box plot alone[cite: 732].\n",
        "    * [cite_start]**Tip**: When using `hue`, you can add `split=True` to create a \"split violin\" where each half represents one of the hue categories, allowing for a direct comparison[cite: 734].\n",
        "* [cite_start]**Boxen Plot (`kind=\"boxen\"`)**: An enhanced version of the box plot designed for **larger datasets**[cite: 693, 738]. [cite_start]It shows more quantiles beyond the standard quartiles, providing a more detailed look at the distribution's shape, especially in the tails[cite: 739, 742].\n",
        "\n",
        "---\n",
        "\n",
        "#### **Categorical Estimate Plots**\n",
        "\n",
        "These plots show an aggregate summary statistic for each category.\n",
        "\n",
        "* [cite_start]**Bar Plot (`kind=\"bar\"`)**: This plot shows an aggregate value for each category, which by default is the **mean**, indicated by the bar's height[cite: 694, 745]. [cite_start]The small black line on top of the bar represents the **95% confidence interval** of the mean[cite: 750]. [cite_start]The standalone function is `sns.barplot()`[cite: 747].\n",
        "    * [cite_start]**Tip**: Use the `estimator` parameter to change the aggregation function (e.g., `estimator=np.median`)[cite: 753].\n",
        "* [cite_start]**Count Plot (`kind=\"count\"`)**: This is a special type of bar plot that simply shows the **number of observations** in each category[cite: 696, 758]. [cite_start]It is useful for understanding the frequency distribution of categorical data[cite: 764]. [cite_start]The standalone function is `sns.countplot()`[cite: 759].\n",
        "    * [cite_start]**Tip**: You can use `hue` to get stacked or grouped counts by a second categorical variable[cite: 766].\n",
        "\n",
        "***\n",
        "\n",
        "### **Multi-Variable Plots and Grids**\n",
        "\n",
        "[cite_start]These higher-level functions create composite plots to analyze relationships between multiple variables at once[cite: 768].\n",
        "\n",
        "---\n",
        "\n",
        "#### **Joint Plot**\n",
        "\n",
        "[cite_start]A joint plot (`sns.jointplot()`) shows both the bivariate (relationship between two variables) and univariate (individual distribution of each variable) data at the same time[cite: 770]. [cite_start]The central plot shows the relationship, while plots on the top and right margins show the distributions[cite: 770].\n",
        "\n",
        "**Knowledge, Tips, and Tricks**\n",
        "* The `kind` parameter changes the central plot:\n",
        "    * [cite_start]**Default (`scatter`)**: A standard scatter plot with histograms on the margins[cite: 772].\n",
        "    * [cite_start]`kind=\"reg\"`: Adds a **regression line** and confidence interval to the scatter plot, great for seeing linear trends[cite: 776].\n",
        "    * `kind=\"hex\"`: A **hexbin plot** that is excellent for dense datasets where a normal scatter plot would suffer from overplotting. [cite_start]Darker hexagons indicate more data points[cite: 777, 782].\n",
        "    * [cite_start]`kind=\"kde\"`: A **2D Kernel Density Estimate** that shows the joint distribution with contour lines, indicating where data points are most concentrated[cite: 779].\n",
        "\n",
        "---\n",
        "\n",
        "#### **Pair Plot**\n",
        "\n",
        "[cite_start]A pair plot (`sns.pairplot()`) is a fantastic tool for exploratory data analysis that creates a **matrix of plots**, showing every pairwise relationship between the numeric variables in a dataset[cite: 788, 807].\n",
        "\n",
        "**Knowledge, Tips, and Tricks**\n",
        "* [cite_start]**Structure**: The off-diagonal plots are scatter plots showing the relationship between two variables, while the diagonal plots show the univariate distribution (histogram or KDE) of each individual variable[cite: 789, 793].\n",
        "* [cite_start]**Hue**: The `hue` argument is extremely powerful here, as it will color the points in every single subplot by a chosen categorical variable, allowing you to see how relationships differ across groups[cite: 794].\n",
        "* **Customization**:\n",
        "    * [cite_start]You can change the diagonal plot type with `diag_kind=\"kde\"`[cite: 801].\n",
        "    * [cite_start]If you don't want to plot all numeric columns, select specific ones with the `vars` parameter[cite: 803].\n",
        "    * [cite_start]Control the color scheme with the `palette` argument[cite: 803].\n",
        "    * [cite_start]**Warning**: Pair plots can become very large and slow if your dataset has many numeric variables[cite: 808].\n",
        "\n",
        "---\n",
        "\n",
        "#### **Regression Plot (Linear Model Plot)**\n",
        "\n",
        "[cite_start]A linear model plot (`sns.lmplot()`) is designed to explicitly visualize a **linear relationship** between two variables by fitting and plotting an ordinary least-squares regression line along with the scatter plot data[cite: 810, 811].\n",
        "\n",
        "**Knowledge, Tips, and Tricks**\n",
        "* [cite_start]**Output**: The plot includes the scatter of individual data points, a best-fit regression line, and a shaded 95% confidence interval for that line[cite: 815].\n",
        "* [cite_start]**Hue and Faceting**: Like other figure-level functions, you can use `hue` to fit and draw separate regression lines for different categories in the same plot[cite: 820]. [cite_start]You can also use `col` and `row` to create a grid of plots for different categories[cite: 823].\n",
        "* [cite_start]**Sizing**: Since `lmplot` is a figure-level function, you control its size with the `height` and `aspect` (width-to-height ratio) parameters [cite: 824-826].\n",
        "\n",
        "***\n",
        "\n",
        "### **Heatmaps**\n",
        "\n",
        "[cite_start]A heatmap (`sns.heatmap()`) is used to visualize **matrix-like data**, where individual values are represented by colors[cite: 830]. [cite_start]A very common use case is plotting a **correlation matrix**[cite: 830].\n",
        "\n",
        "**How to Create a Heatmap**\n",
        "1.  [cite_start]**Compute the Matrix**: First, you typically need to compute a matrix, such as the correlation matrix of a DataFrame (e.g., `corr = tips.corr()`)[cite: 832, 833].\n",
        "2.  [cite_start]**Plot the Matrix**: Pass the computed matrix to `sns.heatmap(corr)`[cite: 835].\n",
        "\n",
        "**Knowledge, Tips, and Tricks**\n",
        "* [cite_start]`annot=True`: This is a key parameter that writes the numerical value of each cell directly onto the heatmap, making it much easier to read[cite: 836].\n",
        "* `cmap`: This sets the color map. [cite_start]A diverging palette like `\"coolwarm\"` is excellent for correlation matrices, where positive and negative values have distinct colors[cite: 836].\n",
        "* [cite_start]`vmin`, `vmax`, `center`: These parameters can be used to fix the data range for the color map and center it on a specific value (like 0 for correlations)[cite: 845].\n",
        "\n",
        "***\n",
        "\n",
        "### **General Customizations**\n",
        "\n",
        "[cite_start]Since Seaborn is built on Matplotlib, you have extensive control over the final appearance of your plots[cite: 849].\n",
        "\n",
        "* **Themes and Styles**: Set the overall aesthetic for all your plots at the beginning of your script.\n",
        "    * Use `sns.set_style()` to control the background. [cite_start]Styles include `\"white\"`, `\"dark\"`, `\"whitegrid\"`, `\"darkgrid\"`, and `\"ticks\"`[cite: 857]. [cite_start]For example, `sns.set_style(\"whitegrid\")` adds a grid to the background of all subsequent plots[cite: 858].\n",
        "* [cite_start]**Color Palettes**: Use the `palette` argument in most plotting functions to control the color scheme (e.g., `palette=\"coolwarm\"`, `palette=\"Set2\"`)[cite: 851].\n",
        "* **Labels, Titles, and Sizing**:\n",
        "    * [cite_start]Use standard Matplotlib functions like `plt.title()`, `plt.xlabel()`, and `plt.ylabel()` after creating your plot to add annotations[cite: 859, 860].\n",
        "    * [cite_start]For axes-level plots, use `plt.figure(figsize=(width, height))` before plotting to set the size[cite: 863]. [cite_start]For figure-level functions, use the `height` and `aspect` parameters[cite: 862].\n",
        "* [cite_start]**Saving Plots**: To save your final visualization to a file, use Matplotlib's `plt.savefig(\"filename.png\")` function before you call `plt.show()`[cite: 867]."
      ],
      "metadata": {
        "id": "wyVfKhHGncus"
      }
    },
    {
      "cell_type": "markdown",
      "source": [
        "# Unique Plot Types"
      ],
      "metadata": {
        "id": "NttWqlvJn3M8"
      }
    },
    {
      "cell_type": "markdown",
      "source": [
        "* **Line Plot**: Shows trends by connecting data points.\n",
        "* **Scatter Plot**: Displays the relationship between two numeric variables as individual points.\n",
        "* **Bar Plot**: Compares values across different categories using vertical or horizontal bars.\n",
        "* **Histogram**: Visualizes the distribution of a single numeric variable by grouping data into bins.\n",
        "* **Pie Chart**: Shows the proportion of categories as slices of a whole.\n",
        "* **Area Plot**: A line plot where the area underneath is filled in, often stacked to show contributions to a total.\n",
        "* **3D Scatter Plot**: Visualizes the relationship between three numeric variables.\n",
        "* **Strip Plot**: A categorical scatter plot with jitter to show the distribution of points.\n",
        "* **Swarm Plot**: A categorical scatter plot where points are adjusted to not overlap.\n",
        "* **Box Plot**: A statistical summary showing the median, quartiles, and outliers for different categories.\n",
        "* **Violin Plot**: Combines a box plot with a density plot to show the full distribution shape.\n",
        "* **Boxen Plot**: An enhanced box plot for large datasets that shows more quantiles.\n",
        "* **Count Plot**: A special bar plot that shows the number of observations in each category.\n",
        "* **Joint Plot**: A composite plot showing both the relationship between two variables and their individual distributions.\n",
        "* **Pair Plot**: A matrix of plots showing every pairwise relationship in a dataset.\n",
        "* **Regression Plot**: A scatter plot with a fitted linear regression line and confidence interval.\n",
        "* **Heatmap**: A visualization of matrix data where values are represented by colors."
      ],
      "metadata": {
        "id": "6aGRa6LLnekV"
      }
    }
  ]
}