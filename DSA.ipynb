{
  "nbformat": 4,
  "nbformat_minor": 0,
  "metadata": {
    "colab": {
      "provenance": [],
      "include_colab_link": true
    },
    "kernelspec": {
      "name": "python3",
      "display_name": "Python 3"
    },
    "language_info": {
      "name": "python"
    }
  },
  "cells": [
    {
      "cell_type": "markdown",
      "metadata": {
        "id": "view-in-github",
        "colab_type": "text"
      },
      "source": [
        "<a href=\"https://colab.research.google.com/github/ashish78905/OPTICONNECT_CALLL_CENTER_ANALYSIS-ASSIGNMENT/blob/main/DSA.ipynb\" target=\"_parent\"><img src=\"https://colab.research.google.com/assets/colab-badge.svg\" alt=\"Open In Colab\"/></a>"
      ]
    },
    {
      "cell_type": "markdown",
      "source": [
        "# ARRAY"
      ],
      "metadata": {
        "id": "Kie35Cj1wYwH"
      }
    },
    {
      "cell_type": "markdown",
      "source": [
        "1. Find the maximum element in an array"
      ],
      "metadata": {
        "id": "uvKEZFtlDuW4"
      }
    },
    {
      "cell_type": "code",
      "execution_count": null,
      "metadata": {
        "id": "SvXeoUSiCIA7"
      },
      "outputs": [],
      "source": [
        "def find_max(arr):                     # arr = [5, 1, 8, 3, 2]\n",
        "    max_val = arr[0]                   # Start → max_val = 5\n",
        "\n",
        "    for num in arr:                    # Traverse elements one by one\n",
        "        # Iter 1: num=5 → compare with max_val(5) → not bigger → max_val=5\n",
        "        # Iter 2: num=1 → compare with 5 → not bigger → max_val=5\n",
        "        # Iter 3: num=8 → compare with 5 → bigger ✅ → max_val=8\n",
        "        # Iter 4: num=3 → compare with 8 → not bigger → max_val=8\n",
        "        # Iter 5: num=2 → compare with 8 → not bigger → max_val=8\n",
        "        if num > max_val:\n",
        "            max_val = num\n",
        "\n",
        "    return max_val                     # Final Answer = 8\n"
      ]
    },
    {
      "cell_type": "markdown",
      "source": [
        "2. Find the minimum element in an array"
      ],
      "metadata": {
        "id": "a4h3QjE4CVs2"
      }
    },
    {
      "cell_type": "code",
      "source": [
        "def find_min(arr):                     # arr = [5, 1, 8, 3, 2]\n",
        "    min_val = arr[0]                   # Start → min_val = 5\n",
        "\n",
        "    for num in arr:\n",
        "        # Iter 1: num=5 → compare with min_val(5) → equal → min_val=5\n",
        "        # Iter 2: num=1 → compare with 5 → smaller ✅ → min_val=1\n",
        "        # Iter 3: num=8 → compare with 1 → not smaller → min_val=1\n",
        "        # Iter 4: num=3 → compare with 1 → not smaller → min_val=1\n",
        "        # Iter 5: num=2 → compare with 1 → not smaller → min_val=1\n",
        "        if num < min_val:\n",
        "            min_val = num\n",
        "\n",
        "    return min_val                     # Final Answer = 1\n"
      ],
      "metadata": {
        "id": "pKp2WH6uCTYM"
      },
      "execution_count": null,
      "outputs": []
    },
    {
      "cell_type": "markdown",
      "source": [
        "3. Find largest and second largest"
      ],
      "metadata": {
        "id": "fe_-w8iKCaNf"
      }
    },
    {
      "cell_type": "code",
      "source": [
        "def two_largest(arr):                  # arr = [5, 1, 8, 3, 2]\n",
        "    first = second = float('-inf')     # Start → first=-∞, second=-∞\n",
        "\n",
        "    for num in arr:\n",
        "        # Iter 1: num=5 → bigger than first(-∞) ✅ → first=5, second=-∞\n",
        "        # Iter 2: num=1 → 1>5? ❌, but 1>second(-∞) ✅ → second=1\n",
        "        # Iter 3: num=8 → 8>5 ✅ → update → second=5, first=8\n",
        "        # Iter 4: num=3 → 3>8? ❌, 3>5? ❌ → unchanged\n",
        "        # Iter 5: num=2 → 2>8? ❌, 2>5? ❌ → unchanged\n",
        "        if num > first:\n",
        "            second = first\n",
        "            first = num\n",
        "        elif num > second and num != first:\n",
        "            second = num\n",
        "\n",
        "    return first, second               # Final Answer = (8, 5)\n"
      ],
      "metadata": {
        "id": "ow00Bm91Ccon"
      },
      "execution_count": null,
      "outputs": []
    },
    {
      "cell_type": "markdown",
      "source": [
        "4. Find smallest and second smallest"
      ],
      "metadata": {
        "id": "hp7A0_MoCeOD"
      }
    },
    {
      "cell_type": "code",
      "source": [
        "def two_smallest(arr):                 # arr = [5, 1, 8, 3, 2]\n",
        "    first = second = float('inf')      # Start → first=∞, second=∞\n",
        "\n",
        "    for num in arr:\n",
        "        # Iter 1: num=5 → 5<∞ ✅ → first=5, second=∞\n",
        "        # Iter 2: num=1 → 1<5 ✅ → first=1, second=5\n",
        "        # Iter 3: num=8 → 8<1? ❌, 8<5? ❌ → unchanged\n",
        "        # Iter 4: num=3 → 3<1? ❌, 3<5 ✅ → second=3\n",
        "        # Iter 5: num=2 → 2<1? ❌, 2<3 ✅ → second=2\n",
        "        if num < first:\n",
        "            second = first\n",
        "            first = num\n",
        "        elif num < second and num != first:\n",
        "            second = num\n",
        "\n",
        "    return first, second               # Final Answer = (1, 2)\n"
      ],
      "metadata": {
        "id": "BunXa1kdCgrt"
      },
      "execution_count": null,
      "outputs": []
    },
    {
      "cell_type": "markdown",
      "source": [
        "5. Reverse an array"
      ],
      "metadata": {
        "id": "kvAEC2NvCiVu"
      }
    },
    {
      "cell_type": "code",
      "source": [
        "def reverse_array(arr):                # arr = [5, 1, 8, 3, 2]\n",
        "    left, right = 0, len(arr)-1        # left=0, right=4\n",
        "\n",
        "    while left < right:\n",
        "        # Step 1: swap arr[0]=5 & arr[4]=2 → arr=[2,1,8,3,5]\n",
        "        # Step 2: left=1, right=3\n",
        "        # Step 3: swap arr[1]=1 & arr[3]=3 → arr=[2,3,8,1,5]\n",
        "        # Step 4: left=2, right=2 → stop\n",
        "        arr[left], arr[right] = arr[right], arr[left]\n",
        "        left += 1\n",
        "        right -= 1\n",
        "\n",
        "    return arr                         # Final Answer = [2,3,8,1,5]\n"
      ],
      "metadata": {
        "id": "43gobgd4ClLM"
      },
      "execution_count": null,
      "outputs": []
    },
    {
      "cell_type": "markdown",
      "source": [
        "6. Check if array is sorted"
      ],
      "metadata": {
        "id": "ChGirlInCn1u"
      }
    },
    {
      "cell_type": "code",
      "source": [
        "def is_sorted(arr):                     # arr = [1, 2, 3, 5, 4]\n",
        "    for i in range(len(arr)-1):         # i goes from 0 → 3\n",
        "        # Iter 1: compare arr[0]=1 and arr[1]=2 → 1<=2 ✅ continue\n",
        "        # Iter 2: compare arr[1]=2 and arr[2]=3 → 2<=3 ✅ continue\n",
        "        # Iter 3: compare arr[2]=3 and arr[3]=5 → 3<=5 ✅ continue\n",
        "        # Iter 4: compare arr[3]=5 and arr[4]=4 → 5<=4 ❌ not sorted\n",
        "        if arr[i] > arr[i+1]:\n",
        "            return False\n",
        "    return True                          # If loop finishes, sorted\n"
      ],
      "metadata": {
        "id": "ufHzbwcWCqJg"
      },
      "execution_count": null,
      "outputs": []
    },
    {
      "cell_type": "markdown",
      "source": [
        "7. Find sum of array elements"
      ],
      "metadata": {
        "id": "Cqvai3WSCrwG"
      }
    },
    {
      "cell_type": "code",
      "source": [
        "def array_sum(arr):                      # arr = [5, 1, 8, 3, 2]\n",
        "    total = 0\n",
        "\n",
        "    for num in arr:\n",
        "        # Iter 1: total=0+5=5\n",
        "        # Iter 2: total=5+1=6\n",
        "        # Iter 3: total=6+8=14\n",
        "        # Iter 4: total=14+3=17\n",
        "        # Iter 5: total=17+2=19\n",
        "        total += num\n",
        "\n",
        "    return total\n"
      ],
      "metadata": {
        "id": "ksmjlwDLCueE"
      },
      "execution_count": null,
      "outputs": []
    },
    {
      "cell_type": "markdown",
      "source": [
        "8. Find average of elements"
      ],
      "metadata": {
        "id": "QymSmrMpCwiI"
      }
    },
    {
      "cell_type": "code",
      "source": [
        "def array_avg(arr):                      # arr = [5, 1, 8, 3, 2]\n",
        "    total = sum(arr)                     # total = 19\n",
        "    n = len(arr)                         # n = 5\n",
        "    avg = total / n                      # avg = 19 / 5 = 3.8\n",
        "    return avg\n"
      ],
      "metadata": {
        "id": "PuKNt9VPCz7t"
      },
      "execution_count": null,
      "outputs": []
    },
    {
      "cell_type": "markdown",
      "source": [
        "9. Count frequency of elements"
      ],
      "metadata": {
        "id": "UstX83bHC1zG"
      }
    },
    {
      "cell_type": "code",
      "source": [
        "def frequency(arr):                      # arr = [1, 2, 2, 3, 1]\n",
        "    freq = {}\n",
        "\n",
        "    for num in arr:\n",
        "        # Iter 1: num=1 → freq={1:1}\n",
        "        # Iter 2: num=2 → freq={1:1, 2:1}\n",
        "        # Iter 3: num=2 → freq={1:1, 2:2}\n",
        "        # Iter 4: num=3 → freq={1:1, 2:2, 3:1}\n",
        "        # Iter 5: num=1 → freq={1:2, 2:2, 3:1}\n",
        "        freq[num] = freq.get(num, 0) + 1\n",
        "\n",
        "    return freq\n"
      ],
      "metadata": {
        "id": "4fcOxzMIC4FO"
      },
      "execution_count": null,
      "outputs": []
    },
    {
      "cell_type": "markdown",
      "source": [
        "10. Find element that appears once (others appear twice)"
      ],
      "metadata": {
        "id": "UrpRssGxC5qC"
      }
    },
    {
      "cell_type": "code",
      "source": [
        "def single_number(arr):                  # arr = [2, 2, 1, 4, 4]\n",
        "    res = 0\n",
        "\n",
        "    for num in arr:\n",
        "        # XOR property → a^a=0, a^0=a\n",
        "        # Iter 1: res=0^2=2\n",
        "        # Iter 2: res=2^2=0 (pair canceled out)\n",
        "        # Iter 3: res=0^1=1\n",
        "        # Iter 4: res=1^4=5\n",
        "        # Iter 5: res=5^4=1 (pair canceled out)\n",
        "        res ^= num\n",
        "\n",
        "    return res\n"
      ],
      "metadata": {
        "id": "Y7A2F-CbC8J-"
      },
      "execution_count": null,
      "outputs": []
    },
    {
      "cell_type": "markdown",
      "source": [
        "11. Find the most frequent element"
      ],
      "metadata": {
        "id": "a3ON8pz1DANn"
      }
    },
    {
      "cell_type": "code",
      "source": [
        "def most_frequent(arr):                   # arr = [1, 2, 2, 3, 3, 3]\n",
        "    freq = {}\n",
        "\n",
        "    for num in arr:\n",
        "        # Iter 1: num=1 → freq={1:1}\n",
        "        # Iter 2: num=2 → freq={1:1, 2:1}\n",
        "        # Iter 3: num=2 → freq={1:1, 2:2}\n",
        "        # Iter 4: num=3 → freq={1:1, 2:2, 3:1}\n",
        "        # Iter 5: num=3 → freq={1:1, 2:2, 3:2}\n",
        "        # Iter 6: num=3 → freq={1:1, 2:2, 3:3}\n",
        "        freq[num] = freq.get(num, 0) + 1\n",
        "\n",
        "    # Find the key with the maximum frequency\n",
        "    return max(freq, key=freq.get)\n"
      ],
      "metadata": {
        "id": "eXnkMf_gDBiu"
      },
      "execution_count": null,
      "outputs": []
    },
    {
      "cell_type": "markdown",
      "source": [
        "12. Left rotate an array by 1"
      ],
      "metadata": {
        "id": "xKmCT-_gDDWU"
      }
    },
    {
      "cell_type": "code",
      "source": [
        "def left_rotate(arr):                     # arr = [5, 1, 8, 3, 2]\n",
        "    first = arr[0]                        # Save first element → 5\n",
        "\n",
        "    for i in range(1, len(arr)):\n",
        "        # Shift each element left by 1\n",
        "        # Step 1: arr[0]=arr[1] → arr=[1,1,8,3,2]\n",
        "        # Step 2: arr[1]=arr[2] → arr=[1,8,8,3,2]\n",
        "        # Step 3: arr[2]=arr[3] → arr=[1,8,3,3,2]\n",
        "        # Step 4: arr[3]=arr[4] → arr=[1,8,3,2,2]\n",
        "        arr[i-1] = arr[i]\n",
        "\n",
        "    arr[-1] = first                       # arr=[1,8,3,2,5]\n",
        "    return arr\n"
      ],
      "metadata": {
        "id": "PFm4rQRPDF8-"
      },
      "execution_count": null,
      "outputs": []
    },
    {
      "cell_type": "markdown",
      "source": [
        "13. Right rotate an array by 1"
      ],
      "metadata": {
        "id": "gOkjykKjDHw8"
      }
    },
    {
      "cell_type": "code",
      "source": [
        "def right_rotate(arr):                    # arr = [5, 1, 8, 3, 2]\n",
        "    last = arr[-1]                        # Save last element → 2\n",
        "\n",
        "    for i in range(len(arr)-1, 0, -1):\n",
        "        # Shift each element right by 1\n",
        "        # Step 1: arr[4]=arr[3] → arr=[5,1,8,3,3]\n",
        "        # Step 2: arr[3]=arr[2] → arr=[5,1,8,8,3]\n",
        "        # Step 3: arr[2]=arr[1] → arr=[5,1,1,8,3]\n",
        "        # Step 4: arr[1]=arr[0] → arr=[5,5,1,8,3]\n",
        "        arr[i] = arr[i-1]\n",
        "\n",
        "    arr[0] = last                         # arr=[2,5,1,8,3]\n",
        "    return arr\n"
      ],
      "metadata": {
        "id": "s2mw1KxWDK78"
      },
      "execution_count": null,
      "outputs": []
    },
    {
      "cell_type": "markdown",
      "source": [
        "14. Rotate an array by k positions (right rotation)"
      ],
      "metadata": {
        "id": "UfbLzoVWDMaL"
      }
    },
    {
      "cell_type": "code",
      "source": [
        "def rotate_k(arr, k):                     # arr=[1,2,3,4,5], k=2\n",
        "    n = len(arr)\n",
        "    k = k % n                             # Handle if k > n\n",
        "\n",
        "    # Split into two parts\n",
        "    # arr[-2:] = [4,5]\n",
        "    # arr[:-2] = [1,2,3]\n",
        "    arr[:] = arr[-k:] + arr[:-k]\n",
        "\n",
        "    return arr\n"
      ],
      "metadata": {
        "id": "myWfqsVjDOnq"
      },
      "execution_count": null,
      "outputs": []
    },
    {
      "cell_type": "markdown",
      "source": [
        "15. Move all zeros to the end"
      ],
      "metadata": {
        "id": "q4iTwJabDQGf"
      }
    },
    {
      "cell_type": "code",
      "source": [
        "def move_zeros(arr):                      # arr = [0, 1, 0, 3, 12]\n",
        "    pos = 0                               # Position to place next non-zero\n",
        "\n",
        "    for num in arr:\n",
        "        if num != 0:\n",
        "            # Place non-zero at 'pos'\n",
        "            # Step 1: num=0 → skip\n",
        "            # Step 2: num=1 → arr[0]=1 → arr=[1,1,0,3,12], pos=1\n",
        "            # Step 3: num=0 → skip\n",
        "            # Step 4: num=3 → arr[1]=3 → arr=[1,3,0,3,12], pos=2\n",
        "            # Step 5: num=12→ arr[2]=12→ arr=[1,3,12,3,12], pos=3\n",
        "            arr[pos] = num\n",
        "            pos += 1\n",
        "\n",
        "    # Fill remaining positions with zeros\n",
        "    while pos < len(arr):\n",
        "        # Step 1: arr[3]=0 → arr=[1,3,12,0,12]\n",
        "        # Step 2: arr[4]=0 → arr=[1,3,12,0,0]\n",
        "        arr[pos] = 0\n",
        "        pos += 1\n",
        "\n",
        "    return arr\n"
      ],
      "metadata": {
        "id": "Cmhr1mj3DSt-"
      },
      "execution_count": null,
      "outputs": []
    },
    {
      "cell_type": "markdown",
      "source": [
        "16. Merge two sorted arrays"
      ],
      "metadata": {
        "id": "MLXZ-HahDVlA"
      }
    },
    {
      "cell_type": "code",
      "source": [
        "def merge_sorted(a, b):                     # a = [1, 3, 5], b = [2, 4, 6]\n",
        "    i, j = 0, 0                             # Pointers for a and b\n",
        "    res = []\n",
        "\n",
        "    while i < len(a) and j < len(b):\n",
        "        # Step 1: compare a[0]=1, b[0]=2 → 1<2 → res=[1], i=1\n",
        "        # Step 2: compare a[1]=3, b[0]=2 → 3>2 → res=[1,2], j=1\n",
        "        # Step 3: compare a[1]=3, b[1]=4 → 3<4 → res=[1,2,3], i=2\n",
        "        # Step 4: compare a[2]=5, b[1]=4 → 5>4 → res=[1,2,3,4], j=2\n",
        "        # Step 5: compare a[2]=5, b[2]=6 → 5<6 → res=[1,2,3,4,5], i=3 (done with a)\n",
        "        if a[i] < b[j]:\n",
        "            res.append(a[i])\n",
        "            i += 1\n",
        "        else:\n",
        "            res.append(b[j])\n",
        "            j += 1\n",
        "\n",
        "    # Add remaining elements from whichever array is not finished\n",
        "    res += a[i:] + b[j:]                    # res=[1,2,3,4,5,6]\n",
        "    return res\n"
      ],
      "metadata": {
        "id": "lyvoHD_3DYMD"
      },
      "execution_count": null,
      "outputs": []
    },
    {
      "cell_type": "markdown",
      "source": [
        "17. Find missing number in 1..n"
      ],
      "metadata": {
        "id": "Yd4yKoiBDZ5Z"
      }
    },
    {
      "cell_type": "code",
      "source": [
        "def missing_number(arr):                    # arr = [1, 2, 4, 5], n=5\n",
        "    n = len(arr) + 1                        # n = 5\n",
        "    total = n * (n + 1) // 2                # Sum of 1..5 = 15\n",
        "    actual = sum(arr)                       # Sum of arr = 12\n",
        "    missing = total - actual                # 15 - 12 = 3\n",
        "    return missing\n"
      ],
      "metadata": {
        "id": "8zgl4K3KDcyQ"
      },
      "execution_count": null,
      "outputs": []
    },
    {
      "cell_type": "markdown",
      "source": [
        "18. Find pair with given sum (Two Sum)"
      ],
      "metadata": {
        "id": "PBOnzSM8De_6"
      }
    },
    {
      "cell_type": "code",
      "source": [
        "def two_sum(arr, target):                   # arr=[2, 7, 11, 15], target=9\n",
        "    seen = {}                               # Store value:index\n",
        "\n",
        "    for i, num in enumerate(arr):\n",
        "        diff = target - num\n",
        "        # Iter 1: num=2 → diff=7 → 7 not in seen → seen={2:0}\n",
        "        # Iter 2: num=7 → diff=2 → 2 in seen ✅ → return (0,1)\n",
        "        if diff in seen:\n",
        "            return (seen[diff], i)\n",
        "        seen[num] = i\n",
        "\n",
        "    return None\n"
      ],
      "metadata": {
        "id": "NbmzOIQLDhV0"
      },
      "execution_count": null,
      "outputs": []
    },
    {
      "cell_type": "markdown",
      "source": [
        "19. Maximum subarray sum (Kadane’s Algorithm)"
      ],
      "metadata": {
        "id": "u-fDPFNeDknM"
      }
    },
    {
      "cell_type": "code",
      "source": [
        "def max_subarray(arr):                      # arr=[-2,1,-3,4,-1,2,1,-5,4]\n",
        "    curr = best = arr[0]                    # curr=-2, best=-2\n",
        "\n",
        "    for num in arr[1:]:\n",
        "        # Step 1: num=1 → curr=max(1, -2+1) = 1 → best=max(-2,1)=1\n",
        "        # Step 2: num=-3→ curr=max(-3,1-3)=-2 → best=1\n",
        "        # Step 3: num=4 → curr=max(4,-2+4)=4 → best=max(1,4)=4\n",
        "        # Step 4: num=-1→ curr=max(-1,4-1)=3 → best=4\n",
        "        # Step 5: num=2 → curr=max(2,3+2)=5 → best=5\n",
        "        # Step 6: num=1 → curr=max(1,5+1)=6 → best=6\n",
        "        # Step 7: num=-5→ curr=max(-5,6-5)=1 → best=6\n",
        "        # Step 8: num=4 → curr=max(4,1+4)=5 → best=6\n",
        "        curr = max(num, curr + num)\n",
        "        best = max(best, curr)\n",
        "\n",
        "    return best\n"
      ],
      "metadata": {
        "id": "xDSSaYVgDl7b"
      },
      "execution_count": null,
      "outputs": []
    },
    {
      "cell_type": "markdown",
      "source": [
        "20. Longest subarray with given sum"
      ],
      "metadata": {
        "id": "bwDhZgvzDoKK"
      }
    },
    {
      "cell_type": "code",
      "source": [
        "def longest_subarray_sum(arr, target):      # arr=[1,2,3,1,1,1,1,4,2,3], target=6\n",
        "    prefix = 0\n",
        "    seen = {0: -1}                          # Prefix sum map\n",
        "    longest = 0\n",
        "\n",
        "    for i, num in enumerate(arr):\n",
        "        prefix += num\n",
        "        # Iter 1: prefix=1 → prefix-6=-5 not in seen → seen={0:-1,1:0}\n",
        "        # Iter 2: prefix=3 → prefix-6=-3 not in seen → seen={0:-1,1:0,3:1}\n",
        "        # Iter 3: prefix=6 → prefix-6=0 in seen → length=i-(-1)=3+1=4 → longest=4\n",
        "        # Iter 4: prefix=7 → prefix-6=1 in seen → length=3 → longest=4\n",
        "        # Iter 5+: keep updating...\n",
        "        if prefix - target in seen:\n",
        "            longest = max(longest, i - seen[prefix - target])\n",
        "        if prefix not in seen:\n",
        "            seen[prefix] = i\n",
        "\n",
        "    return longest\n"
      ],
      "metadata": {
        "id": "Ib3Yxod3Dq0U"
      },
      "execution_count": null,
      "outputs": []
    },
    {
      "cell_type": "markdown",
      "source": [
        "21. Given a matrix if an element in the matrix is 0 then you will have to set its entire column and row to 0 and then return the matrix."
      ],
      "metadata": {
        "id": "aw0h8simFiNC"
      }
    },
    {
      "cell_type": "code",
      "source": [
        "def zeroMatrix(matrix, n, m):                       # matrix = [[1,1,1],[1,0,1],[1,1,1]]\n",
        "    col0 = 1                                        # col0 flag → tracks if 1st column should be zero\n",
        "\n",
        "    # Step 1: Traverse and mark the 1st row & col\n",
        "    for i in range(n):\n",
        "        for j in range(m):\n",
        "            if matrix[i][j] == 0:\n",
        "                # Found a ZERO at (i, j)\n",
        "                # Mark row i by setting matrix[i][0] = 0\n",
        "                # Mark column j by setting matrix[0][j] = 0 (except when j==0)\n",
        "                if j != 0:\n",
        "                    # Example: ZERO found at (1,1) → mark row1 & col1\n",
        "                    matrix[i][0] = 0\n",
        "                    matrix[0][j] = 0\n",
        "                else:\n",
        "                    # Special case: if ZERO is in 1st column, mark col0=0\n",
        "                    col0 = 0\n",
        "\n",
        "    # After Step 1 (for our example input):\n",
        "    # matrix = [[1, 0, 1],\n",
        "    #           [0, 0, 1],\n",
        "    #           [1, 1, 1]]\n",
        "    # col0 = 1\n",
        "\n",
        "    # Step 2: Zero out based on markings (excluding 1st row & col)\n",
        "    for i in range(1, n):\n",
        "        for j in range(1, m):\n",
        "            if matrix[i][j] != 0:\n",
        "                # Check if row or col is marked\n",
        "                if matrix[i][0] == 0 or matrix[0][j] == 0:\n",
        "                    # Example: matrix[1][2] = 1, but row1 is marked → set to 0\n",
        "                    # Example: matrix[2][1] = 1, but col1 is marked → set to 0\n",
        "                    matrix[i][j] = 0\n",
        "\n",
        "    # After Step 2:\n",
        "    # matrix = [[1, 0, 1],\n",
        "    #           [0, 0, 0],\n",
        "    #           [1, 0, 1]]\n",
        "\n",
        "    # Step 3: Handle the 1st row and 1st column separately\n",
        "    if matrix[0][0] == 0:                           # If first row needs zeroing\n",
        "        for j in range(m):\n",
        "            matrix[0][j] = 0\n",
        "    if col0 == 0:                                   # If first col needs zeroing\n",
        "        for i in range(n):\n",
        "            matrix[i][0] = 0\n",
        "\n",
        "    # Final Matrix after all steps:\n",
        "    # matrix = [[1, 0, 1],\n",
        "    #           [0, 0, 0],\n",
        "    #           [1, 0, 1]]\n",
        "\n",
        "    return matrix\n"
      ],
      "metadata": {
        "id": "MIffAgc0F1We"
      },
      "execution_count": null,
      "outputs": []
    },
    {
      "cell_type": "markdown",
      "source": [
        "22. Program to generate Pascal's Triangle\n",
        "\n",
        "\n",
        "\n",
        "\n",
        "Problem Statement: This problem has 3 variations. They are stated below:\n",
        "\n",
        "Variation 1: Given row number r and column number c. Print the element at position (r, c) in Pascal’s triangle.\n",
        "\n",
        "Variation 2: Given the row number n. Print the n-th row of Pascal’s triangle.\n",
        "\n",
        "Variation 3: Given the number of rows n. Print the first n rows of Pascal’s triangle."
      ],
      "metadata": {
        "id": "LGspcS36GTYs"
      }
    },
    {
      "cell_type": "code",
      "source": [
        "import math\n",
        "\n",
        "def nCr(n, r):\n",
        "    res = 1                      # Start with res = 1\n",
        "\n",
        "    # Formula → C(n,r) = n! / (r! * (n-r)!)\n",
        "    for i in range(r):           # Loop r times\n",
        "        # Iteration step: res = res * (n-i) / (i+1)\n",
        "        res = res * (n - i)\n",
        "        res = res // (i + 1)\n",
        "\n",
        "        # Visualization of process\n",
        "        # Example: n=4, r=2\n",
        "        # Iter 1: res = 1 * (4-0)/(0+1) = 4\n",
        "        # Iter 2: res = 4 * (4-1)/(1+1) = 6\n",
        "\n",
        "    return res                   # Final Answer = C(n,r)\n",
        "\n",
        "\n",
        "def pascalTriangle(r, c):\n",
        "    # Formula for element at (r,c) → C(r-1, c-1)\n",
        "    element = nCr(r - 1, c - 1)\n",
        "    return element\n",
        "\n",
        "\n",
        "if __name__ == '__main__':\n",
        "    r = 5   # row number\n",
        "    c = 3   # col number\n",
        "\n",
        "    # Dry run:\n",
        "    # We want element at row=5, col=3 → C(4,2)\n",
        "    # Step 1: res=1 * (4-0)/(0+1)=4\n",
        "    # Step 2: res=4 * (4-1)/(1+1)=6\n",
        "    # Final Answer = 6\n",
        "\n",
        "    element = pascalTriangle(r, c)\n",
        "    print(f\"The element at position (r={r}, c={c}) is: {element}\")\n"
      ],
      "metadata": {
        "id": "fQAvbrB8GsTN"
      },
      "execution_count": null,
      "outputs": []
    },
    {
      "cell_type": "code",
      "source": [
        "def pascalTriangle(n):                       # Example: n = 5\n",
        "    ans = 1\n",
        "    print(ans, end=\" \")                      # First element is always 1\n",
        "\n",
        "    # Printing the rest of the row\n",
        "    for i in range(1, n):\n",
        "        # Formula for next element:\n",
        "        # ans = ans * (n - i) / i\n",
        "        before = ans\n",
        "        ans = ans * (n - i)\n",
        "        ans = ans // i\n",
        "\n",
        "        # Visualization:\n",
        "        # Iter 1 (i=1): ans = 1 * (5-1)/1 = 4 → print 4\n",
        "        # Iter 2 (i=2): ans = 4 * (5-2)/2 = 6 → print 6\n",
        "        # Iter 3 (i=3): ans = 6 * (5-3)/3 = 4 → print 4\n",
        "        # Iter 4 (i=4): ans = 4 * (5-4)/4 = 1 → print 1\n",
        "\n",
        "        print(ans, end=\" \")\n",
        "    print()                                 # new line after row\n",
        "\n",
        "\n",
        "if __name__ == \"__main__\":\n",
        "    n = 5\n",
        "    # Dry run for n=5 (5th row):\n",
        "    # Start: print 1\n",
        "    # Iter 1: print 4\n",
        "    # Iter 2: print 6\n",
        "    # Iter 3: print 4\n",
        "    # Iter 4: print 1\n",
        "    # Final row = 1 4 6 4 1\n",
        "    pascalTriangle(n)\n"
      ],
      "metadata": {
        "id": "0iRlMxeSHVcc"
      },
      "execution_count": null,
      "outputs": []
    },
    {
      "cell_type": "code",
      "source": [
        "from typing import List\n",
        "\n",
        "def generateRow(row):                        # Example: row = 4\n",
        "    ans = 1\n",
        "    ansRow = [1]                             # First element always 1\n",
        "\n",
        "    # Calculate the rest of the row elements\n",
        "    for col in range(1, row):\n",
        "        # Formula: ans = ans * (row - col) / col\n",
        "        before = ans\n",
        "        ans *= (row - col)\n",
        "        ans //= col\n",
        "\n",
        "        # Visualization:\n",
        "        # row=4\n",
        "        # col=1 → ans = 1 * (4-1)/1 = 3 → append 3\n",
        "        # col=2 → ans = 3 * (4-2)/2 = 3 → append 3\n",
        "        # col=3 → ans = 3 * (4-3)/3 = 1 → append 1\n",
        "\n",
        "        ansRow.append(ans)\n",
        "\n",
        "    return ansRow                            # e.g., row=4 → [1,3,3,1]\n",
        "\n",
        "\n",
        "def pascalTriangle(n: int) -> List[List[int]]:\n",
        "    ans = []\n",
        "\n",
        "    # Build all rows from 1 to n\n",
        "    for row in range(1, n+1):\n",
        "        # Example for n=5 → rows = 1,2,3,4,5\n",
        "        ans.append(generateRow(row))\n",
        "\n",
        "    return ans\n",
        "\n",
        "\n",
        "if __name__ == '__main__':\n",
        "    n = 5\n",
        "    ans = pascalTriangle(n)\n",
        "\n",
        "    # Dry run:\n",
        "    # Row 1 → [1]\n",
        "    # Row 2 → [1,1]\n",
        "    # Row 3 → [1,2,1]\n",
        "    # Row 4 → [1,3,3,1]\n",
        "    # Row 5 → [1,4,6,4,1]\n",
        "\n",
        "    print(\"Pascal's Triangle:\")\n",
        "    for it in ans:\n",
        "        for ele in it:\n",
        "            print(ele, end=\" \")\n",
        "        print()\n"
      ],
      "metadata": {
        "id": "yfqOCWSoHgKS"
      },
      "execution_count": null,
      "outputs": []
    },
    {
      "cell_type": "markdown",
      "source": [
        "23. next_permutation : find next lexicographically greater permutation\n",
        "\n",
        "Problem Statement: Given an array Arr[] of integers, rearrange the numbers of the given array into the lexicographically next greater permutation of numbers.\n",
        "\n",
        "If such an arrangement is not possible, it must rearrange to the lowest possible order (i.e., sorted in ascending order).\n",
        "\n"
      ],
      "metadata": {
        "id": "1MEGI39HHoFQ"
      }
    },
    {
      "cell_type": "code",
      "source": [
        "from typing import List\n",
        "\n",
        "def nextGreaterPermutation(A: List[int]) -> List[int]:\n",
        "    n = len(A)  # size of the array\n",
        "    ind = -1    # index of the \"break point\"\n",
        "\n",
        "    # Step 1: Find the break point (first decreasing element from right)\n",
        "    for i in range(n-2, -1, -1):         # Traverse backwards\n",
        "        if A[i] < A[i + 1]:\n",
        "            ind = i                      # Found break point\n",
        "            break\n",
        "\n",
        "    # Dry run for A = [2,1,5,4,3,0,0]:\n",
        "    # check 3<0? ❌, 4<3? ❌, 5<4? ❌, 1<5? ✅ → ind=1\n",
        "\n",
        "    # If no break point → array is in descending order → reverse\n",
        "    if ind == -1:\n",
        "        A.reverse()\n",
        "        return A\n",
        "\n",
        "    # Step 2: Find the next greater element (just larger than A[ind]) from right\n",
        "    for i in range(n - 1, ind, -1):\n",
        "        if A[i] > A[ind]:\n",
        "            # Swap A[i] and A[ind]\n",
        "            A[i], A[ind] = A[ind], A[i]\n",
        "            break\n",
        "\n",
        "    # Dry run: ind=1, A[ind]=1\n",
        "    # Traverse from right → first element >1 is 3\n",
        "    # Swap → A = [2,3,5,4,1,0,0]\n",
        "\n",
        "    # Step 3: Reverse the suffix (elements after ind)\n",
        "    A[ind+1:] = reversed(A[ind+1:])\n",
        "\n",
        "    # Dry run: reverse part after index 1\n",
        "    # Before: [5,4,1,0,0]\n",
        "    # After : [0,0,1,4,5]\n",
        "    # Final A = [2,3,0,0,1,4,5]\n",
        "\n",
        "    return A\n",
        "\n",
        "\n",
        "if __name__ == \"__main__\":\n",
        "    A = [2, 1, 5, 4, 3, 0, 0]\n",
        "    ans = nextGreaterPermutation(A)\n",
        "\n",
        "    print(\"The next permutation is: [\", end=\"\")\n",
        "    for it in ans:\n",
        "        print(it, end=\" \")\n",
        "    print(\"]\")\n"
      ],
      "metadata": {
        "id": "tplhxB8bH_Sx"
      },
      "execution_count": null,
      "outputs": []
    },
    {
      "cell_type": "markdown",
      "source": [
        "24. Kadane's Algorithm : Maximum Subarray Sum in an Array\n",
        "\n",
        "Problem Statement: Given an integer array arr, find the contiguous subarray (containing at least one number) which\n",
        "has the largest sum and returns its sum and prints the subarray."
      ],
      "metadata": {
        "id": "61n9d_c-IP9A"
      }
    },
    {
      "cell_type": "code",
      "source": [
        "import sys\n",
        "\n",
        "def maxSubarraySum(arr, n):\n",
        "    maxi = -sys.maxsize - 1      # Initialize with very small number\n",
        "    curr_sum = 0                 # Running sum of subarray\n",
        "\n",
        "    for i in range(n):\n",
        "        curr_sum += arr[i]       # Step 1: add current element\n",
        "\n",
        "        # Dry run visualization:\n",
        "        # Iter i=0 → curr_sum=arr[0]\n",
        "        # Iter i=1 → curr_sum=prev_sum+arr[1]\n",
        "        # Keep updating maxi with max(curr_sum, maxi)\n",
        "\n",
        "        if curr_sum > maxi:\n",
        "            maxi = curr_sum      # Update maximum sum if needed\n",
        "\n",
        "        if curr_sum < 0:         # If running sum goes negative\n",
        "            curr_sum = 0         # Reset to 0 (discard subarray)\n",
        "\n",
        "    return maxi                  # Final maximum subarray sum\n",
        "\n",
        "\n",
        "# Example run\n",
        "if __name__ == \"__main__\":\n",
        "    arr = [-2, 1, -3, 4, -1, 2, 1, -5, 4]\n",
        "    n = len(arr)\n",
        "    result = maxSubarraySum(arr, n)\n",
        "\n",
        "    # Dry run for arr:\n",
        "    # i=0 → curr_sum=-2 → maxi=-2 → reset to 0\n",
        "    # i=1 → curr_sum=1 → maxi=1\n",
        "    # i=2 → curr_sum=-2 → reset to 0\n",
        "    # i=3 → curr_sum=4 → maxi=4\n",
        "    # i=4 → curr_sum=3 → maxi=4\n",
        "    # i=5 → curr_sum=5 → maxi=5\n",
        "    # i=6 → curr_sum=6 → maxi=6\n",
        "    # i=7 → curr_sum=1 → maxi=6\n",
        "    # i=8 → curr_sum=5 → maxi=6\n",
        "    #\n",
        "    # ✅ Final Answer = 6  (subarray [4,-1,2,1])\n",
        "\n",
        "    print(\"Maximum Subarray Sum:\", result)\n"
      ],
      "metadata": {
        "id": "n-aPFUC8IdG9"
      },
      "execution_count": null,
      "outputs": []
    },
    {
      "cell_type": "markdown",
      "source": [
        "25. Sort an array of 0s, 1s and 2s\n",
        "\n",
        "Problem Statement: Given an array consisting of only 0s, 1s, and 2s. Write a program to in-place sort the array without using inbuilt sort functions. ( Expected: Single pass-O(N) and constant space)"
      ],
      "metadata": {
        "id": "dehZ-DDuInju"
      }
    },
    {
      "cell_type": "code",
      "source": [
        "def sortArray(arr):\n",
        "    low = 0\n",
        "    mid = 0\n",
        "    high = len(arr) - 1\n",
        "\n",
        "    while mid <= high:\n",
        "        if arr[mid] == 0:\n",
        "            arr[low], arr[mid] = arr[mid], arr[low]\n",
        "            low += 1\n",
        "            mid += 1\n",
        "        elif arr[mid] == 1:\n",
        "            mid += 1\n",
        "        else:\n",
        "            arr[mid], arr[high] = arr[high], arr[mid]\n",
        "            high -= 1\n",
        "\n",
        "n = 6\n",
        "arr = [0, 2, 1, 2, 0, 1]\n",
        "sortArray(arr)\n",
        "print(\"After sorting:\")\n",
        "for num in arr:\n",
        "    print(num, end=\" \")\n",
        "print()"
      ],
      "metadata": {
        "id": "aP9-4wScI0zA"
      },
      "execution_count": null,
      "outputs": []
    },
    {
      "cell_type": "markdown",
      "source": [
        "26. Stock Buy And Sell\n",
        "Problem Statement: You are given an array of prices where prices[i] is the price of a given stock on an ith day.\n",
        "\n",
        "You want to maximize your profit by choosing a single day to buy one stock and choosing a different day in the future to sell that stock. Return the maximum profit you can achieve from this transaction. If you cannot achieve any profit, return 0.\n",
        "\n"
      ],
      "metadata": {
        "id": "J5fsbOK8I8VA"
      }
    },
    {
      "cell_type": "code",
      "source": [
        "def maxProfit(arr):\n",
        "    maxPro = 0\n",
        "    minPrice = float('inf')\n",
        "    for i in range(len(arr)):\n",
        "        minPrice = min(minPrice, arr[i])\n",
        "        maxPro = max(maxPro, arr[i] - minPrice)\n",
        "    return maxPro\n",
        "\n",
        "arr = [7, 1, 5, 3, 6, 4]\n",
        "maxPro = maxProfit(arr)\n",
        "print(\"Max profit is:\", maxPro)"
      ],
      "metadata": {
        "id": "LTu-uZtjJLYo"
      },
      "execution_count": null,
      "outputs": []
    },
    {
      "cell_type": "markdown",
      "source": [
        "27. Rotate Image by 90 degree\n",
        "Problem Statement: Given a matrix, your task is to rotate the matrix 90 degrees clockwise.\n"
      ],
      "metadata": {
        "id": "NFYxD6UEJR7n"
      }
    },
    {
      "cell_type": "code",
      "source": [
        "from typing import List\n",
        "def rotate(matrix: List[List[int]]) -> None:\n",
        "    n = len(matrix)\n",
        "    # transposing the matrix\n",
        "    for i in range(n):\n",
        "        for j in range(i):\n",
        "            matrix[i][j], matrix[j][i] = matrix[j][i], matrix[i][j]\n",
        "    # reversing each row of the matrix\n",
        "    for i in range(n):\n",
        "        matrix[i].reverse()\n",
        "\n",
        "\n",
        "\n",
        "\n",
        "if __name__ == \"__main__\":\n",
        "    arr = [[1, 2, 3], [4, 5, 6], [7, 8, 9]]\n",
        "    rotate(arr)\n",
        "    print(\"Rotated Image\")\n",
        "    for i in range(len(arr)):\n",
        "        for j in range(len(arr[0])):\n",
        "            print(arr[i][j], end=\" \")\n",
        "        print()"
      ],
      "metadata": {
        "id": "QMOJW8XXJsIM"
      },
      "execution_count": null,
      "outputs": []
    },
    {
      "cell_type": "markdown",
      "source": [
        "28. Merge Overlapping Sub-intervals\n",
        "\n",
        "Problem Statement: Given an array of intervals, merge all the overlapping intervals and return an array of non-overlapping intervals."
      ],
      "metadata": {
        "id": "OjaREsRDJx4M"
      }
    },
    {
      "cell_type": "code",
      "source": [
        "from typing import List\n",
        "\n",
        "def mergeOverlappingIntervals(arr: List[List[int]]) -> List[List[int]]:\n",
        "    n = len(arr) # size of the array\n",
        "\n",
        "    # sort the given intervals:\n",
        "    arr.sort()\n",
        "\n",
        "    ans = []\n",
        "\n",
        "    for i in range(n):\n",
        "        # if the current interval does not\n",
        "        # lie in the last interval:\n",
        "        if not ans or arr[i][0] > ans[-1][1]:\n",
        "            ans.append(arr[i])\n",
        "        # if the current interval\n",
        "        # lies in the last interval:\n",
        "        else:\n",
        "            ans[-1][1] = max(ans[-1][1], arr[i][1])\n",
        "    return ans\n",
        "\n",
        "if __name__ == '__main__':\n",
        "    arr = [[1, 3], [8, 10], [2, 6], [15, 18]]\n",
        "    ans = mergeOverlappingIntervals(arr)\n",
        "    print(\"The merged intervals are:\")\n",
        "    for it in ans:\n",
        "        print(f\"[{it[0]}, {it[1]}]\", end=\" \")\n",
        "    print()"
      ],
      "metadata": {
        "id": "chs2cKTvKBi5"
      },
      "execution_count": null,
      "outputs": []
    },
    {
      "cell_type": "markdown",
      "source": [
        "29. Merge two Sorted Arrays Without Extra Space\n",
        "\n",
        "Problem statement: Given two sorted arrays arr1[] and arr2[] of sizes n and m in non-decreasing order. Merge them in sorted order. Modify arr1 so that it contains the first N elements and modify arr2 so that it contains the last M elements.\n"
      ],
      "metadata": {
        "id": "jzN3u-fyKJgY"
      }
    },
    {
      "cell_type": "code",
      "source": [
        "\n",
        "def merge(arr1, arr2, n, m):\n",
        "\n",
        "    # Declare 2 pointers:\n",
        "    left = n - 1\n",
        "    right = 0\n",
        "\n",
        "    # Swap the elements until arr1[left] is smaller than arr2[right]:\n",
        "    while left >= 0 and right < m:\n",
        "        if arr1[left] > arr2[right]:\n",
        "            arr1[left], arr2[right] = arr2[right], arr1[left]\n",
        "            left -= 1\n",
        "            right += 1\n",
        "        else:\n",
        "            break\n",
        "\n",
        "    # Sort arr1[] and arr2[] individually:\n",
        "    arr1.sort()\n",
        "    arr2.sort()\n",
        "\n",
        "if __name__ == '__main__':\n",
        "    arr1 = [1, 4, 8, 10]\n",
        "    arr2 = [2, 3, 9]\n",
        "    n = 4\n",
        "    m = 3\n",
        "    merge(arr1, arr2, n, m)\n",
        "\n",
        "    print(\"The merged arrays are:\")\n",
        "    print(\"arr1[] = \", end=\"\")\n",
        "    for i in range(n):\n",
        "        print(arr1[i], end=\" \")\n",
        "    print(\"\\narr2[] = \", end=\"\")\n",
        "    for i in range(m):\n",
        "        print(arr2[i], end=\" \")\n",
        "    print()"
      ],
      "metadata": {
        "id": "enY-8s4TKYIJ"
      },
      "execution_count": null,
      "outputs": []
    },
    {
      "cell_type": "markdown",
      "source": [
        "30. Find the duplicate in an array of N+1 integers\n",
        "Problem Statement: Given an array of N + 1 size, where each element is between 1 and N. Assuming there is only one duplicate number, your task is to find the duplicate number."
      ],
      "metadata": {
        "id": "bE7c3uLbKoZa"
      }
    },
    {
      "cell_type": "code",
      "source": [
        "from typing import List\n",
        "def findDuplicate(arr: List[int]) -> int:\n",
        "    n = len(arr)\n",
        "    freq = [0] * (n + 1)\n",
        "    for i in range(n):\n",
        "        if freq[arr[i]] == 0:\n",
        "            freq[arr[i]] += 1\n",
        "        else:\n",
        "            return arr[i]\n",
        "    return 0\n",
        "\n",
        "\n",
        "if __name__ == \"__main__\":\n",
        "    arr = [1, 3, 4, 2, 3]\n",
        "    print(\"The duplicate element is \", findDuplicate(arr))"
      ],
      "metadata": {
        "id": "Z2gpjcqmLQxz"
      },
      "execution_count": null,
      "outputs": []
    },
    {
      "cell_type": "markdown",
      "source": [
        "31. Search in a sorted 2D matrix\n",
        "\n",
        "Problem Statement: You have been given a 2-D array 'mat' of size 'N x M' where 'N' and 'M' denote the number of rows and columns, respectively. The elements of each row are sorted in non-decreasing order. Moreover, the first element of a row is greater than the last element of the previous row (if it exists). You are given an integer ‘target’, and your task is to find if it exists in the given 'mat' or not."
      ],
      "metadata": {
        "id": "-AdLNqYPLVB2"
      }
    },
    {
      "cell_type": "code",
      "source": [
        "\n",
        "def searchMatrix(matrix, target):\n",
        "    n = len(matrix)\n",
        "    m = len(matrix[0])\n",
        "\n",
        "    # apply binary search:\n",
        "    low = 0\n",
        "    high = n * m - 1\n",
        "    while low <= high:\n",
        "        mid = (low + high) // 2\n",
        "        row = mid // m\n",
        "        col = mid % m\n",
        "        if matrix[row][col] == target:\n",
        "            return True\n",
        "        elif matrix[row][col] < target:\n",
        "            low = mid + 1\n",
        "        else:\n",
        "            high = mid - 1\n",
        "    return False\n",
        "\n",
        "matrix = [[1, 2, 3, 4], [5, 6, 7, 8], [9, 10, 11, 12]]\n",
        "result = searchMatrix(matrix, 8)\n",
        "print(\"true\" if result else \"false\")"
      ],
      "metadata": {
        "id": "AUhu-Gx_Lt4o"
      },
      "execution_count": null,
      "outputs": []
    },
    {
      "cell_type": "markdown",
      "source": [
        "32. Implement Pow(x,n) | X raised to the power N\n",
        "Problem Statement: Given a double x and integer n, calculate x raised to power n. Basically Implement pow(x, n).\n",
        "\n",
        "\n"
      ],
      "metadata": {
        "id": "sxHFqhG1L0WC"
      }
    },
    {
      "cell_type": "code",
      "source": [
        "def myPow(x: float, n: int) -> float:\n",
        "    ans = 1.0\n",
        "    for i in range(n):\n",
        "        ans = ans * x\n",
        "    return ans\n",
        "\n",
        "if __name__ == \"__main__\":\n",
        "    print(myPow(2, 10))"
      ],
      "metadata": {
        "id": "1Wp_ScyXMDEI"
      },
      "execution_count": null,
      "outputs": []
    },
    {
      "cell_type": "markdown",
      "source": [
        "33. Find the Majority Element that occurs more than N/2 times\n",
        "\n",
        "Problem Statement: Given an array of N integers, write a program to return an element that occurs more than N/2 times in the given array. You may consider that such an element always exists in the array."
      ],
      "metadata": {
        "id": "3MpUwpcxMJiR"
      }
    },
    {
      "cell_type": "code",
      "source": [
        "\n",
        "def majorityElement(arr):\n",
        "    # Size of the given array\n",
        "    n = len(arr)\n",
        "    cnt = 0  # Count\n",
        "    el = None  # Element\n",
        "\n",
        "    # Applying the algorithm\n",
        "    for i in range(n):\n",
        "        if cnt == 0:\n",
        "            cnt = 1\n",
        "            el = arr[i]\n",
        "        elif el == arr[i]:\n",
        "            cnt += 1\n",
        "        else:\n",
        "            cnt -= 1\n",
        "\n",
        "    # Checking if the stored element is the majority element\n",
        "    cnt1 = 0\n",
        "    for i in range(n):\n",
        "        if arr[i] == el:\n",
        "            cnt1 += 1\n",
        "\n",
        "    if cnt1 > (n / 2):\n",
        "        return el\n",
        "    return -1\n",
        "\n",
        "\n",
        "arr = [2, 2, 1, 1, 1, 2, 2]\n",
        "ans = majorityElement(arr)\n",
        "print(\"The majority element is:\", ans)"
      ],
      "metadata": {
        "id": "qGF3aFopMVH9"
      },
      "execution_count": null,
      "outputs": []
    },
    {
      "cell_type": "markdown",
      "source": [
        "34. Majority Elements(&gt;N/3 times) | Find the elements that appears more than N/3 times in the array\n",
        "\n",
        "\n",
        "Problem Statement: Given an array of N integers. Find the elements that appear more than N/3 times in the array. If no such element exists, return an empty vector."
      ],
      "metadata": {
        "id": "kuKIJN1OMhmm"
      }
    },
    {
      "cell_type": "code",
      "source": [
        "\n",
        "from typing import List\n",
        "\n",
        "def majorityElement(v: List[int]) -> List[int]:\n",
        "    n = len(v) # size of the array\n",
        "\n",
        "    cnt1, cnt2 = 0, 0 # counts\n",
        "    el1, el2 = float('-inf'), float('-inf') # element 1 and element 2\n",
        "\n",
        "    # applying the Extended Boyer Moore’s Voting Algorithm:\n",
        "    for i in range(n):\n",
        "        if cnt1 == 0 and el2 != v[i]:\n",
        "            cnt1 = 1\n",
        "            el1 = v[i]\n",
        "        elif cnt2 == 0 and el1 != v[i]:\n",
        "            cnt2 = 1\n",
        "            el2 = v[i]\n",
        "        elif v[i] == el1:\n",
        "            cnt1 += 1\n",
        "        elif v[i] == el2:\n",
        "            cnt2 += 1\n",
        "        else:\n",
        "            cnt1 -= 1\n",
        "            cnt2 -= 1\n",
        "\n",
        "    ls = [] # list of answers\n",
        "\n",
        "    # Manually check if the stored elements in\n",
        "    # el1 and el2 are the majority elements:\n",
        "    cnt1, cnt2 = 0, 0\n",
        "    for i in range(n):\n",
        "        if v[i] == el1:\n",
        "            cnt1 += 1\n",
        "        if v[i] == el2:\n",
        "            cnt2 += 1\n",
        "\n",
        "    mini = int(n / 3) + 1\n",
        "    if cnt1 >= mini:\n",
        "        ls.append(el1)\n",
        "    if cnt2 >= mini:\n",
        "        ls.append(el2)\n",
        "\n",
        "    # Uncomment the following line\n",
        "    # if it is told to sort the answer array:\n",
        "    #ls.sort() #TC --> O(2*log2) ~ O(1);\n",
        "\n",
        "    return ls\n",
        "\n",
        "arr = [11, 33, 33, 11, 33, 11]\n",
        "ans = majorityElement(arr)\n",
        "print(\"The majority elements are: \", end=\"\")\n",
        "for it in ans:\n",
        "    print(it, end=\" \")\n",
        "print()"
      ],
      "metadata": {
        "id": "LsrksZZBM9rP"
      },
      "execution_count": null,
      "outputs": []
    },
    {
      "cell_type": "markdown",
      "source": [
        "35. Grid Unique Paths | Count paths from left-top to the right bottom of a matrix\n",
        "\n",
        "Problem Statement: Given a matrix m X n, count paths from left-top to the right bottom of a matrix with the constraints that from each cell you can either only move to the rightward direction or the downward direction."
      ],
      "metadata": {
        "id": "kRfr7WD7NFyO"
      }
    },
    {
      "cell_type": "code",
      "source": [
        "class Solution:\n",
        "    def uniquePaths(self, m: int, n: int) -> int:\n",
        "        N = n + m - 2\n",
        "        r = m - 1\n",
        "        res = 1\n",
        "        for i in range(1, r + 1):\n",
        "            res = res * (N - r + i) / i\n",
        "        return int(res)\n",
        "\n",
        "\n",
        "\n",
        "\n",
        "if __name__ == \"__main__\":\n",
        "    obj = Solution()\n",
        "    totalCount = obj.uniquePaths(2, 3)\n",
        "    print(\"The total number of Unique Paths are\", totalCount)"
      ],
      "metadata": {
        "id": "nYoQ5Ms_NSeV"
      },
      "execution_count": null,
      "outputs": []
    },
    {
      "cell_type": "markdown",
      "source": [
        "36. Two Sum : Check if a pair with given sum exists in Array\n",
        "\n",
        "1st variant: Return YES if there exist two numbers such that their sum is equal to the target. Otherwise, return NO.\n",
        "\n",
        "2nd variant: Return indices of the two numbers such that their sum is equal to the target. Otherwise, we will return {-1, -1}.\n",
        "\n",
        "Note: You are not allowed to use the same element twice. Example: If the target is equal to 6 and num[1] = 3, then nums[1] + nums[1] = target is not a solution."
      ],
      "metadata": {
        "id": "oxGqTPKRNlsa"
      }
    },
    {
      "cell_type": "code",
      "source": [],
      "metadata": {
        "id": "vw0LFx9JN6wY"
      },
      "execution_count": null,
      "outputs": []
    },
    {
      "cell_type": "markdown",
      "source": [
        "37. Longest Consecutive Sequence in an Array\n",
        "\n",
        "Problem Statement: You are given an array of ‘N’ integers. You need to find the length of the longest sequence which contains the consecutive elements."
      ],
      "metadata": {
        "id": "8bbT9GV8pnzK"
      }
    },
    {
      "cell_type": "code",
      "source": [
        "\n",
        "def longestSuccessiveElements(a):\n",
        "    n = len(a)\n",
        "    if n == 0:\n",
        "        return 0\n",
        "\n",
        "    longest = 1\n",
        "    st = set()\n",
        "    # put all the array elements into set\n",
        "    for i in range(n):\n",
        "        st.add(a[i])\n",
        "\n",
        "    # Find the longest sequence\n",
        "    for it in st:\n",
        "        # if 'it' is a starting number\n",
        "        if it - 1 not in st:\n",
        "            # find consecutive numbers\n",
        "            cnt = 1\n",
        "            x = it\n",
        "            while x + 1 in st:\n",
        "                x += 1\n",
        "                cnt += 1\n",
        "            longest = max(longest, cnt)\n",
        "    return longest\n",
        "\n",
        "a = [100, 200, 1, 2, 3, 4]\n",
        "ans = longestSuccessiveElements(a)\n",
        "print(\"The longest consecutive sequence is\", ans)"
      ],
      "metadata": {
        "id": "pC5O4cq2pvH5"
      },
      "execution_count": null,
      "outputs": []
    },
    {
      "cell_type": "markdown",
      "source": [
        "38. Length of the longest subarray with zero Sum\n",
        "Problem Statement: Given an array containing both positive and negative integers, we have to find the length of the longest subarray with the sum of all elements equal to zero.\n"
      ],
      "metadata": {
        "id": "DHKvbQRgp-ao"
      }
    },
    {
      "cell_type": "code",
      "source": [
        "from typing import List\n",
        "def maxLen(A: List[int], n: int) -> int:\n",
        "    mpp = {}\n",
        "    maxi = 0\n",
        "    sum = 0\n",
        "    for i in range(n):\n",
        "        sum += A[i]\n",
        "        if sum == 0:\n",
        "            maxi = i + 1\n",
        "        else:\n",
        "            if sum in mpp:\n",
        "                maxi = max(maxi, i - mpp[sum])\n",
        "            else:\n",
        "                mpp[sum] = i\n",
        "    return maxi"
      ],
      "metadata": {
        "id": "I0Ut_0AhqTcI"
      },
      "execution_count": null,
      "outputs": []
    },
    {
      "cell_type": "markdown",
      "source": [
        "39. Length of Longest Substring without any Repeating Character\n",
        "Problem Statement: Given a String, find the length of longest substring without any repeating character.\n"
      ],
      "metadata": {
        "id": "lbX3I7cmqeBa"
      }
    },
    {
      "cell_type": "code",
      "source": [
        "def solve(str: str) -> int:\n",
        "    if len(str) == 0:\n",
        "        return 0\n",
        "    maxans = float(\"-inf\")\n",
        "    setx = set()\n",
        "    l = 0\n",
        "    for r in range(len(str)):  # outer loop for traversing the string\n",
        "        if str[r] in setx:  # if duplicate element is found\n",
        "            while l < r and str[r] in setx:\n",
        "                setx.remove(str[l])\n",
        "                l += 1\n",
        "        setx.add(str[r])\n",
        "        maxans = max(maxans, r - l + 1)\n",
        "    return maxans\n",
        "\n",
        "\n",
        "if __name__ == \"__main__\":\n",
        "    str = \"takeUforward\"\n",
        "    print(\"The length of the longest substring without repeating characters is\", solve(str))"
      ],
      "metadata": {
        "id": "hmsLPipkqtMX"
      },
      "execution_count": null,
      "outputs": []
    },
    {
      "cell_type": "markdown",
      "source": [
        "# STRING"
      ],
      "metadata": {
        "id": "_jMZVONNwdh1"
      }
    },
    {
      "cell_type": "markdown",
      "source": [
        "1. Reverse a String"
      ],
      "metadata": {
        "id": "z7sXuhqdzIVe"
      }
    },
    {
      "cell_type": "code",
      "source": [
        "def reverse_string(s):                     # Example: s = \"hello\"\n",
        "    result = \"\"                            # Start → result = \"\"\n",
        "\n",
        "    for ch in s:                           # Traverse characters one by one\n",
        "        # Iter 1: ch='h' → result = 'h' + \"\" = 'h'\n",
        "        # Iter 2: ch='e' → result = 'e' + 'h' = 'eh'\n",
        "        # Iter 3: ch='l' → result = 'l' + 'eh' = 'leh'\n",
        "        # Iter 4: ch='l' → result = 'l' + 'leh' = 'lleh'\n",
        "        # Iter 5: ch='o' → result = 'o' + 'lleh' = 'olleh'\n",
        "        result = ch + result\n",
        "\n",
        "    return result                          # Final Answer = \"olleh\"\n"
      ],
      "metadata": {
        "id": "4GL_Q3dewhFU"
      },
      "execution_count": null,
      "outputs": []
    },
    {
      "cell_type": "markdown",
      "source": [
        "2. Check Palindrome"
      ],
      "metadata": {
        "id": "9VdFwf61zNc1"
      }
    },
    {
      "cell_type": "code",
      "source": [
        "def is_palindrome(s):                      # Example: s = \"madam\"\n",
        "    left, right = 0, len(s) - 1            # Start → left=0('m'), right=4('m')\n",
        "\n",
        "    while left < right:\n",
        "        # Iter 1: compare 'm' and 'm' → same ✅ → left=1, right=3\n",
        "        # Iter 2: compare 'a' and 'a' → same ✅ → left=2, right=2 (loop stops)\n",
        "        if s[left] != s[right]:\n",
        "            return False                   # If mismatch → not palindrome\n",
        "        left += 1\n",
        "        right -= 1\n",
        "\n",
        "    return True                            # Final Answer = True (it is palindrome)\n"
      ],
      "metadata": {
        "id": "eTyPXKOOzPv1"
      },
      "execution_count": null,
      "outputs": []
    },
    {
      "cell_type": "markdown",
      "source": [
        "3. Count Vowels and Consonants"
      ],
      "metadata": {
        "id": "wgRygwx1zRvR"
      }
    },
    {
      "cell_type": "code",
      "source": [
        "def count_vowels_consonants(s):            # Example: s = \"hello\"\n",
        "    vowels = \"aeiouAEIOU\"\n",
        "    v_count, c_count = 0, 0\n",
        "\n",
        "    for ch in s:\n",
        "        if ch.isalpha():                   # Check only alphabets\n",
        "            if ch in vowels:\n",
        "                v_count += 1               # Iter 1: h → consonant\n",
        "                # Iter 2: e → vowel ✅ v_count=1\n",
        "                # Iter 3: l → consonant\n",
        "                # Iter 4: l → consonant\n",
        "                # Iter 5: o → vowel ✅ v_count=2\n",
        "            else:\n",
        "                c_count += 1\n",
        "\n",
        "    return v_count, c_count                # Final Answer = (2, 3)\n"
      ],
      "metadata": {
        "id": "utJTWnf2zT_d"
      },
      "execution_count": null,
      "outputs": []
    },
    {
      "cell_type": "markdown",
      "source": [
        "4. Remove Duplicates"
      ],
      "metadata": {
        "id": "EcZeZvIwzV2r"
      }
    },
    {
      "cell_type": "code",
      "source": [
        "def remove_duplicates(s):                  # Example: s = \"programming\"\n",
        "    seen = set()\n",
        "    result = \"\"\n",
        "\n",
        "    for ch in s:\n",
        "        if ch not in seen:                 # If first time seen\n",
        "            # Iter 1: 'p' → add to result = \"p\"\n",
        "            # Iter 2: 'r' → result = \"pr\"\n",
        "            # Iter 3: 'o' → result = \"pro\"\n",
        "            # Iter 4: 'g' → result = \"prog\"\n",
        "            # Iter 5: 'r' → already seen ❌ skip\n",
        "            seen.add(ch)\n",
        "            result += ch\n",
        "\n",
        "    return result                          # Final Answer = \"progamin\"\n"
      ],
      "metadata": {
        "id": "6yPDDnYWzYRk"
      },
      "execution_count": null,
      "outputs": []
    },
    {
      "cell_type": "markdown",
      "source": [
        "5. Check Anagram"
      ],
      "metadata": {
        "id": "9fVcfnq3zabe"
      }
    },
    {
      "cell_type": "code",
      "source": [
        "def are_anagrams(s1, s2):                  # Example: \"listen\", \"silent\"\n",
        "    if len(s1) != len(s2):                 # Length mismatch → not anagram\n",
        "        return False\n",
        "\n",
        "    count = {}                             # Dictionary for frequency\n",
        "    for ch in s1:\n",
        "        count[ch] = count.get(ch, 0) + 1   # Count chars in s1\n",
        "\n",
        "    for ch in s2:\n",
        "        if ch not in count or count[ch] == 0:\n",
        "            return False                   # If extra char found in s2\n",
        "        count[ch] -= 1                     # Reduce count for matching chars\n",
        "\n",
        "    # All chars matched if no negatives\n",
        "    return True                            # Final Answer = True\n"
      ],
      "metadata": {
        "id": "_1iwrfWfzcg4"
      },
      "execution_count": null,
      "outputs": []
    },
    {
      "cell_type": "markdown",
      "source": [
        "6. First Non-Repeating Character"
      ],
      "metadata": {
        "id": "6JPVkPaZze09"
      }
    },
    {
      "cell_type": "code",
      "source": [
        "def first_non_repeating(s):                # Example: \"swiss\"\n",
        "    count = {}\n",
        "    for ch in s:\n",
        "        count[ch] = count.get(ch, 0) + 1   # Count frequencies\n",
        "\n",
        "    for i, ch in enumerate(s):\n",
        "        # Iter 1: 's' freq=3 → skip\n",
        "        # Iter 2: 'w' freq=1 ✅ return index=1\n",
        "        if count[ch] == 1:\n",
        "            return i, ch                   # Final Answer = (1, 'w')\n",
        "\n",
        "    return -1, None                        # If no unique char\n"
      ],
      "metadata": {
        "id": "PdgV02vrzhl9"
      },
      "execution_count": null,
      "outputs": []
    },
    {
      "cell_type": "markdown",
      "source": [
        "7. Longest Common Prefix"
      ],
      "metadata": {
        "id": "slkLcI1VzkgY"
      }
    },
    {
      "cell_type": "code",
      "source": [
        "def longest_common_prefix(strs):           # Example: [\"flower\", \"flow\", \"flight\"]\n",
        "    prefix = strs[0]                       # Start → prefix=\"flower\"\n",
        "\n",
        "    for word in strs[1:]:\n",
        "        while not word.startswith(prefix): # Reduce prefix until match\n",
        "            # Iter 1: compare \"flow\" with \"flower\" → reduce to \"flow\"\n",
        "            # Iter 2: compare \"flight\" with \"flow\" → reduce to \"fl\"\n",
        "            prefix = prefix[:-1]\n",
        "            if not prefix:\n",
        "                return \"\"\n",
        "\n",
        "    return prefix                          # Final Answer = \"fl\"\n"
      ],
      "metadata": {
        "id": "U89FN6GQzm6x"
      },
      "execution_count": null,
      "outputs": []
    },
    {
      "cell_type": "markdown",
      "source": [
        "8. String Compression"
      ],
      "metadata": {
        "id": "xepl9ieczped"
      }
    },
    {
      "cell_type": "code",
      "source": [
        "def compress_string(s):                    # Example: \"aaabbc\"\n",
        "    result = \"\"\n",
        "    count = 1\n",
        "\n",
        "    for i in range(1, len(s)):\n",
        "        if s[i] == s[i-1]:\n",
        "            count += 1                     # Iter 2: same 'a' → count=2\n",
        "        else:\n",
        "            result += s[i-1] + str(count)  # Iter 4: char 'a' → add \"a3\"\n",
        "            count = 1                      # reset count\n",
        "\n",
        "    result += s[-1] + str(count)           # Add last char \"c1\"\n",
        "    return result                          # Final Answer = \"a3b2c1\"\n"
      ],
      "metadata": {
        "id": "sMiEUHbRzsBR"
      },
      "execution_count": null,
      "outputs": []
    },
    {
      "cell_type": "markdown",
      "source": [
        "9. Count All Substrings"
      ],
      "metadata": {
        "id": "15vUrFvFzuUZ"
      }
    },
    {
      "cell_type": "code",
      "source": [
        "def count_substrings(s):                   # Example: \"abc\"\n",
        "    n = len(s)                             # n=3\n",
        "    # Formula = n*(n+1)/2\n",
        "    total = n * (n + 1) // 2               # 3*4/2 = 6 substrings\n",
        "    return total                           # Final Answer = 6\n"
      ],
      "metadata": {
        "id": "PU5icvfnzxts"
      },
      "execution_count": null,
      "outputs": []
    },
    {
      "cell_type": "markdown",
      "source": [
        "10. Valid Parentheses"
      ],
      "metadata": {
        "id": "7aWEokiZzz_m"
      }
    },
    {
      "cell_type": "code",
      "source": [
        "def is_valid_parentheses(s):               # Example: \"({[]})\"\n",
        "    stack = []\n",
        "    pairs = {')':'(', '}':'{', ']':'['}\n",
        "\n",
        "    for ch in s:\n",
        "        if ch in \"({[\":\n",
        "            stack.append(ch)               # Push opening brackets\n",
        "        else:\n",
        "            if not stack or stack[-1] != pairs[ch]:\n",
        "                return False               # Mismatch case\n",
        "            stack.pop()                    # Valid → remove pair\n",
        "\n",
        "    return not stack                       # Final Answer = True if stack empty\n"
      ],
      "metadata": {
        "id": "qEHoQqT7z2cY"
      },
      "execution_count": null,
      "outputs": []
    },
    {
      "cell_type": "markdown",
      "source": [
        "11. Reverse Words in a String\n",
        "\n",
        "Given an input string s, reverse the order of the words.\n",
        "\n",
        "A word is defined as a sequence of non-space characters. The words in s will be separated by at least one space.\n",
        "\n",
        "Return a string of the words in reverse order concatenated by a single space.\n",
        "\n",
        "Note that s may contain leading or trailing spaces or multiple spaces between two words. The returned string should only have a single space separating the words. Do not include any extra spaces."
      ],
      "metadata": {
        "id": "XJpReZp5z6s2"
      }
    },
    {
      "cell_type": "markdown",
      "source": [
        "12. Longest Palindromic Substring\n",
        "\n",
        "Given a string s, return the longest palindromic substring in s."
      ],
      "metadata": {
        "id": "gYIPHbBj1Azd"
      }
    },
    {
      "cell_type": "markdown",
      "source": [
        "13.  Roman to Integer\n",
        "\n",
        "Roman numerals are represented by seven different symbols: I, V, X, L, C, D and M.\n",
        "\n",
        "Symbol       Value\n",
        "I             1\n",
        "V             5\n",
        "X             10\n",
        "L             50\n",
        "C             100\n",
        "D             500\n",
        "M             1000\n",
        "For example, 2 is written as II in Roman numeral, just two ones added together. 12 is written as XII, which is simply X + II. The number 27 is written as XXVII, which is XX + V + II.\n",
        "\n",
        "Roman numerals are usually written largest to smallest from left to right. However, the numeral for four is not IIII. Instead, the number four is written as IV. Because the one is before the five we subtract it making four. The same principle applies to the number nine, which is written as IX. There are six instances where subtraction is used:\n",
        "\n",
        "I can be placed before V (5) and X (10) to make 4 and 9.\n",
        "X can be placed before L (50) and C (100) to make 40 and 90.\n",
        "C can be placed before D (500) and M (1000) to make 400 and 900."
      ],
      "metadata": {
        "id": "nFcpkRcI3UPB"
      }
    },
    {
      "cell_type": "markdown",
      "source": [
        "14. String to Integer (atoi)\n",
        "Implement the myAtoi(string s) function, which converts a string to a 32-bit signed integer.\n",
        "\n",
        "The algorithm for myAtoi(string s) is as follows:\n",
        "\n",
        "Whitespace: Ignore any leading whitespace (\" \").\n",
        "Signedness: Determine the sign by checking if the next character is '-' or '+', assuming positivity if neither present.\n",
        "Conversion: Read the integer by skipping leading zeros until a non-digit character is encountered or the end of the string is reached. If no digits were read, then the result is 0.\n",
        "Rounding: If the integer is out of the 32-bit signed integer range [-231, 231 - 1], then round the integer to remain in the range. Specifically, integers less than -231 should be rounded to -231, and integers greater than 231 - 1 should be rounded to 231 - 1.\n"
      ],
      "metadata": {
        "id": "xY4vCZR31qch"
      }
    },
    {
      "cell_type": "markdown",
      "source": [
        "15.  Longest Common Prefix\n",
        "\n",
        "Write a function to find the longest common prefix string amongst an array of strings.\n",
        "\n",
        "If there is no common prefix, return an empty string \"\"."
      ],
      "metadata": {
        "id": "3DHuRn2G1_XC"
      }
    },
    {
      "cell_type": "markdown",
      "source": [
        "16. Find the Index of the First Occurrence in a String\n",
        "\n",
        "Given two strings needle and haystack, return the index of the first occurrence of needle in haystack, or -1 if needle is not part of haystack."
      ],
      "metadata": {
        "id": "0JIrQLyn2RTI"
      }
    },
    {
      "cell_type": "markdown",
      "source": [
        "17. Count and Say\n",
        "\n",
        "The count-and-say sequence is a sequence of digit strings defined by the recursive formula:\n",
        "\n",
        "countAndSay(1) = \"1\"\n",
        "countAndSay(n) is the run-length encoding of countAndSay(n - 1).\n",
        "Run-length encoding (RLE) is a string compression method that works by replacing consecutive identical characters (repeated 2 or more times) with the concatenation of the character and the number marking the count of the characters (length of the run). For example, to compress the string \"3322251\" we replace \"33\" with \"23\", replace \"222\" with \"32\", replace \"5\" with \"15\" and replace \"1\" with \"11\". Thus the compressed string becomes \"23321511\".\n"
      ],
      "metadata": {
        "id": "9oCJMVok2dR4"
      }
    },
    {
      "cell_type": "markdown",
      "source": [
        "18.  Compare Version Numbers\n",
        "\n",
        "Given two version strings, version1 and version2, compare them. A version string consists of revisions separated by dots '.'. The value of the revision is its integer conversion ignoring leading zeros.\n",
        "\n",
        "To compare version strings, compare their revision values in left-to-right order. If one of the version strings has fewer revisions, treat the missing revision values as 0.\n",
        "\n",
        "Return the following:\n",
        "\n",
        "If version1 < version2, return -1.\n",
        "If version1 > version2, return 1.\n",
        "Otherwise, return 0.\n"
      ],
      "metadata": {
        "id": "RHp7j92h3DZJ"
      }
    }
  ]
}