{
  "nbformat": 4,
  "nbformat_minor": 0,
  "metadata": {
    "colab": {
      "provenance": [],
      "include_colab_link": true
    },
    "kernelspec": {
      "name": "python3",
      "display_name": "Python 3"
    },
    "language_info": {
      "name": "python"
    }
  },
  "cells": [
    {
      "cell_type": "markdown",
      "metadata": {
        "id": "view-in-github",
        "colab_type": "text"
      },
      "source": [
        "<a href=\"https://colab.research.google.com/github/ashish78905/OPTICONNECT_CALLL_CENTER_ANALYSIS-ASSIGNMENT/blob/main/DSA.ipynb\" target=\"_parent\"><img src=\"https://colab.research.google.com/assets/colab-badge.svg\" alt=\"Open In Colab\"/></a>"
      ]
    },
    {
      "cell_type": "markdown",
      "source": [
        "1. Check if a number is Prime"
      ],
      "metadata": {
        "id": "tFn6XMLqwt06"
      }
    },
    {
      "cell_type": "code",
      "source": [
        "def is_prime(n):\n",
        "    if n < 2:\n",
        "        return False\n",
        "    for i in range(2, n):   # check from 2 to n-1\n",
        "        if n % i == 0:\n",
        "            return False\n",
        "        else:\n",
        "             return True\n",
        "\n",
        "print(is_prime(70))  # True\n"
      ],
      "metadata": {
        "id": "dUd5y2wAwwsz",
        "outputId": "0af46745-bcc4-4f1e-cb5f-fd82870dd667",
        "colab": {
          "base_uri": "https://localhost:8080/"
        }
      },
      "execution_count": null,
      "outputs": [
        {
          "output_type": "stream",
          "name": "stdout",
          "text": [
            "False\n"
          ]
        }
      ]
    },
    {
      "cell_type": "markdown",
      "source": [
        "2. Find all primes in a range"
      ],
      "metadata": {
        "id": "R8fbfq27wy7g"
      }
    },
    {
      "cell_type": "code",
      "source": [
        "def primes_in_range(start, end):\n",
        "    primes = []\n",
        "    for num in range(start, end+1):\n",
        "        if num > 1:                     # only check numbers > 1\n",
        "            is_prime = True\n",
        "            for i in range(2, num):\n",
        "                if num % i == 0:        # found a divisor → not prime\n",
        "                    is_prime = False\n",
        "                    break\n",
        "            if is_prime == True:\n",
        "                primes.append(num)\n",
        "    return primes\n",
        "\n",
        "# Example usage\n",
        "print(\"Prime numbers from 1 to 100:\", primes_in_range(1, 100))\n"
      ],
      "metadata": {
        "id": "RlvJamW4w14_",
        "outputId": "0c4e522f-5f26-4596-fc38-61554bab9b8d",
        "colab": {
          "base_uri": "https://localhost:8080/"
        }
      },
      "execution_count": null,
      "outputs": [
        {
          "output_type": "stream",
          "name": "stdout",
          "text": [
            "Prime numbers from 1 to 100: [2, 3, 5, 7, 11, 13, 17, 19, 23, 29, 31, 37, 41, 43, 47, 53, 59, 61, 67, 71, 73, 79, 83, 89, 97]\n"
          ]
        }
      ]
    },
    {
      "cell_type": "markdown",
      "source": [
        "3.  covert binary number to decimal"
      ],
      "metadata": {
        "id": "mZAxU1IRyrhf"
      }
    },
    {
      "cell_type": "code",
      "source": [
        "def binary_to_decimal(binary_str):\n",
        "    return int(binary_str, 2)   # convert using base 2\n",
        "\n",
        "# Example usage\n",
        "binary = input(\"Enter a binary number: \")\n",
        "print(\"Decimal value:\", binary_to_decimal(binary))\n"
      ],
      "metadata": {
        "id": "ZE9B8-6vy-9u"
      },
      "execution_count": null,
      "outputs": []
    },
    {
      "cell_type": "markdown",
      "source": [
        "4.check if a number is perfect square"
      ],
      "metadata": {
        "id": "ri_MxAyVyi7n"
      }
    },
    {
      "cell_type": "code",
      "source": [
        "import math\n",
        "\n",
        "def is_perfect_square(n):\n",
        "    if n < 0:\n",
        "        return False   # negative numbers can't be perfect squares\n",
        "    root = int(math.sqrt(n))\n",
        "    return root * root == n\n",
        "\n",
        "# Example usage\n",
        "num = int(input(\"Enter a number: \"))\n",
        "if is_perfect_square(num):\n",
        "    print(num, \"is a perfect square\")\n",
        "else:\n",
        "    print(num, \"is NOT a perfect square\")\n"
      ],
      "metadata": {
        "id": "hCPYIt20ypsx"
      },
      "execution_count": null,
      "outputs": []
    },
    {
      "cell_type": "markdown",
      "source": [
        "5.find sum of the digit of the number"
      ],
      "metadata": {
        "id": "acFlXNaYyJqN"
      }
    },
    {
      "cell_type": "code",
      "source": [
        "def sum_of_digits(n):\n",
        "    total = 0\n",
        "    while n > 0:\n",
        "        digit = n % 10       # get last digit\n",
        "        total += digit       # add digit to sum\n",
        "        n = n // 10          # remove last digit\n",
        "    return total\n",
        "\n",
        "# Example usage\n",
        "num = int(input(\"Enter a number: \"))\n",
        "print(\"Sum of digits:\", sum_of_digits(num))\n"
      ],
      "metadata": {
        "id": "smsV9dJ9yPVn"
      },
      "execution_count": null,
      "outputs": []
    },
    {
      "cell_type": "markdown",
      "source": [
        "Can I calculate the total number of times the loop will run before the loop starts?”\n",
        "\n",
        "Yes → fixed iterations → use for\n",
        "\n",
        "No → unknown iterations → use while"
      ],
      "metadata": {
        "id": "-_Cqc9OHP8Or"
      }
    },
    {
      "cell_type": "markdown",
      "source": [
        "🔹 6. GCD using Euclidean Algorithm"
      ],
      "metadata": {
        "id": "cuB5cxc63xZI"
      }
    },
    {
      "cell_type": "code",
      "source": [
        "def gcd(a, b):\n",
        "    while b != 0:\n",
        "        remainder = a % b\n",
        "        a = b\n",
        "        b = remainder\n",
        "    return a\n",
        "\n",
        "'''nums = [12, 18, 24, 30, 36]  # example list of n numbers\n",
        "\n",
        "result = nums[0]              # start with first number\n",
        "for n in nums[1:]:            # loop through remaining numbers\n",
        "    result = gcd(result, n)'''\n",
        "\n",
        "\n",
        "a, b = 12, 18\n",
        "print(\"GCD:\", gcd(a, b))\n"
      ],
      "metadata": {
        "id": "5pCGyJn-w9hI",
        "colab": {
          "base_uri": "https://localhost:8080/"
        },
        "outputId": "ed43f7f8-4e15-440c-bbde-936c7def98b8"
      },
      "execution_count": null,
      "outputs": [
        {
          "output_type": "stream",
          "name": "stdout",
          "text": [
            "GCD: 6\n"
          ]
        }
      ]
    },
    {
      "cell_type": "markdown",
      "source": [
        "“If a variable appears in the while condition, it must change inside the loop—otherwise the loop runs forever.”\n",
        "\n",
        "In simpler words\n",
        "\n",
        "Check the condition → which variables affect it?\n",
        "\n",
        "Update at least one of those variables inside the loop.\n",
        "\n",
        "That’s it! Your loop will stop correctly."
      ],
      "metadata": {
        "id": "bmqmn41uRiZr"
      }
    },
    {
      "cell_type": "markdown",
      "source": [
        " 7. LCM using Formula\n",
        "LCM\n",
        "(\n",
        "𝑎\n",
        ",\n",
        "𝑏\n",
        ")\n",
        "=\n",
        "∣\n",
        "𝑎\n",
        "×\n",
        "𝑏\n",
        "∣\n",
        "GCD\n",
        "(\n",
        "𝑎\n",
        ",\n",
        "𝑏\n",
        ")\n",
        "LCM(a,b)=\n",
        "GCD(a,b)\n",
        "∣a×b∣\n",
        "\t​\n"
      ],
      "metadata": {
        "id": "ybsPr0XX34OE"
      }
    },
    {
      "cell_type": "code",
      "source": [
        "def gcd(a, b):\n",
        "    while b != 0:\n",
        "        remainder = a % b\n",
        "        a = b\n",
        "        b = remainder\n",
        "    return a\n",
        "\n",
        "def lcm(a, b):\n",
        "    return abs(a * b) // gcd(a, b)\n",
        "\n",
        "a, b = 12, 18\n",
        "print(\"LCM:\", lcm(a, b))\n"
      ],
      "metadata": {
        "id": "KtSJPCLc4BlP",
        "outputId": "d66b4248-0652-42cd-fda0-673d66336431",
        "colab": {
          "base_uri": "https://localhost:8080/"
        }
      },
      "execution_count": null,
      "outputs": [
        {
          "output_type": "stream",
          "name": "stdout",
          "text": [
            "LCM: 36\n"
          ]
        }
      ]
    },
    {
      "cell_type": "markdown",
      "source": [
        "8. Factors of a number"
      ],
      "metadata": {
        "id": "O4zyeqlSw__t"
      }
    },
    {
      "cell_type": "code",
      "source": [
        "def factors(n):\n",
        "    result = []                # empty list to store factors\n",
        "    for i in range(1, n+1):    # loop through 1 to n\n",
        "        if n % i == 0:         # check if i divides n completely\n",
        "            result.append(i)   # if yes, add i to the result list\n",
        "    return result              # return all factors\n",
        "\n",
        "\n",
        "# Example\n",
        "print(\"Factors of 28:\", factors(28))\n"
      ],
      "metadata": {
        "id": "nXIz0Tg3xBK5"
      },
      "execution_count": null,
      "outputs": []
    },
    {
      "cell_type": "markdown",
      "source": [
        "9. Factorial"
      ],
      "metadata": {
        "id": "bL_bAIM5xNQz"
      }
    },
    {
      "cell_type": "code",
      "source": [
        "def factorial(n):\n",
        "    if n == 0 or n == 1:\n",
        "        return 1\n",
        "    else:\n",
        "        return n * factorial(n-1)\n",
        "\n",
        "# Example\n",
        "print(\"5! =\", factorial(5))\n"
      ],
      "metadata": {
        "id": "I0LH_4USxPGd",
        "outputId": "d694beff-9faa-4366-c849-c4362305413f",
        "colab": {
          "base_uri": "https://localhost:8080/"
        }
      },
      "execution_count": null,
      "outputs": [
        {
          "output_type": "stream",
          "name": "stdout",
          "text": [
            "120\n"
          ]
        }
      ]
    },
    {
      "cell_type": "markdown",
      "source": [
        "10. Palindrome check"
      ],
      "metadata": {
        "id": "qJHqjKP3xRUQ"
      }
    },
    {
      "cell_type": "code",
      "source": [
        "def is_palindrome(n):\n",
        "\n",
        "    s = str(n)                 # Step 1: Convert number to string\n",
        "\n",
        "\n",
        "    rev = s[::-1]              # Step 2: Reverse the string\n",
        "\n",
        "    if s == rev:              # Step 3: Compare original and reversed\n",
        "        return True\n",
        "    else:\n",
        "        return False\n",
        "\n",
        "\n",
        "# Example\n",
        "print(is_palindrome(121))   # True\n",
        "print(is_palindrome(123))   # False\n"
      ],
      "metadata": {
        "id": "U-UWuIQzxUQM"
      },
      "execution_count": null,
      "outputs": []
    },
    {
      "cell_type": "markdown",
      "source": [
        "11. Armstrong number"
      ],
      "metadata": {
        "id": "XfxqVEydxWXj"
      }
    },
    {
      "cell_type": "code",
      "source": [
        "def is_armstrong(n):\n",
        "    digits = str(n)\n",
        "    power = len(digits)\n",
        "    total = sum(int(d)**power for d in digits)\n",
        "    return n == total\n",
        "\n",
        "print(is_armstrong(153))  # True\n"
      ],
      "metadata": {
        "id": "nAuH-P9qxZCS"
      },
      "execution_count": null,
      "outputs": []
    },
    {
      "cell_type": "markdown",
      "source": [
        "**12**. Sum of digits"
      ],
      "metadata": {
        "id": "vtZkc-4TxcPZ"
      }
    },
    {
      "cell_type": "markdown",
      "source": [
        "because total is an integer (0), and i is a character ('1').\n",
        "\n",
        "int(i) converts each character (like '1') into its numeric value (1), so addition works."
      ],
      "metadata": {
        "id": "sO8ShnJIbkyg"
      }
    },
    {
      "cell_type": "code",
      "source": [
        "def aggrerate(num):\n",
        "    total = 0\n",
        "    string = str(num)\n",
        "    for i in string :\n",
        "        total += int(i)\n",
        "    return total\n",
        "\n",
        "\n",
        "print(aggrerate(123456))\n",
        "\n"
      ],
      "metadata": {
        "id": "dKFIKdH7aNac",
        "outputId": "07e944d9-a75f-4d88-933d-e73831d3ae1e",
        "colab": {
          "base_uri": "https://localhost:8080/"
        }
      },
      "execution_count": null,
      "outputs": [
        {
          "output_type": "stream",
          "name": "stdout",
          "text": [
            "21\n"
          ]
        }
      ]
    },
    {
      "cell_type": "markdown",
      "source": [
        "13. Reverse digits"
      ],
      "metadata": {
        "id": "eyKYird4xe3G"
      }
    },
    {
      "cell_type": "code",
      "source": [
        "def reverse_number(n):\n",
        "    # Step 1: Convert number to string\n",
        "    s = str(n)\n",
        "\n",
        "    # Step 2: Reverse the string\n",
        "    rev_s = s[::-1]\n",
        "\n",
        "    # Step 3: Convert reversed string back to integer\n",
        "    rev_n = int(rev_s)\n",
        "\n",
        "    # Step 4: Return the reversed number\n",
        "    return rev_n\n",
        "\n",
        "\n",
        "# Example\n",
        "print(reverse_number(1234))   # 4321\n"
      ],
      "metadata": {
        "id": "TK6QLZsGxi4l"
      },
      "execution_count": null,
      "outputs": []
    },
    {
      "cell_type": "markdown",
      "source": [
        "14. Fibonacci series (N terms)"
      ],
      "metadata": {
        "id": "pQCeiSWTxlhf"
      }
    },
    {
      "cell_type": "code",
      "source": [
        "def fib(n):\n",
        "    if n <= 1:          # Base case\n",
        "        return n\n",
        "    else:\n",
        "        return fib(n-1) + fib(n-2)   # Recursive call\n"
      ],
      "metadata": {
        "id": "Q463e_OZxmXZ"
      },
      "execution_count": null,
      "outputs": []
    },
    {
      "cell_type": "markdown",
      "source": [
        "**15**. Check if number is in Fibonacci series"
      ],
      "metadata": {
        "id": "9bQponJhxp2E"
      }
    },
    {
      "cell_type": "code",
      "source": [
        "def is_fibonacci(num, a=0, b=1):\n",
        "    # ✅ Base cases\n",
        "    if a == num:           # Found the number\n",
        "        return True\n",
        "    if a > num:            # Passed the number\n",
        "        return False\n",
        "    # 🔁 Recursive step\n",
        "    return is_fibonacci(num, b, a + b)\n",
        "\n",
        "# Example\n",
        "print(is_fibonacci(21))  # True\n",
        "print(is_fibonacci(22))  # False\n"
      ],
      "metadata": {
        "id": "fsgkj9ujxrfV"
      },
      "execution_count": null,
      "outputs": []
    },
    {
      "cell_type": "markdown",
      "source": [
        "16. Leap year"
      ],
      "metadata": {
        "id": "c5mBDBwIxtwe"
      }
    },
    {
      "cell_type": "code",
      "source": [
        "def leap(year):\n",
        "    if year % 400 == 0 or (year%4 ==0 and year % 100 != 0 ):\n",
        "        return True\n",
        "    else:\n",
        "        return False\n",
        "\n",
        "print(leap(2029))"
      ],
      "metadata": {
        "id": "aig_Gc5cYPkm",
        "outputId": "f2e32a25-c8f3-4219-c9a8-7b8928103d01",
        "colab": {
          "base_uri": "https://localhost:8080/"
        }
      },
      "execution_count": null,
      "outputs": [
        {
          "output_type": "stream",
          "name": "stdout",
          "text": [
            "False\n"
          ]
        }
      ]
    },
    {
      "cell_type": "markdown",
      "source": [
        "# ARRAY"
      ],
      "metadata": {
        "id": "Kie35Cj1wYwH"
      }
    },
    {
      "cell_type": "markdown",
      "source": [
        "1. Find the maximum element in an array//linear scan"
      ],
      "metadata": {
        "id": "uvKEZFtlDuW4"
      }
    },
    {
      "cell_type": "code",
      "execution_count": null,
      "metadata": {
        "id": "SvXeoUSiCIA7"
      },
      "outputs": [],
      "source": [
        "def maxi(arr):\n",
        "    maximum = float('-inf')\n",
        "    for i in arr:\n",
        "        if i  > maximum:\n",
        "            maximum = i\n",
        "    return maximum\n",
        "\n",
        "print(maxi([12,13,14,15]))"
      ]
    },
    {
      "cell_type": "markdown",
      "source": [
        "2. Find the minimum element in an array// linear scan"
      ],
      "metadata": {
        "id": "a4h3QjE4CVs2"
      }
    },
    {
      "cell_type": "code",
      "source": [
        "def mini(arr):\n",
        "    minimum = float('inf')\n",
        "    for i in arr:\n",
        "        if i  < minimum:\n",
        "            minimum = i\n",
        "    return minimum\n",
        "\n",
        "print(mini([12,13,14,15]))"
      ],
      "metadata": {
        "id": "l_1nCjyHc7d7",
        "outputId": "56b4917f-3efb-48eb-a339-d2dbf527f0cc",
        "colab": {
          "base_uri": "https://localhost:8080/"
        }
      },
      "execution_count": null,
      "outputs": [
        {
          "output_type": "stream",
          "name": "stdout",
          "text": [
            "12\n"
          ]
        }
      ]
    },
    {
      "cell_type": "markdown",
      "source": [
        "3. Find largest and second largest//linear scan"
      ],
      "metadata": {
        "id": "fe_-w8iKCaNf"
      }
    },
    {
      "cell_type": "code",
      "source": [
        "def two_largest(arr):                  # arr = [5, 1, 8, 3, 2]\n",
        "    first = second = float('-inf')     # Start → first=-∞, second=-∞\n",
        "\n",
        "    for num in arr:\n",
        "\n",
        "        if num > first:\n",
        "            second = first\n",
        "            first = num\n",
        "        elif num > second and num != first:\n",
        "            second = num\n",
        "\n",
        "    return first, second               # Final Answer = (8, 5)\n"
      ],
      "metadata": {
        "id": "ow00Bm91Ccon"
      },
      "execution_count": null,
      "outputs": []
    },
    {
      "cell_type": "markdown",
      "source": [
        "4. Find smallest and second smallest//linear scan"
      ],
      "metadata": {
        "id": "hp7A0_MoCeOD"
      }
    },
    {
      "cell_type": "code",
      "source": [
        "def two_smallest(arr):                 # arr = [5, 1, 8, 3, 2]\n",
        "    first = second = float('inf')      # Start → first=∞, second=∞\n",
        "\n",
        "    for num in arr:\n",
        "\n",
        "        if num < first:\n",
        "            second = first\n",
        "            first = num\n",
        "        elif num < second and num != first:\n",
        "            second = num\n",
        "\n",
        "    return first, second               # Final Answer = (1, 2)\n"
      ],
      "metadata": {
        "id": "BunXa1kdCgrt"
      },
      "execution_count": null,
      "outputs": []
    },
    {
      "cell_type": "markdown",
      "source": [
        "5. Reverse an array//slicing"
      ],
      "metadata": {
        "id": "kvAEC2NvCiVu"
      }
    },
    {
      "cell_type": "code",
      "source": [
        "def rev(arr):\n",
        "    return arr[::-1]\n",
        "\n",
        "print(rev([1,2,3,4,5]))"
      ],
      "metadata": {
        "id": "43gobgd4ClLM",
        "outputId": "cb1800d7-2032-4c3d-ebc0-a670d2b4ec49",
        "colab": {
          "base_uri": "https://localhost:8080/"
        }
      },
      "execution_count": null,
      "outputs": [
        {
          "output_type": "stream",
          "name": "stdout",
          "text": [
            "[5, 4, 3, 2, 1]\n"
          ]
        }
      ]
    },
    {
      "cell_type": "markdown",
      "source": [
        "6. Check if array is sorted//linear scan"
      ],
      "metadata": {
        "id": "ChGirlInCn1u"
      }
    },
    {
      "cell_type": "code",
      "source": [
        "def check(arr):\n",
        "    ascending = True\n",
        "    descending = True\n",
        "    for i in range(len(arr) - 1):\n",
        "        if arr[i] > arr[i+1]:\n",
        "            ascending = False      # violates ascending\n",
        "        if arr[i] < arr[i+1]:\n",
        "            descending = False     # violates descending\n",
        "    return ascending or descending\n",
        "\n",
        "print(check([12,13,44,15]))\n"
      ],
      "metadata": {
        "id": "ufHzbwcWCqJg",
        "outputId": "630852aa-609f-40cd-e8da-4b1a894485cb",
        "colab": {
          "base_uri": "https://localhost:8080/"
        }
      },
      "execution_count": null,
      "outputs": [
        {
          "output_type": "stream",
          "name": "stdout",
          "text": [
            "False\n"
          ]
        }
      ]
    },
    {
      "cell_type": "markdown",
      "source": [
        "7. Find sum of array elements//linear scan"
      ],
      "metadata": {
        "id": "Cqvai3WSCrwG"
      }
    },
    {
      "cell_type": "code",
      "source": [
        "def array_sum(arr):                      # arr = [5, 1, 8, 3, 2]\n",
        "    total = 0\n",
        "\n",
        "    for num in arr:\n",
        "\n",
        "        total += num\n",
        "\n",
        "    return total\n"
      ],
      "metadata": {
        "id": "ksmjlwDLCueE"
      },
      "execution_count": null,
      "outputs": []
    },
    {
      "cell_type": "markdown",
      "source": [
        "8. Find average of elements//linear scan"
      ],
      "metadata": {
        "id": "QymSmrMpCwiI"
      }
    },
    {
      "cell_type": "code",
      "source": [
        "def array_avg(arr):                      # arr = [5, 1, 8, 3, 2]\n",
        "    total = sum(arr)                     # total = 19\n",
        "    n = len(arr)                         # n = 5\n",
        "    avg = total / n                      # avg = 19 / 5 = 3.8\n",
        "    return avg\n"
      ],
      "metadata": {
        "id": "PuKNt9VPCz7t"
      },
      "execution_count": null,
      "outputs": []
    },
    {
      "cell_type": "markdown",
      "source": [
        "09. Left rotate an array by 1// slicing"
      ],
      "metadata": {
        "id": "xKmCT-_gDDWU"
      }
    },
    {
      "cell_type": "code",
      "source": [
        "def left_rotate(arr, k):\n",
        "    n = len(arr)\n",
        "    k = k % n\n",
        "    arr[:] = arr[k:] + arr[:k]\n",
        "    return arr\n"
      ],
      "metadata": {
        "id": "PFm4rQRPDF8-"
      },
      "execution_count": null,
      "outputs": []
    },
    {
      "cell_type": "markdown",
      "source": [
        "10. Right rotate an array by 1// slicing"
      ],
      "metadata": {
        "id": "gOkjykKjDHw8"
      }
    },
    {
      "cell_type": "code",
      "source": [
        "def right_rotate(arr, k):\n",
        "    n = len(arr)\n",
        "    k = k % n\n",
        "    arr[:] = arr[-k:] + arr[:-k]\n",
        "    return arr\n"
      ],
      "metadata": {
        "id": "s2mw1KxWDK78"
      },
      "execution_count": null,
      "outputs": []
    },
    {
      "cell_type": "markdown",
      "source": [
        "11. Rotate an array by k positions (right rotation)// slicing"
      ],
      "metadata": {
        "id": "UfbLzoVWDMaL"
      }
    },
    {
      "cell_type": "code",
      "source": [
        "def rotate_k(arr, k):                     # arr=[1,2,3,4,5], k=2\n",
        "    n = len(arr)\n",
        "    k = k % n                             # Handle if k > n\n",
        "\n",
        "\n",
        "    arr[:] = arr[-k:] + arr[:-k]\n",
        "\n",
        "    return arr\n"
      ],
      "metadata": {
        "id": "myWfqsVjDOnq"
      },
      "execution_count": null,
      "outputs": []
    },
    {
      "cell_type": "markdown",
      "source": [
        "12. Move all zeros to the end// two pinter approach"
      ],
      "metadata": {
        "id": "q4iTwJabDQGf"
      }
    },
    {
      "cell_type": "code",
      "source": [
        "def move_zeros(arr):\n",
        "    pos = []  # next position for non-zero\n",
        "    for num in arr:\n",
        "        if num != 0:\n",
        "            pos.append(num)\n",
        "\n",
        "    for _ in range(len(arr) - len(pos)):\n",
        "        pos.append(0)  # append zeros instead of using i\n",
        "    return pos\n",
        "\n",
        "print(move_zeros([0, 1, 0, 3, 12]))  # Output: [1, 3, 12, 0, 0]\n"
      ],
      "metadata": {
        "id": "Cmhr1mj3DSt-",
        "colab": {
          "base_uri": "https://localhost:8080/"
        },
        "outputId": "99841af1-5953-4430-81f5-b132de9d14c9"
      },
      "execution_count": null,
      "outputs": [
        {
          "output_type": "stream",
          "name": "stdout",
          "text": [
            "[1, 3, 12, 0]\n"
          ]
        }
      ]
    },
    {
      "cell_type": "code",
      "source": [
        "def move_zeros(arr):\n",
        "    # pointer 'last_non_zero_found_at' will track the position to place the next non-zero\n",
        "    last_non_zero_found_at = 0\n",
        "\n",
        "    # first pointer iterates through the array\n",
        "    for current in range(len(arr)):\n",
        "        if arr[current] != 0:\n",
        "            # swap current element with the element at last_non_zero_found_at\n",
        "            arr[last_non_zero_found_at], arr[current] = arr[current], arr[last_non_zero_found_at]\n",
        "            last_non_zero_found_at += 1  # move the pointer to next position\n",
        "\n",
        "    return arr\n",
        "\n",
        "print(move_zeros([0, 1, 0, 3, 12]))  # Output: [1, 3, 12, 0, 0]\n"
      ],
      "metadata": {
        "id": "cQ4FAZz1vks2"
      },
      "execution_count": null,
      "outputs": []
    },
    {
      "cell_type": "markdown",
      "source": [
        "**13**. Merge two sorted arrays// two pointer approach"
      ],
      "metadata": {
        "id": "MLXZ-HahDVlA"
      }
    },
    {
      "cell_type": "code",
      "source": [
        "def merge_sorted(a, b):                     # a = [1, 3, 5], b = [2, 4, 6]\n",
        "    i, j = 0, 0                             # Pointers for a and b\n",
        "    res = []\n",
        "\n",
        "    while i < len(a) and j < len(b):\n",
        "\n",
        "         if a[i] < b[j]:\n",
        "             res.append(a[i])\n",
        "             i += 1\n",
        "         else:\n",
        "             res.append(b[j])\n",
        "             j += 1\n",
        "\n",
        "    # Add remaining elements from whichever array is not finished\n",
        "    res += a[i:] + b[j:]                    # res=[1,2,3,4,5,6]\n",
        "    return res\n"
      ],
      "metadata": {
        "id": "lyvoHD_3DYMD"
      },
      "execution_count": null,
      "outputs": []
    },
    {
      "cell_type": "markdown",
      "source": [
        "14. Find missing number in 1..n// mathematical formula"
      ],
      "metadata": {
        "id": "Yd4yKoiBDZ5Z"
      }
    },
    {
      "cell_type": "code",
      "source": [
        "def missing_number(arr):                    # arr = [1, 2, 4, 5], n=5\n",
        "    n = len(arr) + 1                        # n = 5\n",
        "    total = n * (n + 1) // 2                # Sum of 1..5 = 15\n",
        "    actual = sum(arr)                       # Sum of arr = 12\n",
        "    missing = total - actual                # 15 - 12 = 3\n",
        "    return missing\n"
      ],
      "metadata": {
        "id": "8zgl4K3KDcyQ"
      },
      "execution_count": null,
      "outputs": []
    },
    {
      "cell_type": "markdown",
      "source": [
        "15. Maximum subarray sum// (Kadane’s Algorithm)"
      ],
      "metadata": {
        "id": "u-fDPFNeDknM"
      }
    },
    {
      "cell_type": "code",
      "source": [
        "def max_subarray(arr):                      # arr=[-2,1,-3,4,-1,2,1,-5,4]\n",
        "    curr = best = arr[0]                    # curr=-2, best=-2\n",
        "\n",
        "    for num in arr[1:]:\n",
        "\n",
        "        curr = max(num, curr + num)\n",
        "        best = max(best, curr)\n",
        "\n",
        "    return best\n"
      ],
      "metadata": {
        "id": "xDSSaYVgDl7b"
      },
      "execution_count": null,
      "outputs": []
    },
    {
      "cell_type": "markdown",
      "source": [
        "16. Longest subarray with given sum// hash map with a prefix sum approach"
      ],
      "metadata": {
        "id": "bwDhZgvzDoKK"
      }
    },
    {
      "cell_type": "code",
      "source": [
        "def longest_subarray_sum(arr, target):      # arr=[1,2,3,1,1,1,1,4,2,3], target=6\n",
        "    prefix = 0\n",
        "    seen = {0: -1}                          # Prefix sum map\n",
        "    longest = 0\n",
        "\n",
        "    for i, num in enumerate(arr):\n",
        "        prefix += num\n",
        "\n",
        "        if prefix - target in seen:\n",
        "            longest = max(longest, i - seen[prefix - target])\n",
        "        if prefix not in seen:\n",
        "            seen[prefix] = i\n",
        "\n",
        "    return longest\n"
      ],
      "metadata": {
        "id": "Ib3Yxod3Dq0U"
      },
      "execution_count": null,
      "outputs": []
    },
    {
      "cell_type": "markdown",
      "source": [
        "17\\. Find pair with given sum (Two Sum)// hash map(dictionary)"
      ],
      "metadata": {
        "id": "PBOnzSM8De_6"
      }
    },
    {
      "cell_type": "code",
      "source": [
        "def two_sum(arr, target):                   # arr=[2, 7, 11, 15], target=9\n",
        "    seen = {}                               # Store value:index\n",
        "\n",
        "    for i, num in enumerate(arr):\n",
        "        diff = target - num\n",
        "\n",
        "        if diff in seen:\n",
        "            return (seen[diff], i)\n",
        "        seen[num] = i\n",
        "\n",
        "    return None\n"
      ],
      "metadata": {
        "id": "NbmzOIQLDhV0"
      },
      "execution_count": null,
      "outputs": []
    },
    {
      "cell_type": "markdown",
      "source": [
        "18. Find the most frequent element// hash map(dictionary )"
      ],
      "metadata": {
        "id": "a3ON8pz1DANn"
      }
    },
    {
      "cell_type": "code",
      "source": [
        "def most_frequent(arr):\n",
        "    freq = {}\n",
        "    for num in arr:\n",
        "        if num in freq:\n",
        "            freq[num] += 1\n",
        "        else:\n",
        "            freq[num] = 1\n",
        "\n",
        "    return max(freq, key=freq.__getitem__)\n"
      ],
      "metadata": {
        "id": "eXnkMf_gDBiu"
      },
      "execution_count": null,
      "outputs": []
    },
    {
      "cell_type": "markdown",
      "source": [
        "19. Find element that appears once // bitwise xor and hash map(dictionary)"
      ],
      "metadata": {
        "id": "UrpRssGxC5qC"
      }
    },
    {
      "cell_type": "code",
      "source": [
        "def find_single(arr):\n",
        "    freq = {}\n",
        "    for num in arr:\n",
        "        freq[num] = freq.get(num, 0) + 1   # count occurrences\n",
        "    for key, value in freq.items():\n",
        "        if value == 1:\n",
        "            return key\n",
        "\n",
        "print(find_single([2, 3, 2, 4, 4]))  # Output: 3\n"
      ],
      "metadata": {
        "id": "Y7A2F-CbC8J-",
        "colab": {
          "base_uri": "https://localhost:8080/"
        },
        "outputId": "4515fced-1da0-4103-a3aa-54eadcae46f7"
      },
      "execution_count": null,
      "outputs": [
        {
          "output_type": "stream",
          "name": "stdout",
          "text": [
            "3\n"
          ]
        }
      ]
    },
    {
      "cell_type": "markdown",
      "source": [
        "20. Count frequency of elements//hash map"
      ],
      "metadata": {
        "id": "UstX83bHC1zG"
      }
    },
    {
      "cell_type": "code",
      "source": [
        "def frequency(arr):\n",
        "    freq = {}\n",
        "    for num in arr:\n",
        "        if num in freq:\n",
        "            freq[num] += 1\n",
        "        else:\n",
        "            freq[num] = 1\n",
        "    return freq\n",
        "\n",
        "print(frequency([12,12,1,12,13]))\n"
      ],
      "metadata": {
        "id": "4fcOxzMIC4FO",
        "colab": {
          "base_uri": "https://localhost:8080/"
        },
        "outputId": "c0c26015-a9a9-4312-fa53-511903e7ca7a"
      },
      "execution_count": null,
      "outputs": [
        {
          "output_type": "stream",
          "name": "stdout",
          "text": [
            "{12: 3, 1: 1, 13: 1}\n"
          ]
        }
      ]
    },
    {
      "cell_type": "markdown",
      "source": [
        "24. Kadane's Algorithm : Maximum Subarray Sum in an Array\n",
        "\n",
        "Problem Statement: Given an integer array arr, find the contiguous subarray (containing at least one number) which\n",
        "has the largest sum and returns its sum and prints the subarray."
      ],
      "metadata": {
        "id": "61n9d_c-IP9A"
      }
    },
    {
      "cell_type": "code",
      "source": [
        "import sys\n",
        "\n",
        "def maxSubarraySum(arr, n):\n",
        "    maxi = -sys.maxsize - 1      # Initialize with very small number\n",
        "    curr_sum = 0                 # Running sum of subarray\n",
        "\n",
        "    for i in range(n):\n",
        "        curr_sum += arr[i]       # Step 1: add current element\n",
        "\n",
        "        # Dry run visualization:\n",
        "        # Iter i=0 → curr_sum=arr[0]\n",
        "        # Iter i=1 → curr_sum=prev_sum+arr[1]\n",
        "        # Keep updating maxi with max(curr_sum, maxi)\n",
        "\n",
        "        if curr_sum > maxi:\n",
        "            maxi = curr_sum      # Update maximum sum if needed\n",
        "\n",
        "        if curr_sum < 0:         # If running sum goes negative\n",
        "            curr_sum = 0         # Reset to 0 (discard subarray)\n",
        "\n",
        "    return maxi                  # Final maximum subarray sum\n",
        "\n",
        "\n",
        "# Example run\n",
        "if __name__ == \"__main__\":\n",
        "    arr = [-2, 1, -3, 4, -1, 2, 1, -5, 4]\n",
        "    n = len(arr)\n",
        "    result = maxSubarraySum(arr, n)\n",
        "\n",
        "    # Dry run for arr:\n",
        "    # i=0 → curr_sum=-2 → maxi=-2 → reset to 0\n",
        "    # i=1 → curr_sum=1 → maxi=1\n",
        "    # i=2 → curr_sum=-2 → reset to 0\n",
        "    # i=3 → curr_sum=4 → maxi=4\n",
        "    # i=4 → curr_sum=3 → maxi=4\n",
        "    # i=5 → curr_sum=5 → maxi=5\n",
        "    # i=6 → curr_sum=6 → maxi=6\n",
        "    # i=7 → curr_sum=1 → maxi=6\n",
        "    # i=8 → curr_sum=5 → maxi=6\n",
        "    #\n",
        "    # ✅ Final Answer = 6  (subarray [4,-1,2,1])\n",
        "\n",
        "    print(\"Maximum Subarray Sum:\", result)\n"
      ],
      "metadata": {
        "id": "n-aPFUC8IdG9"
      },
      "execution_count": null,
      "outputs": []
    },
    {
      "cell_type": "markdown",
      "source": [
        "25. Sort an array of 0s, 1s and 2s\n",
        "\n",
        "Problem Statement: Given an array consisting of only 0s, 1s, and 2s. Write a program to in-place sort the array without using inbuilt sort functions. ( Expected: Single pass-O(N) and constant space)//Dutch National Flag Algorithm (a type of two-pointer approach)"
      ],
      "metadata": {
        "id": "dehZ-DDuInju"
      }
    },
    {
      "cell_type": "code",
      "source": [
        "def sortArray(arr):\n",
        "    low = 0\n",
        "    mid = 0\n",
        "    high = len(arr) - 1\n",
        "\n",
        "    while mid <= high:\n",
        "        if arr[mid] == 0:\n",
        "            arr[low], arr[mid] = arr[mid], arr[low]\n",
        "            low += 1\n",
        "            mid += 1\n",
        "        elif arr[mid] == 1:\n",
        "            mid += 1\n",
        "        else:\n",
        "            arr[mid], arr[high] = arr[high], arr[mid]\n",
        "            high -= 1\n",
        "\n",
        "n = 6\n",
        "arr = [0, 2, 1, 2, 0, 1]\n",
        "sortArray(arr)\n",
        "print(\"After sorting:\")\n",
        "for num in arr:\n",
        "    print(num, end=\" \")\n",
        "print()"
      ],
      "metadata": {
        "id": "aP9-4wScI0zA"
      },
      "execution_count": null,
      "outputs": []
    },
    {
      "cell_type": "markdown",
      "source": [
        "26. Stock Buy And Sell\n",
        "Problem Statement: You are given an array of prices where prices[i] is the price of a given stock on an ith day.\n",
        "\n",
        "You want to maximize your profit by choosing a single day to buy one stock and choosing a different day in the future to sell that stock. Return the maximum profit you can achieve from this transaction. If you cannot achieve any profit, return 0.\n",
        "// greedy approach\n"
      ],
      "metadata": {
        "id": "J5fsbOK8I8VA"
      }
    },
    {
      "cell_type": "code",
      "source": [
        "def maxProfit(arr):\n",
        "    maxPro = 0\n",
        "    minPrice = float('inf')\n",
        "    for i in range(len(arr)):\n",
        "        minPrice = min(minPrice, arr[i])\n",
        "        maxPro = max(maxPro, arr[i] - minPrice)\n",
        "    return maxPro\n",
        "\n",
        "arr = [7, 1, 5, 3, 6, 4]\n",
        "maxPro = maxProfit(arr)\n",
        "print(\"Max profit is:\", maxPro)"
      ],
      "metadata": {
        "id": "LTu-uZtjJLYo"
      },
      "execution_count": null,
      "outputs": []
    },
    {
      "cell_type": "markdown",
      "source": [
        "# STRING"
      ],
      "metadata": {
        "id": "_jMZVONNwdh1"
      }
    },
    {
      "cell_type": "markdown",
      "source": [
        "3. Count Vowels and Consonants"
      ],
      "metadata": {
        "id": "wgRygwx1zRvR"
      }
    },
    {
      "cell_type": "code",
      "source": [
        "def count_vowels_consonants(s):            # Example: s = \"hello\"\n",
        "    vowels = \"aeiouAEIOU\"\n",
        "    v_count, c_count = 0, 0\n",
        "\n",
        "    for ch in s:\n",
        "        if ch.isalpha():                   # Check only alphabets\n",
        "            if ch in vowels:\n",
        "                v_count += 1               # Iter 1: h → consonant\n",
        "                # Iter 2: e → vowel ✅ v_count=1\n",
        "                # Iter 3: l → consonant\n",
        "                # Iter 4: l → consonant\n",
        "                # Iter 5: o → vowel ✅ v_count=2\n",
        "            else:\n",
        "                c_count += 1\n",
        "\n",
        "    return v_count, c_count                # Final Answer = (2, 3)\n"
      ],
      "metadata": {
        "id": "utJTWnf2zT_d"
      },
      "execution_count": null,
      "outputs": []
    },
    {
      "cell_type": "markdown",
      "source": [
        "4. Remove Duplicates"
      ],
      "metadata": {
        "id": "EcZeZvIwzV2r"
      }
    },
    {
      "cell_type": "code",
      "source": [
        "def remove_duplicates(s):                  # Example: s = \"programming\"\n",
        "    seen = set()\n",
        "    result = \"\"\n",
        "\n",
        "    for ch in s:\n",
        "        if ch not in seen:                 # If first time seen\n",
        "            # Iter 1: 'p' → add to result = \"p\"\n",
        "            # Iter 2: 'r' → result = \"pr\"\n",
        "            # Iter 3: 'o' → result = \"pro\"\n",
        "            # Iter 4: 'g' → result = \"prog\"\n",
        "            # Iter 5: 'r' → already seen ❌ skip\n",
        "            seen.add(ch)\n",
        "            result += ch\n",
        "\n",
        "    return result                          # Final Answer = \"progamin\"\n"
      ],
      "metadata": {
        "id": "6yPDDnYWzYRk"
      },
      "execution_count": null,
      "outputs": []
    },
    {
      "cell_type": "markdown",
      "source": [
        "5. Check Anagram"
      ],
      "metadata": {
        "id": "9fVcfnq3zabe"
      }
    },
    {
      "cell_type": "code",
      "source": [
        "def are_anagrams(s1, s2):                  # Example: \"listen\", \"silent\"\n",
        "    if len(s1) != len(s2):                 # Length mismatch → not anagram\n",
        "        return False\n",
        "\n",
        "    count = {}                             # Dictionary for frequency\n",
        "    for ch in s1:\n",
        "        count[ch] = count.get(ch, 0) + 1   # Count chars in s1\n",
        "\n",
        "    for ch in s2:\n",
        "        if ch not in count or count[ch] == 0:\n",
        "            return False                   # If extra char found in s2\n",
        "        count[ch] -= 1                     # Reduce count for matching chars\n",
        "\n",
        "    # All chars matched if no negatives\n",
        "    return True                            # Final Answer = True\n"
      ],
      "metadata": {
        "id": "_1iwrfWfzcg4"
      },
      "execution_count": null,
      "outputs": []
    },
    {
      "cell_type": "markdown",
      "source": [
        "6. First Non-Repeating Character"
      ],
      "metadata": {
        "id": "6JPVkPaZze09"
      }
    },
    {
      "cell_type": "code",
      "source": [
        "def first_non_repeating(s):                # Example: \"swiss\"\n",
        "    count = {}\n",
        "    for ch in s:\n",
        "        count[ch] = count.get(ch, 0) + 1   # Count frequencies\n",
        "\n",
        "    for i, ch in enumerate(s):\n",
        "        # Iter 1: 's' freq=3 → skip\n",
        "        # Iter 2: 'w' freq=1 ✅ return index=1\n",
        "        if count[ch] == 1:\n",
        "            return i, ch                   # Final Answer = (1, 'w')\n",
        "\n",
        "    return -1, None                        # If no unique char\n"
      ],
      "metadata": {
        "id": "PdgV02vrzhl9"
      },
      "execution_count": null,
      "outputs": []
    },
    {
      "cell_type": "code",
      "source": [
        "b = bool(input(\"enter a number \"))\n",
        "print(b)"
      ],
      "metadata": {
        "id": "iO9yqgbB5qG6",
        "outputId": "bd8270e3-2b68-466e-8a88-70166642ead5",
        "colab": {
          "base_uri": "https://localhost:8080/"
        }
      },
      "execution_count": null,
      "outputs": [
        {
          "output_type": "stream",
          "name": "stdout",
          "text": [
            "enter a number 20\n",
            "True\n"
          ]
        }
      ]
    },
    {
      "cell_type": "markdown",
      "source": [
        "7. Longest Common Prefix"
      ],
      "metadata": {
        "id": "slkLcI1VzkgY"
      }
    },
    {
      "cell_type": "code",
      "source": [
        "def longest_common_prefix(strs):           # Example: [\"flower\", \"flow\", \"flight\"]\n",
        "    prefix = strs[0]                       # Start → prefix=\"flower\"\n",
        "\n",
        "    for word in strs[1:]:\n",
        "        while not word.startswith(prefix): # Reduce prefix until match\n",
        "            # Iter 1: compare \"flow\" with \"flower\" → reduce to \"flow\"\n",
        "            # Iter 2: compare \"flight\" with \"flow\" → reduce to \"fl\"\n",
        "            prefix = prefix[:-1]\n",
        "            if not prefix:\n",
        "                return \"\"\n",
        "\n",
        "    return prefix                          # Final Answer = \"fl\"\n"
      ],
      "metadata": {
        "id": "U89FN6GQzm6x"
      },
      "execution_count": null,
      "outputs": []
    },
    {
      "cell_type": "markdown",
      "source": [
        "8. String Compression"
      ],
      "metadata": {
        "id": "xepl9ieczped"
      }
    },
    {
      "cell_type": "code",
      "source": [
        "def compress_string(s):                    # Example: \"aaabbc\"\n",
        "    result = \"\"\n",
        "    count = 1\n",
        "\n",
        "    for i in range(1, len(s)):\n",
        "        if s[i] == s[i-1]:\n",
        "            count += 1                     # Iter 2: same 'a' → count=2\n",
        "        else:\n",
        "            result += s[i-1] + str(count)  # Iter 4: char 'a' → add \"a3\"\n",
        "            count = 1                      # reset count\n",
        "\n",
        "    result += s[-1] + str(count)           # Add last char \"c1\"\n",
        "    return result                          # Final Answer = \"a3b2c1\"\n"
      ],
      "metadata": {
        "id": "sMiEUHbRzsBR"
      },
      "execution_count": null,
      "outputs": []
    },
    {
      "cell_type": "markdown",
      "source": [
        "9. Count All Substrings"
      ],
      "metadata": {
        "id": "15vUrFvFzuUZ"
      }
    },
    {
      "cell_type": "code",
      "source": [
        "def count_substrings(s):                   # Example: \"abc\"\n",
        "    n = len(s)                             # n=3\n",
        "    # Formula = n*(n+1)/2\n",
        "    total = n * (n + 1) // 2               # 3*4/2 = 6 substrings\n",
        "    return total                           # Final Answer = 6\n"
      ],
      "metadata": {
        "id": "PU5icvfnzxts"
      },
      "execution_count": null,
      "outputs": []
    },
    {
      "cell_type": "markdown",
      "source": [
        "10. Valid Parentheses"
      ],
      "metadata": {
        "id": "7aWEokiZzz_m"
      }
    },
    {
      "cell_type": "code",
      "source": [
        "def is_valid_parentheses(s):               # Example: \"({[]})\"\n",
        "    stack = []\n",
        "    pairs = {')':'(', '}':'{', ']':'['}\n",
        "\n",
        "    for ch in s:\n",
        "        if ch in \"({[\":\n",
        "            stack.append(ch)               # Push opening brackets\n",
        "        else:\n",
        "            if not stack or stack[-1] != pairs[ch]:\n",
        "                return False               # Mismatch case\n",
        "            stack.pop()                    # Valid → remove pair\n",
        "\n",
        "    return not stack                       # Final Answer = True if stack empty\n"
      ],
      "metadata": {
        "id": "qEHoQqT7z2cY"
      },
      "execution_count": null,
      "outputs": []
    },
    {
      "cell_type": "markdown",
      "source": [
        "# STACK AND QUEUE"
      ],
      "metadata": {
        "id": "9-HJlmiDhlaU"
      }
    },
    {
      "cell_type": "markdown",
      "source": [
        "\n",
        "\n",
        "---\n",
        "\n",
        "## ✅ 27. **Implement a Stack using Arrays (List)**\n",
        "\n",
        "A stack follows **LIFO (Last In, First Out)**.\n",
        "\n",
        "```python\n",
        "class Stack:\n",
        "    def __init__(self):\n",
        "        self.stack = []   # Using Python list as array\n",
        "\n",
        "    def push(self, item):        # Insert element at top\n",
        "        self.stack.append(item)\n",
        "\n",
        "    def pop(self):               # Remove top element\n",
        "        if not self.is_empty():\n",
        "            return self.stack.pop()\n",
        "        return \"Stack is empty\"\n",
        "\n",
        "    def peek(self):               # View top element\n",
        "        if not self.is_empty():\n",
        "            return self.stack[-1]\n",
        "        return \"Stack is empty\"\n",
        "\n",
        "    def is_empty(self):           # Check if stack is empty\n",
        "        return len(self.stack) == 0\n",
        "\n",
        "    def size(self):               # Return size of stack\n",
        "        return len(self.stack)\n",
        "\n",
        "\n",
        "# ✅ Example\n",
        "s = Stack()\n",
        "s.push(10)\n",
        "s.push(20)\n",
        "s.push(30)\n",
        "print(s.pop())      # ➡️ 30\n",
        "print(s.peek())     # ➡️ 20\n",
        "print(s.size())     # ➡️ 2\n",
        "```\n",
        "\n",
        "---\n",
        "\n",
        "## ✅ 28. **Implement a Queue using Two Stacks**\n",
        "\n",
        "A queue follows **FIFO (First In, First Out)**.\n",
        "We use **two stacks**:\n",
        "\n",
        "* **stack1** → for enqueue (push elements)\n",
        "* **stack2** → for dequeue (pop elements)\n",
        "\n",
        "```python\n",
        "class QueueUsingStacks:\n",
        "    def __init__(self):\n",
        "        self.stack1 = []  # For enqueue\n",
        "        self.stack2 = []  # For dequeue\n",
        "\n",
        "    def enqueue(self, item):\n",
        "        self.stack1.append(item)\n",
        "\n",
        "    def dequeue(self):\n",
        "        # Move elements only when stack2 is empty\n",
        "        if not self.stack2:\n",
        "            while self.stack1:\n",
        "                self.stack2.append(self.stack1.pop())\n",
        "        if not self.stack2:\n",
        "            return \"Queue is empty\"\n",
        "        return self.stack2.pop()\n",
        "\n",
        "\n",
        "# ✅ Example\n",
        "q = QueueUsingStacks()\n",
        "q.enqueue(10)\n",
        "q.enqueue(20)\n",
        "q.enqueue(30)\n",
        "print(q.dequeue())   # ➡️ 10\n",
        "print(q.dequeue())   # ➡️ 20\n",
        "q.enqueue(40)\n",
        "print(q.dequeue())   # ➡️ 30\n",
        "```\n",
        "\n",
        "---\n",
        "\n",
        "## ✅ 29. **Check if Brackets are Balanced**\n",
        "\n",
        "We check if every opening bracket `(` `{` `[` has a matching closing bracket `)` `}` `]` in correct order.\n",
        "\n",
        "```python\n",
        "def is_balanced(expression):\n",
        "    stack = []\n",
        "    pairs = {')':'(', ']':'[', '}':'{'}  # Matching pairs\n",
        "\n",
        "    for char in expression:\n",
        "        if char in '([{':       # Opening bracket → push\n",
        "            stack.append(char)\n",
        "        elif char in ')]}':     # Closing bracket → check\n",
        "            if not stack or stack[-1] != pairs[char]:\n",
        "                return False\n",
        "            stack.pop()\n",
        "\n",
        "    return len(stack) == 0       # True if no unmatched brackets\n",
        "\n",
        "\n",
        "# ✅ Example\n",
        "print(is_balanced(\"{[()]}\"))     # ➡️ True\n",
        "print(is_balanced(\"{[(])}\"))     # ➡️ False\n",
        "print(is_balanced(\"((()))\"))     # ➡️ True\n",
        "```\n",
        "\n",
        "---\n",
        "\n",
        "### 🔑 Key Takeaways\n",
        "\n",
        "| Problem                    | Data Structure Used | Time Complexity                   |\n",
        "| -------------------------- | ------------------- | --------------------------------- |\n",
        "| **Stack**                  | List (array)        | `O(1)` for push/pop               |\n",
        "| **Queue using two stacks** | Two lists           | `O(1)` amortized enqueue/dequeue  |\n",
        "| **Balanced Brackets**      | Stack               | `O(n)` where n = length of string |\n"
      ],
      "metadata": {
        "id": "BwVeFyNyhuCr"
      }
    }
  ]
}